{
 "cells": [
  {
   "cell_type": "code",
   "execution_count": 6,
   "id": "32b33b6d-2e78-443d-8e29-dae76c5c70b9",
   "metadata": {
    "tags": []
   },
   "outputs": [],
   "source": [
    "# adaboost gradientboost clustering\n",
    "\n",
    "import numpy as np\n",
    "import pandas as pd\n",
    "import matplotlib.pyplot as plt\n",
    "\n",
    "from sklearn.model_selection import train_test_split, cross_val_score, GridSearchCV\n",
    "\n",
    "from sklearn.metrics import ConfusionMatrixDisplay, confusion_matrix\n",
    "\n",
    "from sklearn.pipeline import Pipeline\n",
    "\n",
    "from sklearn.ensemble import AdaBoostClassifier, GradientBoostingClassifier\n",
    "import xgboost as xgb\n",
    "\n",
    "from sklearn.preprocessing import StandardScaler, MinMaxScaler\n",
    "\n",
    "from sklearn.metrics import silhouette_score\n",
    "from sklearn.cluster import KMeans\n",
    "from sklearn.cluster import DBSCAN\n",
    "\n",
    "from tensorflow.keras.models import Sequential\n",
    "from tensorflow.keras.layers import Dense"
   ]
  },
  {
   "cell_type": "code",
   "execution_count": 7,
   "id": "fc489157-4442-41e5-9f9c-d3e104b49aab",
   "metadata": {
    "tags": []
   },
   "outputs": [],
   "source": [
    "url = 'data/heart_disease_ind_2015.csv'\n",
    "\n",
    "df = pd.read_csv(url)"
   ]
  },
  {
   "cell_type": "code",
   "execution_count": 8,
   "id": "5130a1a2-356a-4985-8807-6e0149c93312",
   "metadata": {
    "tags": []
   },
   "outputs": [
    {
     "data": {
      "text/html": [
       "<div>\n",
       "<style scoped>\n",
       "    .dataframe tbody tr th:only-of-type {\n",
       "        vertical-align: middle;\n",
       "    }\n",
       "\n",
       "    .dataframe tbody tr th {\n",
       "        vertical-align: top;\n",
       "    }\n",
       "\n",
       "    .dataframe thead th {\n",
       "        text-align: right;\n",
       "    }\n",
       "</style>\n",
       "<table border=\"1\" class=\"dataframe\">\n",
       "  <thead>\n",
       "    <tr style=\"text-align: right;\">\n",
       "      <th></th>\n",
       "      <th>HeartDiseaseorAttack</th>\n",
       "      <th>HighBP</th>\n",
       "      <th>HighChol</th>\n",
       "      <th>CholCheck</th>\n",
       "      <th>BMI</th>\n",
       "      <th>Smoker</th>\n",
       "      <th>Stroke</th>\n",
       "      <th>Diabetes</th>\n",
       "      <th>PhysActivity</th>\n",
       "      <th>Fruits</th>\n",
       "      <th>...</th>\n",
       "      <th>AnyHealthcare</th>\n",
       "      <th>NoDocbcCost</th>\n",
       "      <th>GenHlth</th>\n",
       "      <th>MentHlth</th>\n",
       "      <th>PhysHlth</th>\n",
       "      <th>DiffWalk</th>\n",
       "      <th>Sex</th>\n",
       "      <th>Age</th>\n",
       "      <th>Education</th>\n",
       "      <th>Income</th>\n",
       "    </tr>\n",
       "  </thead>\n",
       "  <tbody>\n",
       "    <tr>\n",
       "      <th>0</th>\n",
       "      <td>0.0</td>\n",
       "      <td>1.0</td>\n",
       "      <td>1.0</td>\n",
       "      <td>1.0</td>\n",
       "      <td>40.0</td>\n",
       "      <td>1.0</td>\n",
       "      <td>0.0</td>\n",
       "      <td>0.0</td>\n",
       "      <td>0.0</td>\n",
       "      <td>0.0</td>\n",
       "      <td>...</td>\n",
       "      <td>1.0</td>\n",
       "      <td>0.0</td>\n",
       "      <td>5.0</td>\n",
       "      <td>18.0</td>\n",
       "      <td>15.0</td>\n",
       "      <td>1.0</td>\n",
       "      <td>0.0</td>\n",
       "      <td>9.0</td>\n",
       "      <td>4.0</td>\n",
       "      <td>3.0</td>\n",
       "    </tr>\n",
       "    <tr>\n",
       "      <th>1</th>\n",
       "      <td>0.0</td>\n",
       "      <td>0.0</td>\n",
       "      <td>0.0</td>\n",
       "      <td>0.0</td>\n",
       "      <td>25.0</td>\n",
       "      <td>1.0</td>\n",
       "      <td>0.0</td>\n",
       "      <td>0.0</td>\n",
       "      <td>1.0</td>\n",
       "      <td>0.0</td>\n",
       "      <td>...</td>\n",
       "      <td>0.0</td>\n",
       "      <td>1.0</td>\n",
       "      <td>3.0</td>\n",
       "      <td>0.0</td>\n",
       "      <td>0.0</td>\n",
       "      <td>0.0</td>\n",
       "      <td>0.0</td>\n",
       "      <td>7.0</td>\n",
       "      <td>6.0</td>\n",
       "      <td>1.0</td>\n",
       "    </tr>\n",
       "    <tr>\n",
       "      <th>2</th>\n",
       "      <td>0.0</td>\n",
       "      <td>1.0</td>\n",
       "      <td>1.0</td>\n",
       "      <td>1.0</td>\n",
       "      <td>28.0</td>\n",
       "      <td>0.0</td>\n",
       "      <td>0.0</td>\n",
       "      <td>0.0</td>\n",
       "      <td>0.0</td>\n",
       "      <td>1.0</td>\n",
       "      <td>...</td>\n",
       "      <td>1.0</td>\n",
       "      <td>1.0</td>\n",
       "      <td>5.0</td>\n",
       "      <td>30.0</td>\n",
       "      <td>30.0</td>\n",
       "      <td>1.0</td>\n",
       "      <td>0.0</td>\n",
       "      <td>9.0</td>\n",
       "      <td>4.0</td>\n",
       "      <td>8.0</td>\n",
       "    </tr>\n",
       "    <tr>\n",
       "      <th>3</th>\n",
       "      <td>0.0</td>\n",
       "      <td>1.0</td>\n",
       "      <td>0.0</td>\n",
       "      <td>1.0</td>\n",
       "      <td>27.0</td>\n",
       "      <td>0.0</td>\n",
       "      <td>0.0</td>\n",
       "      <td>0.0</td>\n",
       "      <td>1.0</td>\n",
       "      <td>1.0</td>\n",
       "      <td>...</td>\n",
       "      <td>1.0</td>\n",
       "      <td>0.0</td>\n",
       "      <td>2.0</td>\n",
       "      <td>0.0</td>\n",
       "      <td>0.0</td>\n",
       "      <td>0.0</td>\n",
       "      <td>0.0</td>\n",
       "      <td>11.0</td>\n",
       "      <td>3.0</td>\n",
       "      <td>6.0</td>\n",
       "    </tr>\n",
       "    <tr>\n",
       "      <th>4</th>\n",
       "      <td>0.0</td>\n",
       "      <td>1.0</td>\n",
       "      <td>1.0</td>\n",
       "      <td>1.0</td>\n",
       "      <td>24.0</td>\n",
       "      <td>0.0</td>\n",
       "      <td>0.0</td>\n",
       "      <td>0.0</td>\n",
       "      <td>1.0</td>\n",
       "      <td>1.0</td>\n",
       "      <td>...</td>\n",
       "      <td>1.0</td>\n",
       "      <td>0.0</td>\n",
       "      <td>2.0</td>\n",
       "      <td>3.0</td>\n",
       "      <td>0.0</td>\n",
       "      <td>0.0</td>\n",
       "      <td>0.0</td>\n",
       "      <td>11.0</td>\n",
       "      <td>5.0</td>\n",
       "      <td>4.0</td>\n",
       "    </tr>\n",
       "  </tbody>\n",
       "</table>\n",
       "<p>5 rows × 22 columns</p>\n",
       "</div>"
      ],
      "text/plain": [
       "   HeartDiseaseorAttack  HighBP  HighChol  CholCheck   BMI  Smoker  Stroke  \\\n",
       "0                   0.0     1.0       1.0        1.0  40.0     1.0     0.0   \n",
       "1                   0.0     0.0       0.0        0.0  25.0     1.0     0.0   \n",
       "2                   0.0     1.0       1.0        1.0  28.0     0.0     0.0   \n",
       "3                   0.0     1.0       0.0        1.0  27.0     0.0     0.0   \n",
       "4                   0.0     1.0       1.0        1.0  24.0     0.0     0.0   \n",
       "\n",
       "   Diabetes  PhysActivity  Fruits  ...  AnyHealthcare  NoDocbcCost  GenHlth  \\\n",
       "0       0.0           0.0     0.0  ...            1.0          0.0      5.0   \n",
       "1       0.0           1.0     0.0  ...            0.0          1.0      3.0   \n",
       "2       0.0           0.0     1.0  ...            1.0          1.0      5.0   \n",
       "3       0.0           1.0     1.0  ...            1.0          0.0      2.0   \n",
       "4       0.0           1.0     1.0  ...            1.0          0.0      2.0   \n",
       "\n",
       "   MentHlth  PhysHlth  DiffWalk  Sex   Age  Education  Income  \n",
       "0      18.0      15.0       1.0  0.0   9.0        4.0     3.0  \n",
       "1       0.0       0.0       0.0  0.0   7.0        6.0     1.0  \n",
       "2      30.0      30.0       1.0  0.0   9.0        4.0     8.0  \n",
       "3       0.0       0.0       0.0  0.0  11.0        3.0     6.0  \n",
       "4       3.0       0.0       0.0  0.0  11.0        5.0     4.0  \n",
       "\n",
       "[5 rows x 22 columns]"
      ]
     },
     "execution_count": 8,
     "metadata": {},
     "output_type": "execute_result"
    }
   ],
   "source": [
    "df.head()"
   ]
  },
  {
   "cell_type": "code",
   "execution_count": 32,
   "id": "037e22c0-a73c-41c9-b741-faee1d0f62fe",
   "metadata": {
    "execution": {
     "iopub.execute_input": "2022-09-22T19:01:25.624230Z",
     "iopub.status.busy": "2022-09-22T19:01:25.623814Z",
     "iopub.status.idle": "2022-09-22T19:01:25.708037Z",
     "shell.execute_reply": "2022-09-22T19:01:25.707484Z",
     "shell.execute_reply.started": "2022-09-22T19:01:25.624202Z"
    },
    "tags": []
   },
   "outputs": [
    {
     "data": {
      "text/html": [
       "<div>\n",
       "<style scoped>\n",
       "    .dataframe tbody tr th:only-of-type {\n",
       "        vertical-align: middle;\n",
       "    }\n",
       "\n",
       "    .dataframe tbody tr th {\n",
       "        vertical-align: top;\n",
       "    }\n",
       "\n",
       "    .dataframe thead th {\n",
       "        text-align: right;\n",
       "    }\n",
       "</style>\n",
       "<table border=\"1\" class=\"dataframe\">\n",
       "  <thead>\n",
       "    <tr style=\"text-align: right;\">\n",
       "      <th></th>\n",
       "      <th>HeartDiseaseorAttack</th>\n",
       "      <th>HighBP</th>\n",
       "      <th>HighChol</th>\n",
       "      <th>CholCheck</th>\n",
       "      <th>BMI</th>\n",
       "      <th>Smoker</th>\n",
       "      <th>Stroke</th>\n",
       "      <th>Diabetes</th>\n",
       "      <th>PhysActivity</th>\n",
       "      <th>Fruits</th>\n",
       "      <th>...</th>\n",
       "      <th>AnyHealthcare</th>\n",
       "      <th>NoDocbcCost</th>\n",
       "      <th>GenHlth</th>\n",
       "      <th>MentHlth</th>\n",
       "      <th>PhysHlth</th>\n",
       "      <th>DiffWalk</th>\n",
       "      <th>Sex</th>\n",
       "      <th>Age</th>\n",
       "      <th>Education</th>\n",
       "      <th>Income</th>\n",
       "    </tr>\n",
       "  </thead>\n",
       "  <tbody>\n",
       "    <tr>\n",
       "      <th>0</th>\n",
       "      <td>0</td>\n",
       "      <td>1.0</td>\n",
       "      <td>1.0</td>\n",
       "      <td>1.0</td>\n",
       "      <td>40.0</td>\n",
       "      <td>1.0</td>\n",
       "      <td>0.0</td>\n",
       "      <td>0.0</td>\n",
       "      <td>0.0</td>\n",
       "      <td>0.0</td>\n",
       "      <td>...</td>\n",
       "      <td>1.0</td>\n",
       "      <td>0.0</td>\n",
       "      <td>5.0</td>\n",
       "      <td>18.0</td>\n",
       "      <td>15.0</td>\n",
       "      <td>1.0</td>\n",
       "      <td>0.0</td>\n",
       "      <td>9.0</td>\n",
       "      <td>4.0</td>\n",
       "      <td>3.0</td>\n",
       "    </tr>\n",
       "    <tr>\n",
       "      <th>1</th>\n",
       "      <td>0</td>\n",
       "      <td>0.0</td>\n",
       "      <td>0.0</td>\n",
       "      <td>0.0</td>\n",
       "      <td>25.0</td>\n",
       "      <td>1.0</td>\n",
       "      <td>0.0</td>\n",
       "      <td>0.0</td>\n",
       "      <td>1.0</td>\n",
       "      <td>0.0</td>\n",
       "      <td>...</td>\n",
       "      <td>0.0</td>\n",
       "      <td>1.0</td>\n",
       "      <td>3.0</td>\n",
       "      <td>0.0</td>\n",
       "      <td>0.0</td>\n",
       "      <td>0.0</td>\n",
       "      <td>0.0</td>\n",
       "      <td>7.0</td>\n",
       "      <td>6.0</td>\n",
       "      <td>1.0</td>\n",
       "    </tr>\n",
       "    <tr>\n",
       "      <th>2</th>\n",
       "      <td>0</td>\n",
       "      <td>1.0</td>\n",
       "      <td>1.0</td>\n",
       "      <td>1.0</td>\n",
       "      <td>28.0</td>\n",
       "      <td>0.0</td>\n",
       "      <td>0.0</td>\n",
       "      <td>0.0</td>\n",
       "      <td>0.0</td>\n",
       "      <td>1.0</td>\n",
       "      <td>...</td>\n",
       "      <td>1.0</td>\n",
       "      <td>1.0</td>\n",
       "      <td>5.0</td>\n",
       "      <td>30.0</td>\n",
       "      <td>30.0</td>\n",
       "      <td>1.0</td>\n",
       "      <td>0.0</td>\n",
       "      <td>9.0</td>\n",
       "      <td>4.0</td>\n",
       "      <td>8.0</td>\n",
       "    </tr>\n",
       "    <tr>\n",
       "      <th>3</th>\n",
       "      <td>0</td>\n",
       "      <td>1.0</td>\n",
       "      <td>0.0</td>\n",
       "      <td>1.0</td>\n",
       "      <td>27.0</td>\n",
       "      <td>0.0</td>\n",
       "      <td>0.0</td>\n",
       "      <td>0.0</td>\n",
       "      <td>1.0</td>\n",
       "      <td>1.0</td>\n",
       "      <td>...</td>\n",
       "      <td>1.0</td>\n",
       "      <td>0.0</td>\n",
       "      <td>2.0</td>\n",
       "      <td>0.0</td>\n",
       "      <td>0.0</td>\n",
       "      <td>0.0</td>\n",
       "      <td>0.0</td>\n",
       "      <td>11.0</td>\n",
       "      <td>3.0</td>\n",
       "      <td>6.0</td>\n",
       "    </tr>\n",
       "    <tr>\n",
       "      <th>4</th>\n",
       "      <td>0</td>\n",
       "      <td>1.0</td>\n",
       "      <td>1.0</td>\n",
       "      <td>1.0</td>\n",
       "      <td>24.0</td>\n",
       "      <td>0.0</td>\n",
       "      <td>0.0</td>\n",
       "      <td>0.0</td>\n",
       "      <td>1.0</td>\n",
       "      <td>1.0</td>\n",
       "      <td>...</td>\n",
       "      <td>1.0</td>\n",
       "      <td>0.0</td>\n",
       "      <td>2.0</td>\n",
       "      <td>3.0</td>\n",
       "      <td>0.0</td>\n",
       "      <td>0.0</td>\n",
       "      <td>0.0</td>\n",
       "      <td>11.0</td>\n",
       "      <td>5.0</td>\n",
       "      <td>4.0</td>\n",
       "    </tr>\n",
       "  </tbody>\n",
       "</table>\n",
       "<p>5 rows × 22 columns</p>\n",
       "</div>"
      ],
      "text/plain": [
       "   HeartDiseaseorAttack  HighBP  HighChol  CholCheck   BMI  Smoker  Stroke  \\\n",
       "0                     0     1.0       1.0        1.0  40.0     1.0     0.0   \n",
       "1                     0     0.0       0.0        0.0  25.0     1.0     0.0   \n",
       "2                     0     1.0       1.0        1.0  28.0     0.0     0.0   \n",
       "3                     0     1.0       0.0        1.0  27.0     0.0     0.0   \n",
       "4                     0     1.0       1.0        1.0  24.0     0.0     0.0   \n",
       "\n",
       "   Diabetes  PhysActivity  Fruits  ...  AnyHealthcare  NoDocbcCost  GenHlth  \\\n",
       "0       0.0           0.0     0.0  ...            1.0          0.0      5.0   \n",
       "1       0.0           1.0     0.0  ...            0.0          1.0      3.0   \n",
       "2       0.0           0.0     1.0  ...            1.0          1.0      5.0   \n",
       "3       0.0           1.0     1.0  ...            1.0          0.0      2.0   \n",
       "4       0.0           1.0     1.0  ...            1.0          0.0      2.0   \n",
       "\n",
       "   MentHlth  PhysHlth  DiffWalk  Sex   Age  Education  Income  \n",
       "0      18.0      15.0       1.0  0.0   9.0        4.0     3.0  \n",
       "1       0.0       0.0       0.0  0.0   7.0        6.0     1.0  \n",
       "2      30.0      30.0       1.0  0.0   9.0        4.0     8.0  \n",
       "3       0.0       0.0       0.0  0.0  11.0        3.0     6.0  \n",
       "4       3.0       0.0       0.0  0.0  11.0        5.0     4.0  \n",
       "\n",
       "[5 rows x 22 columns]"
      ]
     },
     "execution_count": 32,
     "metadata": {},
     "output_type": "execute_result"
    }
   ],
   "source": [
    "df.HeartDiseaseorAttack = [int(b) for b in df.HeartDiseaseorAttack]\n",
    "df.head()"
   ]
  },
  {
   "cell_type": "code",
   "execution_count": 33,
   "id": "4552723c-9c65-4ccc-8393-5a39e741fcff",
   "metadata": {
    "execution": {
     "iopub.execute_input": "2022-09-22T19:01:28.483383Z",
     "iopub.status.busy": "2022-09-22T19:01:28.482944Z",
     "iopub.status.idle": "2022-09-22T19:01:28.489182Z",
     "shell.execute_reply": "2022-09-22T19:01:28.488481Z",
     "shell.execute_reply.started": "2022-09-22T19:01:28.483353Z"
    },
    "tags": []
   },
   "outputs": [
    {
     "data": {
      "text/plain": [
       "Index(['HeartDiseaseorAttack', 'HighBP', 'HighChol', 'CholCheck', 'BMI',\n",
       "       'Smoker', 'Stroke', 'Diabetes', 'PhysActivity', 'Fruits', 'Veggies',\n",
       "       'HvyAlcoholConsump', 'AnyHealthcare', 'NoDocbcCost', 'GenHlth',\n",
       "       'MentHlth', 'PhysHlth', 'DiffWalk', 'Sex', 'Age', 'Education',\n",
       "       'Income'],\n",
       "      dtype='object')"
      ]
     },
     "execution_count": 33,
     "metadata": {},
     "output_type": "execute_result"
    }
   ],
   "source": [
    "df.columns"
   ]
  },
  {
   "cell_type": "code",
   "execution_count": 9,
   "id": "4a54b7c7-a208-42a1-a1df-8fcf9ce97b62",
   "metadata": {
    "tags": []
   },
   "outputs": [],
   "source": [
    "df = df.astype({'HighBP': 'int', 'HighChol': 'int', 'CholCheck': 'int', 'Smoker': 'int', 'Stroke': 'int', 'Diabetes': 'int', 'PhysActivity': 'int', 'Fruits': 'int', 'Veggies': 'int', 'HvyAlcoholConsump': 'int', 'AnyHealthcare': 'int', 'NoDocbcCost': 'int', 'GenHlth': 'int', 'MentHlth': 'int', 'PhysHlth': 'int', 'DiffWalk': 'int', 'Sex': 'int', 'Age': 'int', 'Education': 'int', 'Income': 'int'})"
   ]
  },
  {
   "cell_type": "code",
   "execution_count": 10,
   "id": "497756aa-d94e-45ab-ad4f-28c65678ac1a",
   "metadata": {
    "tags": []
   },
   "outputs": [],
   "source": [
    "df.to_csv('data/hd_2015_recast_int.csv', index=None)"
   ]
  },
  {
   "cell_type": "code",
   "execution_count": 12,
   "id": "f9990f8f-beb3-4070-8bef-7b00dda20dcc",
   "metadata": {
    "execution": {
     "iopub.execute_input": "2022-09-22T18:54:53.431910Z",
     "iopub.status.busy": "2022-09-22T18:54:53.431447Z",
     "iopub.status.idle": "2022-09-22T18:54:53.518808Z",
     "shell.execute_reply": "2022-09-22T18:54:53.518381Z",
     "shell.execute_reply.started": "2022-09-22T18:54:53.431879Z"
    },
    "tags": []
   },
   "outputs": [],
   "source": [
    "X = df.drop(columns='HeartDiseaseorAttack')\n",
    "y = df['HeartDiseaseorAttack']\n",
    "\n",
    "X_train, X_test, y_train, y_test = train_test_split(X, y, random_state=1, stratify=y)"
   ]
  },
  {
   "cell_type": "code",
   "execution_count": 13,
   "id": "74a43578-39f5-470e-aaff-0c4c6ceb96d0",
   "metadata": {
    "execution": {
     "iopub.execute_input": "2022-09-22T18:54:54.680416Z",
     "iopub.status.busy": "2022-09-22T18:54:54.680018Z",
     "iopub.status.idle": "2022-09-22T18:54:54.692293Z",
     "shell.execute_reply": "2022-09-22T18:54:54.691457Z",
     "shell.execute_reply.started": "2022-09-22T18:54:54.680392Z"
    },
    "tags": []
   },
   "outputs": [],
   "source": [
    "pipe_ada = Pipeline([\n",
    "    ('ss', StandardScaler()),\n",
    "    ('abc', AdaBoostClassifier(learning_rate=0.5, n_estimators=50, random_state=1))\n",
    "])\n",
    "\n",
    "pipe_grad = Pipeline([\n",
    "    ('ss', StandardScaler()),\n",
    "    ('gbc', GradientBoostingClassifier(random_state=1))\n",
    "])\n",
    "\n",
    "pipe_km = Pipeline([\n",
    "    ('ss', StandardScaler()),\n",
    "    ('km', KMeans(random_state=1))\n",
    "])\n",
    "\n",
    "pipe_dbs = Pipeline([\n",
    "    ('ss', StandardScaler()),\n",
    "    ('dbs', DBSCAN())\n",
    "])\n",
    "\n",
    "pipe_xgb = Pipeline([\n",
    "    ('ss', StandardScaler()),\n",
    "    ('xgb', xgb.XGBClassifier())\n",
    "])"
   ]
  },
  {
   "cell_type": "code",
   "execution_count": 14,
   "id": "7b7fedcc-fc50-4f65-9306-66343d144839",
   "metadata": {
    "execution": {
     "iopub.execute_input": "2022-09-22T18:54:56.380913Z",
     "iopub.status.busy": "2022-09-22T18:54:56.380528Z",
     "iopub.status.idle": "2022-09-22T18:55:00.157780Z",
     "shell.execute_reply": "2022-09-22T18:55:00.157512Z",
     "shell.execute_reply.started": "2022-09-22T18:54:56.380889Z"
    },
    "tags": []
   },
   "outputs": [
    {
     "data": {
      "text/plain": [
       "(0.9073268159360874, 0.9073793755912961)"
      ]
     },
     "execution_count": 14,
     "metadata": {},
     "output_type": "execute_result"
    }
   ],
   "source": [
    "pipe_ada.fit(X_train, y_train)\n",
    "\n",
    "pipe_ada.score(X_train, y_train), pipe_ada.score(X_test, y_test)"
   ]
  },
  {
   "cell_type": "code",
   "execution_count": 15,
   "id": "91dbdcda-ffe7-4f68-87d9-778efb34d9fe",
   "metadata": {
    "execution": {
     "iopub.execute_input": "2022-09-22T18:55:01.923410Z",
     "iopub.status.busy": "2022-09-22T18:55:01.922982Z",
     "iopub.status.idle": "2022-09-22T18:55:13.705448Z",
     "shell.execute_reply": "2022-09-22T18:55:13.705180Z",
     "shell.execute_reply.started": "2022-09-22T18:55:01.923384Z"
    },
    "tags": []
   },
   "outputs": [
    {
     "data": {
      "text/plain": [
       "(0.908525176074845, 0.9079943235572374)"
      ]
     },
     "execution_count": 15,
     "metadata": {},
     "output_type": "execute_result"
    }
   ],
   "source": [
    "pipe_grad.fit(X_train, y_train)\n",
    "\n",
    "pipe_grad.score(X_train, y_train), pipe_grad.score(X_test, y_test)"
   ]
  },
  {
   "cell_type": "code",
   "execution_count": 16,
   "id": "aa60548d-17e0-45f1-b8de-4c470537f91f",
   "metadata": {
    "execution": {
     "iopub.execute_input": "2022-09-22T18:55:15.409808Z",
     "iopub.status.busy": "2022-09-22T18:55:15.409181Z",
     "iopub.status.idle": "2022-09-22T18:55:20.324567Z",
     "shell.execute_reply": "2022-09-22T18:55:20.324119Z",
     "shell.execute_reply.started": "2022-09-22T18:55:15.409773Z"
    },
    "tags": []
   },
   "outputs": [
    {
     "data": {
      "text/plain": [
       "(0.9147902869757174, 0.9070167139703563)"
      ]
     },
     "execution_count": 16,
     "metadata": {},
     "output_type": "execute_result"
    }
   ],
   "source": [
    "pipe_xgb.fit(X_train, y_train)\n",
    "\n",
    "pipe_xgb.score(X_train, y_train), pipe_xgb.score(X_test, y_test)"
   ]
  },
  {
   "cell_type": "markdown",
   "id": "3e9dbd60-e32e-4764-99d1-9cd9887ab1e8",
   "metadata": {},
   "source": [
    "## Confusion matrices\n",
    "\n",
    "Initial = Ada minimizes false negatives which is probably the best result for which to optimize."
   ]
  },
  {
   "cell_type": "code",
   "execution_count": 17,
   "id": "a5f8fc67-cc5c-45e4-b349-86095088ebc1",
   "metadata": {
    "execution": {
     "iopub.execute_input": "2022-09-22T18:55:42.261606Z",
     "iopub.status.busy": "2022-09-22T18:55:42.261223Z",
     "iopub.status.idle": "2022-09-22T18:55:47.324696Z",
     "shell.execute_reply": "2022-09-22T18:55:47.324354Z",
     "shell.execute_reply.started": "2022-09-22T18:55:42.261582Z"
    },
    "tags": []
   },
   "outputs": [
    {
     "name": "stdout",
     "output_type": "stream",
     "text": [
      "True positives:  727\n",
      "False positives:  651\n",
      "True negatives:  56796\n",
      "False negatives:  5246\n",
      "Accuracy:  0.9070167139703563\n",
      "True pos rate/recall/sensitivity:  0.12171438138288967\n",
      "False pos rate:  0.01133218444827406\n",
      "True neg rate/specificity:  0.9886678155517259\n",
      "Precision:  0.5275761973875182\n",
      "              precision    recall  f1-score   support\n",
      "\n",
      "      No HDA       0.92      0.99      0.95     57447\n",
      "     Yes HDA       0.53      0.12      0.20      5973\n",
      "\n",
      "    accuracy                           0.91     63420\n",
      "   macro avg       0.72      0.56      0.57     63420\n",
      "weighted avg       0.88      0.91      0.88     63420\n",
      "\n"
     ]
    },
    {
     "data": {
      "image/png": "[encoded data removed]",
      "text/plain": [
       "<Figure size 640x480 with 2 Axes>"
      ]
     },
     "metadata": {},
     "output_type": "display_data"
    }
   ],
   "source": [
    "ConfusionMatrixDisplay.from_estimator(pipe_xgb.fit(X_train, y_train), X_test, y_test, display_labels=['No HDA', 'Yes HDA'])\n",
    "plt.title('XGBoost');\n",
    "predict_xgb = pipe_xgb.predict(X_test)\n",
    "tp_xgb = sum((y_test == 1) & (predict_xgb == 1))\n",
    "fp_xgb = sum((y_test == 0) & (predict_xgb == 1))\n",
    "tn_xgb = sum((y_test == 0) & (predict_xgb == 0))\n",
    "fn_xgb = sum((y_test == 1) & (predict_xgb == 0))\n",
    "print('True positives: ', tp_xgb)\n",
    "print('False positives: ', fp_xgb)\n",
    "print('True negatives: ', tn_xgb)\n",
    "print('False negatives: ', fn_xgb)\n",
    "\n",
    "print('Accuracy: ', (tp_xgb + tn_xgb) / (tp_xgb + tn_xgb + fp_xgb + fn_xgb))\n",
    "print('True pos rate/recall/sensitivity: ', tp_xgb / (tp_xgb + fn_xgb))\n",
    "print('False pos rate: ', fp_xgb / (tn_xgb + fp_xgb))\n",
    "print('True neg rate/specificity: ', tn_xgb / (tn_xgb + fp_xgb))\n",
    "print('Precision: ', tp_xgb / (tp_xgb + fp_xgb))\n",
    "\n",
    "from sklearn.metrics import classification_report\n",
    "\n",
    "print(classification_report(y_test, predict_xgb, target_names=['No HDA', 'Yes HDA']))"
   ]
  },
  {
   "cell_type": "code",
   "execution_count": 18,
   "id": "86bc0533-dda2-4bc2-96eb-2f561f516953",
   "metadata": {
    "execution": {
     "iopub.execute_input": "2022-09-22T18:55:57.308299Z",
     "iopub.status.busy": "2022-09-22T18:55:57.307841Z",
     "iopub.status.idle": "2022-09-22T18:56:00.995384Z",
     "shell.execute_reply": "2022-09-22T18:56:00.995057Z",
     "shell.execute_reply.started": "2022-09-22T18:55:57.308273Z"
    },
    "tags": []
   },
   "outputs": [
    {
     "name": "stdout",
     "output_type": "stream",
     "text": [
      "True positives:  830\n",
      "False positives:  731\n",
      "True negatives:  56716\n",
      "False negatives:  5143\n"
     ]
    },
    {
     "data": {
      "image/png": "[encoded data removed]",
      "text/plain": [
       "<Figure size 640x480 with 2 Axes>"
      ]
     },
     "metadata": {},
     "output_type": "display_data"
    }
   ],
   "source": [
    "ConfusionMatrixDisplay.from_estimator(pipe_ada.fit(X_train, y_train), X_test, y_test, display_labels=['No HDA', 'Yes HDA'])\n",
    "plt.title('AdaBoost');\n",
    "\n",
    "predict_ada = pipe_ada.predict(X_test)\n",
    "print('True positives: ', sum((y_test == 1) & (predict_ada == 1)))\n",
    "print('False positives: ', sum((y_test == 0) & (predict_ada == 1)))\n",
    "print('True negatives: ', sum((y_test == 0) & (predict_ada == 0)))\n",
    "print('False negatives: ', sum((y_test == 1) & (predict_ada == 0)))"
   ]
  },
  {
   "cell_type": "code",
   "execution_count": 19,
   "id": "2dad6410-aeea-4837-ac9a-6aa838d1fde4",
   "metadata": {
    "execution": {
     "iopub.execute_input": "2022-09-22T18:56:03.943981Z",
     "iopub.status.busy": "2022-09-22T18:56:03.943555Z",
     "iopub.status.idle": "2022-09-22T18:56:15.915189Z",
     "shell.execute_reply": "2022-09-22T18:56:15.914776Z",
     "shell.execute_reply.started": "2022-09-22T18:56:03.943956Z"
    },
    "tags": []
   },
   "outputs": [
    {
     "name": "stdout",
     "output_type": "stream",
     "text": [
      "True positives:  687\n",
      "False positives:  549\n",
      "True negatives:  56898\n",
      "False negatives:  5286\n"
     ]
    },
    {
     "data": {
      "image/png": "[encoded data removed]",
      "text/plain": [
       "<Figure size 640x480 with 2 Axes>"
      ]
     },
     "metadata": {},
     "output_type": "display_data"
    }
   ],
   "source": [
    "ConfusionMatrixDisplay.from_estimator(pipe_grad.fit(X_train, y_train), X_test, y_test, display_labels=['No HDA', 'Yes HDA'])\n",
    "plt.title('Gradient Boosting Classifier');\n",
    "\n",
    "predict_grad = pipe_grad.predict(X_test)\n",
    "print('True positives: ', sum((y_test == 1) & (predict_grad == 1)))\n",
    "print('False positives: ', sum((y_test == 0) & (predict_grad == 1)))\n",
    "print('True negatives: ', sum((y_test == 0) & (predict_grad == 0)))\n",
    "print('False negatives: ', sum((y_test == 1) & (predict_grad == 0)))"
   ]
  },
  {
   "cell_type": "markdown",
   "id": "cd0cf3d6-e4b7-49fe-837e-ebd21a673263",
   "metadata": {
    "execution": {
     "iopub.execute_input": "2022-09-20T20:57:57.930388Z",
     "iopub.status.busy": "2022-09-20T20:57:57.929676Z",
     "iopub.status.idle": "2022-09-20T20:57:57.939817Z",
     "shell.execute_reply": "2022-09-20T20:57:57.937926Z",
     "shell.execute_reply.started": "2022-09-20T20:57:57.930340Z"
    }
   },
   "source": [
    "|  | XGBoost | AdaBoost | Gradient Boost |\n",
    "| --- | ---: | ---: | ---: |\n",
    "| True positives | 727 | 877 | 687 |\n",
    "| False positives | 651 | 780 | 549 |\n",
    "| True negatives | 56796 | 56667 | 56898 |\n",
    "| False negatives | 5246 | 5096 | 5286 |"
   ]
  },
  {
   "cell_type": "code",
   "execution_count": 20,
   "id": "c35996cf-6e81-4812-a7b0-ded1a629826c",
   "metadata": {
    "execution": {
     "iopub.execute_input": "2022-09-22T18:57:53.136430Z",
     "iopub.status.busy": "2022-09-22T18:57:53.135714Z",
     "iopub.status.idle": "2022-09-22T18:57:53.296708Z",
     "shell.execute_reply": "2022-09-22T18:57:53.296325Z",
     "shell.execute_reply.started": "2022-09-22T18:57:53.136384Z"
    },
    "tags": []
   },
   "outputs": [
    {
     "name": "stdout",
     "output_type": "stream",
     "text": [
      "                     XGBoost                      \n",
      "\n",
      "               precision    recall  f1-score   support\n",
      "\n",
      "      No HDA       0.92      0.99      0.95     57447\n",
      "     Yes HDA       0.53      0.12      0.20      5973\n",
      "\n",
      "    accuracy                           0.91     63420\n",
      "   macro avg       0.72      0.56      0.57     63420\n",
      "weighted avg       0.88      0.91      0.88     63420\n",
      "\n",
      "                     AdaBoost                     \n",
      "\n",
      "               precision    recall  f1-score   support\n",
      "\n",
      "      No HDA       0.92      0.99      0.95     57447\n",
      "     Yes HDA       0.53      0.14      0.22      5973\n",
      "\n",
      "    accuracy                           0.91     63420\n",
      "   macro avg       0.72      0.56      0.59     63420\n",
      "weighted avg       0.88      0.91      0.88     63420\n",
      "\n",
      "                  Gradient Boost                  \n",
      "\n",
      "               precision    recall  f1-score   support\n",
      "\n",
      "      No HDA       0.91      0.99      0.95     57447\n",
      "     Yes HDA       0.56      0.12      0.19      5973\n",
      "\n",
      "    accuracy                           0.91     63420\n",
      "   macro avg       0.74      0.55      0.57     63420\n",
      "weighted avg       0.88      0.91      0.88     63420\n",
      "\n"
     ]
    }
   ],
   "source": [
    "print(f'{\"XGBoost\" : ^50}\\n\\n', classification_report(y_test, predict_xgb, target_names=['No HDA', 'Yes HDA']))\n",
    "print(f'{\"AdaBoost\" : ^50}\\n\\n', classification_report(y_test, predict_ada, target_names=['No HDA', 'Yes HDA']))\n",
    "print(f'{\"Gradient Boost\" : ^50}\\n\\n', classification_report(y_test, predict_grad, target_names=['No HDA', 'Yes HDA']))"
   ]
  },
  {
   "cell_type": "markdown",
   "id": "41978ce9-22b7-4ce0-b27b-972088ecd2cd",
   "metadata": {},
   "source": [
    "## Neural Network models"
   ]
  },
  {
   "cell_type": "code",
   "execution_count": 11,
   "id": "4fe72f7c-0eaa-4ba4-9a63-cfc667ffc52f",
   "metadata": {
    "tags": []
   },
   "outputs": [],
   "source": [
    "url = 'data/hd_2015_recast_int.csv'\n",
    "\n",
    "df = pd.read_csv(url)"
   ]
  },
  {
   "cell_type": "code",
   "execution_count": 12,
   "id": "7ae969bd-eb81-4d68-ab36-b661e5c7062c",
   "metadata": {
    "tags": []
   },
   "outputs": [
    {
     "data": {
      "text/html": [
       "<div>\n",
       "<style scoped>\n",
       "    .dataframe tbody tr th:only-of-type {\n",
       "        vertical-align: middle;\n",
       "    }\n",
       "\n",
       "    .dataframe tbody tr th {\n",
       "        vertical-align: top;\n",
       "    }\n",
       "\n",
       "    .dataframe thead th {\n",
       "        text-align: right;\n",
       "    }\n",
       "</style>\n",
       "<table border=\"1\" class=\"dataframe\">\n",
       "  <thead>\n",
       "    <tr style=\"text-align: right;\">\n",
       "      <th></th>\n",
       "      <th>HeartDiseaseorAttack</th>\n",
       "      <th>HighBP</th>\n",
       "      <th>HighChol</th>\n",
       "      <th>CholCheck</th>\n",
       "      <th>BMI</th>\n",
       "      <th>Smoker</th>\n",
       "      <th>Stroke</th>\n",
       "      <th>Diabetes</th>\n",
       "      <th>PhysActivity</th>\n",
       "      <th>Fruits</th>\n",
       "      <th>...</th>\n",
       "      <th>AnyHealthcare</th>\n",
       "      <th>NoDocbcCost</th>\n",
       "      <th>GenHlth</th>\n",
       "      <th>MentHlth</th>\n",
       "      <th>PhysHlth</th>\n",
       "      <th>DiffWalk</th>\n",
       "      <th>Sex</th>\n",
       "      <th>Age</th>\n",
       "      <th>Education</th>\n",
       "      <th>Income</th>\n",
       "    </tr>\n",
       "  </thead>\n",
       "  <tbody>\n",
       "    <tr>\n",
       "      <th>0</th>\n",
       "      <td>0.0</td>\n",
       "      <td>1</td>\n",
       "      <td>1</td>\n",
       "      <td>1</td>\n",
       "      <td>40.0</td>\n",
       "      <td>1</td>\n",
       "      <td>0</td>\n",
       "      <td>0</td>\n",
       "      <td>0</td>\n",
       "      <td>0</td>\n",
       "      <td>...</td>\n",
       "      <td>1</td>\n",
       "      <td>0</td>\n",
       "      <td>5</td>\n",
       "      <td>18</td>\n",
       "      <td>15</td>\n",
       "      <td>1</td>\n",
       "      <td>0</td>\n",
       "      <td>9</td>\n",
       "      <td>4</td>\n",
       "      <td>3</td>\n",
       "    </tr>\n",
       "    <tr>\n",
       "      <th>1</th>\n",
       "      <td>0.0</td>\n",
       "      <td>0</td>\n",
       "      <td>0</td>\n",
       "      <td>0</td>\n",
       "      <td>25.0</td>\n",
       "      <td>1</td>\n",
       "      <td>0</td>\n",
       "      <td>0</td>\n",
       "      <td>1</td>\n",
       "      <td>0</td>\n",
       "      <td>...</td>\n",
       "      <td>0</td>\n",
       "      <td>1</td>\n",
       "      <td>3</td>\n",
       "      <td>0</td>\n",
       "      <td>0</td>\n",
       "      <td>0</td>\n",
       "      <td>0</td>\n",
       "      <td>7</td>\n",
       "      <td>6</td>\n",
       "      <td>1</td>\n",
       "    </tr>\n",
       "    <tr>\n",
       "      <th>2</th>\n",
       "      <td>0.0</td>\n",
       "      <td>1</td>\n",
       "      <td>1</td>\n",
       "      <td>1</td>\n",
       "      <td>28.0</td>\n",
       "      <td>0</td>\n",
       "      <td>0</td>\n",
       "      <td>0</td>\n",
       "      <td>0</td>\n",
       "      <td>1</td>\n",
       "      <td>...</td>\n",
       "      <td>1</td>\n",
       "      <td>1</td>\n",
       "      <td>5</td>\n",
       "      <td>30</td>\n",
       "      <td>30</td>\n",
       "      <td>1</td>\n",
       "      <td>0</td>\n",
       "      <td>9</td>\n",
       "      <td>4</td>\n",
       "      <td>8</td>\n",
       "    </tr>\n",
       "    <tr>\n",
       "      <th>3</th>\n",
       "      <td>0.0</td>\n",
       "      <td>1</td>\n",
       "      <td>0</td>\n",
       "      <td>1</td>\n",
       "      <td>27.0</td>\n",
       "      <td>0</td>\n",
       "      <td>0</td>\n",
       "      <td>0</td>\n",
       "      <td>1</td>\n",
       "      <td>1</td>\n",
       "      <td>...</td>\n",
       "      <td>1</td>\n",
       "      <td>0</td>\n",
       "      <td>2</td>\n",
       "      <td>0</td>\n",
       "      <td>0</td>\n",
       "      <td>0</td>\n",
       "      <td>0</td>\n",
       "      <td>11</td>\n",
       "      <td>3</td>\n",
       "      <td>6</td>\n",
       "    </tr>\n",
       "    <tr>\n",
       "      <th>4</th>\n",
       "      <td>0.0</td>\n",
       "      <td>1</td>\n",
       "      <td>1</td>\n",
       "      <td>1</td>\n",
       "      <td>24.0</td>\n",
       "      <td>0</td>\n",
       "      <td>0</td>\n",
       "      <td>0</td>\n",
       "      <td>1</td>\n",
       "      <td>1</td>\n",
       "      <td>...</td>\n",
       "      <td>1</td>\n",
       "      <td>0</td>\n",
       "      <td>2</td>\n",
       "      <td>3</td>\n",
       "      <td>0</td>\n",
       "      <td>0</td>\n",
       "      <td>0</td>\n",
       "      <td>11</td>\n",
       "      <td>5</td>\n",
       "      <td>4</td>\n",
       "    </tr>\n",
       "  </tbody>\n",
       "</table>\n",
       "<p>5 rows × 22 columns</p>\n",
       "</div>"
      ],
      "text/plain": [
       "   HeartDiseaseorAttack  HighBP  HighChol  CholCheck   BMI  Smoker  Stroke  \\\n",
       "0                   0.0       1         1          1  40.0       1       0   \n",
       "1                   0.0       0         0          0  25.0       1       0   \n",
       "2                   0.0       1         1          1  28.0       0       0   \n",
       "3                   0.0       1         0          1  27.0       0       0   \n",
       "4                   0.0       1         1          1  24.0       0       0   \n",
       "\n",
       "   Diabetes  PhysActivity  Fruits  ...  AnyHealthcare  NoDocbcCost  GenHlth  \\\n",
       "0         0             0       0  ...              1            0        5   \n",
       "1         0             1       0  ...              0            1        3   \n",
       "2         0             0       1  ...              1            1        5   \n",
       "3         0             1       1  ...              1            0        2   \n",
       "4         0             1       1  ...              1            0        2   \n",
       "\n",
       "   MentHlth  PhysHlth  DiffWalk  Sex  Age  Education  Income  \n",
       "0        18        15         1    0    9          4       3  \n",
       "1         0         0         0    0    7          6       1  \n",
       "2        30        30         1    0    9          4       8  \n",
       "3         0         0         0    0   11          3       6  \n",
       "4         3         0         0    0   11          5       4  \n",
       "\n",
       "[5 rows x 22 columns]"
      ]
     },
     "execution_count": 12,
     "metadata": {},
     "output_type": "execute_result"
    }
   ],
   "source": [
    "df.head()"
   ]
  },
  {
   "cell_type": "code",
   "execution_count": 13,
   "id": "38d258d0-1f45-42bf-a2d5-d8fc689da766",
   "metadata": {
    "tags": []
   },
   "outputs": [
    {
     "data": {
      "text/html": [
       "<div>\n",
       "<style scoped>\n",
       "    .dataframe tbody tr th:only-of-type {\n",
       "        vertical-align: middle;\n",
       "    }\n",
       "\n",
       "    .dataframe tbody tr th {\n",
       "        vertical-align: top;\n",
       "    }\n",
       "\n",
       "    .dataframe thead th {\n",
       "        text-align: right;\n",
       "    }\n",
       "</style>\n",
       "<table border=\"1\" class=\"dataframe\">\n",
       "  <thead>\n",
       "    <tr style=\"text-align: right;\">\n",
       "      <th></th>\n",
       "      <th>HeartDiseaseorAttack</th>\n",
       "      <th>HighBP</th>\n",
       "      <th>HighChol</th>\n",
       "      <th>CholCheck</th>\n",
       "      <th>BMI</th>\n",
       "      <th>Smoker</th>\n",
       "      <th>Stroke</th>\n",
       "      <th>Diabetes</th>\n",
       "      <th>PhysActivity</th>\n",
       "      <th>Fruits</th>\n",
       "      <th>...</th>\n",
       "      <th>AnyHealthcare</th>\n",
       "      <th>NoDocbcCost</th>\n",
       "      <th>GenHlth</th>\n",
       "      <th>MentHlth</th>\n",
       "      <th>PhysHlth</th>\n",
       "      <th>DiffWalk</th>\n",
       "      <th>Sex</th>\n",
       "      <th>Age</th>\n",
       "      <th>Education</th>\n",
       "      <th>Income</th>\n",
       "    </tr>\n",
       "  </thead>\n",
       "  <tbody>\n",
       "    <tr>\n",
       "      <th>138560</th>\n",
       "      <td>0.0</td>\n",
       "      <td>0</td>\n",
       "      <td>0</td>\n",
       "      <td>1</td>\n",
       "      <td>42.0</td>\n",
       "      <td>1</td>\n",
       "      <td>0</td>\n",
       "      <td>0</td>\n",
       "      <td>0</td>\n",
       "      <td>0</td>\n",
       "      <td>...</td>\n",
       "      <td>1</td>\n",
       "      <td>0</td>\n",
       "      <td>4</td>\n",
       "      <td>15</td>\n",
       "      <td>20</td>\n",
       "      <td>1</td>\n",
       "      <td>0</td>\n",
       "      <td>3</td>\n",
       "      <td>4</td>\n",
       "      <td>2</td>\n",
       "    </tr>\n",
       "    <tr>\n",
       "      <th>248008</th>\n",
       "      <td>0.0</td>\n",
       "      <td>0</td>\n",
       "      <td>0</td>\n",
       "      <td>1</td>\n",
       "      <td>31.0</td>\n",
       "      <td>1</td>\n",
       "      <td>0</td>\n",
       "      <td>0</td>\n",
       "      <td>1</td>\n",
       "      <td>1</td>\n",
       "      <td>...</td>\n",
       "      <td>1</td>\n",
       "      <td>0</td>\n",
       "      <td>2</td>\n",
       "      <td>0</td>\n",
       "      <td>0</td>\n",
       "      <td>0</td>\n",
       "      <td>0</td>\n",
       "      <td>7</td>\n",
       "      <td>5</td>\n",
       "      <td>6</td>\n",
       "    </tr>\n",
       "    <tr>\n",
       "      <th>78409</th>\n",
       "      <td>0.0</td>\n",
       "      <td>0</td>\n",
       "      <td>0</td>\n",
       "      <td>1</td>\n",
       "      <td>27.0</td>\n",
       "      <td>0</td>\n",
       "      <td>0</td>\n",
       "      <td>0</td>\n",
       "      <td>0</td>\n",
       "      <td>1</td>\n",
       "      <td>...</td>\n",
       "      <td>1</td>\n",
       "      <td>0</td>\n",
       "      <td>3</td>\n",
       "      <td>0</td>\n",
       "      <td>0</td>\n",
       "      <td>0</td>\n",
       "      <td>0</td>\n",
       "      <td>8</td>\n",
       "      <td>6</td>\n",
       "      <td>7</td>\n",
       "    </tr>\n",
       "    <tr>\n",
       "      <th>183612</th>\n",
       "      <td>0.0</td>\n",
       "      <td>0</td>\n",
       "      <td>0</td>\n",
       "      <td>1</td>\n",
       "      <td>30.0</td>\n",
       "      <td>0</td>\n",
       "      <td>0</td>\n",
       "      <td>1</td>\n",
       "      <td>1</td>\n",
       "      <td>1</td>\n",
       "      <td>...</td>\n",
       "      <td>1</td>\n",
       "      <td>1</td>\n",
       "      <td>4</td>\n",
       "      <td>30</td>\n",
       "      <td>0</td>\n",
       "      <td>0</td>\n",
       "      <td>0</td>\n",
       "      <td>7</td>\n",
       "      <td>4</td>\n",
       "      <td>4</td>\n",
       "    </tr>\n",
       "    <tr>\n",
       "      <th>3516</th>\n",
       "      <td>0.0</td>\n",
       "      <td>0</td>\n",
       "      <td>0</td>\n",
       "      <td>1</td>\n",
       "      <td>28.0</td>\n",
       "      <td>1</td>\n",
       "      <td>0</td>\n",
       "      <td>0</td>\n",
       "      <td>1</td>\n",
       "      <td>1</td>\n",
       "      <td>...</td>\n",
       "      <td>1</td>\n",
       "      <td>0</td>\n",
       "      <td>3</td>\n",
       "      <td>0</td>\n",
       "      <td>0</td>\n",
       "      <td>0</td>\n",
       "      <td>1</td>\n",
       "      <td>4</td>\n",
       "      <td>5</td>\n",
       "      <td>7</td>\n",
       "    </tr>\n",
       "    <tr>\n",
       "      <th>...</th>\n",
       "      <td>...</td>\n",
       "      <td>...</td>\n",
       "      <td>...</td>\n",
       "      <td>...</td>\n",
       "      <td>...</td>\n",
       "      <td>...</td>\n",
       "      <td>...</td>\n",
       "      <td>...</td>\n",
       "      <td>...</td>\n",
       "      <td>...</td>\n",
       "      <td>...</td>\n",
       "      <td>...</td>\n",
       "      <td>...</td>\n",
       "      <td>...</td>\n",
       "      <td>...</td>\n",
       "      <td>...</td>\n",
       "      <td>...</td>\n",
       "      <td>...</td>\n",
       "      <td>...</td>\n",
       "      <td>...</td>\n",
       "      <td>...</td>\n",
       "    </tr>\n",
       "    <tr>\n",
       "      <th>253668</th>\n",
       "      <td>1.0</td>\n",
       "      <td>0</td>\n",
       "      <td>1</td>\n",
       "      <td>1</td>\n",
       "      <td>29.0</td>\n",
       "      <td>1</td>\n",
       "      <td>0</td>\n",
       "      <td>2</td>\n",
       "      <td>0</td>\n",
       "      <td>1</td>\n",
       "      <td>...</td>\n",
       "      <td>1</td>\n",
       "      <td>0</td>\n",
       "      <td>2</td>\n",
       "      <td>0</td>\n",
       "      <td>0</td>\n",
       "      <td>1</td>\n",
       "      <td>1</td>\n",
       "      <td>10</td>\n",
       "      <td>3</td>\n",
       "      <td>6</td>\n",
       "    </tr>\n",
       "    <tr>\n",
       "      <th>253670</th>\n",
       "      <td>1.0</td>\n",
       "      <td>1</td>\n",
       "      <td>1</td>\n",
       "      <td>1</td>\n",
       "      <td>25.0</td>\n",
       "      <td>0</td>\n",
       "      <td>0</td>\n",
       "      <td>2</td>\n",
       "      <td>0</td>\n",
       "      <td>1</td>\n",
       "      <td>...</td>\n",
       "      <td>1</td>\n",
       "      <td>0</td>\n",
       "      <td>5</td>\n",
       "      <td>15</td>\n",
       "      <td>0</td>\n",
       "      <td>1</td>\n",
       "      <td>0</td>\n",
       "      <td>13</td>\n",
       "      <td>6</td>\n",
       "      <td>4</td>\n",
       "    </tr>\n",
       "    <tr>\n",
       "      <th>253671</th>\n",
       "      <td>1.0</td>\n",
       "      <td>1</td>\n",
       "      <td>1</td>\n",
       "      <td>1</td>\n",
       "      <td>23.0</td>\n",
       "      <td>0</td>\n",
       "      <td>1</td>\n",
       "      <td>0</td>\n",
       "      <td>0</td>\n",
       "      <td>0</td>\n",
       "      <td>...</td>\n",
       "      <td>1</td>\n",
       "      <td>1</td>\n",
       "      <td>4</td>\n",
       "      <td>0</td>\n",
       "      <td>5</td>\n",
       "      <td>0</td>\n",
       "      <td>1</td>\n",
       "      <td>8</td>\n",
       "      <td>3</td>\n",
       "      <td>2</td>\n",
       "    </tr>\n",
       "    <tr>\n",
       "      <th>253672</th>\n",
       "      <td>1.0</td>\n",
       "      <td>1</td>\n",
       "      <td>0</td>\n",
       "      <td>1</td>\n",
       "      <td>30.0</td>\n",
       "      <td>1</td>\n",
       "      <td>0</td>\n",
       "      <td>0</td>\n",
       "      <td>1</td>\n",
       "      <td>1</td>\n",
       "      <td>...</td>\n",
       "      <td>1</td>\n",
       "      <td>0</td>\n",
       "      <td>3</td>\n",
       "      <td>0</td>\n",
       "      <td>0</td>\n",
       "      <td>0</td>\n",
       "      <td>1</td>\n",
       "      <td>12</td>\n",
       "      <td>2</td>\n",
       "      <td>1</td>\n",
       "    </tr>\n",
       "    <tr>\n",
       "      <th>253679</th>\n",
       "      <td>1.0</td>\n",
       "      <td>1</td>\n",
       "      <td>1</td>\n",
       "      <td>1</td>\n",
       "      <td>25.0</td>\n",
       "      <td>0</td>\n",
       "      <td>0</td>\n",
       "      <td>2</td>\n",
       "      <td>1</td>\n",
       "      <td>1</td>\n",
       "      <td>...</td>\n",
       "      <td>1</td>\n",
       "      <td>0</td>\n",
       "      <td>2</td>\n",
       "      <td>0</td>\n",
       "      <td>0</td>\n",
       "      <td>0</td>\n",
       "      <td>0</td>\n",
       "      <td>9</td>\n",
       "      <td>6</td>\n",
       "      <td>2</td>\n",
       "    </tr>\n",
       "  </tbody>\n",
       "</table>\n",
       "<p>47786 rows × 22 columns</p>\n",
       "</div>"
      ],
      "text/plain": [
       "        HeartDiseaseorAttack  HighBP  HighChol  CholCheck   BMI  Smoker  \\\n",
       "138560                   0.0       0         0          1  42.0       1   \n",
       "248008                   0.0       0         0          1  31.0       1   \n",
       "78409                    0.0       0         0          1  27.0       0   \n",
       "183612                   0.0       0         0          1  30.0       0   \n",
       "3516                     0.0       0         0          1  28.0       1   \n",
       "...                      ...     ...       ...        ...   ...     ...   \n",
       "253668                   1.0       0         1          1  29.0       1   \n",
       "253670                   1.0       1         1          1  25.0       0   \n",
       "253671                   1.0       1         1          1  23.0       0   \n",
       "253672                   1.0       1         0          1  30.0       1   \n",
       "253679                   1.0       1         1          1  25.0       0   \n",
       "\n",
       "        Stroke  Diabetes  PhysActivity  Fruits  ...  AnyHealthcare  \\\n",
       "138560       0         0             0       0  ...              1   \n",
       "248008       0         0             1       1  ...              1   \n",
       "78409        0         0             0       1  ...              1   \n",
       "183612       0         1             1       1  ...              1   \n",
       "3516         0         0             1       1  ...              1   \n",
       "...        ...       ...           ...     ...  ...            ...   \n",
       "253668       0         2             0       1  ...              1   \n",
       "253670       0         2             0       1  ...              1   \n",
       "253671       1         0             0       0  ...              1   \n",
       "253672       0         0             1       1  ...              1   \n",
       "253679       0         2             1       1  ...              1   \n",
       "\n",
       "        NoDocbcCost  GenHlth  MentHlth  PhysHlth  DiffWalk  Sex  Age  \\\n",
       "138560            0        4        15        20         1    0    3   \n",
       "248008            0        2         0         0         0    0    7   \n",
       "78409             0        3         0         0         0    0    8   \n",
       "183612            1        4        30         0         0    0    7   \n",
       "3516              0        3         0         0         0    1    4   \n",
       "...             ...      ...       ...       ...       ...  ...  ...   \n",
       "253668            0        2         0         0         1    1   10   \n",
       "253670            0        5        15         0         1    0   13   \n",
       "253671            1        4         0         5         0    1    8   \n",
       "253672            0        3         0         0         0    1   12   \n",
       "253679            0        2         0         0         0    0    9   \n",
       "\n",
       "        Education  Income  \n",
       "138560          4       2  \n",
       "248008          5       6  \n",
       "78409           6       7  \n",
       "183612          4       4  \n",
       "3516            5       7  \n",
       "...           ...     ...  \n",
       "253668          3       6  \n",
       "253670          6       4  \n",
       "253671          3       2  \n",
       "253672          2       1  \n",
       "253679          6       2  \n",
       "\n",
       "[47786 rows x 22 columns]"
      ]
     },
     "execution_count": 13,
     "metadata": {},
     "output_type": "execute_result"
    }
   ],
   "source": [
    "df_non_heart = df[df.HeartDiseaseorAttack==0]\n",
    "df_non_heart = df_non_heart.sample(int(df.HeartDiseaseorAttack.value_counts()[1]))\n",
    "df_non_heart\n",
    "df_heart = df[df.HeartDiseaseorAttack==1]\n",
    "df_small = pd.concat([df_non_heart, df_heart])\n",
    "df_small"
   ]
  },
  {
   "cell_type": "code",
   "execution_count": 14,
   "id": "caf33a97-e1b5-4eba-b065-5260bf252e28",
   "metadata": {
    "tags": []
   },
   "outputs": [],
   "source": [
    "X = df_small.drop(columns='HeartDiseaseorAttack')\n",
    "y = df_small.HeartDiseaseorAttack\n",
    "\n",
    "X_train, X_test, y_train, y_test = train_test_split(X, y, random_state=1, stratify=y)"
   ]
  },
  {
   "cell_type": "code",
   "execution_count": 15,
   "id": "27fbc417-e401-498f-a637-147b4c5720ff",
   "metadata": {
    "tags": []
   },
   "outputs": [
    {
     "name": "stdout",
     "output_type": "stream",
     "text": [
      "HeartDiseaseorAttack    float64\n",
      "HighBP                    int64\n",
      "HighChol                  int64\n",
      "CholCheck                 int64\n",
      "BMI                     float64\n",
      "Smoker                    int64\n",
      "Stroke                    int64\n",
      "Diabetes                  int64\n",
      "PhysActivity              int64\n",
      "Fruits                    int64\n",
      "Veggies                   int64\n",
      "HvyAlcoholConsump         int64\n",
      "AnyHealthcare             int64\n",
      "NoDocbcCost               int64\n",
      "GenHlth                   int64\n",
      "MentHlth                  int64\n",
      "PhysHlth                  int64\n",
      "DiffWalk                  int64\n",
      "Sex                       int64\n",
      "Age                       int64\n",
      "Education                 int64\n",
      "Income                    int64\n",
      "dtype: object\n"
     ]
    },
    {
     "data": {
      "text/plain": [
       "(253680, 22)"
      ]
     },
     "execution_count": 15,
     "metadata": {},
     "output_type": "execute_result"
    }
   ],
   "source": [
    "print(df.dtypes)\n",
    "df.shape"
   ]
  },
  {
   "cell_type": "code",
   "execution_count": 16,
   "id": "cd73e97d-c2b9-4117-b33d-07b67d7e7b4f",
   "metadata": {
    "tags": []
   },
   "outputs": [],
   "source": [
    "ss = StandardScaler()\n",
    "\n",
    "X_train = ss.fit_transform(X_train)\n",
    "X_test = ss.transform(X_test)"
   ]
  },
  {
   "cell_type": "code",
   "execution_count": 24,
   "id": "5f781edf-b435-46ee-841f-6e00426f81d2",
   "metadata": {
    "tags": []
   },
   "outputs": [],
   "source": [
    "from tensorflow.keras.regularizers import l2\n",
    "from tensorflow.keras.layers import Dropout\n",
    "\n",
    "model = Sequential()\n",
    "\n",
    "model.add(Dense(21, input_dim=X_train.shape[1], activation='relu', kernel_regularizer=l2(0.001)))\n",
    "\n",
    "model.add(Dense(9, activation='relu', kernel_regularizer=l2(0.001)))\n",
    "model.add(Dropout(.2))\n",
    "\n",
    "#model.add(Dense(3, activation='relu', kernel_regularizer=l2(0.001)))\n",
    "#model.add(Dropout(.25))\n",
    "\n",
    "model.add(Dense(1, activation='sigmoid'))"
   ]
  },
  {
   "cell_type": "code",
   "execution_count": 25,
   "id": "736a4b2c-0386-47eb-944a-e294570dd156",
   "metadata": {
    "tags": []
   },
   "outputs": [],
   "source": [
    "model.compile(optimizer='adam',\n",
    "              loss='binary_crossentropy',\n",
    "              metrics=['accuracy'])"
   ]
  },
  {
   "cell_type": "code",
   "execution_count": 26,
   "id": "7b16312e-89f5-4824-97ec-b6daa75afe60",
   "metadata": {
    "tags": []
   },
   "outputs": [
    {
     "name": "stdout",
     "output_type": "stream",
     "text": [
      "Train on 35839 samples, validate on 11947 samples\n",
      "Epoch 1/10\n",
      "35839/35839 [==============================] - 3s 70us/sample - loss: 0.5465 - accuracy: 0.7489 - val_loss: 0.5091 - val_accuracy: 0.7632\n",
      "Epoch 2/10\n",
      "35839/35839 [==============================] - 2s 51us/sample - loss: 0.5120 - accuracy: 0.7716 - val_loss: 0.4981 - val_accuracy: 0.7674\n",
      "Epoch 3/10\n",
      "35839/35839 [==============================] - 2s 51us/sample - loss: 0.5034 - accuracy: 0.7728 - val_loss: 0.4947 - val_accuracy: 0.7682\n",
      "Epoch 4/10\n",
      "35839/35839 [==============================] - 2s 50us/sample - loss: 0.4981 - accuracy: 0.7737 - val_loss: 0.4897 - val_accuracy: 0.7690\n",
      "Epoch 5/10\n",
      "35839/35839 [==============================] - 3s 81us/sample - loss: 0.4951 - accuracy: 0.7744 - val_loss: 0.4881 - val_accuracy: 0.7702\n",
      "Epoch 6/10\n",
      "35839/35839 [==============================] - 2s 67us/sample - loss: 0.4932 - accuracy: 0.7751 - val_loss: 0.4863 - val_accuracy: 0.7701\n",
      "Epoch 7/10\n",
      "35839/35839 [==============================] - 2s 65us/sample - loss: 0.4914 - accuracy: 0.7754 - val_loss: 0.4875 - val_accuracy: 0.7695\n",
      "Epoch 8/10\n",
      "35839/35839 [==============================] - 2s 67us/sample - loss: 0.4912 - accuracy: 0.7756 - val_loss: 0.4848 - val_accuracy: 0.7691\n",
      "Epoch 9/10\n",
      "35839/35839 [==============================] - 2s 65us/sample - loss: 0.4903 - accuracy: 0.7738 - val_loss: 0.4846 - val_accuracy: 0.7700\n",
      "Epoch 10/10\n",
      "35839/35839 [==============================] - 7s 193us/sample - loss: 0.4897 - accuracy: 0.7754 - val_loss: 0.4846 - val_accuracy: 0.7712\n"
     ]
    }
   ],
   "source": [
    "history = model.fit(\n",
    "    X_train, y_train.values,\n",
    "    validation_data=(X_test, y_test.values),\n",
    "    epochs=10,\n",
    "    verbose=1\n",
    ")"
   ]
  },
  {
   "cell_type": "code",
   "execution_count": 27,
   "id": "4be5e2fe-73f3-4145-a3ff-42d7e5dee6ad",
   "metadata": {
    "tags": []
   },
   "outputs": [
    {
     "data": {
      "image/png": "[encoded data removed]",
      "text/plain": [
       "<Figure size 640x480 with 1 Axes>"
      ]
     },
     "metadata": {},
     "output_type": "display_data"
    }
   ],
   "source": [
    "train_loss = history.history['loss']\n",
    "test_loss = history.history['val_loss']\n",
    "\n",
    "plt.plot(train_loss, label='Training Loss', color='navy')\n",
    "plt.plot(test_loss, label='Testing Loss', color='skyblue')\n",
    "plt.legend();"
   ]
  },
  {
   "cell_type": "code",
   "execution_count": 28,
   "id": "978f5e55-43e3-4366-8dfe-6d608f93faa4",
   "metadata": {
    "tags": []
   },
   "outputs": [
    {
     "data": {
      "image/png": "[encoded data removed]",
      "text/plain": [
       "<Figure size 640x480 with 1 Axes>"
      ]
     },
     "metadata": {},
     "output_type": "display_data"
    }
   ],
   "source": [
    "train_loss = history.history['accuracy']\n",
    "test_loss = history.history['val_accuracy']\n",
    "\n",
    "plt.plot(train_loss, label='Training accuracy', color='navy')\n",
    "plt.plot(test_loss, label='Testing accuracy', color='skyblue')\n",
    "plt.legend();"
   ]
  },
  {
   "cell_type": "code",
   "execution_count": 59,
   "id": "7443aa55-f18a-4075-9f37-7799cb26109a",
   "metadata": {
    "tags": []
   },
   "outputs": [
    {
     "data": {
      "text/plain": [
       "array([[1.],\n",
       "       [0.],\n",
       "       [1.],\n",
       "       ...,\n",
       "       [1.],\n",
       "       [1.],\n",
       "       [0.]], dtype=float32)"
      ]
     },
     "execution_count": 59,
     "metadata": {},
     "output_type": "execute_result"
    }
   ],
   "source": [
    "preds = np.round(model.predict(X_test))\n",
    "#y_preds = np.argmax(preds, axis=1)\n",
    "preds"
   ]
  },
  {
   "cell_type": "code",
   "execution_count": 35,
   "id": "e8040753-8441-432d-99b5-b25c61bf3330",
   "metadata": {
    "tags": []
   },
   "outputs": [],
   "source": [
    "model_score = model.evaluate(X_test, y_test.values, verbose=0)"
   ]
  },
  {
   "cell_type": "code",
   "execution_count": 36,
   "id": "eae9ff7a-e007-4b1c-8f2c-b83728c23321",
   "metadata": {
    "tags": []
   },
   "outputs": [
    {
     "data": {
      "text/plain": [
       "0.77123964"
      ]
     },
     "execution_count": 36,
     "metadata": {},
     "output_type": "execute_result"
    }
   ],
   "source": [
    "model_score[1]"
   ]
  },
  {
   "cell_type": "code",
   "execution_count": 63,
   "id": "37699d82-a220-4d2f-9290-493c5cdcad10",
   "metadata": {
    "tags": []
   },
   "outputs": [
    {
     "data": {
      "image/png": "[encoded data removed]",
      "text/plain": [
       "<Figure size 640x480 with 2 Axes>"
      ]
     },
     "metadata": {},
     "output_type": "display_data"
    }
   ],
   "source": [
    "#confusion_matrix()\n",
    "\n",
    "ConfusionMatrixDisplay.from_predictions(y_test, preds.round(), display_labels=['No HDA', 'Yes HDA'])\n",
    "plt.title('Sequential Neural Net');\n",
    "\n",
    "predict_nn = preds\n",
    "tp = sum((y_test== 1).values.reshape(-1,1) & (predict_nn == 1))\n",
    "fp =  sum((y_test == 0).values.reshape(-1,1) & (predict_nn == 1))\n",
    "tn = sum((y_test == 0).values.reshape(-1,1) & (predict_nn == 0))\n",
    "fn = sum((y_test == 1).values.reshape(-1,1) & (predict_nn == 0))\n"
   ]
  },
  {
   "cell_type": "code",
   "execution_count": 71,
   "id": "edeb7bf3-fdb1-48a3-9065-9048c7e3c5e3",
   "metadata": {},
   "outputs": [
    {
     "data": {
      "text/plain": [
       "(array([80.7499163]), array([77.12396418]), array([0.75292649]))"
      ]
     },
     "execution_count": 71,
     "metadata": {},
     "output_type": "execute_result"
    }
   ],
   "source": [
    "recall = tp/(tp+fn) * 100\n",
    "acc = (tp + tn) / (tp + tn + fp + fn) * 100\n",
    "precision = tp/ (tp+fp)\n",
    "recall, acc, precision"
   ]
  },
  {
   "cell_type": "code",
   "execution_count": 69,
   "id": "78feac1e-6547-4384-a58a-65c541af12d7",
   "metadata": {
    "tags": []
   },
   "outputs": [],
   "source": [
    "# import pickle\n",
    "\n",
    "# with open('models/nn_minority_focus.pkl', 'wb') as pickle_out:\n",
    "#     pickle.dump(model, pickle_out)"
   ]
  }
 ],
 "metadata": {
  "kernelspec": {
   "display_name": "Python [conda env:tf3]",
   "language": "python",
   "name": "conda-env-tf3-py"
  },
  "language_info": {
   "codemirror_mode": {
    "name": "ipython",
    "version": 3
   },
   "file_extension": ".py",
   "mimetype": "text/x-python",
   "name": "python",
   "nbconvert_exporter": "python",
   "pygments_lexer": "ipython3",
   "version": "3.7.13"
  }
 },
 "nbformat": 4,
 "nbformat_minor": 5
}
