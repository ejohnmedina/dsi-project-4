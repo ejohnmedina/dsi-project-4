{
 "cells": [
  {
   "cell_type": "code",
   "execution_count": 27,
   "id": "32b33b6d-2e78-443d-8e29-dae76c5c70b9",
   "metadata": {
    "execution": {
     "iopub.execute_input": "2022-09-23T14:48:21.830116Z",
     "iopub.status.busy": "2022-09-23T14:48:21.829633Z",
     "iopub.status.idle": "2022-09-23T14:48:21.837434Z",
     "shell.execute_reply": "2022-09-23T14:48:21.836578Z",
     "shell.execute_reply.started": "2022-09-23T14:48:21.830087Z"
    },
    "tags": []
   },
   "outputs": [],
   "source": [
    "# adaboost gradientboost clustering\n",
    "\n",
    "import numpy as np\n",
    "import pandas as pd\n",
    "import matplotlib.pyplot as plt\n",
    "\n",
    "from sklearn.model_selection import train_test_split, cross_val_score, GridSearchCV\n",
    "\n",
    "from sklearn.metrics import ConfusionMatrixDisplay, confusion_matrix\n",
    "\n",
    "from sklearn.pipeline import Pipeline\n",
    "\n",
    "from sklearn.ensemble import AdaBoostClassifier, GradientBoostingClassifier\n",
    "import xgboost as xgb\n",
    "\n",
    "from sklearn.preprocessing import StandardScaler, MinMaxScaler\n",
    "\n",
    "from sklearn.metrics import silhouette_score\n",
    "from sklearn.cluster import KMeans\n",
    "from sklearn.cluster import DBSCAN\n",
    "\n",
    "from tensorflow.keras.models import Sequential\n",
    "from tensorflow.keras.layers import Dense"
   ]
  },
  {
   "cell_type": "code",
   "execution_count": 30,
   "id": "fc489157-4442-41e5-9f9c-d3e104b49aab",
   "metadata": {
    "execution": {
     "iopub.execute_input": "2022-09-22T19:01:22.857475Z",
     "iopub.status.busy": "2022-09-22T19:01:22.856786Z",
     "iopub.status.idle": "2022-09-22T19:01:23.047469Z",
     "shell.execute_reply": "2022-09-22T19:01:23.047159Z",
     "shell.execute_reply.started": "2022-09-22T19:01:22.857427Z"
    },
    "tags": []
   },
   "outputs": [],
   "source": [
    "url = 'data/heart_disease_ind_2015.csv'\n",
    "\n",
    "df = pd.read_csv(url)"
   ]
  },
  {
   "cell_type": "code",
   "execution_count": 31,
   "id": "5130a1a2-356a-4985-8807-6e0149c93312",
   "metadata": {
    "execution": {
     "iopub.execute_input": "2022-09-22T19:01:24.991743Z",
     "iopub.status.busy": "2022-09-22T19:01:24.991325Z",
     "iopub.status.idle": "2022-09-22T19:01:25.017902Z",
     "shell.execute_reply": "2022-09-22T19:01:25.017577Z",
     "shell.execute_reply.started": "2022-09-22T19:01:24.991715Z"
    },
    "tags": []
   },
   "outputs": [
    {
     "data": {
      "text/html": [
       "<div>\n",
       "<style scoped>\n",
       "    .dataframe tbody tr th:only-of-type {\n",
       "        vertical-align: middle;\n",
       "    }\n",
       "\n",
       "    .dataframe tbody tr th {\n",
       "        vertical-align: top;\n",
       "    }\n",
       "\n",
       "    .dataframe thead th {\n",
       "        text-align: right;\n",
       "    }\n",
       "</style>\n",
       "<table border=\"1\" class=\"dataframe\">\n",
       "  <thead>\n",
       "    <tr style=\"text-align: right;\">\n",
       "      <th></th>\n",
       "      <th>HeartDiseaseorAttack</th>\n",
       "      <th>HighBP</th>\n",
       "      <th>HighChol</th>\n",
       "      <th>CholCheck</th>\n",
       "      <th>BMI</th>\n",
       "      <th>Smoker</th>\n",
       "      <th>Stroke</th>\n",
       "      <th>Diabetes</th>\n",
       "      <th>PhysActivity</th>\n",
       "      <th>Fruits</th>\n",
       "      <th>...</th>\n",
       "      <th>AnyHealthcare</th>\n",
       "      <th>NoDocbcCost</th>\n",
       "      <th>GenHlth</th>\n",
       "      <th>MentHlth</th>\n",
       "      <th>PhysHlth</th>\n",
       "      <th>DiffWalk</th>\n",
       "      <th>Sex</th>\n",
       "      <th>Age</th>\n",
       "      <th>Education</th>\n",
       "      <th>Income</th>\n",
       "    </tr>\n",
       "  </thead>\n",
       "  <tbody>\n",
       "    <tr>\n",
       "      <th>0</th>\n",
       "      <td>0.0</td>\n",
       "      <td>1.0</td>\n",
       "      <td>1.0</td>\n",
       "      <td>1.0</td>\n",
       "      <td>40.0</td>\n",
       "      <td>1.0</td>\n",
       "      <td>0.0</td>\n",
       "      <td>0.0</td>\n",
       "      <td>0.0</td>\n",
       "      <td>0.0</td>\n",
       "      <td>...</td>\n",
       "      <td>1.0</td>\n",
       "      <td>0.0</td>\n",
       "      <td>5.0</td>\n",
       "      <td>18.0</td>\n",
       "      <td>15.0</td>\n",
       "      <td>1.0</td>\n",
       "      <td>0.0</td>\n",
       "      <td>9.0</td>\n",
       "      <td>4.0</td>\n",
       "      <td>3.0</td>\n",
       "    </tr>\n",
       "    <tr>\n",
       "      <th>1</th>\n",
       "      <td>0.0</td>\n",
       "      <td>0.0</td>\n",
       "      <td>0.0</td>\n",
       "      <td>0.0</td>\n",
       "      <td>25.0</td>\n",
       "      <td>1.0</td>\n",
       "      <td>0.0</td>\n",
       "      <td>0.0</td>\n",
       "      <td>1.0</td>\n",
       "      <td>0.0</td>\n",
       "      <td>...</td>\n",
       "      <td>0.0</td>\n",
       "      <td>1.0</td>\n",
       "      <td>3.0</td>\n",
       "      <td>0.0</td>\n",
       "      <td>0.0</td>\n",
       "      <td>0.0</td>\n",
       "      <td>0.0</td>\n",
       "      <td>7.0</td>\n",
       "      <td>6.0</td>\n",
       "      <td>1.0</td>\n",
       "    </tr>\n",
       "    <tr>\n",
       "      <th>2</th>\n",
       "      <td>0.0</td>\n",
       "      <td>1.0</td>\n",
       "      <td>1.0</td>\n",
       "      <td>1.0</td>\n",
       "      <td>28.0</td>\n",
       "      <td>0.0</td>\n",
       "      <td>0.0</td>\n",
       "      <td>0.0</td>\n",
       "      <td>0.0</td>\n",
       "      <td>1.0</td>\n",
       "      <td>...</td>\n",
       "      <td>1.0</td>\n",
       "      <td>1.0</td>\n",
       "      <td>5.0</td>\n",
       "      <td>30.0</td>\n",
       "      <td>30.0</td>\n",
       "      <td>1.0</td>\n",
       "      <td>0.0</td>\n",
       "      <td>9.0</td>\n",
       "      <td>4.0</td>\n",
       "      <td>8.0</td>\n",
       "    </tr>\n",
       "    <tr>\n",
       "      <th>3</th>\n",
       "      <td>0.0</td>\n",
       "      <td>1.0</td>\n",
       "      <td>0.0</td>\n",
       "      <td>1.0</td>\n",
       "      <td>27.0</td>\n",
       "      <td>0.0</td>\n",
       "      <td>0.0</td>\n",
       "      <td>0.0</td>\n",
       "      <td>1.0</td>\n",
       "      <td>1.0</td>\n",
       "      <td>...</td>\n",
       "      <td>1.0</td>\n",
       "      <td>0.0</td>\n",
       "      <td>2.0</td>\n",
       "      <td>0.0</td>\n",
       "      <td>0.0</td>\n",
       "      <td>0.0</td>\n",
       "      <td>0.0</td>\n",
       "      <td>11.0</td>\n",
       "      <td>3.0</td>\n",
       "      <td>6.0</td>\n",
       "    </tr>\n",
       "    <tr>\n",
       "      <th>4</th>\n",
       "      <td>0.0</td>\n",
       "      <td>1.0</td>\n",
       "      <td>1.0</td>\n",
       "      <td>1.0</td>\n",
       "      <td>24.0</td>\n",
       "      <td>0.0</td>\n",
       "      <td>0.0</td>\n",
       "      <td>0.0</td>\n",
       "      <td>1.0</td>\n",
       "      <td>1.0</td>\n",
       "      <td>...</td>\n",
       "      <td>1.0</td>\n",
       "      <td>0.0</td>\n",
       "      <td>2.0</td>\n",
       "      <td>3.0</td>\n",
       "      <td>0.0</td>\n",
       "      <td>0.0</td>\n",
       "      <td>0.0</td>\n",
       "      <td>11.0</td>\n",
       "      <td>5.0</td>\n",
       "      <td>4.0</td>\n",
       "    </tr>\n",
       "  </tbody>\n",
       "</table>\n",
       "<p>5 rows × 22 columns</p>\n",
       "</div>"
      ],
      "text/plain": [
       "   HeartDiseaseorAttack  HighBP  HighChol  CholCheck   BMI  Smoker  Stroke  \\\n",
       "0                   0.0     1.0       1.0        1.0  40.0     1.0     0.0   \n",
       "1                   0.0     0.0       0.0        0.0  25.0     1.0     0.0   \n",
       "2                   0.0     1.0       1.0        1.0  28.0     0.0     0.0   \n",
       "3                   0.0     1.0       0.0        1.0  27.0     0.0     0.0   \n",
       "4                   0.0     1.0       1.0        1.0  24.0     0.0     0.0   \n",
       "\n",
       "   Diabetes  PhysActivity  Fruits  ...  AnyHealthcare  NoDocbcCost  GenHlth  \\\n",
       "0       0.0           0.0     0.0  ...            1.0          0.0      5.0   \n",
       "1       0.0           1.0     0.0  ...            0.0          1.0      3.0   \n",
       "2       0.0           0.0     1.0  ...            1.0          1.0      5.0   \n",
       "3       0.0           1.0     1.0  ...            1.0          0.0      2.0   \n",
       "4       0.0           1.0     1.0  ...            1.0          0.0      2.0   \n",
       "\n",
       "   MentHlth  PhysHlth  DiffWalk  Sex   Age  Education  Income  \n",
       "0      18.0      15.0       1.0  0.0   9.0        4.0     3.0  \n",
       "1       0.0       0.0       0.0  0.0   7.0        6.0     1.0  \n",
       "2      30.0      30.0       1.0  0.0   9.0        4.0     8.0  \n",
       "3       0.0       0.0       0.0  0.0  11.0        3.0     6.0  \n",
       "4       3.0       0.0       0.0  0.0  11.0        5.0     4.0  \n",
       "\n",
       "[5 rows x 22 columns]"
      ]
     },
     "execution_count": 31,
     "metadata": {},
     "output_type": "execute_result"
    }
   ],
   "source": [
    "df.head()"
   ]
  },
  {
   "cell_type": "code",
   "execution_count": 32,
   "id": "037e22c0-a73c-41c9-b741-faee1d0f62fe",
   "metadata": {
    "execution": {
     "iopub.execute_input": "2022-09-22T19:01:25.624230Z",
     "iopub.status.busy": "2022-09-22T19:01:25.623814Z",
     "iopub.status.idle": "2022-09-22T19:01:25.708037Z",
     "shell.execute_reply": "2022-09-22T19:01:25.707484Z",
     "shell.execute_reply.started": "2022-09-22T19:01:25.624202Z"
    },
    "tags": []
   },
   "outputs": [
    {
     "data": {
      "text/html": [
       "<div>\n",
       "<style scoped>\n",
       "    .dataframe tbody tr th:only-of-type {\n",
       "        vertical-align: middle;\n",
       "    }\n",
       "\n",
       "    .dataframe tbody tr th {\n",
       "        vertical-align: top;\n",
       "    }\n",
       "\n",
       "    .dataframe thead th {\n",
       "        text-align: right;\n",
       "    }\n",
       "</style>\n",
       "<table border=\"1\" class=\"dataframe\">\n",
       "  <thead>\n",
       "    <tr style=\"text-align: right;\">\n",
       "      <th></th>\n",
       "      <th>HeartDiseaseorAttack</th>\n",
       "      <th>HighBP</th>\n",
       "      <th>HighChol</th>\n",
       "      <th>CholCheck</th>\n",
       "      <th>BMI</th>\n",
       "      <th>Smoker</th>\n",
       "      <th>Stroke</th>\n",
       "      <th>Diabetes</th>\n",
       "      <th>PhysActivity</th>\n",
       "      <th>Fruits</th>\n",
       "      <th>...</th>\n",
       "      <th>AnyHealthcare</th>\n",
       "      <th>NoDocbcCost</th>\n",
       "      <th>GenHlth</th>\n",
       "      <th>MentHlth</th>\n",
       "      <th>PhysHlth</th>\n",
       "      <th>DiffWalk</th>\n",
       "      <th>Sex</th>\n",
       "      <th>Age</th>\n",
       "      <th>Education</th>\n",
       "      <th>Income</th>\n",
       "    </tr>\n",
       "  </thead>\n",
       "  <tbody>\n",
       "    <tr>\n",
       "      <th>0</th>\n",
       "      <td>0</td>\n",
       "      <td>1.0</td>\n",
       "      <td>1.0</td>\n",
       "      <td>1.0</td>\n",
       "      <td>40.0</td>\n",
       "      <td>1.0</td>\n",
       "      <td>0.0</td>\n",
       "      <td>0.0</td>\n",
       "      <td>0.0</td>\n",
       "      <td>0.0</td>\n",
       "      <td>...</td>\n",
       "      <td>1.0</td>\n",
       "      <td>0.0</td>\n",
       "      <td>5.0</td>\n",
       "      <td>18.0</td>\n",
       "      <td>15.0</td>\n",
       "      <td>1.0</td>\n",
       "      <td>0.0</td>\n",
       "      <td>9.0</td>\n",
       "      <td>4.0</td>\n",
       "      <td>3.0</td>\n",
       "    </tr>\n",
       "    <tr>\n",
       "      <th>1</th>\n",
       "      <td>0</td>\n",
       "      <td>0.0</td>\n",
       "      <td>0.0</td>\n",
       "      <td>0.0</td>\n",
       "      <td>25.0</td>\n",
       "      <td>1.0</td>\n",
       "      <td>0.0</td>\n",
       "      <td>0.0</td>\n",
       "      <td>1.0</td>\n",
       "      <td>0.0</td>\n",
       "      <td>...</td>\n",
       "      <td>0.0</td>\n",
       "      <td>1.0</td>\n",
       "      <td>3.0</td>\n",
       "      <td>0.0</td>\n",
       "      <td>0.0</td>\n",
       "      <td>0.0</td>\n",
       "      <td>0.0</td>\n",
       "      <td>7.0</td>\n",
       "      <td>6.0</td>\n",
       "      <td>1.0</td>\n",
       "    </tr>\n",
       "    <tr>\n",
       "      <th>2</th>\n",
       "      <td>0</td>\n",
       "      <td>1.0</td>\n",
       "      <td>1.0</td>\n",
       "      <td>1.0</td>\n",
       "      <td>28.0</td>\n",
       "      <td>0.0</td>\n",
       "      <td>0.0</td>\n",
       "      <td>0.0</td>\n",
       "      <td>0.0</td>\n",
       "      <td>1.0</td>\n",
       "      <td>...</td>\n",
       "      <td>1.0</td>\n",
       "      <td>1.0</td>\n",
       "      <td>5.0</td>\n",
       "      <td>30.0</td>\n",
       "      <td>30.0</td>\n",
       "      <td>1.0</td>\n",
       "      <td>0.0</td>\n",
       "      <td>9.0</td>\n",
       "      <td>4.0</td>\n",
       "      <td>8.0</td>\n",
       "    </tr>\n",
       "    <tr>\n",
       "      <th>3</th>\n",
       "      <td>0</td>\n",
       "      <td>1.0</td>\n",
       "      <td>0.0</td>\n",
       "      <td>1.0</td>\n",
       "      <td>27.0</td>\n",
       "      <td>0.0</td>\n",
       "      <td>0.0</td>\n",
       "      <td>0.0</td>\n",
       "      <td>1.0</td>\n",
       "      <td>1.0</td>\n",
       "      <td>...</td>\n",
       "      <td>1.0</td>\n",
       "      <td>0.0</td>\n",
       "      <td>2.0</td>\n",
       "      <td>0.0</td>\n",
       "      <td>0.0</td>\n",
       "      <td>0.0</td>\n",
       "      <td>0.0</td>\n",
       "      <td>11.0</td>\n",
       "      <td>3.0</td>\n",
       "      <td>6.0</td>\n",
       "    </tr>\n",
       "    <tr>\n",
       "      <th>4</th>\n",
       "      <td>0</td>\n",
       "      <td>1.0</td>\n",
       "      <td>1.0</td>\n",
       "      <td>1.0</td>\n",
       "      <td>24.0</td>\n",
       "      <td>0.0</td>\n",
       "      <td>0.0</td>\n",
       "      <td>0.0</td>\n",
       "      <td>1.0</td>\n",
       "      <td>1.0</td>\n",
       "      <td>...</td>\n",
       "      <td>1.0</td>\n",
       "      <td>0.0</td>\n",
       "      <td>2.0</td>\n",
       "      <td>3.0</td>\n",
       "      <td>0.0</td>\n",
       "      <td>0.0</td>\n",
       "      <td>0.0</td>\n",
       "      <td>11.0</td>\n",
       "      <td>5.0</td>\n",
       "      <td>4.0</td>\n",
       "    </tr>\n",
       "  </tbody>\n",
       "</table>\n",
       "<p>5 rows × 22 columns</p>\n",
       "</div>"
      ],
      "text/plain": [
       "   HeartDiseaseorAttack  HighBP  HighChol  CholCheck   BMI  Smoker  Stroke  \\\n",
       "0                     0     1.0       1.0        1.0  40.0     1.0     0.0   \n",
       "1                     0     0.0       0.0        0.0  25.0     1.0     0.0   \n",
       "2                     0     1.0       1.0        1.0  28.0     0.0     0.0   \n",
       "3                     0     1.0       0.0        1.0  27.0     0.0     0.0   \n",
       "4                     0     1.0       1.0        1.0  24.0     0.0     0.0   \n",
       "\n",
       "   Diabetes  PhysActivity  Fruits  ...  AnyHealthcare  NoDocbcCost  GenHlth  \\\n",
       "0       0.0           0.0     0.0  ...            1.0          0.0      5.0   \n",
       "1       0.0           1.0     0.0  ...            0.0          1.0      3.0   \n",
       "2       0.0           0.0     1.0  ...            1.0          1.0      5.0   \n",
       "3       0.0           1.0     1.0  ...            1.0          0.0      2.0   \n",
       "4       0.0           1.0     1.0  ...            1.0          0.0      2.0   \n",
       "\n",
       "   MentHlth  PhysHlth  DiffWalk  Sex   Age  Education  Income  \n",
       "0      18.0      15.0       1.0  0.0   9.0        4.0     3.0  \n",
       "1       0.0       0.0       0.0  0.0   7.0        6.0     1.0  \n",
       "2      30.0      30.0       1.0  0.0   9.0        4.0     8.0  \n",
       "3       0.0       0.0       0.0  0.0  11.0        3.0     6.0  \n",
       "4       3.0       0.0       0.0  0.0  11.0        5.0     4.0  \n",
       "\n",
       "[5 rows x 22 columns]"
      ]
     },
     "execution_count": 32,
     "metadata": {},
     "output_type": "execute_result"
    }
   ],
   "source": [
    "df.HeartDiseaseorAttack = [int(b) for b in df.HeartDiseaseorAttack]\n",
    "df.head()"
   ]
  },
  {
   "cell_type": "code",
   "execution_count": 33,
   "id": "4552723c-9c65-4ccc-8393-5a39e741fcff",
   "metadata": {
    "execution": {
     "iopub.execute_input": "2022-09-22T19:01:28.483383Z",
     "iopub.status.busy": "2022-09-22T19:01:28.482944Z",
     "iopub.status.idle": "2022-09-22T19:01:28.489182Z",
     "shell.execute_reply": "2022-09-22T19:01:28.488481Z",
     "shell.execute_reply.started": "2022-09-22T19:01:28.483353Z"
    },
    "tags": []
   },
   "outputs": [
    {
     "data": {
      "text/plain": [
       "Index(['HeartDiseaseorAttack', 'HighBP', 'HighChol', 'CholCheck', 'BMI',\n",
       "       'Smoker', 'Stroke', 'Diabetes', 'PhysActivity', 'Fruits', 'Veggies',\n",
       "       'HvyAlcoholConsump', 'AnyHealthcare', 'NoDocbcCost', 'GenHlth',\n",
       "       'MentHlth', 'PhysHlth', 'DiffWalk', 'Sex', 'Age', 'Education',\n",
       "       'Income'],\n",
       "      dtype='object')"
      ]
     },
     "execution_count": 33,
     "metadata": {},
     "output_type": "execute_result"
    }
   ],
   "source": [
    "df.columns"
   ]
  },
  {
   "cell_type": "code",
   "execution_count": 34,
   "id": "4a54b7c7-a208-42a1-a1df-8fcf9ce97b62",
   "metadata": {
    "execution": {
     "iopub.execute_input": "2022-09-22T19:01:30.413299Z",
     "iopub.status.busy": "2022-09-22T19:01:30.412638Z",
     "iopub.status.idle": "2022-09-22T19:01:30.442797Z",
     "shell.execute_reply": "2022-09-22T19:01:30.442392Z",
     "shell.execute_reply.started": "2022-09-22T19:01:30.413253Z"
    },
    "tags": []
   },
   "outputs": [],
   "source": [
    "df = df.astype({'HighBP': 'int', 'HighChol': 'int', 'CholCheck': 'int', 'Smoker': 'int', 'Stroke': 'int', 'Diabetes': 'int', 'PhysActivity': 'int', 'Fruits': 'int', 'Veggies': 'int', 'HvyAlcoholConsump': 'int', 'AnyHealthcare': 'int', 'NoDocbcCost': 'int', 'GenHlth': 'int', 'MentHlth': 'int', 'PhysHlth': 'int', 'DiffWalk': 'int', 'Sex': 'int', 'Age': 'int', 'Education': 'int', 'Income': 'int'})"
   ]
  },
  {
   "cell_type": "code",
   "execution_count": 35,
   "id": "497756aa-d94e-45ab-ad4f-28c65678ac1a",
   "metadata": {
    "execution": {
     "iopub.execute_input": "2022-09-22T19:01:33.621537Z",
     "iopub.status.busy": "2022-09-22T19:01:33.621101Z",
     "iopub.status.idle": "2022-09-22T19:01:34.157850Z",
     "shell.execute_reply": "2022-09-22T19:01:34.157547Z",
     "shell.execute_reply.started": "2022-09-22T19:01:33.621509Z"
    },
    "tags": []
   },
   "outputs": [],
   "source": [
    "df.to_csv('data/hd_2015_recast_int.csv', index=None)"
   ]
  },
  {
   "cell_type": "code",
   "execution_count": 12,
   "id": "f9990f8f-beb3-4070-8bef-7b00dda20dcc",
   "metadata": {
    "execution": {
     "iopub.execute_input": "2022-09-22T18:54:53.431910Z",
     "iopub.status.busy": "2022-09-22T18:54:53.431447Z",
     "iopub.status.idle": "2022-09-22T18:54:53.518808Z",
     "shell.execute_reply": "2022-09-22T18:54:53.518381Z",
     "shell.execute_reply.started": "2022-09-22T18:54:53.431879Z"
    },
    "tags": []
   },
   "outputs": [],
   "source": [
    "X = df.drop(columns='HeartDiseaseorAttack')\n",
    "y = df['HeartDiseaseorAttack']\n",
    "\n",
    "X_train, X_test, y_train, y_test = train_test_split(X, y, random_state=1, stratify=y)"
   ]
  },
  {
   "cell_type": "code",
   "execution_count": 13,
   "id": "74a43578-39f5-470e-aaff-0c4c6ceb96d0",
   "metadata": {
    "execution": {
     "iopub.execute_input": "2022-09-22T18:54:54.680416Z",
     "iopub.status.busy": "2022-09-22T18:54:54.680018Z",
     "iopub.status.idle": "2022-09-22T18:54:54.692293Z",
     "shell.execute_reply": "2022-09-22T18:54:54.691457Z",
     "shell.execute_reply.started": "2022-09-22T18:54:54.680392Z"
    },
    "tags": []
   },
   "outputs": [],
   "source": [
    "pipe_ada = Pipeline([\n",
    "    ('ss', StandardScaler()),\n",
    "    ('abc', AdaBoostClassifier(learning_rate=0.5, n_estimators=50, random_state=1))\n",
    "])\n",
    "\n",
    "pipe_grad = Pipeline([\n",
    "    ('ss', StandardScaler()),\n",
    "    ('gbc', GradientBoostingClassifier(random_state=1))\n",
    "])\n",
    "\n",
    "pipe_km = Pipeline([\n",
    "    ('ss', StandardScaler()),\n",
    "    ('km', KMeans(random_state=1))\n",
    "])\n",
    "\n",
    "pipe_dbs = Pipeline([\n",
    "    ('ss', StandardScaler()),\n",
    "    ('dbs', DBSCAN())\n",
    "])\n",
    "\n",
    "pipe_xgb = Pipeline([\n",
    "    ('ss', StandardScaler()),\n",
    "    ('xgb', xgb.XGBClassifier())\n",
    "])"
   ]
  },
  {
   "cell_type": "code",
   "execution_count": 14,
   "id": "7b7fedcc-fc50-4f65-9306-66343d144839",
   "metadata": {
    "execution": {
     "iopub.execute_input": "2022-09-22T18:54:56.380913Z",
     "iopub.status.busy": "2022-09-22T18:54:56.380528Z",
     "iopub.status.idle": "2022-09-22T18:55:00.157780Z",
     "shell.execute_reply": "2022-09-22T18:55:00.157512Z",
     "shell.execute_reply.started": "2022-09-22T18:54:56.380889Z"
    },
    "tags": []
   },
   "outputs": [
    {
     "data": {
      "text/plain": [
       "(0.9073268159360874, 0.9073793755912961)"
      ]
     },
     "execution_count": 14,
     "metadata": {},
     "output_type": "execute_result"
    }
   ],
   "source": [
    "pipe_ada.fit(X_train, y_train)\n",
    "\n",
    "pipe_ada.score(X_train, y_train), pipe_ada.score(X_test, y_test)"
   ]
  },
  {
   "cell_type": "code",
   "execution_count": 15,
   "id": "91dbdcda-ffe7-4f68-87d9-778efb34d9fe",
   "metadata": {
    "execution": {
     "iopub.execute_input": "2022-09-22T18:55:01.923410Z",
     "iopub.status.busy": "2022-09-22T18:55:01.922982Z",
     "iopub.status.idle": "2022-09-22T18:55:13.705448Z",
     "shell.execute_reply": "2022-09-22T18:55:13.705180Z",
     "shell.execute_reply.started": "2022-09-22T18:55:01.923384Z"
    },
    "tags": []
   },
   "outputs": [
    {
     "data": {
      "text/plain": [
       "(0.908525176074845, 0.9079943235572374)"
      ]
     },
     "execution_count": 15,
     "metadata": {},
     "output_type": "execute_result"
    }
   ],
   "source": [
    "pipe_grad.fit(X_train, y_train)\n",
    "\n",
    "pipe_grad.score(X_train, y_train), pipe_grad.score(X_test, y_test)"
   ]
  },
  {
   "cell_type": "code",
   "execution_count": 16,
   "id": "aa60548d-17e0-45f1-b8de-4c470537f91f",
   "metadata": {
    "execution": {
     "iopub.execute_input": "2022-09-22T18:55:15.409808Z",
     "iopub.status.busy": "2022-09-22T18:55:15.409181Z",
     "iopub.status.idle": "2022-09-22T18:55:20.324567Z",
     "shell.execute_reply": "2022-09-22T18:55:20.324119Z",
     "shell.execute_reply.started": "2022-09-22T18:55:15.409773Z"
    },
    "tags": []
   },
   "outputs": [
    {
     "data": {
      "text/plain": [
       "(0.9147902869757174, 0.9070167139703563)"
      ]
     },
     "execution_count": 16,
     "metadata": {},
     "output_type": "execute_result"
    }
   ],
   "source": [
    "pipe_xgb.fit(X_train, y_train)\n",
    "\n",
    "pipe_xgb.score(X_train, y_train), pipe_xgb.score(X_test, y_test)"
   ]
  },
  {
   "cell_type": "markdown",
   "id": "3e9dbd60-e32e-4764-99d1-9cd9887ab1e8",
   "metadata": {},
   "source": [
    "## Confusion matrices\n",
    "\n",
    "Initial = Ada minimizes false negatives which is probably the best result for which to optimize."
   ]
  },
  {
   "cell_type": "code",
   "execution_count": 17,
   "id": "a5f8fc67-cc5c-45e4-b349-86095088ebc1",
   "metadata": {
    "execution": {
     "iopub.execute_input": "2022-09-22T18:55:42.261606Z",
     "iopub.status.busy": "2022-09-22T18:55:42.261223Z",
     "iopub.status.idle": "2022-09-22T18:55:47.324696Z",
     "shell.execute_reply": "2022-09-22T18:55:47.324354Z",
     "shell.execute_reply.started": "2022-09-22T18:55:42.261582Z"
    },
    "tags": []
   },
   "outputs": [
    {
     "name": "stdout",
     "output_type": "stream",
     "text": [
      "True positives:  727\n",
      "False positives:  651\n",
      "True negatives:  56796\n",
      "False negatives:  5246\n",
      "Accuracy:  0.9070167139703563\n",
      "True pos rate/recall/sensitivity:  0.12171438138288967\n",
      "False pos rate:  0.01133218444827406\n",
      "True neg rate/specificity:  0.9886678155517259\n",
      "Precision:  0.5275761973875182\n",
      "              precision    recall  f1-score   support\n",
      "\n",
      "      No HDA       0.92      0.99      0.95     57447\n",
      "     Yes HDA       0.53      0.12      0.20      5973\n",
      "\n",
      "    accuracy                           0.91     63420\n",
      "   macro avg       0.72      0.56      0.57     63420\n",
      "weighted avg       0.88      0.91      0.88     63420\n",
      "\n"
     ]
    },
    {
     "data": {
      "image/png": "[encoded data removed]",
      "text/plain": [
       "<Figure size 640x480 with 2 Axes>"
      ]
     },
     "metadata": {},
     "output_type": "display_data"
    }
   ],
   "source": [
    "ConfusionMatrixDisplay.from_estimator(pipe_xgb.fit(X_train, y_train), X_test, y_test, display_labels=['No HDA', 'Yes HDA'])\n",
    "plt.title('XGBoost');\n",
    "predict_xgb = pipe_xgb.predict(X_test)\n",
    "tp_xgb = sum((y_test == 1) & (predict_xgb == 1))\n",
    "fp_xgb = sum((y_test == 0) & (predict_xgb == 1))\n",
    "tn_xgb = sum((y_test == 0) & (predict_xgb == 0))\n",
    "fn_xgb = sum((y_test == 1) & (predict_xgb == 0))\n",
    "print('True positives: ', tp_xgb)\n",
    "print('False positives: ', fp_xgb)\n",
    "print('True negatives: ', tn_xgb)\n",
    "print('False negatives: ', fn_xgb)\n",
    "\n",
    "print('Accuracy: ', (tp_xgb + tn_xgb) / (tp_xgb + tn_xgb + fp_xgb + fn_xgb))\n",
    "print('True pos rate/recall/sensitivity: ', tp_xgb / (tp_xgb + fn_xgb))\n",
    "print('False pos rate: ', fp_xgb / (tn_xgb + fp_xgb))\n",
    "print('True neg rate/specificity: ', tn_xgb / (tn_xgb + fp_xgb))\n",
    "print('Precision: ', tp_xgb / (tp_xgb + fp_xgb))\n",
    "\n",
    "from sklearn.metrics import classification_report\n",
    "\n",
    "print(classification_report(y_test, predict_xgb, target_names=['No HDA', 'Yes HDA']))"
   ]
  },
  {
   "cell_type": "code",
   "execution_count": 18,
   "id": "86bc0533-dda2-4bc2-96eb-2f561f516953",
   "metadata": {
    "execution": {
     "iopub.execute_input": "2022-09-22T18:55:57.308299Z",
     "iopub.status.busy": "2022-09-22T18:55:57.307841Z",
     "iopub.status.idle": "2022-09-22T18:56:00.995384Z",
     "shell.execute_reply": "2022-09-22T18:56:00.995057Z",
     "shell.execute_reply.started": "2022-09-22T18:55:57.308273Z"
    },
    "tags": []
   },
   "outputs": [
    {
     "name": "stdout",
     "output_type": "stream",
     "text": [
      "True positives:  830\n",
      "False positives:  731\n",
      "True negatives:  56716\n",
      "False negatives:  5143\n"
     ]
    },
    {
     "data": {
      "image/png": "[encoded data removed]",
      "text/plain": [
       "<Figure size 640x480 with 2 Axes>"
      ]
     },
     "metadata": {},
     "output_type": "display_data"
    }
   ],
   "source": [
    "ConfusionMatrixDisplay.from_estimator(pipe_ada.fit(X_train, y_train), X_test, y_test, display_labels=['No HDA', 'Yes HDA'])\n",
    "plt.title('AdaBoost');\n",
    "\n",
    "predict_ada = pipe_ada.predict(X_test)\n",
    "print('True positives: ', sum((y_test == 1) & (predict_ada == 1)))\n",
    "print('False positives: ', sum((y_test == 0) & (predict_ada == 1)))\n",
    "print('True negatives: ', sum((y_test == 0) & (predict_ada == 0)))\n",
    "print('False negatives: ', sum((y_test == 1) & (predict_ada == 0)))"
   ]
  },
  {
   "cell_type": "code",
   "execution_count": 19,
   "id": "2dad6410-aeea-4837-ac9a-6aa838d1fde4",
   "metadata": {
    "execution": {
     "iopub.execute_input": "2022-09-22T18:56:03.943981Z",
     "iopub.status.busy": "2022-09-22T18:56:03.943555Z",
     "iopub.status.idle": "2022-09-22T18:56:15.915189Z",
     "shell.execute_reply": "2022-09-22T18:56:15.914776Z",
     "shell.execute_reply.started": "2022-09-22T18:56:03.943956Z"
    },
    "tags": []
   },
   "outputs": [
    {
     "name": "stdout",
     "output_type": "stream",
     "text": [
      "True positives:  687\n",
      "False positives:  549\n",
      "True negatives:  56898\n",
      "False negatives:  5286\n"
     ]
    },
    {
     "data": {
      "image/png": "[encoded data removed]",
      "text/plain": [
       "<Figure size 640x480 with 2 Axes>"
      ]
     },
     "metadata": {},
     "output_type": "display_data"
    }
   ],
   "source": [
    "ConfusionMatrixDisplay.from_estimator(pipe_grad.fit(X_train, y_train), X_test, y_test, display_labels=['No HDA', 'Yes HDA'])\n",
    "plt.title('Gradient Boosting Classifier');\n",
    "\n",
    "predict_grad = pipe_grad.predict(X_test)\n",
    "print('True positives: ', sum((y_test == 1) & (predict_grad == 1)))\n",
    "print('False positives: ', sum((y_test == 0) & (predict_grad == 1)))\n",
    "print('True negatives: ', sum((y_test == 0) & (predict_grad == 0)))\n",
    "print('False negatives: ', sum((y_test == 1) & (predict_grad == 0)))"
   ]
  },
  {
   "cell_type": "markdown",
   "id": "cd0cf3d6-e4b7-49fe-837e-ebd21a673263",
   "metadata": {
    "execution": {
     "iopub.execute_input": "2022-09-20T20:57:57.930388Z",
     "iopub.status.busy": "2022-09-20T20:57:57.929676Z",
     "iopub.status.idle": "2022-09-20T20:57:57.939817Z",
     "shell.execute_reply": "2022-09-20T20:57:57.937926Z",
     "shell.execute_reply.started": "2022-09-20T20:57:57.930340Z"
    }
   },
   "source": [
    "|  | XGBoost | AdaBoost | Gradient Boost |\n",
    "| --- | ---: | ---: | ---: |\n",
    "| True positives | 727 | 877 | 687 |\n",
    "| False positives | 651 | 780 | 549 |\n",
    "| True negatives | 56796 | 56667 | 56898 |\n",
    "| False negatives | 5246 | 5096 | 5286 |"
   ]
  },
  {
   "cell_type": "code",
   "execution_count": 20,
   "id": "c35996cf-6e81-4812-a7b0-ded1a629826c",
   "metadata": {
    "execution": {
     "iopub.execute_input": "2022-09-22T18:57:53.136430Z",
     "iopub.status.busy": "2022-09-22T18:57:53.135714Z",
     "iopub.status.idle": "2022-09-22T18:57:53.296708Z",
     "shell.execute_reply": "2022-09-22T18:57:53.296325Z",
     "shell.execute_reply.started": "2022-09-22T18:57:53.136384Z"
    },
    "tags": []
   },
   "outputs": [
    {
     "name": "stdout",
     "output_type": "stream",
     "text": [
      "                     XGBoost                      \n",
      "\n",
      "               precision    recall  f1-score   support\n",
      "\n",
      "      No HDA       0.92      0.99      0.95     57447\n",
      "     Yes HDA       0.53      0.12      0.20      5973\n",
      "\n",
      "    accuracy                           0.91     63420\n",
      "   macro avg       0.72      0.56      0.57     63420\n",
      "weighted avg       0.88      0.91      0.88     63420\n",
      "\n",
      "                     AdaBoost                     \n",
      "\n",
      "               precision    recall  f1-score   support\n",
      "\n",
      "      No HDA       0.92      0.99      0.95     57447\n",
      "     Yes HDA       0.53      0.14      0.22      5973\n",
      "\n",
      "    accuracy                           0.91     63420\n",
      "   macro avg       0.72      0.56      0.59     63420\n",
      "weighted avg       0.88      0.91      0.88     63420\n",
      "\n",
      "                  Gradient Boost                  \n",
      "\n",
      "               precision    recall  f1-score   support\n",
      "\n",
      "      No HDA       0.91      0.99      0.95     57447\n",
      "     Yes HDA       0.56      0.12      0.19      5973\n",
      "\n",
      "    accuracy                           0.91     63420\n",
      "   macro avg       0.74      0.55      0.57     63420\n",
      "weighted avg       0.88      0.91      0.88     63420\n",
      "\n"
     ]
    }
   ],
   "source": [
    "print(f'{\"XGBoost\" : ^50}\\n\\n', classification_report(y_test, predict_xgb, target_names=['No HDA', 'Yes HDA']))\n",
    "print(f'{\"AdaBoost\" : ^50}\\n\\n', classification_report(y_test, predict_ada, target_names=['No HDA', 'Yes HDA']))\n",
    "print(f'{\"Gradient Boost\" : ^50}\\n\\n', classification_report(y_test, predict_grad, target_names=['No HDA', 'Yes HDA']))"
   ]
  },
  {
   "cell_type": "markdown",
   "id": "41978ce9-22b7-4ce0-b27b-972088ecd2cd",
   "metadata": {},
   "source": [
    "## Neural Network models"
   ]
  },
  {
   "cell_type": "code",
   "execution_count": 4,
   "id": "4fe72f7c-0eaa-4ba4-9a63-cfc667ffc52f",
   "metadata": {
    "execution": {
     "iopub.execute_input": "2022-09-23T14:40:59.116294Z",
     "iopub.status.busy": "2022-09-23T14:40:59.115530Z",
     "iopub.status.idle": "2022-09-23T14:40:59.313858Z",
     "shell.execute_reply": "2022-09-23T14:40:59.313288Z",
     "shell.execute_reply.started": "2022-09-23T14:40:59.116267Z"
    },
    "tags": []
   },
   "outputs": [],
   "source": [
    "url = 'data/hd_2015_recast_int.csv'\n",
    "\n",
    "df = pd.read_csv(url)"
   ]
  },
  {
   "cell_type": "code",
   "execution_count": 5,
   "id": "7ae969bd-eb81-4d68-ab36-b661e5c7062c",
   "metadata": {
    "execution": {
     "iopub.execute_input": "2022-09-23T14:41:02.454204Z",
     "iopub.status.busy": "2022-09-23T14:41:02.453810Z",
     "iopub.status.idle": "2022-09-23T14:41:02.480665Z",
     "shell.execute_reply": "2022-09-23T14:41:02.480155Z",
     "shell.execute_reply.started": "2022-09-23T14:41:02.454181Z"
    },
    "tags": []
   },
   "outputs": [
    {
     "data": {
      "text/html": [
       "<div>\n",
       "<style scoped>\n",
       "    .dataframe tbody tr th:only-of-type {\n",
       "        vertical-align: middle;\n",
       "    }\n",
       "\n",
       "    .dataframe tbody tr th {\n",
       "        vertical-align: top;\n",
       "    }\n",
       "\n",
       "    .dataframe thead th {\n",
       "        text-align: right;\n",
       "    }\n",
       "</style>\n",
       "<table border=\"1\" class=\"dataframe\">\n",
       "  <thead>\n",
       "    <tr style=\"text-align: right;\">\n",
       "      <th></th>\n",
       "      <th>HeartDiseaseorAttack</th>\n",
       "      <th>HighBP</th>\n",
       "      <th>HighChol</th>\n",
       "      <th>CholCheck</th>\n",
       "      <th>BMI</th>\n",
       "      <th>Smoker</th>\n",
       "      <th>Stroke</th>\n",
       "      <th>Diabetes</th>\n",
       "      <th>PhysActivity</th>\n",
       "      <th>Fruits</th>\n",
       "      <th>...</th>\n",
       "      <th>AnyHealthcare</th>\n",
       "      <th>NoDocbcCost</th>\n",
       "      <th>GenHlth</th>\n",
       "      <th>MentHlth</th>\n",
       "      <th>PhysHlth</th>\n",
       "      <th>DiffWalk</th>\n",
       "      <th>Sex</th>\n",
       "      <th>Age</th>\n",
       "      <th>Education</th>\n",
       "      <th>Income</th>\n",
       "    </tr>\n",
       "  </thead>\n",
       "  <tbody>\n",
       "    <tr>\n",
       "      <th>0</th>\n",
       "      <td>0</td>\n",
       "      <td>1</td>\n",
       "      <td>1</td>\n",
       "      <td>1</td>\n",
       "      <td>40.0</td>\n",
       "      <td>1</td>\n",
       "      <td>0</td>\n",
       "      <td>0</td>\n",
       "      <td>0</td>\n",
       "      <td>0</td>\n",
       "      <td>...</td>\n",
       "      <td>1</td>\n",
       "      <td>0</td>\n",
       "      <td>5</td>\n",
       "      <td>18</td>\n",
       "      <td>15</td>\n",
       "      <td>1</td>\n",
       "      <td>0</td>\n",
       "      <td>9</td>\n",
       "      <td>4</td>\n",
       "      <td>3</td>\n",
       "    </tr>\n",
       "    <tr>\n",
       "      <th>1</th>\n",
       "      <td>0</td>\n",
       "      <td>0</td>\n",
       "      <td>0</td>\n",
       "      <td>0</td>\n",
       "      <td>25.0</td>\n",
       "      <td>1</td>\n",
       "      <td>0</td>\n",
       "      <td>0</td>\n",
       "      <td>1</td>\n",
       "      <td>0</td>\n",
       "      <td>...</td>\n",
       "      <td>0</td>\n",
       "      <td>1</td>\n",
       "      <td>3</td>\n",
       "      <td>0</td>\n",
       "      <td>0</td>\n",
       "      <td>0</td>\n",
       "      <td>0</td>\n",
       "      <td>7</td>\n",
       "      <td>6</td>\n",
       "      <td>1</td>\n",
       "    </tr>\n",
       "    <tr>\n",
       "      <th>2</th>\n",
       "      <td>0</td>\n",
       "      <td>1</td>\n",
       "      <td>1</td>\n",
       "      <td>1</td>\n",
       "      <td>28.0</td>\n",
       "      <td>0</td>\n",
       "      <td>0</td>\n",
       "      <td>0</td>\n",
       "      <td>0</td>\n",
       "      <td>1</td>\n",
       "      <td>...</td>\n",
       "      <td>1</td>\n",
       "      <td>1</td>\n",
       "      <td>5</td>\n",
       "      <td>30</td>\n",
       "      <td>30</td>\n",
       "      <td>1</td>\n",
       "      <td>0</td>\n",
       "      <td>9</td>\n",
       "      <td>4</td>\n",
       "      <td>8</td>\n",
       "    </tr>\n",
       "    <tr>\n",
       "      <th>3</th>\n",
       "      <td>0</td>\n",
       "      <td>1</td>\n",
       "      <td>0</td>\n",
       "      <td>1</td>\n",
       "      <td>27.0</td>\n",
       "      <td>0</td>\n",
       "      <td>0</td>\n",
       "      <td>0</td>\n",
       "      <td>1</td>\n",
       "      <td>1</td>\n",
       "      <td>...</td>\n",
       "      <td>1</td>\n",
       "      <td>0</td>\n",
       "      <td>2</td>\n",
       "      <td>0</td>\n",
       "      <td>0</td>\n",
       "      <td>0</td>\n",
       "      <td>0</td>\n",
       "      <td>11</td>\n",
       "      <td>3</td>\n",
       "      <td>6</td>\n",
       "    </tr>\n",
       "    <tr>\n",
       "      <th>4</th>\n",
       "      <td>0</td>\n",
       "      <td>1</td>\n",
       "      <td>1</td>\n",
       "      <td>1</td>\n",
       "      <td>24.0</td>\n",
       "      <td>0</td>\n",
       "      <td>0</td>\n",
       "      <td>0</td>\n",
       "      <td>1</td>\n",
       "      <td>1</td>\n",
       "      <td>...</td>\n",
       "      <td>1</td>\n",
       "      <td>0</td>\n",
       "      <td>2</td>\n",
       "      <td>3</td>\n",
       "      <td>0</td>\n",
       "      <td>0</td>\n",
       "      <td>0</td>\n",
       "      <td>11</td>\n",
       "      <td>5</td>\n",
       "      <td>4</td>\n",
       "    </tr>\n",
       "  </tbody>\n",
       "</table>\n",
       "<p>5 rows × 22 columns</p>\n",
       "</div>"
      ],
      "text/plain": [
       "   HeartDiseaseorAttack  HighBP  HighChol  CholCheck   BMI  Smoker  Stroke  \\\n",
       "0                     0       1         1          1  40.0       1       0   \n",
       "1                     0       0         0          0  25.0       1       0   \n",
       "2                     0       1         1          1  28.0       0       0   \n",
       "3                     0       1         0          1  27.0       0       0   \n",
       "4                     0       1         1          1  24.0       0       0   \n",
       "\n",
       "   Diabetes  PhysActivity  Fruits  ...  AnyHealthcare  NoDocbcCost  GenHlth  \\\n",
       "0         0             0       0  ...              1            0        5   \n",
       "1         0             1       0  ...              0            1        3   \n",
       "2         0             0       1  ...              1            1        5   \n",
       "3         0             1       1  ...              1            0        2   \n",
       "4         0             1       1  ...              1            0        2   \n",
       "\n",
       "   MentHlth  PhysHlth  DiffWalk  Sex  Age  Education  Income  \n",
       "0        18        15         1    0    9          4       3  \n",
       "1         0         0         0    0    7          6       1  \n",
       "2        30        30         1    0    9          4       8  \n",
       "3         0         0         0    0   11          3       6  \n",
       "4         3         0         0    0   11          5       4  \n",
       "\n",
       "[5 rows x 22 columns]"
      ]
     },
     "execution_count": 5,
     "metadata": {},
     "output_type": "execute_result"
    }
   ],
   "source": [
    "df.head()"
   ]
  },
  {
   "cell_type": "code",
   "execution_count": 6,
   "id": "38d258d0-1f45-42bf-a2d5-d8fc689da766",
   "metadata": {
    "execution": {
     "iopub.execute_input": "2022-09-23T14:41:04.646767Z",
     "iopub.status.busy": "2022-09-23T14:41:04.646321Z",
     "iopub.status.idle": "2022-09-23T14:41:04.702652Z",
     "shell.execute_reply": "2022-09-23T14:41:04.702348Z",
     "shell.execute_reply.started": "2022-09-23T14:41:04.646740Z"
    },
    "tags": []
   },
   "outputs": [
    {
     "data": {
      "text/html": [
       "<div>\n",
       "<style scoped>\n",
       "    .dataframe tbody tr th:only-of-type {\n",
       "        vertical-align: middle;\n",
       "    }\n",
       "\n",
       "    .dataframe tbody tr th {\n",
       "        vertical-align: top;\n",
       "    }\n",
       "\n",
       "    .dataframe thead th {\n",
       "        text-align: right;\n",
       "    }\n",
       "</style>\n",
       "<table border=\"1\" class=\"dataframe\">\n",
       "  <thead>\n",
       "    <tr style=\"text-align: right;\">\n",
       "      <th></th>\n",
       "      <th>HeartDiseaseorAttack</th>\n",
       "      <th>HighBP</th>\n",
       "      <th>HighChol</th>\n",
       "      <th>CholCheck</th>\n",
       "      <th>BMI</th>\n",
       "      <th>Smoker</th>\n",
       "      <th>Stroke</th>\n",
       "      <th>Diabetes</th>\n",
       "      <th>PhysActivity</th>\n",
       "      <th>Fruits</th>\n",
       "      <th>...</th>\n",
       "      <th>AnyHealthcare</th>\n",
       "      <th>NoDocbcCost</th>\n",
       "      <th>GenHlth</th>\n",
       "      <th>MentHlth</th>\n",
       "      <th>PhysHlth</th>\n",
       "      <th>DiffWalk</th>\n",
       "      <th>Sex</th>\n",
       "      <th>Age</th>\n",
       "      <th>Education</th>\n",
       "      <th>Income</th>\n",
       "    </tr>\n",
       "  </thead>\n",
       "  <tbody>\n",
       "    <tr>\n",
       "      <th>227119</th>\n",
       "      <td>0</td>\n",
       "      <td>0</td>\n",
       "      <td>1</td>\n",
       "      <td>1</td>\n",
       "      <td>24.0</td>\n",
       "      <td>1</td>\n",
       "      <td>0</td>\n",
       "      <td>0</td>\n",
       "      <td>1</td>\n",
       "      <td>0</td>\n",
       "      <td>...</td>\n",
       "      <td>1</td>\n",
       "      <td>0</td>\n",
       "      <td>3</td>\n",
       "      <td>0</td>\n",
       "      <td>5</td>\n",
       "      <td>1</td>\n",
       "      <td>1</td>\n",
       "      <td>7</td>\n",
       "      <td>5</td>\n",
       "      <td>7</td>\n",
       "    </tr>\n",
       "    <tr>\n",
       "      <th>226710</th>\n",
       "      <td>0</td>\n",
       "      <td>1</td>\n",
       "      <td>1</td>\n",
       "      <td>1</td>\n",
       "      <td>29.0</td>\n",
       "      <td>1</td>\n",
       "      <td>0</td>\n",
       "      <td>0</td>\n",
       "      <td>0</td>\n",
       "      <td>0</td>\n",
       "      <td>...</td>\n",
       "      <td>1</td>\n",
       "      <td>0</td>\n",
       "      <td>2</td>\n",
       "      <td>15</td>\n",
       "      <td>5</td>\n",
       "      <td>1</td>\n",
       "      <td>0</td>\n",
       "      <td>13</td>\n",
       "      <td>4</td>\n",
       "      <td>5</td>\n",
       "    </tr>\n",
       "    <tr>\n",
       "      <th>8101</th>\n",
       "      <td>0</td>\n",
       "      <td>0</td>\n",
       "      <td>0</td>\n",
       "      <td>0</td>\n",
       "      <td>23.0</td>\n",
       "      <td>0</td>\n",
       "      <td>0</td>\n",
       "      <td>0</td>\n",
       "      <td>0</td>\n",
       "      <td>1</td>\n",
       "      <td>...</td>\n",
       "      <td>1</td>\n",
       "      <td>0</td>\n",
       "      <td>2</td>\n",
       "      <td>0</td>\n",
       "      <td>30</td>\n",
       "      <td>0</td>\n",
       "      <td>0</td>\n",
       "      <td>10</td>\n",
       "      <td>6</td>\n",
       "      <td>8</td>\n",
       "    </tr>\n",
       "    <tr>\n",
       "      <th>33537</th>\n",
       "      <td>0</td>\n",
       "      <td>1</td>\n",
       "      <td>1</td>\n",
       "      <td>1</td>\n",
       "      <td>47.0</td>\n",
       "      <td>1</td>\n",
       "      <td>0</td>\n",
       "      <td>2</td>\n",
       "      <td>0</td>\n",
       "      <td>0</td>\n",
       "      <td>...</td>\n",
       "      <td>1</td>\n",
       "      <td>1</td>\n",
       "      <td>3</td>\n",
       "      <td>15</td>\n",
       "      <td>3</td>\n",
       "      <td>1</td>\n",
       "      <td>0</td>\n",
       "      <td>9</td>\n",
       "      <td>4</td>\n",
       "      <td>2</td>\n",
       "    </tr>\n",
       "    <tr>\n",
       "      <th>5476</th>\n",
       "      <td>0</td>\n",
       "      <td>0</td>\n",
       "      <td>0</td>\n",
       "      <td>1</td>\n",
       "      <td>26.0</td>\n",
       "      <td>0</td>\n",
       "      <td>0</td>\n",
       "      <td>0</td>\n",
       "      <td>1</td>\n",
       "      <td>1</td>\n",
       "      <td>...</td>\n",
       "      <td>0</td>\n",
       "      <td>0</td>\n",
       "      <td>1</td>\n",
       "      <td>0</td>\n",
       "      <td>0</td>\n",
       "      <td>0</td>\n",
       "      <td>1</td>\n",
       "      <td>6</td>\n",
       "      <td>6</td>\n",
       "      <td>6</td>\n",
       "    </tr>\n",
       "    <tr>\n",
       "      <th>...</th>\n",
       "      <td>...</td>\n",
       "      <td>...</td>\n",
       "      <td>...</td>\n",
       "      <td>...</td>\n",
       "      <td>...</td>\n",
       "      <td>...</td>\n",
       "      <td>...</td>\n",
       "      <td>...</td>\n",
       "      <td>...</td>\n",
       "      <td>...</td>\n",
       "      <td>...</td>\n",
       "      <td>...</td>\n",
       "      <td>...</td>\n",
       "      <td>...</td>\n",
       "      <td>...</td>\n",
       "      <td>...</td>\n",
       "      <td>...</td>\n",
       "      <td>...</td>\n",
       "      <td>...</td>\n",
       "      <td>...</td>\n",
       "      <td>...</td>\n",
       "    </tr>\n",
       "    <tr>\n",
       "      <th>253668</th>\n",
       "      <td>1</td>\n",
       "      <td>0</td>\n",
       "      <td>1</td>\n",
       "      <td>1</td>\n",
       "      <td>29.0</td>\n",
       "      <td>1</td>\n",
       "      <td>0</td>\n",
       "      <td>2</td>\n",
       "      <td>0</td>\n",
       "      <td>1</td>\n",
       "      <td>...</td>\n",
       "      <td>1</td>\n",
       "      <td>0</td>\n",
       "      <td>2</td>\n",
       "      <td>0</td>\n",
       "      <td>0</td>\n",
       "      <td>1</td>\n",
       "      <td>1</td>\n",
       "      <td>10</td>\n",
       "      <td>3</td>\n",
       "      <td>6</td>\n",
       "    </tr>\n",
       "    <tr>\n",
       "      <th>253670</th>\n",
       "      <td>1</td>\n",
       "      <td>1</td>\n",
       "      <td>1</td>\n",
       "      <td>1</td>\n",
       "      <td>25.0</td>\n",
       "      <td>0</td>\n",
       "      <td>0</td>\n",
       "      <td>2</td>\n",
       "      <td>0</td>\n",
       "      <td>1</td>\n",
       "      <td>...</td>\n",
       "      <td>1</td>\n",
       "      <td>0</td>\n",
       "      <td>5</td>\n",
       "      <td>15</td>\n",
       "      <td>0</td>\n",
       "      <td>1</td>\n",
       "      <td>0</td>\n",
       "      <td>13</td>\n",
       "      <td>6</td>\n",
       "      <td>4</td>\n",
       "    </tr>\n",
       "    <tr>\n",
       "      <th>253671</th>\n",
       "      <td>1</td>\n",
       "      <td>1</td>\n",
       "      <td>1</td>\n",
       "      <td>1</td>\n",
       "      <td>23.0</td>\n",
       "      <td>0</td>\n",
       "      <td>1</td>\n",
       "      <td>0</td>\n",
       "      <td>0</td>\n",
       "      <td>0</td>\n",
       "      <td>...</td>\n",
       "      <td>1</td>\n",
       "      <td>1</td>\n",
       "      <td>4</td>\n",
       "      <td>0</td>\n",
       "      <td>5</td>\n",
       "      <td>0</td>\n",
       "      <td>1</td>\n",
       "      <td>8</td>\n",
       "      <td>3</td>\n",
       "      <td>2</td>\n",
       "    </tr>\n",
       "    <tr>\n",
       "      <th>253672</th>\n",
       "      <td>1</td>\n",
       "      <td>1</td>\n",
       "      <td>0</td>\n",
       "      <td>1</td>\n",
       "      <td>30.0</td>\n",
       "      <td>1</td>\n",
       "      <td>0</td>\n",
       "      <td>0</td>\n",
       "      <td>1</td>\n",
       "      <td>1</td>\n",
       "      <td>...</td>\n",
       "      <td>1</td>\n",
       "      <td>0</td>\n",
       "      <td>3</td>\n",
       "      <td>0</td>\n",
       "      <td>0</td>\n",
       "      <td>0</td>\n",
       "      <td>1</td>\n",
       "      <td>12</td>\n",
       "      <td>2</td>\n",
       "      <td>1</td>\n",
       "    </tr>\n",
       "    <tr>\n",
       "      <th>253679</th>\n",
       "      <td>1</td>\n",
       "      <td>1</td>\n",
       "      <td>1</td>\n",
       "      <td>1</td>\n",
       "      <td>25.0</td>\n",
       "      <td>0</td>\n",
       "      <td>0</td>\n",
       "      <td>2</td>\n",
       "      <td>1</td>\n",
       "      <td>1</td>\n",
       "      <td>...</td>\n",
       "      <td>1</td>\n",
       "      <td>0</td>\n",
       "      <td>2</td>\n",
       "      <td>0</td>\n",
       "      <td>0</td>\n",
       "      <td>0</td>\n",
       "      <td>0</td>\n",
       "      <td>9</td>\n",
       "      <td>6</td>\n",
       "      <td>2</td>\n",
       "    </tr>\n",
       "  </tbody>\n",
       "</table>\n",
       "<p>47786 rows × 22 columns</p>\n",
       "</div>"
      ],
      "text/plain": [
       "        HeartDiseaseorAttack  HighBP  HighChol  CholCheck   BMI  Smoker  \\\n",
       "227119                     0       0         1          1  24.0       1   \n",
       "226710                     0       1         1          1  29.0       1   \n",
       "8101                       0       0         0          0  23.0       0   \n",
       "33537                      0       1         1          1  47.0       1   \n",
       "5476                       0       0         0          1  26.0       0   \n",
       "...                      ...     ...       ...        ...   ...     ...   \n",
       "253668                     1       0         1          1  29.0       1   \n",
       "253670                     1       1         1          1  25.0       0   \n",
       "253671                     1       1         1          1  23.0       0   \n",
       "253672                     1       1         0          1  30.0       1   \n",
       "253679                     1       1         1          1  25.0       0   \n",
       "\n",
       "        Stroke  Diabetes  PhysActivity  Fruits  ...  AnyHealthcare  \\\n",
       "227119       0         0             1       0  ...              1   \n",
       "226710       0         0             0       0  ...              1   \n",
       "8101         0         0             0       1  ...              1   \n",
       "33537        0         2             0       0  ...              1   \n",
       "5476         0         0             1       1  ...              0   \n",
       "...        ...       ...           ...     ...  ...            ...   \n",
       "253668       0         2             0       1  ...              1   \n",
       "253670       0         2             0       1  ...              1   \n",
       "253671       1         0             0       0  ...              1   \n",
       "253672       0         0             1       1  ...              1   \n",
       "253679       0         2             1       1  ...              1   \n",
       "\n",
       "        NoDocbcCost  GenHlth  MentHlth  PhysHlth  DiffWalk  Sex  Age  \\\n",
       "227119            0        3         0         5         1    1    7   \n",
       "226710            0        2        15         5         1    0   13   \n",
       "8101              0        2         0        30         0    0   10   \n",
       "33537             1        3        15         3         1    0    9   \n",
       "5476              0        1         0         0         0    1    6   \n",
       "...             ...      ...       ...       ...       ...  ...  ...   \n",
       "253668            0        2         0         0         1    1   10   \n",
       "253670            0        5        15         0         1    0   13   \n",
       "253671            1        4         0         5         0    1    8   \n",
       "253672            0        3         0         0         0    1   12   \n",
       "253679            0        2         0         0         0    0    9   \n",
       "\n",
       "        Education  Income  \n",
       "227119          5       7  \n",
       "226710          4       5  \n",
       "8101            6       8  \n",
       "33537           4       2  \n",
       "5476            6       6  \n",
       "...           ...     ...  \n",
       "253668          3       6  \n",
       "253670          6       4  \n",
       "253671          3       2  \n",
       "253672          2       1  \n",
       "253679          6       2  \n",
       "\n",
       "[47786 rows x 22 columns]"
      ]
     },
     "execution_count": 6,
     "metadata": {},
     "output_type": "execute_result"
    }
   ],
   "source": [
    "df_non_heart = df[df.HeartDiseaseorAttack==0]\n",
    "df_non_heart = df_non_heart.sample(int(df.HeartDiseaseorAttack.value_counts()[1]))\n",
    "df_non_heart\n",
    "df_heart = df[df.HeartDiseaseorAttack==1]\n",
    "df_small = pd.concat([df_non_heart, df_heart])\n",
    "df_small"
   ]
  },
  {
   "cell_type": "code",
   "execution_count": 7,
   "id": "caf33a97-e1b5-4eba-b065-5260bf252e28",
   "metadata": {
    "execution": {
     "iopub.execute_input": "2022-09-23T14:41:13.482593Z",
     "iopub.status.busy": "2022-09-23T14:41:13.482230Z",
     "iopub.status.idle": "2022-09-23T14:41:13.515069Z",
     "shell.execute_reply": "2022-09-23T14:41:13.514697Z",
     "shell.execute_reply.started": "2022-09-23T14:41:13.482570Z"
    },
    "tags": []
   },
   "outputs": [],
   "source": [
    "X = df_small.drop(columns='HeartDiseaseorAttack')\n",
    "y = df_small.HeartDiseaseorAttack\n",
    "\n",
    "X_train, X_test, y_train, y_test = train_test_split(X, y, random_state=1, stratify=y)"
   ]
  },
  {
   "cell_type": "code",
   "execution_count": 8,
   "id": "27fbc417-e401-498f-a637-147b4c5720ff",
   "metadata": {
    "execution": {
     "iopub.execute_input": "2022-09-23T14:41:17.051040Z",
     "iopub.status.busy": "2022-09-23T14:41:17.050684Z",
     "iopub.status.idle": "2022-09-23T14:41:17.059603Z",
     "shell.execute_reply": "2022-09-23T14:41:17.058669Z",
     "shell.execute_reply.started": "2022-09-23T14:41:17.051018Z"
    },
    "tags": []
   },
   "outputs": [
    {
     "name": "stdout",
     "output_type": "stream",
     "text": [
      "HeartDiseaseorAttack      int64\n",
      "HighBP                    int64\n",
      "HighChol                  int64\n",
      "CholCheck                 int64\n",
      "BMI                     float64\n",
      "Smoker                    int64\n",
      "Stroke                    int64\n",
      "Diabetes                  int64\n",
      "PhysActivity              int64\n",
      "Fruits                    int64\n",
      "Veggies                   int64\n",
      "HvyAlcoholConsump         int64\n",
      "AnyHealthcare             int64\n",
      "NoDocbcCost               int64\n",
      "GenHlth                   int64\n",
      "MentHlth                  int64\n",
      "PhysHlth                  int64\n",
      "DiffWalk                  int64\n",
      "Sex                       int64\n",
      "Age                       int64\n",
      "Education                 int64\n",
      "Income                    int64\n",
      "dtype: object\n"
     ]
    },
    {
     "data": {
      "text/plain": [
       "(253680, 22)"
      ]
     },
     "execution_count": 8,
     "metadata": {},
     "output_type": "execute_result"
    }
   ],
   "source": [
    "print(df.dtypes)\n",
    "df.shape"
   ]
  },
  {
   "cell_type": "code",
   "execution_count": 9,
   "id": "cd73e97d-c2b9-4117-b33d-07b67d7e7b4f",
   "metadata": {
    "execution": {
     "iopub.execute_input": "2022-09-23T14:41:19.656168Z",
     "iopub.status.busy": "2022-09-23T14:41:19.655763Z",
     "iopub.status.idle": "2022-09-23T14:41:19.680273Z",
     "shell.execute_reply": "2022-09-23T14:41:19.679934Z",
     "shell.execute_reply.started": "2022-09-23T14:41:19.656142Z"
    },
    "tags": []
   },
   "outputs": [],
   "source": [
    "ss = StandardScaler()\n",
    "\n",
    "X_train = ss.fit_transform(X_train)\n",
    "X_test = ss.transform(X_test)"
   ]
  },
  {
   "cell_type": "code",
   "execution_count": 18,
   "id": "5f781edf-b435-46ee-841f-6e00426f81d2",
   "metadata": {
    "execution": {
     "iopub.execute_input": "2022-09-23T14:44:06.821658Z",
     "iopub.status.busy": "2022-09-23T14:44:06.821261Z",
     "iopub.status.idle": "2022-09-23T14:44:06.858201Z",
     "shell.execute_reply": "2022-09-23T14:44:06.857192Z",
     "shell.execute_reply.started": "2022-09-23T14:44:06.821631Z"
    },
    "tags": []
   },
   "outputs": [],
   "source": [
    "from tensorflow.keras.regularizers import l2\n",
    "from tensorflow.keras.layers import Dropout\n",
    "\n",
    "model = Sequential()\n",
    "\n",
    "model.add(Dense(21, input_dim=X_train.shape[1], activation='relu', kernel_regularizer=l2(0.001)))\n",
    "\n",
    "model.add(Dense(9, activation='relu', kernel_regularizer=l2(0.001)))\n",
    "model.add(Dropout(.2))\n",
    "\n",
    "#model.add(Dense(3, activation='relu', kernel_regularizer=l2(0.001)))\n",
    "#model.add(Dropout(.25))\n",
    "\n",
    "model.add(Dense(1, activation='sigmoid'))"
   ]
  },
  {
   "cell_type": "code",
   "execution_count": 19,
   "id": "736a4b2c-0386-47eb-944a-e294570dd156",
   "metadata": {
    "execution": {
     "iopub.execute_input": "2022-09-23T14:44:16.967897Z",
     "iopub.status.busy": "2022-09-23T14:44:16.967469Z",
     "iopub.status.idle": "2022-09-23T14:44:16.981715Z",
     "shell.execute_reply": "2022-09-23T14:44:16.980822Z",
     "shell.execute_reply.started": "2022-09-23T14:44:16.967873Z"
    },
    "tags": []
   },
   "outputs": [],
   "source": [
    "model.compile(optimizer='adam',\n",
    "              loss='binary_crossentropy',\n",
    "              metrics='accuracy')"
   ]
  },
  {
   "cell_type": "code",
   "execution_count": 20,
   "id": "7b16312e-89f5-4824-97ec-b6daa75afe60",
   "metadata": {
    "execution": {
     "iopub.execute_input": "2022-09-23T14:44:17.748101Z",
     "iopub.status.busy": "2022-09-23T14:44:17.747694Z",
     "iopub.status.idle": "2022-09-23T14:45:22.379250Z",
     "shell.execute_reply": "2022-09-23T14:45:22.378965Z",
     "shell.execute_reply.started": "2022-09-23T14:44:17.748055Z"
    },
    "tags": []
   },
   "outputs": [
    {
     "name": "stdout",
     "output_type": "stream",
     "text": [
      "Epoch 1/5\n",
      "   6/1120 [..............................] - ETA: 12s - loss: 0.7650 - accuracy: 0.5000 "
     ]
    },
    {
     "name": "stderr",
     "output_type": "stream",
     "text": [
      "2022-09-23 07:44:17.968413: I tensorflow/core/grappler/optimizers/custom_graph_optimizer_registry.cc:114] Plugin optimizer for device_type GPU is enabled.\n"
     ]
    },
    {
     "name": "stdout",
     "output_type": "stream",
     "text": [
      "1120/1120 [==============================] - ETA: 0s - loss: 0.5481 - accuracy: 0.7458"
     ]
    },
    {
     "name": "stderr",
     "output_type": "stream",
     "text": [
      "2022-09-23 07:44:28.742941: I tensorflow/core/grappler/optimizers/custom_graph_optimizer_registry.cc:114] Plugin optimizer for device_type GPU is enabled.\n"
     ]
    },
    {
     "name": "stdout",
     "output_type": "stream",
     "text": [
      "1120/1120 [==============================] - 13s 11ms/step - loss: 0.5481 - accuracy: 0.7458 - val_loss: 0.5063 - val_accuracy: 0.7664\n",
      "Epoch 2/5\n",
      "1120/1120 [==============================] - 13s 11ms/step - loss: 0.5094 - accuracy: 0.7730 - val_loss: 0.4984 - val_accuracy: 0.7681\n",
      "Epoch 3/5\n",
      "1120/1120 [==============================] - 13s 11ms/step - loss: 0.5017 - accuracy: 0.7749 - val_loss: 0.4937 - val_accuracy: 0.7687\n",
      "Epoch 4/5\n",
      "1120/1120 [==============================] - 13s 11ms/step - loss: 0.4974 - accuracy: 0.7750 - val_loss: 0.4911 - val_accuracy: 0.7691\n",
      "Epoch 5/5\n",
      "1120/1120 [==============================] - 14s 12ms/step - loss: 0.4945 - accuracy: 0.7745 - val_loss: 0.4889 - val_accuracy: 0.7701\n"
     ]
    }
   ],
   "source": [
    "history = model.fit(\n",
    "    X_train, y_train,\n",
    "    validation_data=(X_test, y_test),\n",
    "    epochs=5,\n",
    "    verbose=1\n",
    ")"
   ]
  },
  {
   "cell_type": "code",
   "execution_count": 78,
   "id": "26326e0a-05c8-4a8d-af65-3a9b1b5ebe37",
   "metadata": {
    "execution": {
     "iopub.execute_input": "2022-09-23T01:52:37.726226Z",
     "iopub.status.busy": "2022-09-23T01:52:37.725867Z",
     "iopub.status.idle": "2022-09-23T01:52:37.731425Z",
     "shell.execute_reply": "2022-09-23T01:52:37.730558Z",
     "shell.execute_reply.started": "2022-09-23T01:52:37.726202Z"
    },
    "tags": []
   },
   "outputs": [
    {
     "data": {
      "text/plain": [
       "keras.callbacks.History"
      ]
     },
     "execution_count": 78,
     "metadata": {},
     "output_type": "execute_result"
    }
   ],
   "source": [
    "#type(history)"
   ]
  },
  {
   "cell_type": "code",
   "execution_count": 21,
   "id": "4be5e2fe-73f3-4145-a3ff-42d7e5dee6ad",
   "metadata": {
    "execution": {
     "iopub.execute_input": "2022-09-23T14:45:30.034992Z",
     "iopub.status.busy": "2022-09-23T14:45:30.034353Z",
     "iopub.status.idle": "2022-09-23T14:45:30.292094Z",
     "shell.execute_reply": "2022-09-23T14:45:30.291309Z",
     "shell.execute_reply.started": "2022-09-23T14:45:30.034966Z"
    },
    "tags": []
   },
   "outputs": [
    {
     "data": {
      "image/png": "[encoded data removed]",
      "text/plain": [
       "<Figure size 640x480 with 1 Axes>"
      ]
     },
     "metadata": {},
     "output_type": "display_data"
    }
   ],
   "source": [
    "train_loss = history.history['loss']\n",
    "test_loss = history.history['val_loss']\n",
    "\n",
    "plt.plot(train_loss, label='Training Loss', color='navy')\n",
    "plt.plot(test_loss, label='Testing Loss', color='skyblue')\n",
    "plt.legend();"
   ]
  },
  {
   "cell_type": "code",
   "execution_count": 22,
   "id": "978f5e55-43e3-4366-8dfe-6d608f93faa4",
   "metadata": {
    "execution": {
     "iopub.execute_input": "2022-09-23T14:45:37.014000Z",
     "iopub.status.busy": "2022-09-23T14:45:37.013592Z",
     "iopub.status.idle": "2022-09-23T14:45:37.110985Z",
     "shell.execute_reply": "2022-09-23T14:45:37.110564Z",
     "shell.execute_reply.started": "2022-09-23T14:45:37.013976Z"
    },
    "tags": []
   },
   "outputs": [
    {
     "data": {
      "image/png": "[encoded data removed]",
      "text/plain": [
       "<Figure size 640x480 with 1 Axes>"
      ]
     },
     "metadata": {},
     "output_type": "display_data"
    }
   ],
   "source": [
    "train_loss = history.history['accuracy']\n",
    "test_loss = history.history['val_accuracy']\n",
    "\n",
    "plt.plot(train_loss, label='Training accuracy', color='navy')\n",
    "plt.plot(test_loss, label='Testing accuracy', color='skyblue')\n",
    "plt.legend();"
   ]
  },
  {
   "cell_type": "code",
   "execution_count": 23,
   "id": "7443aa55-f18a-4075-9f37-7799cb26109a",
   "metadata": {
    "execution": {
     "iopub.execute_input": "2022-09-23T14:45:45.337578Z",
     "iopub.status.busy": "2022-09-23T14:45:45.336997Z",
     "iopub.status.idle": "2022-09-23T14:45:46.384438Z",
     "shell.execute_reply": "2022-09-23T14:45:46.384110Z",
     "shell.execute_reply.started": "2022-09-23T14:45:45.337551Z"
    },
    "tags": []
   },
   "outputs": [
    {
     "name": "stdout",
     "output_type": "stream",
     "text": [
      " 61/374 [===>..........................] - ETA: 0s"
     ]
    },
    {
     "name": "stderr",
     "output_type": "stream",
     "text": [
      "2022-09-23 07:45:45.409963: I tensorflow/core/grappler/optimizers/custom_graph_optimizer_registry.cc:114] Plugin optimizer for device_type GPU is enabled.\n"
     ]
    },
    {
     "name": "stdout",
     "output_type": "stream",
     "text": [
      "374/374 [==============================] - 1s 2ms/step\n"
     ]
    },
    {
     "data": {
      "text/plain": [
       "array([[0.04666045],\n",
       "       [0.37388828],\n",
       "       [0.62505007],\n",
       "       ...,\n",
       "       [0.8058124 ],\n",
       "       [0.09646003],\n",
       "       [0.3817254 ]], dtype=float32)"
      ]
     },
     "execution_count": 23,
     "metadata": {},
     "output_type": "execute_result"
    }
   ],
   "source": [
    "preds = model.predict(X_test)\n",
    "#y_preds = np.argmax(preds, axis=1)\n",
    "preds"
   ]
  },
  {
   "cell_type": "code",
   "execution_count": 29,
   "id": "26ae0649-53d1-475f-a7bc-cfe4060b3561",
   "metadata": {
    "execution": {
     "iopub.execute_input": "2022-09-23T14:49:36.271935Z",
     "iopub.status.busy": "2022-09-23T14:49:36.271544Z",
     "iopub.status.idle": "2022-09-23T14:49:36.278963Z",
     "shell.execute_reply": "2022-09-23T14:49:36.278185Z",
     "shell.execute_reply.started": "2022-09-23T14:49:36.271910Z"
    },
    "tags": []
   },
   "outputs": [
    {
     "data": {
      "text/plain": [
       "array([0, 0, 0, ..., 0, 0, 0])"
      ]
     },
     "execution_count": 29,
     "metadata": {},
     "output_type": "execute_result"
    }
   ],
   "source": [
    "preds.argmax(axis=1)"
   ]
  },
  {
   "cell_type": "code",
   "execution_count": null,
   "id": "6c150f57-fc17-4c3b-93e3-beb5952272e5",
   "metadata": {},
   "outputs": [],
   "source": []
  },
  {
   "cell_type": "code",
   "execution_count": null,
   "id": "460ae946-3f54-4784-a84b-3efa78d774d3",
   "metadata": {},
   "outputs": [],
   "source": []
  },
  {
   "cell_type": "code",
   "execution_count": 24,
   "id": "e8040753-8441-432d-99b5-b25c61bf3330",
   "metadata": {
    "execution": {
     "iopub.execute_input": "2022-09-23T14:45:50.649641Z",
     "iopub.status.busy": "2022-09-23T14:45:50.648919Z",
     "iopub.status.idle": "2022-09-23T14:45:53.520489Z",
     "shell.execute_reply": "2022-09-23T14:45:53.520102Z",
     "shell.execute_reply.started": "2022-09-23T14:45:50.649597Z"
    },
    "tags": []
   },
   "outputs": [
    {
     "name": "stdout",
     "output_type": "stream",
     "text": [
      "374/374 [==============================] - 3s 8ms/step - loss: 0.4889 - accuracy: 0.7701\n"
     ]
    }
   ],
   "source": [
    "model_score = model.evaluate(X_test, y_test)"
   ]
  },
  {
   "cell_type": "code",
   "execution_count": 25,
   "id": "eae9ff7a-e007-4b1c-8f2c-b83728c23321",
   "metadata": {
    "execution": {
     "iopub.execute_input": "2022-09-23T14:45:58.702159Z",
     "iopub.status.busy": "2022-09-23T14:45:58.701783Z",
     "iopub.status.idle": "2022-09-23T14:45:58.707443Z",
     "shell.execute_reply": "2022-09-23T14:45:58.706638Z",
     "shell.execute_reply.started": "2022-09-23T14:45:58.702136Z"
    },
    "tags": []
   },
   "outputs": [
    {
     "data": {
      "text/plain": [
       "0.7700678110122681"
      ]
     },
     "execution_count": 25,
     "metadata": {},
     "output_type": "execute_result"
    }
   ],
   "source": [
    "model_score[1]"
   ]
  },
  {
   "cell_type": "code",
   "execution_count": 44,
   "id": "cbae1071-eaa4-4383-bbb6-ee2ade3cce12",
   "metadata": {
    "execution": {
     "iopub.execute_input": "2022-09-23T15:04:12.800779Z",
     "iopub.status.busy": "2022-09-23T15:04:12.800589Z",
     "iopub.status.idle": "2022-09-23T15:04:12.805594Z",
     "shell.execute_reply": "2022-09-23T15:04:12.805192Z",
     "shell.execute_reply.started": "2022-09-23T15:04:12.800768Z"
    },
    "tags": []
   },
   "outputs": [
    {
     "data": {
      "text/plain": [
       "((11947,), (11947, 1))"
      ]
     },
     "execution_count": 44,
     "metadata": {},
     "output_type": "execute_result"
    }
   ],
   "source": [
    "y_test.shape, preds.shape"
   ]
  },
  {
   "cell_type": "code",
   "execution_count": 46,
   "id": "b969d0b6-d49a-4cc5-9337-ae2b95de8497",
   "metadata": {
    "execution": {
     "iopub.execute_input": "2022-09-23T15:04:58.218361Z",
     "iopub.status.busy": "2022-09-23T15:04:58.217976Z",
     "iopub.status.idle": "2022-09-23T15:04:58.360531Z",
     "shell.execute_reply": "2022-09-23T15:04:58.359946Z",
     "shell.execute_reply.started": "2022-09-23T15:04:58.218335Z"
    },
    "tags": []
   },
   "outputs": [
    {
     "ename": "ValueError",
     "evalue": "cannot reshape array of size 142730809 into shape (11947,)",
     "output_type": "error",
     "traceback": [
      "\u001b[0;31m---------------------------------------------------------------------------\u001b[0m",
      "\u001b[0;31mValueError\u001b[0m                                Traceback (most recent call last)",
      "Cell \u001b[0;32mIn [46], line 1\u001b[0m\n\u001b[0;32m----> 1\u001b[0m \u001b[38;5;28msum\u001b[39m(\u001b[43m(\u001b[49m\u001b[43my_test\u001b[49m\u001b[43m \u001b[49m\u001b[38;5;241;43m==\u001b[39;49m\u001b[43m \u001b[49m\u001b[38;5;241;43m1\u001b[39;49m\u001b[43m)\u001b[49m\u001b[43m \u001b[49m\u001b[38;5;241;43m&\u001b[39;49m\u001b[43m \u001b[49m\u001b[43m(\u001b[49m\u001b[43mpredict_nn\u001b[49m\u001b[43m \u001b[49m\u001b[38;5;241;43m==\u001b[39;49m\u001b[43m \u001b[49m\u001b[38;5;241;43m1\u001b[39;49m\u001b[43m)\u001b[49m)\n",
      "File \u001b[0;32m~/.pyenv/versions/miniforge3/envs/dsi-a/lib/python3.10/site-packages/pandas/core/ops/common.py:72\u001b[0m, in \u001b[0;36m_unpack_zerodim_and_defer.<locals>.new_method\u001b[0;34m(self, other)\u001b[0m\n\u001b[1;32m     68\u001b[0m             \u001b[38;5;28;01mreturn\u001b[39;00m \u001b[38;5;28mNotImplemented\u001b[39m\n\u001b[1;32m     70\u001b[0m other \u001b[38;5;241m=\u001b[39m item_from_zerodim(other)\n\u001b[0;32m---> 72\u001b[0m \u001b[38;5;28;01mreturn\u001b[39;00m \u001b[43mmethod\u001b[49m\u001b[43m(\u001b[49m\u001b[38;5;28;43mself\u001b[39;49m\u001b[43m,\u001b[49m\u001b[43m \u001b[49m\u001b[43mother\u001b[49m\u001b[43m)\u001b[49m\n",
      "File \u001b[0;32m~/.pyenv/versions/miniforge3/envs/dsi-a/lib/python3.10/site-packages/pandas/core/arraylike.py:73\u001b[0m, in \u001b[0;36mOpsMixin.__and__\u001b[0;34m(self, other)\u001b[0m\n\u001b[1;32m     71\u001b[0m \u001b[38;5;129m@unpack_zerodim_and_defer\u001b[39m(\u001b[38;5;124m\"\u001b[39m\u001b[38;5;124m__and__\u001b[39m\u001b[38;5;124m\"\u001b[39m)\n\u001b[1;32m     72\u001b[0m \u001b[38;5;28;01mdef\u001b[39;00m \u001b[38;5;21m__and__\u001b[39m(\u001b[38;5;28mself\u001b[39m, other):\n\u001b[0;32m---> 73\u001b[0m     \u001b[38;5;28;01mreturn\u001b[39;00m \u001b[38;5;28;43mself\u001b[39;49m\u001b[38;5;241;43m.\u001b[39;49m\u001b[43m_logical_method\u001b[49m\u001b[43m(\u001b[49m\u001b[43mother\u001b[49m\u001b[43m,\u001b[49m\u001b[43m \u001b[49m\u001b[43moperator\u001b[49m\u001b[38;5;241;43m.\u001b[39;49m\u001b[43mand_\u001b[49m\u001b[43m)\u001b[49m\n",
      "File \u001b[0;32m~/.pyenv/versions/miniforge3/envs/dsi-a/lib/python3.10/site-packages/pandas/core/series.py:6257\u001b[0m, in \u001b[0;36mSeries._logical_method\u001b[0;34m(self, other, op)\u001b[0m\n\u001b[1;32m   6254\u001b[0m lvalues \u001b[38;5;241m=\u001b[39m \u001b[38;5;28mself\u001b[39m\u001b[38;5;241m.\u001b[39m_values\n\u001b[1;32m   6255\u001b[0m rvalues \u001b[38;5;241m=\u001b[39m extract_array(other, extract_numpy\u001b[38;5;241m=\u001b[39m\u001b[38;5;28;01mTrue\u001b[39;00m, extract_range\u001b[38;5;241m=\u001b[39m\u001b[38;5;28;01mTrue\u001b[39;00m)\n\u001b[0;32m-> 6257\u001b[0m res_values \u001b[38;5;241m=\u001b[39m \u001b[43mops\u001b[49m\u001b[38;5;241;43m.\u001b[39;49m\u001b[43mlogical_op\u001b[49m\u001b[43m(\u001b[49m\u001b[43mlvalues\u001b[49m\u001b[43m,\u001b[49m\u001b[43m \u001b[49m\u001b[43mrvalues\u001b[49m\u001b[43m,\u001b[49m\u001b[43m \u001b[49m\u001b[43mop\u001b[49m\u001b[43m)\u001b[49m\n\u001b[1;32m   6258\u001b[0m \u001b[38;5;28;01mreturn\u001b[39;00m \u001b[38;5;28mself\u001b[39m\u001b[38;5;241m.\u001b[39m_construct_result(res_values, name\u001b[38;5;241m=\u001b[39mres_name)\n",
      "File \u001b[0;32m~/.pyenv/versions/miniforge3/envs/dsi-a/lib/python3.10/site-packages/pandas/core/ops/array_ops.py:395\u001b[0m, in \u001b[0;36mlogical_op\u001b[0;34m(left, right, op)\u001b[0m\n\u001b[1;32m    391\u001b[0m \u001b[38;5;66;03m# For int vs int `^`, `|`, `&` are bitwise operators and return\u001b[39;00m\n\u001b[1;32m    392\u001b[0m \u001b[38;5;66;03m#   integer dtypes.  Otherwise these are boolean ops\u001b[39;00m\n\u001b[1;32m    393\u001b[0m filler \u001b[38;5;241m=\u001b[39m fill_int \u001b[38;5;28;01mif\u001b[39;00m is_self_int_dtype \u001b[38;5;129;01mand\u001b[39;00m is_other_int_dtype \u001b[38;5;28;01melse\u001b[39;00m fill_bool\n\u001b[0;32m--> 395\u001b[0m res_values \u001b[38;5;241m=\u001b[39m \u001b[43mna_logical_op\u001b[49m\u001b[43m(\u001b[49m\u001b[43mlvalues\u001b[49m\u001b[43m,\u001b[49m\u001b[43m \u001b[49m\u001b[43mrvalues\u001b[49m\u001b[43m,\u001b[49m\u001b[43m \u001b[49m\u001b[43mop\u001b[49m\u001b[43m)\u001b[49m\n\u001b[1;32m    396\u001b[0m \u001b[38;5;66;03m# error: Cannot call function of unknown type\u001b[39;00m\n\u001b[1;32m    397\u001b[0m res_values \u001b[38;5;241m=\u001b[39m filler(res_values)  \u001b[38;5;66;03m# type: ignore[operator]\u001b[39;00m\n",
      "File \u001b[0;32m~/.pyenv/versions/miniforge3/envs/dsi-a/lib/python3.10/site-packages/pandas/core/ops/array_ops.py:333\u001b[0m, in \u001b[0;36mna_logical_op\u001b[0;34m(x, y, op)\u001b[0m\n\u001b[1;32m    327\u001b[0m             typ \u001b[38;5;241m=\u001b[39m \u001b[38;5;28mtype\u001b[39m(y)\u001b[38;5;241m.\u001b[39m\u001b[38;5;18m__name__\u001b[39m\n\u001b[1;32m    328\u001b[0m             \u001b[38;5;28;01mraise\u001b[39;00m \u001b[38;5;167;01mTypeError\u001b[39;00m(\n\u001b[1;32m    329\u001b[0m                 \u001b[38;5;124mf\u001b[39m\u001b[38;5;124m\"\u001b[39m\u001b[38;5;124mCannot perform \u001b[39m\u001b[38;5;124m'\u001b[39m\u001b[38;5;132;01m{\u001b[39;00mop\u001b[38;5;241m.\u001b[39m\u001b[38;5;18m__name__\u001b[39m\u001b[38;5;132;01m}\u001b[39;00m\u001b[38;5;124m'\u001b[39m\u001b[38;5;124m with a dtyped [\u001b[39m\u001b[38;5;132;01m{\u001b[39;00mx\u001b[38;5;241m.\u001b[39mdtype\u001b[38;5;132;01m}\u001b[39;00m\u001b[38;5;124m] array \u001b[39m\u001b[38;5;124m\"\u001b[39m\n\u001b[1;32m    330\u001b[0m                 \u001b[38;5;124mf\u001b[39m\u001b[38;5;124m\"\u001b[39m\u001b[38;5;124mand scalar of type [\u001b[39m\u001b[38;5;132;01m{\u001b[39;00mtyp\u001b[38;5;132;01m}\u001b[39;00m\u001b[38;5;124m]\u001b[39m\u001b[38;5;124m\"\u001b[39m\n\u001b[1;32m    331\u001b[0m             ) \u001b[38;5;28;01mfrom\u001b[39;00m \u001b[38;5;21;01merr\u001b[39;00m\n\u001b[0;32m--> 333\u001b[0m \u001b[38;5;28;01mreturn\u001b[39;00m \u001b[43mresult\u001b[49m\u001b[38;5;241;43m.\u001b[39;49m\u001b[43mreshape\u001b[49m\u001b[43m(\u001b[49m\u001b[43mx\u001b[49m\u001b[38;5;241;43m.\u001b[39;49m\u001b[43mshape\u001b[49m\u001b[43m)\u001b[49m\n",
      "\u001b[0;31mValueError\u001b[0m: cannot reshape array of size 142730809 into shape (11947,)"
     ]
    }
   ],
   "source": [
    "sum((y_test == 1) & (predict_nn == 1))"
   ]
  },
  {
   "cell_type": "code",
   "execution_count": 52,
   "id": "cadb584e-337c-4efc-b2e4-05bcc0d6009f",
   "metadata": {
    "execution": {
     "iopub.execute_input": "2022-09-23T15:08:27.484441Z",
     "iopub.status.busy": "2022-09-23T15:08:27.483848Z",
     "iopub.status.idle": "2022-09-23T15:08:27.491377Z",
     "shell.execute_reply": "2022-09-23T15:08:27.490596Z",
     "shell.execute_reply.started": "2022-09-23T15:08:27.484408Z"
    },
    "tags": []
   },
   "outputs": [
    {
     "data": {
      "text/plain": [
       "array([[False],\n",
       "       [False],\n",
       "       [False],\n",
       "       ...,\n",
       "       [ True],\n",
       "       [False],\n",
       "       [False]])"
      ]
     },
     "execution_count": 52,
     "metadata": {},
     "output_type": "execute_result"
    }
   ],
   "source": [
    "(y_test.values == 1).reshape((preds.shape[0],1))"
   ]
  },
  {
   "cell_type": "code",
   "execution_count": 53,
   "id": "e8ecc1eb-0093-4f95-9b1d-62c67e618890",
   "metadata": {
    "execution": {
     "iopub.execute_input": "2022-09-23T15:08:48.115988Z",
     "iopub.status.busy": "2022-09-23T15:08:48.115347Z",
     "iopub.status.idle": "2022-09-23T15:08:48.121407Z",
     "shell.execute_reply": "2022-09-23T15:08:48.120626Z",
     "shell.execute_reply.started": "2022-09-23T15:08:48.115959Z"
    },
    "tags": []
   },
   "outputs": [
    {
     "data": {
      "text/plain": [
       "11947"
      ]
     },
     "execution_count": 53,
     "metadata": {},
     "output_type": "execute_result"
    }
   ],
   "source": [
    "len(y_test)"
   ]
  },
  {
   "cell_type": "code",
   "execution_count": 54,
   "id": "37699d82-a220-4d2f-9290-493c5cdcad10",
   "metadata": {
    "execution": {
     "iopub.execute_input": "2022-09-23T15:09:42.713219Z",
     "iopub.status.busy": "2022-09-23T15:09:42.712812Z",
     "iopub.status.idle": "2022-09-23T15:09:42.826253Z",
     "shell.execute_reply": "2022-09-23T15:09:42.825609Z",
     "shell.execute_reply.started": "2022-09-23T15:09:42.713193Z"
    },
    "tags": []
   },
   "outputs": [
    {
     "name": "stdout",
     "output_type": "stream",
     "text": [
      "True positives:  [0 0 0 ... 0 0 0]\n"
     ]
    },
    {
     "data": {
      "image/png": "[encoded data removed]",
      "text/plain": [
       "<Figure size 640x480 with 2 Axes>"
      ]
     },
     "metadata": {},
     "output_type": "display_data"
    }
   ],
   "source": [
    "#confusion_matrix()\n",
    "\n",
    "ConfusionMatrixDisplay.from_predictions(y_test, preds.round(), display_labels=['No HDA', 'Yes HDA'])\n",
    "plt.title('Sequential Neural Net');\n",
    "\n",
    "predict_nn = preds\n",
    "print('True positives: ', sum((y_test.values == 1).reshape((preds.shape[0],1)) & (predict_nn == 1)))\n",
    "#print('False positives: ', sum((y_test == 0) & (predict_nn == 1)))\n",
    "#print('True negatives: ', sum((y_test == 0) & (predict_nn == 0)))\n",
    "#print('False negatives: ', sum((y_test == 1) & (predict_nn == 0)))"
   ]
  },
  {
   "cell_type": "code",
   "execution_count": null,
   "id": "3f907f0e-c754-422a-a652-a715018b689a",
   "metadata": {},
   "outputs": [],
   "source": [
    "y_test.values"
   ]
  },
  {
   "cell_type": "code",
   "execution_count": null,
   "id": "7b7448b3-d28e-4d30-ac46-62fed3b03aad",
   "metadata": {},
   "outputs": [],
   "source": []
  },
  {
   "cell_type": "code",
   "execution_count": 161,
   "id": "2bf72f74-f56c-4fdd-abea-2c9f4f6bc3f8",
   "metadata": {
    "execution": {
     "iopub.execute_input": "2022-09-23T03:37:39.262001Z",
     "iopub.status.busy": "2022-09-23T03:37:39.261350Z",
     "iopub.status.idle": "2022-09-23T03:37:39.269606Z",
     "shell.execute_reply": "2022-09-23T03:37:39.268776Z",
     "shell.execute_reply.started": "2022-09-23T03:37:39.261952Z"
    },
    "tags": []
   },
   "outputs": [
    {
     "data": {
      "text/plain": [
       "<bound method Callback.set_params of <keras.callbacks.History object at 0x2dd32bcd0>>"
      ]
     },
     "execution_count": 161,
     "metadata": {},
     "output_type": "execute_result"
    }
   ],
   "source": [
    "model.history.set_params"
   ]
  },
  {
   "cell_type": "code",
   "execution_count": 185,
   "id": "223f268d-e438-47bf-83b2-137da3137a90",
   "metadata": {
    "execution": {
     "iopub.execute_input": "2022-09-23T03:44:44.300230Z",
     "iopub.status.busy": "2022-09-23T03:44:44.299822Z",
     "iopub.status.idle": "2022-09-23T03:44:44.305243Z",
     "shell.execute_reply": "2022-09-23T03:44:44.304573Z",
     "shell.execute_reply.started": "2022-09-23T03:44:44.300201Z"
    },
    "tags": []
   },
   "outputs": [
    {
     "data": {
      "text/plain": [
       "array([0, 0, 1, ..., 0, 0, 0])"
      ]
     },
     "execution_count": 185,
     "metadata": {},
     "output_type": "execute_result"
    }
   ],
   "source": [
    "y_test"
   ]
  },
  {
   "cell_type": "code",
   "execution_count": 186,
   "id": "6fcdc297-3574-4c21-b509-5e43b4f4a040",
   "metadata": {
    "execution": {
     "iopub.execute_input": "2022-09-23T03:44:46.647078Z",
     "iopub.status.busy": "2022-09-23T03:44:46.646590Z",
     "iopub.status.idle": "2022-09-23T03:44:46.653576Z",
     "shell.execute_reply": "2022-09-23T03:44:46.652818Z",
     "shell.execute_reply.started": "2022-09-23T03:44:46.647028Z"
    },
    "tags": []
   },
   "outputs": [
    {
     "data": {
      "text/plain": [
       "array([[0.12571786],\n",
       "       [0.00873829],\n",
       "       [0.3992031 ],\n",
       "       ...,\n",
       "       [0.05665039],\n",
       "       [0.0360911 ],\n",
       "       [0.00611968]], dtype=float32)"
      ]
     },
     "execution_count": 186,
     "metadata": {},
     "output_type": "execute_result"
    }
   ],
   "source": [
    "preds"
   ]
  },
  {
   "cell_type": "code",
   "execution_count": 56,
   "id": "78feac1e-6547-4384-a58a-65c541af12d7",
   "metadata": {
    "execution": {
     "iopub.execute_input": "2022-09-23T15:15:00.250070Z",
     "iopub.status.busy": "2022-09-23T15:15:00.249570Z",
     "iopub.status.idle": "2022-09-23T15:15:00.668186Z",
     "shell.execute_reply": "2022-09-23T15:15:00.667848Z",
     "shell.execute_reply.started": "2022-09-23T15:15:00.250041Z"
    },
    "tags": []
   },
   "outputs": [
    {
     "name": "stdout",
     "output_type": "stream",
     "text": [
      "INFO:tensorflow:Assets written to: ram://7b94a0f8-012f-485a-9871-baa8e7280bdf/assets\n"
     ]
    }
   ],
   "source": [
    "import pickle\n",
    "\n",
    "with open('models/nn_focus.pkl', 'wb') as pickle_out:\n",
    "    pickle.dump(model, pickle_out)"
   ]
  },
  {
   "cell_type": "code",
   "execution_count": null,
   "id": "0c7df2b6-7827-4e83-ac2c-740b7cf3c297",
   "metadata": {},
   "outputs": [],
   "source": []
  }
 ],
 "metadata": {
  "kernelspec": {
   "display_name": "Python 3 (ipykernel)",
   "language": "python",
   "name": "python3"
  },
  "language_info": {
   "codemirror_mode": {
    "name": "ipython",
    "version": 3
   },
   "file_extension": ".py",
   "mimetype": "text/x-python",
   "name": "python",
   "nbconvert_exporter": "python",
   "pygments_lexer": "ipython3",
   "version": "3.10.6"
  }
 },
 "nbformat": 4,
 "nbformat_minor": 5
}
