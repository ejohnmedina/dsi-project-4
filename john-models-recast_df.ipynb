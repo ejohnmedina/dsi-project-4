{
 "cells": [
  {
   "cell_type": "code",
   "execution_count": 2,
   "id": "32b33b6d-2e78-443d-8e29-dae76c5c70b9",
   "metadata": {
    "execution": {
     "iopub.execute_input": "2022-09-22T19:55:51.566441Z",
     "iopub.status.busy": "2022-09-22T19:55:51.566028Z",
     "iopub.status.idle": "2022-09-22T19:55:54.673519Z",
     "shell.execute_reply": "2022-09-22T19:55:54.673222Z",
     "shell.execute_reply.started": "2022-09-22T19:55:51.566414Z"
    },
    "tags": []
   },
   "outputs": [],
   "source": [
    "# adaboost gradientboost clustering\n",
    "\n",
    "import numpy as np\n",
    "import pandas as pd\n",
    "import matplotlib.pyplot as plt\n",
    "\n",
    "from sklearn.model_selection import train_test_split, cross_val_score, GridSearchCV\n",
    "\n",
    "from sklearn.metrics import ConfusionMatrixDisplay\n",
    "\n",
    "from sklearn.pipeline import Pipeline\n",
    "\n",
    "from sklearn.ensemble import AdaBoostClassifier, GradientBoostingClassifier\n",
    "import xgboost as xgb\n",
    "\n",
    "from sklearn.preprocessing import StandardScaler, MinMaxScaler\n",
    "\n",
    "from sklearn.metrics import silhouette_score\n",
    "from sklearn.cluster import KMeans\n",
    "from sklearn.cluster import DBSCAN\n",
    "\n",
    "from tensorflow.keras.models import Sequential\n",
    "from tensorflow.keras.layers import Dense"
   ]
  },
  {
   "cell_type": "code",
   "execution_count": 30,
   "id": "fc489157-4442-41e5-9f9c-d3e104b49aab",
   "metadata": {
    "execution": {
     "iopub.execute_input": "2022-09-22T19:01:22.857475Z",
     "iopub.status.busy": "2022-09-22T19:01:22.856786Z",
     "iopub.status.idle": "2022-09-22T19:01:23.047469Z",
     "shell.execute_reply": "2022-09-22T19:01:23.047159Z",
     "shell.execute_reply.started": "2022-09-22T19:01:22.857427Z"
    },
    "tags": []
   },
   "outputs": [],
   "source": [
    "url = 'data/heart_disease_ind_2015.csv'\n",
    "\n",
    "df = pd.read_csv(url)"
   ]
  },
  {
   "cell_type": "code",
   "execution_count": 31,
   "id": "5130a1a2-356a-4985-8807-6e0149c93312",
   "metadata": {
    "execution": {
     "iopub.execute_input": "2022-09-22T19:01:24.991743Z",
     "iopub.status.busy": "2022-09-22T19:01:24.991325Z",
     "iopub.status.idle": "2022-09-22T19:01:25.017902Z",
     "shell.execute_reply": "2022-09-22T19:01:25.017577Z",
     "shell.execute_reply.started": "2022-09-22T19:01:24.991715Z"
    },
    "tags": []
   },
   "outputs": [
    {
     "data": {
      "text/html": [
       "<div>\n",
       "<style scoped>\n",
       "    .dataframe tbody tr th:only-of-type {\n",
       "        vertical-align: middle;\n",
       "    }\n",
       "\n",
       "    .dataframe tbody tr th {\n",
       "        vertical-align: top;\n",
       "    }\n",
       "\n",
       "    .dataframe thead th {\n",
       "        text-align: right;\n",
       "    }\n",
       "</style>\n",
       "<table border=\"1\" class=\"dataframe\">\n",
       "  <thead>\n",
       "    <tr style=\"text-align: right;\">\n",
       "      <th></th>\n",
       "      <th>HeartDiseaseorAttack</th>\n",
       "      <th>HighBP</th>\n",
       "      <th>HighChol</th>\n",
       "      <th>CholCheck</th>\n",
       "      <th>BMI</th>\n",
       "      <th>Smoker</th>\n",
       "      <th>Stroke</th>\n",
       "      <th>Diabetes</th>\n",
       "      <th>PhysActivity</th>\n",
       "      <th>Fruits</th>\n",
       "      <th>...</th>\n",
       "      <th>AnyHealthcare</th>\n",
       "      <th>NoDocbcCost</th>\n",
       "      <th>GenHlth</th>\n",
       "      <th>MentHlth</th>\n",
       "      <th>PhysHlth</th>\n",
       "      <th>DiffWalk</th>\n",
       "      <th>Sex</th>\n",
       "      <th>Age</th>\n",
       "      <th>Education</th>\n",
       "      <th>Income</th>\n",
       "    </tr>\n",
       "  </thead>\n",
       "  <tbody>\n",
       "    <tr>\n",
       "      <th>0</th>\n",
       "      <td>0.0</td>\n",
       "      <td>1.0</td>\n",
       "      <td>1.0</td>\n",
       "      <td>1.0</td>\n",
       "      <td>40.0</td>\n",
       "      <td>1.0</td>\n",
       "      <td>0.0</td>\n",
       "      <td>0.0</td>\n",
       "      <td>0.0</td>\n",
       "      <td>0.0</td>\n",
       "      <td>...</td>\n",
       "      <td>1.0</td>\n",
       "      <td>0.0</td>\n",
       "      <td>5.0</td>\n",
       "      <td>18.0</td>\n",
       "      <td>15.0</td>\n",
       "      <td>1.0</td>\n",
       "      <td>0.0</td>\n",
       "      <td>9.0</td>\n",
       "      <td>4.0</td>\n",
       "      <td>3.0</td>\n",
       "    </tr>\n",
       "    <tr>\n",
       "      <th>1</th>\n",
       "      <td>0.0</td>\n",
       "      <td>0.0</td>\n",
       "      <td>0.0</td>\n",
       "      <td>0.0</td>\n",
       "      <td>25.0</td>\n",
       "      <td>1.0</td>\n",
       "      <td>0.0</td>\n",
       "      <td>0.0</td>\n",
       "      <td>1.0</td>\n",
       "      <td>0.0</td>\n",
       "      <td>...</td>\n",
       "      <td>0.0</td>\n",
       "      <td>1.0</td>\n",
       "      <td>3.0</td>\n",
       "      <td>0.0</td>\n",
       "      <td>0.0</td>\n",
       "      <td>0.0</td>\n",
       "      <td>0.0</td>\n",
       "      <td>7.0</td>\n",
       "      <td>6.0</td>\n",
       "      <td>1.0</td>\n",
       "    </tr>\n",
       "    <tr>\n",
       "      <th>2</th>\n",
       "      <td>0.0</td>\n",
       "      <td>1.0</td>\n",
       "      <td>1.0</td>\n",
       "      <td>1.0</td>\n",
       "      <td>28.0</td>\n",
       "      <td>0.0</td>\n",
       "      <td>0.0</td>\n",
       "      <td>0.0</td>\n",
       "      <td>0.0</td>\n",
       "      <td>1.0</td>\n",
       "      <td>...</td>\n",
       "      <td>1.0</td>\n",
       "      <td>1.0</td>\n",
       "      <td>5.0</td>\n",
       "      <td>30.0</td>\n",
       "      <td>30.0</td>\n",
       "      <td>1.0</td>\n",
       "      <td>0.0</td>\n",
       "      <td>9.0</td>\n",
       "      <td>4.0</td>\n",
       "      <td>8.0</td>\n",
       "    </tr>\n",
       "    <tr>\n",
       "      <th>3</th>\n",
       "      <td>0.0</td>\n",
       "      <td>1.0</td>\n",
       "      <td>0.0</td>\n",
       "      <td>1.0</td>\n",
       "      <td>27.0</td>\n",
       "      <td>0.0</td>\n",
       "      <td>0.0</td>\n",
       "      <td>0.0</td>\n",
       "      <td>1.0</td>\n",
       "      <td>1.0</td>\n",
       "      <td>...</td>\n",
       "      <td>1.0</td>\n",
       "      <td>0.0</td>\n",
       "      <td>2.0</td>\n",
       "      <td>0.0</td>\n",
       "      <td>0.0</td>\n",
       "      <td>0.0</td>\n",
       "      <td>0.0</td>\n",
       "      <td>11.0</td>\n",
       "      <td>3.0</td>\n",
       "      <td>6.0</td>\n",
       "    </tr>\n",
       "    <tr>\n",
       "      <th>4</th>\n",
       "      <td>0.0</td>\n",
       "      <td>1.0</td>\n",
       "      <td>1.0</td>\n",
       "      <td>1.0</td>\n",
       "      <td>24.0</td>\n",
       "      <td>0.0</td>\n",
       "      <td>0.0</td>\n",
       "      <td>0.0</td>\n",
       "      <td>1.0</td>\n",
       "      <td>1.0</td>\n",
       "      <td>...</td>\n",
       "      <td>1.0</td>\n",
       "      <td>0.0</td>\n",
       "      <td>2.0</td>\n",
       "      <td>3.0</td>\n",
       "      <td>0.0</td>\n",
       "      <td>0.0</td>\n",
       "      <td>0.0</td>\n",
       "      <td>11.0</td>\n",
       "      <td>5.0</td>\n",
       "      <td>4.0</td>\n",
       "    </tr>\n",
       "  </tbody>\n",
       "</table>\n",
       "<p>5 rows × 22 columns</p>\n",
       "</div>"
      ],
      "text/plain": [
       "   HeartDiseaseorAttack  HighBP  HighChol  CholCheck   BMI  Smoker  Stroke  \\\n",
       "0                   0.0     1.0       1.0        1.0  40.0     1.0     0.0   \n",
       "1                   0.0     0.0       0.0        0.0  25.0     1.0     0.0   \n",
       "2                   0.0     1.0       1.0        1.0  28.0     0.0     0.0   \n",
       "3                   0.0     1.0       0.0        1.0  27.0     0.0     0.0   \n",
       "4                   0.0     1.0       1.0        1.0  24.0     0.0     0.0   \n",
       "\n",
       "   Diabetes  PhysActivity  Fruits  ...  AnyHealthcare  NoDocbcCost  GenHlth  \\\n",
       "0       0.0           0.0     0.0  ...            1.0          0.0      5.0   \n",
       "1       0.0           1.0     0.0  ...            0.0          1.0      3.0   \n",
       "2       0.0           0.0     1.0  ...            1.0          1.0      5.0   \n",
       "3       0.0           1.0     1.0  ...            1.0          0.0      2.0   \n",
       "4       0.0           1.0     1.0  ...            1.0          0.0      2.0   \n",
       "\n",
       "   MentHlth  PhysHlth  DiffWalk  Sex   Age  Education  Income  \n",
       "0      18.0      15.0       1.0  0.0   9.0        4.0     3.0  \n",
       "1       0.0       0.0       0.0  0.0   7.0        6.0     1.0  \n",
       "2      30.0      30.0       1.0  0.0   9.0        4.0     8.0  \n",
       "3       0.0       0.0       0.0  0.0  11.0        3.0     6.0  \n",
       "4       3.0       0.0       0.0  0.0  11.0        5.0     4.0  \n",
       "\n",
       "[5 rows x 22 columns]"
      ]
     },
     "execution_count": 31,
     "metadata": {},
     "output_type": "execute_result"
    }
   ],
   "source": [
    "df.head()"
   ]
  },
  {
   "cell_type": "code",
   "execution_count": 32,
   "id": "037e22c0-a73c-41c9-b741-faee1d0f62fe",
   "metadata": {
    "execution": {
     "iopub.execute_input": "2022-09-22T19:01:25.624230Z",
     "iopub.status.busy": "2022-09-22T19:01:25.623814Z",
     "iopub.status.idle": "2022-09-22T19:01:25.708037Z",
     "shell.execute_reply": "2022-09-22T19:01:25.707484Z",
     "shell.execute_reply.started": "2022-09-22T19:01:25.624202Z"
    },
    "tags": []
   },
   "outputs": [
    {
     "data": {
      "text/html": [
       "<div>\n",
       "<style scoped>\n",
       "    .dataframe tbody tr th:only-of-type {\n",
       "        vertical-align: middle;\n",
       "    }\n",
       "\n",
       "    .dataframe tbody tr th {\n",
       "        vertical-align: top;\n",
       "    }\n",
       "\n",
       "    .dataframe thead th {\n",
       "        text-align: right;\n",
       "    }\n",
       "</style>\n",
       "<table border=\"1\" class=\"dataframe\">\n",
       "  <thead>\n",
       "    <tr style=\"text-align: right;\">\n",
       "      <th></th>\n",
       "      <th>HeartDiseaseorAttack</th>\n",
       "      <th>HighBP</th>\n",
       "      <th>HighChol</th>\n",
       "      <th>CholCheck</th>\n",
       "      <th>BMI</th>\n",
       "      <th>Smoker</th>\n",
       "      <th>Stroke</th>\n",
       "      <th>Diabetes</th>\n",
       "      <th>PhysActivity</th>\n",
       "      <th>Fruits</th>\n",
       "      <th>...</th>\n",
       "      <th>AnyHealthcare</th>\n",
       "      <th>NoDocbcCost</th>\n",
       "      <th>GenHlth</th>\n",
       "      <th>MentHlth</th>\n",
       "      <th>PhysHlth</th>\n",
       "      <th>DiffWalk</th>\n",
       "      <th>Sex</th>\n",
       "      <th>Age</th>\n",
       "      <th>Education</th>\n",
       "      <th>Income</th>\n",
       "    </tr>\n",
       "  </thead>\n",
       "  <tbody>\n",
       "    <tr>\n",
       "      <th>0</th>\n",
       "      <td>0</td>\n",
       "      <td>1.0</td>\n",
       "      <td>1.0</td>\n",
       "      <td>1.0</td>\n",
       "      <td>40.0</td>\n",
       "      <td>1.0</td>\n",
       "      <td>0.0</td>\n",
       "      <td>0.0</td>\n",
       "      <td>0.0</td>\n",
       "      <td>0.0</td>\n",
       "      <td>...</td>\n",
       "      <td>1.0</td>\n",
       "      <td>0.0</td>\n",
       "      <td>5.0</td>\n",
       "      <td>18.0</td>\n",
       "      <td>15.0</td>\n",
       "      <td>1.0</td>\n",
       "      <td>0.0</td>\n",
       "      <td>9.0</td>\n",
       "      <td>4.0</td>\n",
       "      <td>3.0</td>\n",
       "    </tr>\n",
       "    <tr>\n",
       "      <th>1</th>\n",
       "      <td>0</td>\n",
       "      <td>0.0</td>\n",
       "      <td>0.0</td>\n",
       "      <td>0.0</td>\n",
       "      <td>25.0</td>\n",
       "      <td>1.0</td>\n",
       "      <td>0.0</td>\n",
       "      <td>0.0</td>\n",
       "      <td>1.0</td>\n",
       "      <td>0.0</td>\n",
       "      <td>...</td>\n",
       "      <td>0.0</td>\n",
       "      <td>1.0</td>\n",
       "      <td>3.0</td>\n",
       "      <td>0.0</td>\n",
       "      <td>0.0</td>\n",
       "      <td>0.0</td>\n",
       "      <td>0.0</td>\n",
       "      <td>7.0</td>\n",
       "      <td>6.0</td>\n",
       "      <td>1.0</td>\n",
       "    </tr>\n",
       "    <tr>\n",
       "      <th>2</th>\n",
       "      <td>0</td>\n",
       "      <td>1.0</td>\n",
       "      <td>1.0</td>\n",
       "      <td>1.0</td>\n",
       "      <td>28.0</td>\n",
       "      <td>0.0</td>\n",
       "      <td>0.0</td>\n",
       "      <td>0.0</td>\n",
       "      <td>0.0</td>\n",
       "      <td>1.0</td>\n",
       "      <td>...</td>\n",
       "      <td>1.0</td>\n",
       "      <td>1.0</td>\n",
       "      <td>5.0</td>\n",
       "      <td>30.0</td>\n",
       "      <td>30.0</td>\n",
       "      <td>1.0</td>\n",
       "      <td>0.0</td>\n",
       "      <td>9.0</td>\n",
       "      <td>4.0</td>\n",
       "      <td>8.0</td>\n",
       "    </tr>\n",
       "    <tr>\n",
       "      <th>3</th>\n",
       "      <td>0</td>\n",
       "      <td>1.0</td>\n",
       "      <td>0.0</td>\n",
       "      <td>1.0</td>\n",
       "      <td>27.0</td>\n",
       "      <td>0.0</td>\n",
       "      <td>0.0</td>\n",
       "      <td>0.0</td>\n",
       "      <td>1.0</td>\n",
       "      <td>1.0</td>\n",
       "      <td>...</td>\n",
       "      <td>1.0</td>\n",
       "      <td>0.0</td>\n",
       "      <td>2.0</td>\n",
       "      <td>0.0</td>\n",
       "      <td>0.0</td>\n",
       "      <td>0.0</td>\n",
       "      <td>0.0</td>\n",
       "      <td>11.0</td>\n",
       "      <td>3.0</td>\n",
       "      <td>6.0</td>\n",
       "    </tr>\n",
       "    <tr>\n",
       "      <th>4</th>\n",
       "      <td>0</td>\n",
       "      <td>1.0</td>\n",
       "      <td>1.0</td>\n",
       "      <td>1.0</td>\n",
       "      <td>24.0</td>\n",
       "      <td>0.0</td>\n",
       "      <td>0.0</td>\n",
       "      <td>0.0</td>\n",
       "      <td>1.0</td>\n",
       "      <td>1.0</td>\n",
       "      <td>...</td>\n",
       "      <td>1.0</td>\n",
       "      <td>0.0</td>\n",
       "      <td>2.0</td>\n",
       "      <td>3.0</td>\n",
       "      <td>0.0</td>\n",
       "      <td>0.0</td>\n",
       "      <td>0.0</td>\n",
       "      <td>11.0</td>\n",
       "      <td>5.0</td>\n",
       "      <td>4.0</td>\n",
       "    </tr>\n",
       "  </tbody>\n",
       "</table>\n",
       "<p>5 rows × 22 columns</p>\n",
       "</div>"
      ],
      "text/plain": [
       "   HeartDiseaseorAttack  HighBP  HighChol  CholCheck   BMI  Smoker  Stroke  \\\n",
       "0                     0     1.0       1.0        1.0  40.0     1.0     0.0   \n",
       "1                     0     0.0       0.0        0.0  25.0     1.0     0.0   \n",
       "2                     0     1.0       1.0        1.0  28.0     0.0     0.0   \n",
       "3                     0     1.0       0.0        1.0  27.0     0.0     0.0   \n",
       "4                     0     1.0       1.0        1.0  24.0     0.0     0.0   \n",
       "\n",
       "   Diabetes  PhysActivity  Fruits  ...  AnyHealthcare  NoDocbcCost  GenHlth  \\\n",
       "0       0.0           0.0     0.0  ...            1.0          0.0      5.0   \n",
       "1       0.0           1.0     0.0  ...            0.0          1.0      3.0   \n",
       "2       0.0           0.0     1.0  ...            1.0          1.0      5.0   \n",
       "3       0.0           1.0     1.0  ...            1.0          0.0      2.0   \n",
       "4       0.0           1.0     1.0  ...            1.0          0.0      2.0   \n",
       "\n",
       "   MentHlth  PhysHlth  DiffWalk  Sex   Age  Education  Income  \n",
       "0      18.0      15.0       1.0  0.0   9.0        4.0     3.0  \n",
       "1       0.0       0.0       0.0  0.0   7.0        6.0     1.0  \n",
       "2      30.0      30.0       1.0  0.0   9.0        4.0     8.0  \n",
       "3       0.0       0.0       0.0  0.0  11.0        3.0     6.0  \n",
       "4       3.0       0.0       0.0  0.0  11.0        5.0     4.0  \n",
       "\n",
       "[5 rows x 22 columns]"
      ]
     },
     "execution_count": 32,
     "metadata": {},
     "output_type": "execute_result"
    }
   ],
   "source": [
    "df.HeartDiseaseorAttack = [int(b) for b in df.HeartDiseaseorAttack]\n",
    "df.head()"
   ]
  },
  {
   "cell_type": "code",
   "execution_count": 33,
   "id": "4552723c-9c65-4ccc-8393-5a39e741fcff",
   "metadata": {
    "execution": {
     "iopub.execute_input": "2022-09-22T19:01:28.483383Z",
     "iopub.status.busy": "2022-09-22T19:01:28.482944Z",
     "iopub.status.idle": "2022-09-22T19:01:28.489182Z",
     "shell.execute_reply": "2022-09-22T19:01:28.488481Z",
     "shell.execute_reply.started": "2022-09-22T19:01:28.483353Z"
    },
    "tags": []
   },
   "outputs": [
    {
     "data": {
      "text/plain": [
       "Index(['HeartDiseaseorAttack', 'HighBP', 'HighChol', 'CholCheck', 'BMI',\n",
       "       'Smoker', 'Stroke', 'Diabetes', 'PhysActivity', 'Fruits', 'Veggies',\n",
       "       'HvyAlcoholConsump', 'AnyHealthcare', 'NoDocbcCost', 'GenHlth',\n",
       "       'MentHlth', 'PhysHlth', 'DiffWalk', 'Sex', 'Age', 'Education',\n",
       "       'Income'],\n",
       "      dtype='object')"
      ]
     },
     "execution_count": 33,
     "metadata": {},
     "output_type": "execute_result"
    }
   ],
   "source": [
    "df.columns"
   ]
  },
  {
   "cell_type": "code",
   "execution_count": 34,
   "id": "4a54b7c7-a208-42a1-a1df-8fcf9ce97b62",
   "metadata": {
    "execution": {
     "iopub.execute_input": "2022-09-22T19:01:30.413299Z",
     "iopub.status.busy": "2022-09-22T19:01:30.412638Z",
     "iopub.status.idle": "2022-09-22T19:01:30.442797Z",
     "shell.execute_reply": "2022-09-22T19:01:30.442392Z",
     "shell.execute_reply.started": "2022-09-22T19:01:30.413253Z"
    },
    "tags": []
   },
   "outputs": [],
   "source": [
    "df = df.astype({'HighBP': 'int', 'HighChol': 'int', 'CholCheck': 'int', 'Smoker': 'int', 'Stroke': 'int', 'Diabetes': 'int', 'PhysActivity': 'int', 'Fruits': 'int', 'Veggies': 'int', 'HvyAlcoholConsump': 'int', 'AnyHealthcare': 'int', 'NoDocbcCost': 'int', 'GenHlth': 'int', 'MentHlth': 'int', 'PhysHlth': 'int', 'DiffWalk': 'int', 'Sex': 'int', 'Age': 'int', 'Education': 'int', 'Income': 'int'})"
   ]
  },
  {
   "cell_type": "code",
   "execution_count": 35,
   "id": "497756aa-d94e-45ab-ad4f-28c65678ac1a",
   "metadata": {
    "execution": {
     "iopub.execute_input": "2022-09-22T19:01:33.621537Z",
     "iopub.status.busy": "2022-09-22T19:01:33.621101Z",
     "iopub.status.idle": "2022-09-22T19:01:34.157850Z",
     "shell.execute_reply": "2022-09-22T19:01:34.157547Z",
     "shell.execute_reply.started": "2022-09-22T19:01:33.621509Z"
    },
    "tags": []
   },
   "outputs": [],
   "source": [
    "df.to_csv('data/hd_2015_recast_int.csv', index=None)"
   ]
  },
  {
   "cell_type": "code",
   "execution_count": 12,
   "id": "f9990f8f-beb3-4070-8bef-7b00dda20dcc",
   "metadata": {
    "execution": {
     "iopub.execute_input": "2022-09-22T18:54:53.431910Z",
     "iopub.status.busy": "2022-09-22T18:54:53.431447Z",
     "iopub.status.idle": "2022-09-22T18:54:53.518808Z",
     "shell.execute_reply": "2022-09-22T18:54:53.518381Z",
     "shell.execute_reply.started": "2022-09-22T18:54:53.431879Z"
    },
    "tags": []
   },
   "outputs": [],
   "source": [
    "X = df.drop(columns='HeartDiseaseorAttack')\n",
    "y = df['HeartDiseaseorAttack']\n",
    "\n",
    "X_train, X_test, y_train, y_test = train_test_split(X, y, random_state=1, stratify=y)"
   ]
  },
  {
   "cell_type": "code",
   "execution_count": 13,
   "id": "74a43578-39f5-470e-aaff-0c4c6ceb96d0",
   "metadata": {
    "execution": {
     "iopub.execute_input": "2022-09-22T18:54:54.680416Z",
     "iopub.status.busy": "2022-09-22T18:54:54.680018Z",
     "iopub.status.idle": "2022-09-22T18:54:54.692293Z",
     "shell.execute_reply": "2022-09-22T18:54:54.691457Z",
     "shell.execute_reply.started": "2022-09-22T18:54:54.680392Z"
    },
    "tags": []
   },
   "outputs": [],
   "source": [
    "pipe_ada = Pipeline([\n",
    "    ('ss', StandardScaler()),\n",
    "    ('abc', AdaBoostClassifier(learning_rate=0.5, n_estimators=50, random_state=1))\n",
    "])\n",
    "\n",
    "pipe_grad = Pipeline([\n",
    "    ('ss', StandardScaler()),\n",
    "    ('gbc', GradientBoostingClassifier(random_state=1))\n",
    "])\n",
    "\n",
    "pipe_km = Pipeline([\n",
    "    ('ss', StandardScaler()),\n",
    "    ('km', KMeans(random_state=1))\n",
    "])\n",
    "\n",
    "pipe_dbs = Pipeline([\n",
    "    ('ss', StandardScaler()),\n",
    "    ('dbs', DBSCAN())\n",
    "])\n",
    "\n",
    "pipe_xgb = Pipeline([\n",
    "    ('ss', StandardScaler()),\n",
    "    ('xgb', xgb.XGBClassifier())\n",
    "])"
   ]
  },
  {
   "cell_type": "code",
   "execution_count": 14,
   "id": "7b7fedcc-fc50-4f65-9306-66343d144839",
   "metadata": {
    "execution": {
     "iopub.execute_input": "2022-09-22T18:54:56.380913Z",
     "iopub.status.busy": "2022-09-22T18:54:56.380528Z",
     "iopub.status.idle": "2022-09-22T18:55:00.157780Z",
     "shell.execute_reply": "2022-09-22T18:55:00.157512Z",
     "shell.execute_reply.started": "2022-09-22T18:54:56.380889Z"
    },
    "tags": []
   },
   "outputs": [
    {
     "data": {
      "text/plain": [
       "(0.9073268159360874, 0.9073793755912961)"
      ]
     },
     "execution_count": 14,
     "metadata": {},
     "output_type": "execute_result"
    }
   ],
   "source": [
    "pipe_ada.fit(X_train, y_train)\n",
    "\n",
    "pipe_ada.score(X_train, y_train), pipe_ada.score(X_test, y_test)"
   ]
  },
  {
   "cell_type": "code",
   "execution_count": 15,
   "id": "91dbdcda-ffe7-4f68-87d9-778efb34d9fe",
   "metadata": {
    "execution": {
     "iopub.execute_input": "2022-09-22T18:55:01.923410Z",
     "iopub.status.busy": "2022-09-22T18:55:01.922982Z",
     "iopub.status.idle": "2022-09-22T18:55:13.705448Z",
     "shell.execute_reply": "2022-09-22T18:55:13.705180Z",
     "shell.execute_reply.started": "2022-09-22T18:55:01.923384Z"
    },
    "tags": []
   },
   "outputs": [
    {
     "data": {
      "text/plain": [
       "(0.908525176074845, 0.9079943235572374)"
      ]
     },
     "execution_count": 15,
     "metadata": {},
     "output_type": "execute_result"
    }
   ],
   "source": [
    "pipe_grad.fit(X_train, y_train)\n",
    "\n",
    "pipe_grad.score(X_train, y_train), pipe_grad.score(X_test, y_test)"
   ]
  },
  {
   "cell_type": "code",
   "execution_count": 16,
   "id": "aa60548d-17e0-45f1-b8de-4c470537f91f",
   "metadata": {
    "execution": {
     "iopub.execute_input": "2022-09-22T18:55:15.409808Z",
     "iopub.status.busy": "2022-09-22T18:55:15.409181Z",
     "iopub.status.idle": "2022-09-22T18:55:20.324567Z",
     "shell.execute_reply": "2022-09-22T18:55:20.324119Z",
     "shell.execute_reply.started": "2022-09-22T18:55:15.409773Z"
    },
    "tags": []
   },
   "outputs": [
    {
     "data": {
      "text/plain": [
       "(0.9147902869757174, 0.9070167139703563)"
      ]
     },
     "execution_count": 16,
     "metadata": {},
     "output_type": "execute_result"
    }
   ],
   "source": [
    "pipe_xgb.fit(X_train, y_train)\n",
    "\n",
    "pipe_xgb.score(X_train, y_train), pipe_xgb.score(X_test, y_test)"
   ]
  },
  {
   "cell_type": "markdown",
   "id": "3e9dbd60-e32e-4764-99d1-9cd9887ab1e8",
   "metadata": {},
   "source": [
    "## Confusion matrices\n",
    "\n",
    "Initial = Ada minimizes false negatives which is probably the best result for which to optimize."
   ]
  },
  {
   "cell_type": "code",
   "execution_count": 17,
   "id": "a5f8fc67-cc5c-45e4-b349-86095088ebc1",
   "metadata": {
    "execution": {
     "iopub.execute_input": "2022-09-22T18:55:42.261606Z",
     "iopub.status.busy": "2022-09-22T18:55:42.261223Z",
     "iopub.status.idle": "2022-09-22T18:55:47.324696Z",
     "shell.execute_reply": "2022-09-22T18:55:47.324354Z",
     "shell.execute_reply.started": "2022-09-22T18:55:42.261582Z"
    },
    "tags": []
   },
   "outputs": [
    {
     "name": "stdout",
     "output_type": "stream",
     "text": [
      "True positives:  727\n",
      "False positives:  651\n",
      "True negatives:  56796\n",
      "False negatives:  5246\n",
      "Accuracy:  0.9070167139703563\n",
      "True pos rate/recall/sensitivity:  0.12171438138288967\n",
      "False pos rate:  0.01133218444827406\n",
      "True neg rate/specificity:  0.9886678155517259\n",
      "Precision:  0.5275761973875182\n",
      "              precision    recall  f1-score   support\n",
      "\n",
      "      No HDA       0.92      0.99      0.95     57447\n",
      "     Yes HDA       0.53      0.12      0.20      5973\n",
      "\n",
      "    accuracy                           0.91     63420\n",
      "   macro avg       0.72      0.56      0.57     63420\n",
      "weighted avg       0.88      0.91      0.88     63420\n",
      "\n"
     ]
    },
    {
     "data": {
      "image/png": "[encoded data removed]",
      "text/plain": [
       "<Figure size 640x480 with 2 Axes>"
      ]
     },
     "metadata": {},
     "output_type": "display_data"
    }
   ],
   "source": [
    "ConfusionMatrixDisplay.from_estimator(pipe_xgb.fit(X_train, y_train), X_test, y_test, display_labels=['No HDA', 'Yes HDA'])\n",
    "plt.title('XGBoost');\n",
    "predict_xgb = pipe_xgb.predict(X_test)\n",
    "tp_xgb = sum((y_test == 1) & (predict_xgb == 1))\n",
    "fp_xgb = sum((y_test == 0) & (predict_xgb == 1))\n",
    "tn_xgb = sum((y_test == 0) & (predict_xgb == 0))\n",
    "fn_xgb = sum((y_test == 1) & (predict_xgb == 0))\n",
    "print('True positives: ', tp_xgb)\n",
    "print('False positives: ', fp_xgb)\n",
    "print('True negatives: ', tn_xgb)\n",
    "print('False negatives: ', fn_xgb)\n",
    "\n",
    "print('Accuracy: ', (tp_xgb + tn_xgb) / (tp_xgb + tn_xgb + fp_xgb + fn_xgb))\n",
    "print('True pos rate/recall/sensitivity: ', tp_xgb / (tp_xgb + fn_xgb))\n",
    "print('False pos rate: ', fp_xgb / (tn_xgb + fp_xgb))\n",
    "print('True neg rate/specificity: ', tn_xgb / (tn_xgb + fp_xgb))\n",
    "print('Precision: ', tp_xgb / (tp_xgb + fp_xgb))\n",
    "\n",
    "from sklearn.metrics import classification_report\n",
    "\n",
    "print(classification_report(y_test, predict_xgb, target_names=['No HDA', 'Yes HDA']))"
   ]
  },
  {
   "cell_type": "code",
   "execution_count": 18,
   "id": "86bc0533-dda2-4bc2-96eb-2f561f516953",
   "metadata": {
    "execution": {
     "iopub.execute_input": "2022-09-22T18:55:57.308299Z",
     "iopub.status.busy": "2022-09-22T18:55:57.307841Z",
     "iopub.status.idle": "2022-09-22T18:56:00.995384Z",
     "shell.execute_reply": "2022-09-22T18:56:00.995057Z",
     "shell.execute_reply.started": "2022-09-22T18:55:57.308273Z"
    },
    "tags": []
   },
   "outputs": [
    {
     "name": "stdout",
     "output_type": "stream",
     "text": [
      "True positives:  830\n",
      "False positives:  731\n",
      "True negatives:  56716\n",
      "False negatives:  5143\n"
     ]
    },
    {
     "data": {
      "image/png": "[encoded data removed]",
      "text/plain": [
       "<Figure size 640x480 with 2 Axes>"
      ]
     },
     "metadata": {},
     "output_type": "display_data"
    }
   ],
   "source": [
    "ConfusionMatrixDisplay.from_estimator(pipe_ada.fit(X_train, y_train), X_test, y_test, display_labels=['No HDA', 'Yes HDA'])\n",
    "plt.title('AdaBoost');\n",
    "\n",
    "predict_ada = pipe_ada.predict(X_test)\n",
    "print('True positives: ', sum((y_test == 1) & (predict_ada == 1)))\n",
    "print('False positives: ', sum((y_test == 0) & (predict_ada == 1)))\n",
    "print('True negatives: ', sum((y_test == 0) & (predict_ada == 0)))\n",
    "print('False negatives: ', sum((y_test == 1) & (predict_ada == 0)))"
   ]
  },
  {
   "cell_type": "code",
   "execution_count": 19,
   "id": "2dad6410-aeea-4837-ac9a-6aa838d1fde4",
   "metadata": {
    "execution": {
     "iopub.execute_input": "2022-09-22T18:56:03.943981Z",
     "iopub.status.busy": "2022-09-22T18:56:03.943555Z",
     "iopub.status.idle": "2022-09-22T18:56:15.915189Z",
     "shell.execute_reply": "2022-09-22T18:56:15.914776Z",
     "shell.execute_reply.started": "2022-09-22T18:56:03.943956Z"
    },
    "tags": []
   },
   "outputs": [
    {
     "name": "stdout",
     "output_type": "stream",
     "text": [
      "True positives:  687\n",
      "False positives:  549\n",
      "True negatives:  56898\n",
      "False negatives:  5286\n"
     ]
    },
    {
     "data": {
      "image/png": "[encoded data removed]",
      "text/plain": [
       "<Figure size 640x480 with 2 Axes>"
      ]
     },
     "metadata": {},
     "output_type": "display_data"
    }
   ],
   "source": [
    "ConfusionMatrixDisplay.from_estimator(pipe_grad.fit(X_train, y_train), X_test, y_test, display_labels=['No HDA', 'Yes HDA'])\n",
    "plt.title('Gradient Boosting Classifier');\n",
    "\n",
    "predict_grad = pipe_grad.predict(X_test)\n",
    "print('True positives: ', sum((y_test == 1) & (predict_grad == 1)))\n",
    "print('False positives: ', sum((y_test == 0) & (predict_grad == 1)))\n",
    "print('True negatives: ', sum((y_test == 0) & (predict_grad == 0)))\n",
    "print('False negatives: ', sum((y_test == 1) & (predict_grad == 0)))"
   ]
  },
  {
   "cell_type": "markdown",
   "id": "cd0cf3d6-e4b7-49fe-837e-ebd21a673263",
   "metadata": {
    "execution": {
     "iopub.execute_input": "2022-09-20T20:57:57.930388Z",
     "iopub.status.busy": "2022-09-20T20:57:57.929676Z",
     "iopub.status.idle": "2022-09-20T20:57:57.939817Z",
     "shell.execute_reply": "2022-09-20T20:57:57.937926Z",
     "shell.execute_reply.started": "2022-09-20T20:57:57.930340Z"
    }
   },
   "source": [
    "|  | XGBoost | AdaBoost | Gradient Boost |\n",
    "| --- | ---: | ---: | ---: |\n",
    "| True positives | 727 | 877 | 687 |\n",
    "| False positives | 651 | 780 | 549 |\n",
    "| True negatives | 56796 | 56667 | 56898 |\n",
    "| False negatives | 5246 | 5096 | 5286 |"
   ]
  },
  {
   "cell_type": "code",
   "execution_count": 20,
   "id": "c35996cf-6e81-4812-a7b0-ded1a629826c",
   "metadata": {
    "execution": {
     "iopub.execute_input": "2022-09-22T18:57:53.136430Z",
     "iopub.status.busy": "2022-09-22T18:57:53.135714Z",
     "iopub.status.idle": "2022-09-22T18:57:53.296708Z",
     "shell.execute_reply": "2022-09-22T18:57:53.296325Z",
     "shell.execute_reply.started": "2022-09-22T18:57:53.136384Z"
    },
    "tags": []
   },
   "outputs": [
    {
     "name": "stdout",
     "output_type": "stream",
     "text": [
      "                     XGBoost                      \n",
      "\n",
      "               precision    recall  f1-score   support\n",
      "\n",
      "      No HDA       0.92      0.99      0.95     57447\n",
      "     Yes HDA       0.53      0.12      0.20      5973\n",
      "\n",
      "    accuracy                           0.91     63420\n",
      "   macro avg       0.72      0.56      0.57     63420\n",
      "weighted avg       0.88      0.91      0.88     63420\n",
      "\n",
      "                     AdaBoost                     \n",
      "\n",
      "               precision    recall  f1-score   support\n",
      "\n",
      "      No HDA       0.92      0.99      0.95     57447\n",
      "     Yes HDA       0.53      0.14      0.22      5973\n",
      "\n",
      "    accuracy                           0.91     63420\n",
      "   macro avg       0.72      0.56      0.59     63420\n",
      "weighted avg       0.88      0.91      0.88     63420\n",
      "\n",
      "                  Gradient Boost                  \n",
      "\n",
      "               precision    recall  f1-score   support\n",
      "\n",
      "      No HDA       0.91      0.99      0.95     57447\n",
      "     Yes HDA       0.56      0.12      0.19      5973\n",
      "\n",
      "    accuracy                           0.91     63420\n",
      "   macro avg       0.74      0.55      0.57     63420\n",
      "weighted avg       0.88      0.91      0.88     63420\n",
      "\n"
     ]
    }
   ],
   "source": [
    "print(f'{\"XGBoost\" : ^50}\\n\\n', classification_report(y_test, predict_xgb, target_names=['No HDA', 'Yes HDA']))\n",
    "print(f'{\"AdaBoost\" : ^50}\\n\\n', classification_report(y_test, predict_ada, target_names=['No HDA', 'Yes HDA']))\n",
    "print(f'{\"Gradient Boost\" : ^50}\\n\\n', classification_report(y_test, predict_grad, target_names=['No HDA', 'Yes HDA']))"
   ]
  },
  {
   "cell_type": "markdown",
   "id": "41978ce9-22b7-4ce0-b27b-972088ecd2cd",
   "metadata": {},
   "source": [
    "## Neural Network models"
   ]
  },
  {
   "cell_type": "code",
   "execution_count": 216,
   "id": "4fe72f7c-0eaa-4ba4-9a63-cfc667ffc52f",
   "metadata": {
    "execution": {
     "iopub.execute_input": "2022-09-23T04:01:46.019286Z",
     "iopub.status.busy": "2022-09-23T04:01:46.018811Z",
     "iopub.status.idle": "2022-09-23T04:01:46.156514Z",
     "shell.execute_reply": "2022-09-23T04:01:46.156164Z",
     "shell.execute_reply.started": "2022-09-23T04:01:46.019255Z"
    },
    "tags": []
   },
   "outputs": [],
   "source": [
    "url = 'data/hd_2015_recast_int.csv'\n",
    "\n",
    "df = pd.read_csv(url)"
   ]
  },
  {
   "cell_type": "code",
   "execution_count": null,
   "id": "7ae969bd-eb81-4d68-ab36-b661e5c7062c",
   "metadata": {
    "execution": {
     "iopub.status.busy": "2022-09-22T19:55:46.318435Z",
     "iopub.status.idle": "2022-09-22T19:55:46.318564Z",
     "shell.execute_reply": "2022-09-22T19:55:46.318499Z",
     "shell.execute_reply.started": "2022-09-22T19:55:46.318493Z"
    },
    "tags": []
   },
   "outputs": [],
   "source": [
    "df.head()"
   ]
  },
  {
   "cell_type": "code",
   "execution_count": 217,
   "id": "caf33a97-e1b5-4eba-b065-5260bf252e28",
   "metadata": {
    "execution": {
     "iopub.execute_input": "2022-09-23T04:01:49.766047Z",
     "iopub.status.busy": "2022-09-23T04:01:49.765157Z",
     "iopub.status.idle": "2022-09-23T04:01:49.851769Z",
     "shell.execute_reply": "2022-09-23T04:01:49.851451Z",
     "shell.execute_reply.started": "2022-09-23T04:01:49.765985Z"
    },
    "tags": []
   },
   "outputs": [],
   "source": [
    "X = df.drop(columns='HeartDiseaseorAttack')\n",
    "y = df.HeartDiseaseorAttack\n",
    "\n",
    "X_train, X_test, y_train, y_test = train_test_split(X, y, random_state=1, stratify=y)"
   ]
  },
  {
   "cell_type": "code",
   "execution_count": 5,
   "id": "27fbc417-e401-498f-a637-147b4c5720ff",
   "metadata": {
    "execution": {
     "iopub.execute_input": "2022-09-22T19:56:23.430846Z",
     "iopub.status.busy": "2022-09-22T19:56:23.429891Z",
     "iopub.status.idle": "2022-09-22T19:56:23.447586Z",
     "shell.execute_reply": "2022-09-22T19:56:23.446749Z",
     "shell.execute_reply.started": "2022-09-22T19:56:23.430785Z"
    },
    "tags": []
   },
   "outputs": [
    {
     "name": "stdout",
     "output_type": "stream",
     "text": [
      "HeartDiseaseorAttack      int64\n",
      "HighBP                    int64\n",
      "HighChol                  int64\n",
      "CholCheck                 int64\n",
      "BMI                     float64\n",
      "Smoker                    int64\n",
      "Stroke                    int64\n",
      "Diabetes                  int64\n",
      "PhysActivity              int64\n",
      "Fruits                    int64\n",
      "Veggies                   int64\n",
      "HvyAlcoholConsump         int64\n",
      "AnyHealthcare             int64\n",
      "NoDocbcCost               int64\n",
      "GenHlth                   int64\n",
      "MentHlth                  int64\n",
      "PhysHlth                  int64\n",
      "DiffWalk                  int64\n",
      "Sex                       int64\n",
      "Age                       int64\n",
      "Education                 int64\n",
      "Income                    int64\n",
      "dtype: object\n"
     ]
    },
    {
     "data": {
      "text/plain": [
       "(253680, 22)"
      ]
     },
     "execution_count": 5,
     "metadata": {},
     "output_type": "execute_result"
    }
   ],
   "source": [
    "print(df.dtypes)\n",
    "df.shape"
   ]
  },
  {
   "cell_type": "code",
   "execution_count": 218,
   "id": "cd73e97d-c2b9-4117-b33d-07b67d7e7b4f",
   "metadata": {
    "execution": {
     "iopub.execute_input": "2022-09-23T04:01:56.987790Z",
     "iopub.status.busy": "2022-09-23T04:01:56.987376Z",
     "iopub.status.idle": "2022-09-23T04:01:57.036540Z",
     "shell.execute_reply": "2022-09-23T04:01:57.036204Z",
     "shell.execute_reply.started": "2022-09-23T04:01:56.987761Z"
    },
    "tags": []
   },
   "outputs": [],
   "source": [
    "ss = StandardScaler()\n",
    "\n",
    "X_train = ss.fit_transform(X_train)\n",
    "X_test = ss.transform(X_test)"
   ]
  },
  {
   "cell_type": "code",
   "execution_count": 25,
   "id": "abbfc80e-ea50-481e-864e-f5acf81f2545",
   "metadata": {
    "execution": {
     "iopub.execute_input": "2022-09-22T20:06:38.288607Z",
     "iopub.status.busy": "2022-09-22T20:06:38.287783Z",
     "iopub.status.idle": "2022-09-22T20:06:38.337751Z",
     "shell.execute_reply": "2022-09-22T20:06:38.337435Z",
     "shell.execute_reply.started": "2022-09-22T20:06:38.288543Z"
    },
    "tags": []
   },
   "outputs": [],
   "source": [
    "mms = StandardScaler()\n",
    "\n",
    "X_train_mms = mms.fit_transform(X_train)\n",
    "X_test_mms = mms.transform(X_test)"
   ]
  },
  {
   "cell_type": "code",
   "execution_count": 219,
   "id": "5f781edf-b435-46ee-841f-6e00426f81d2",
   "metadata": {
    "execution": {
     "iopub.execute_input": "2022-09-23T04:02:02.056793Z",
     "iopub.status.busy": "2022-09-23T04:02:02.056408Z",
     "iopub.status.idle": "2022-09-23T04:02:02.093756Z",
     "shell.execute_reply": "2022-09-23T04:02:02.093431Z",
     "shell.execute_reply.started": "2022-09-23T04:02:02.056765Z"
    },
    "tags": []
   },
   "outputs": [],
   "source": [
    "from tensorflow.keras.regularizers import l2\n",
    "from tensorflow.keras.layers import Dropout\n",
    "\n",
    "model = Sequential()\n",
    "\n",
    "model.add(Dense(21, input_dim=X_train.shape[1], activation='relu', kernel_regularizer=l2(0.001)))\n",
    "\n",
    "model.add(Dense(9, activation='relu', kernel_regularizer=l2(0.001)))\n",
    "model.add(Dropout(.2))\n",
    "\n",
    "#model.add(Dense(3, activation='relu', kernel_regularizer=l2(0.001)))\n",
    "#model.add(Dropout(.25))\n",
    "\n",
    "model.add(Dense(1, activation='sigmoid'))"
   ]
  },
  {
   "cell_type": "code",
   "execution_count": 220,
   "id": "736a4b2c-0386-47eb-944a-e294570dd156",
   "metadata": {
    "execution": {
     "iopub.execute_input": "2022-09-23T04:02:09.799726Z",
     "iopub.status.busy": "2022-09-23T04:02:09.799335Z",
     "iopub.status.idle": "2022-09-23T04:02:09.812851Z",
     "shell.execute_reply": "2022-09-23T04:02:09.812042Z",
     "shell.execute_reply.started": "2022-09-23T04:02:09.799700Z"
    },
    "tags": []
   },
   "outputs": [],
   "source": [
    "model.compile(optimizer='adam',\n",
    "              loss='binary_crossentropy',\n",
    "              metrics='accuracy')"
   ]
  },
  {
   "cell_type": "code",
   "execution_count": 195,
   "id": "7b16312e-89f5-4824-97ec-b6daa75afe60",
   "metadata": {
    "execution": {
     "iopub.execute_input": "2022-09-23T03:47:25.848892Z",
     "iopub.status.busy": "2022-09-23T03:47:25.848505Z",
     "iopub.status.idle": "2022-09-23T03:50:27.319251Z",
     "shell.execute_reply": "2022-09-23T03:50:27.318962Z",
     "shell.execute_reply.started": "2022-09-23T03:47:25.848868Z"
    },
    "tags": []
   },
   "outputs": [
    {
     "name": "stdout",
     "output_type": "stream",
     "text": [
      "Epoch 1/3\n",
      "   6/5946 [..............................] - ETA: 1:06 - loss: 0.6630 - accuracy: 0.7240 "
     ]
    },
    {
     "name": "stderr",
     "output_type": "stream",
     "text": [
      "2022-09-22 20:47:26.041022: I tensorflow/core/grappler/optimizers/custom_graph_optimizer_registry.cc:114] Plugin optimizer for device_type GPU is enabled.\n"
     ]
    },
    {
     "name": "stdout",
     "output_type": "stream",
     "text": [
      "5946/5946 [==============================] - ETA: 0s - loss: 0.2642 - accuracy: 0.9063"
     ]
    },
    {
     "name": "stderr",
     "output_type": "stream",
     "text": [
      "2022-09-22 20:48:17.813973: I tensorflow/core/grappler/optimizers/custom_graph_optimizer_registry.cc:114] Plugin optimizer for device_type GPU is enabled.\n"
     ]
    },
    {
     "name": "stdout",
     "output_type": "stream",
     "text": [
      "5946/5946 [==============================] - 63s 11ms/step - loss: 0.2642 - accuracy: 0.9063 - val_loss: 0.2456 - val_accuracy: 0.9080\n",
      "Epoch 2/3\n",
      "5946/5946 [==============================] - 60s 10ms/step - loss: 0.2438 - accuracy: 0.9074 - val_loss: 0.2424 - val_accuracy: 0.9081\n",
      "Epoch 3/3\n",
      "5946/5946 [==============================] - 58s 10ms/step - loss: 0.2422 - accuracy: 0.9074 - val_loss: 0.2416 - val_accuracy: 0.9083\n"
     ]
    }
   ],
   "source": [
    "history = model.fit(\n",
    "    X_train, y_train,\n",
    "    validation_data=(X_test, y_test),\n",
    "    epochs=3,\n",
    "    verbose=1\n",
    ")"
   ]
  },
  {
   "cell_type": "code",
   "execution_count": 78,
   "id": "26326e0a-05c8-4a8d-af65-3a9b1b5ebe37",
   "metadata": {
    "execution": {
     "iopub.execute_input": "2022-09-23T01:52:37.726226Z",
     "iopub.status.busy": "2022-09-23T01:52:37.725867Z",
     "iopub.status.idle": "2022-09-23T01:52:37.731425Z",
     "shell.execute_reply": "2022-09-23T01:52:37.730558Z",
     "shell.execute_reply.started": "2022-09-23T01:52:37.726202Z"
    },
    "tags": []
   },
   "outputs": [
    {
     "data": {
      "text/plain": [
       "keras.callbacks.History"
      ]
     },
     "execution_count": 78,
     "metadata": {},
     "output_type": "execute_result"
    }
   ],
   "source": [
    "#type(history)"
   ]
  },
  {
   "cell_type": "code",
   "execution_count": 196,
   "id": "4be5e2fe-73f3-4145-a3ff-42d7e5dee6ad",
   "metadata": {
    "execution": {
     "iopub.execute_input": "2022-09-23T03:50:58.241211Z",
     "iopub.status.busy": "2022-09-23T03:50:58.240749Z",
     "iopub.status.idle": "2022-09-23T03:50:58.324688Z",
     "shell.execute_reply": "2022-09-23T03:50:58.324211Z",
     "shell.execute_reply.started": "2022-09-23T03:50:58.241182Z"
    },
    "tags": []
   },
   "outputs": [
    {
     "data": {
      "image/png": "[encoded data removed]",
      "text/plain": [
       "<Figure size 640x480 with 1 Axes>"
      ]
     },
     "metadata": {},
     "output_type": "display_data"
    }
   ],
   "source": [
    "train_loss = history.history['loss']\n",
    "test_loss = history.history['val_loss']\n",
    "\n",
    "plt.plot(train_loss, label='Training Loss', color='navy')\n",
    "plt.plot(test_loss, label='Testing Loss', color='skyblue')\n",
    "plt.legend();"
   ]
  },
  {
   "cell_type": "code",
   "execution_count": 197,
   "id": "978f5e55-43e3-4366-8dfe-6d608f93faa4",
   "metadata": {
    "execution": {
     "iopub.execute_input": "2022-09-23T03:51:03.032773Z",
     "iopub.status.busy": "2022-09-23T03:51:03.032348Z",
     "iopub.status.idle": "2022-09-23T03:51:03.124122Z",
     "shell.execute_reply": "2022-09-23T03:51:03.123679Z",
     "shell.execute_reply.started": "2022-09-23T03:51:03.032744Z"
    },
    "tags": []
   },
   "outputs": [
    {
     "data": {
      "image/png": "[encoded data removed]",
      "text/plain": [
       "<Figure size 640x480 with 1 Axes>"
      ]
     },
     "metadata": {},
     "output_type": "display_data"
    }
   ],
   "source": [
    "train_loss = history.history['accuracy']\n",
    "test_loss = history.history['val_accuracy']\n",
    "\n",
    "plt.plot(train_loss, label='Training accuracy', color='navy')\n",
    "plt.plot(test_loss, label='Testing accuracy', color='skyblue')\n",
    "plt.legend();"
   ]
  },
  {
   "cell_type": "code",
   "execution_count": 198,
   "id": "7443aa55-f18a-4075-9f37-7799cb26109a",
   "metadata": {
    "execution": {
     "iopub.execute_input": "2022-09-23T03:51:07.477172Z",
     "iopub.status.busy": "2022-09-23T03:51:07.476654Z",
     "iopub.status.idle": "2022-09-23T03:51:10.605221Z",
     "shell.execute_reply": "2022-09-23T03:51:10.604878Z",
     "shell.execute_reply.started": "2022-09-23T03:51:07.477138Z"
    },
    "tags": []
   },
   "outputs": [
    {
     "name": "stdout",
     "output_type": "stream",
     "text": [
      "  89/1982 [>.............................] - ETA: 3s"
     ]
    },
    {
     "name": "stderr",
     "output_type": "stream",
     "text": [
      "2022-09-22 20:51:07.523669: I tensorflow/core/grappler/optimizers/custom_graph_optimizer_registry.cc:114] Plugin optimizer for device_type GPU is enabled.\n"
     ]
    },
    {
     "name": "stdout",
     "output_type": "stream",
     "text": [
      "1982/1982 [==============================] - 3s 1ms/step\n"
     ]
    }
   ],
   "source": [
    "preds = model.predict(X_test)\n",
    "#y_preds = np.argmax(preds, axis=1)"
   ]
  },
  {
   "cell_type": "code",
   "execution_count": 179,
   "id": "e8040753-8441-432d-99b5-b25c61bf3330",
   "metadata": {
    "execution": {
     "iopub.execute_input": "2022-09-23T03:43:03.023844Z",
     "iopub.status.busy": "2022-09-23T03:43:03.023469Z",
     "iopub.status.idle": "2022-09-23T03:43:15.585120Z",
     "shell.execute_reply": "2022-09-23T03:43:15.584806Z",
     "shell.execute_reply.started": "2022-09-23T03:43:03.023817Z"
    },
    "tags": []
   },
   "outputs": [
    {
     "name": "stdout",
     "output_type": "stream",
     "text": [
      "1982/1982 [==============================] - 13s 6ms/step - loss: 0.2422 - accuracy: 0.9077\n"
     ]
    }
   ],
   "source": [
    "model_score = model.evaluate(X_test, y_test)"
   ]
  },
  {
   "cell_type": "code",
   "execution_count": 92,
   "id": "eae9ff7a-e007-4b1c-8f2c-b83728c23321",
   "metadata": {
    "execution": {
     "iopub.execute_input": "2022-09-22T15:37:43.535160Z",
     "iopub.status.busy": "2022-09-22T15:37:43.534760Z",
     "iopub.status.idle": "2022-09-22T15:37:43.541185Z",
     "shell.execute_reply": "2022-09-22T15:37:43.540485Z",
     "shell.execute_reply.started": "2022-09-22T15:37:43.535133Z"
    },
    "tags": []
   },
   "outputs": [
    {
     "data": {
      "text/plain": [
       "0.9084673523902893"
      ]
     },
     "execution_count": 92,
     "metadata": {},
     "output_type": "execute_result"
    }
   ],
   "source": [
    "model_score[1]"
   ]
  },
  {
   "cell_type": "code",
   "execution_count": 222,
   "id": "37699d82-a220-4d2f-9290-493c5cdcad10",
   "metadata": {
    "execution": {
     "iopub.execute_input": "2022-09-23T04:04:22.841787Z",
     "iopub.status.busy": "2022-09-23T04:04:22.841256Z",
     "iopub.status.idle": "2022-09-23T04:04:22.870474Z",
     "shell.execute_reply": "2022-09-23T04:04:22.869912Z",
     "shell.execute_reply.started": "2022-09-23T04:04:22.841701Z"
    },
    "tags": []
   },
   "outputs": [
    {
     "ename": "ValueError",
     "evalue": "ConfusionMatrixDisplay.from_estimator only supports classifiers",
     "output_type": "error",
     "traceback": [
      "\u001b[0;31m---------------------------------------------------------------------------\u001b[0m",
      "\u001b[0;31mValueError\u001b[0m                                Traceback (most recent call last)",
      "Cell \u001b[0;32mIn [222], line 3\u001b[0m\n\u001b[1;32m      1\u001b[0m \u001b[38;5;66;03m#confusion_matrix()\u001b[39;00m\n\u001b[0;32m----> 3\u001b[0m \u001b[43mConfusionMatrixDisplay\u001b[49m\u001b[38;5;241;43m.\u001b[39;49m\u001b[43mfrom_estimator\u001b[49m\u001b[43m(\u001b[49m\u001b[43mmodel_score\u001b[49m\u001b[43m,\u001b[49m\u001b[43m \u001b[49m\u001b[43mX\u001b[49m\u001b[38;5;241;43m=\u001b[39;49m\u001b[43mX_test\u001b[49m\u001b[43m,\u001b[49m\u001b[43m \u001b[49m\u001b[43my\u001b[49m\u001b[38;5;241;43m=\u001b[39;49m\u001b[43my_test\u001b[49m\u001b[43m)\u001b[49m\u001b[38;5;66;03m#preds.astype(int))#, display_labels=['No HDA', 'Yes HDA'])\u001b[39;00m\n\u001b[1;32m      4\u001b[0m plt\u001b[38;5;241m.\u001b[39mtitle(\u001b[38;5;124m'\u001b[39m\u001b[38;5;124mSequential Neural Net\u001b[39m\u001b[38;5;124m'\u001b[39m)\n",
      "File \u001b[0;32m~/.pyenv/versions/miniforge3/envs/dsi-a/lib/python3.10/site-packages/sklearn/metrics/_plot/confusion_matrix.py:304\u001b[0m, in \u001b[0;36mConfusionMatrixDisplay.from_estimator\u001b[0;34m(cls, estimator, X, y, labels, sample_weight, normalize, display_labels, include_values, xticks_rotation, values_format, cmap, ax, colorbar, im_kw)\u001b[0m\n\u001b[1;32m    302\u001b[0m check_matplotlib_support(method_name)\n\u001b[1;32m    303\u001b[0m \u001b[38;5;28;01mif\u001b[39;00m \u001b[38;5;129;01mnot\u001b[39;00m is_classifier(estimator):\n\u001b[0;32m--> 304\u001b[0m     \u001b[38;5;28;01mraise\u001b[39;00m \u001b[38;5;167;01mValueError\u001b[39;00m(\u001b[38;5;124mf\u001b[39m\u001b[38;5;124m\"\u001b[39m\u001b[38;5;132;01m{\u001b[39;00mmethod_name\u001b[38;5;132;01m}\u001b[39;00m\u001b[38;5;124m only supports classifiers\u001b[39m\u001b[38;5;124m\"\u001b[39m)\n\u001b[1;32m    305\u001b[0m y_pred \u001b[38;5;241m=\u001b[39m estimator\u001b[38;5;241m.\u001b[39mpredict(X)\n\u001b[1;32m    307\u001b[0m \u001b[38;5;28;01mreturn\u001b[39;00m \u001b[38;5;28mcls\u001b[39m\u001b[38;5;241m.\u001b[39mfrom_predictions(\n\u001b[1;32m    308\u001b[0m     y,\n\u001b[1;32m    309\u001b[0m     y_pred,\n\u001b[0;32m   (...)\u001b[0m\n\u001b[1;32m    320\u001b[0m     im_kw\u001b[38;5;241m=\u001b[39mim_kw,\n\u001b[1;32m    321\u001b[0m )\n",
      "\u001b[0;31mValueError\u001b[0m: ConfusionMatrixDisplay.from_estimator only supports classifiers"
     ]
    }
   ],
   "source": [
    "#confusion_matrix()\n",
    "\n",
    "ConfusionMatrixDisplay.from_estimator(model_score, X=X_test, y=y_test)#preds.astype(int))#, display_labels=['No HDA', 'Yes HDA'])\n",
    "plt.title('Sequential Neural Net');\n",
    "\n",
    "#predict_nn = preds\n",
    "#print('True positives: ', sum((y_test == 1) & (predict_nn == 1)))\n",
    "# print('False positives: ', sum((y_test == 0) & (predict_nn == 1)))\n",
    "# print('True negatives: ', sum((y_test == 0) & (predict_nn == 0)))\n",
    "# print('False negatives: ', sum((y_test == 1) & (predict_nn == 0)))"
   ]
  },
  {
   "cell_type": "code",
   "execution_count": 161,
   "id": "2bf72f74-f56c-4fdd-abea-2c9f4f6bc3f8",
   "metadata": {
    "execution": {
     "iopub.execute_input": "2022-09-23T03:37:39.262001Z",
     "iopub.status.busy": "2022-09-23T03:37:39.261350Z",
     "iopub.status.idle": "2022-09-23T03:37:39.269606Z",
     "shell.execute_reply": "2022-09-23T03:37:39.268776Z",
     "shell.execute_reply.started": "2022-09-23T03:37:39.261952Z"
    },
    "tags": []
   },
   "outputs": [
    {
     "data": {
      "text/plain": [
       "<bound method Callback.set_params of <keras.callbacks.History object at 0x2dd32bcd0>>"
      ]
     },
     "execution_count": 161,
     "metadata": {},
     "output_type": "execute_result"
    }
   ],
   "source": [
    "model.history.set_params"
   ]
  },
  {
   "cell_type": "code",
   "execution_count": 185,
   "id": "223f268d-e438-47bf-83b2-137da3137a90",
   "metadata": {
    "execution": {
     "iopub.execute_input": "2022-09-23T03:44:44.300230Z",
     "iopub.status.busy": "2022-09-23T03:44:44.299822Z",
     "iopub.status.idle": "2022-09-23T03:44:44.305243Z",
     "shell.execute_reply": "2022-09-23T03:44:44.304573Z",
     "shell.execute_reply.started": "2022-09-23T03:44:44.300201Z"
    },
    "tags": []
   },
   "outputs": [
    {
     "data": {
      "text/plain": [
       "array([0, 0, 1, ..., 0, 0, 0])"
      ]
     },
     "execution_count": 185,
     "metadata": {},
     "output_type": "execute_result"
    }
   ],
   "source": [
    "y_test"
   ]
  },
  {
   "cell_type": "code",
   "execution_count": 186,
   "id": "6fcdc297-3574-4c21-b509-5e43b4f4a040",
   "metadata": {
    "execution": {
     "iopub.execute_input": "2022-09-23T03:44:46.647078Z",
     "iopub.status.busy": "2022-09-23T03:44:46.646590Z",
     "iopub.status.idle": "2022-09-23T03:44:46.653576Z",
     "shell.execute_reply": "2022-09-23T03:44:46.652818Z",
     "shell.execute_reply.started": "2022-09-23T03:44:46.647028Z"
    },
    "tags": []
   },
   "outputs": [
    {
     "data": {
      "text/plain": [
       "array([[0.12571786],\n",
       "       [0.00873829],\n",
       "       [0.3992031 ],\n",
       "       ...,\n",
       "       [0.05665039],\n",
       "       [0.0360911 ],\n",
       "       [0.00611968]], dtype=float32)"
      ]
     },
     "execution_count": 186,
     "metadata": {},
     "output_type": "execute_result"
    }
   ],
   "source": [
    "preds"
   ]
  },
  {
   "cell_type": "code",
   "execution_count": null,
   "id": "78feac1e-6547-4384-a58a-65c541af12d7",
   "metadata": {},
   "outputs": [],
   "source": []
  }
 ],
 "metadata": {
  "kernelspec": {
   "display_name": "Python 3 (ipykernel)",
   "language": "python",
   "name": "python3"
  },
  "language_info": {
   "codemirror_mode": {
    "name": "ipython",
    "version": 3
   },
   "file_extension": ".py",
   "mimetype": "text/x-python",
   "name": "python",
   "nbconvert_exporter": "python",
   "pygments_lexer": "ipython3",
   "version": "3.10.6"
  }
 },
 "nbformat": 4,
 "nbformat_minor": 5
}
