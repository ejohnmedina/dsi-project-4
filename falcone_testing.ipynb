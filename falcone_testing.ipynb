{
 "cells": [
  {
   "cell_type": "code",
   "execution_count": 67,
   "id": "32b33b6d-2e78-443d-8e29-dae76c5c70b9",
   "metadata": {
    "tags": []
   },
   "outputs": [],
   "source": [
    "# adaboost gradientboost clustering\n",
    "import pickle\n",
    "import numpy as np\n",
    "import pandas as pd\n",
    "import matplotlib.pyplot as plt\n",
    "\n",
    "from sklearn.model_selection import train_test_split, cross_val_score, GridSearchCV\n",
    "\n",
    "from sklearn.metrics import ConfusionMatrixDisplay\n",
    "\n",
    "from sklearn.pipeline import Pipeline\n",
    "\n",
    "from sklearn.ensemble import AdaBoostClassifier, GradientBoostingClassifier\n",
    "import xgboost as xgb\n",
    "\n",
    "from sklearn.preprocessing import StandardScaler\n",
    "\n",
    "from sklearn.metrics import silhouette_score\n",
    "from sklearn.cluster import KMeans\n",
    "from sklearn.cluster import DBSCAN\n",
    "\n",
    "from tensorflow.keras.models import Sequential\n",
    "from tensorflow.keras.layers import Dense"
   ]
  },
  {
   "cell_type": "code",
   "execution_count": 2,
   "id": "fc489157-4442-41e5-9f9c-d3e104b49aab",
   "metadata": {
    "tags": []
   },
   "outputs": [],
   "source": [
    "url = 'data/heart_disease_ind_2015.csv'\n",
    "\n",
    "df = pd.read_csv(url)"
   ]
  },
  {
   "cell_type": "code",
   "execution_count": 3,
   "id": "66649488-c5cb-428d-a202-534e08168756",
   "metadata": {
    "tags": []
   },
   "outputs": [
    {
     "data": {
      "text/plain": [
       "0.0    0.905814\n",
       "1.0    0.094186\n",
       "Name: HeartDiseaseorAttack, dtype: float64"
      ]
     },
     "execution_count": 3,
     "metadata": {},
     "output_type": "execute_result"
    }
   ],
   "source": [
    "# setup baseline\n",
    "df.HeartDiseaseorAttack.value_counts(normalize=True)"
   ]
  },
  {
   "cell_type": "code",
   "execution_count": 19,
   "id": "394c708d-923c-4ed0-bfe5-ef2f05d67396",
   "metadata": {},
   "outputs": [
    {
     "data": {
      "text/plain": [
       "0.0    229787\n",
       "1.0     23893\n",
       "Name: HeartDiseaseorAttack, dtype: int64"
      ]
     },
     "execution_count": 19,
     "metadata": {},
     "output_type": "execute_result"
    }
   ],
   "source": [
    "df.HeartDiseaseorAttack.value_counts(normalize=False)"
   ]
  },
  {
   "cell_type": "code",
   "execution_count": 72,
   "id": "ea518fb7-ff12-4687-b736-d57a28c5d9c1",
   "metadata": {},
   "outputs": [
    {
     "data": {
      "text/plain": [
       "23893"
      ]
     },
     "execution_count": 72,
     "metadata": {},
     "output_type": "execute_result"
    }
   ],
   "source": [
    "df.HeartDiseaseorAttack.value_counts()[1]"
   ]
  },
  {
   "cell_type": "code",
   "execution_count": 81,
   "id": "aaac0064-83cf-4468-83b1-1ef748670ae3",
   "metadata": {},
   "outputs": [
    {
     "data": {
      "text/html": [
       "<div>\n",
       "<style scoped>\n",
       "    .dataframe tbody tr th:only-of-type {\n",
       "        vertical-align: middle;\n",
       "    }\n",
       "\n",
       "    .dataframe tbody tr th {\n",
       "        vertical-align: top;\n",
       "    }\n",
       "\n",
       "    .dataframe thead th {\n",
       "        text-align: right;\n",
       "    }\n",
       "</style>\n",
       "<table border=\"1\" class=\"dataframe\">\n",
       "  <thead>\n",
       "    <tr style=\"text-align: right;\">\n",
       "      <th></th>\n",
       "      <th>HeartDiseaseorAttack</th>\n",
       "      <th>HighBP</th>\n",
       "      <th>HighChol</th>\n",
       "      <th>CholCheck</th>\n",
       "      <th>BMI</th>\n",
       "      <th>Smoker</th>\n",
       "      <th>Stroke</th>\n",
       "      <th>Diabetes</th>\n",
       "      <th>PhysActivity</th>\n",
       "      <th>Fruits</th>\n",
       "      <th>...</th>\n",
       "      <th>AnyHealthcare</th>\n",
       "      <th>NoDocbcCost</th>\n",
       "      <th>GenHlth</th>\n",
       "      <th>MentHlth</th>\n",
       "      <th>PhysHlth</th>\n",
       "      <th>DiffWalk</th>\n",
       "      <th>Sex</th>\n",
       "      <th>Age</th>\n",
       "      <th>Education</th>\n",
       "      <th>Income</th>\n",
       "    </tr>\n",
       "  </thead>\n",
       "  <tbody>\n",
       "    <tr>\n",
       "      <th>237728</th>\n",
       "      <td>0.0</td>\n",
       "      <td>1.0</td>\n",
       "      <td>1.0</td>\n",
       "      <td>1.0</td>\n",
       "      <td>23.0</td>\n",
       "      <td>1.0</td>\n",
       "      <td>0.0</td>\n",
       "      <td>0.0</td>\n",
       "      <td>1.0</td>\n",
       "      <td>0.0</td>\n",
       "      <td>...</td>\n",
       "      <td>1.0</td>\n",
       "      <td>0.0</td>\n",
       "      <td>1.0</td>\n",
       "      <td>0.0</td>\n",
       "      <td>3.0</td>\n",
       "      <td>0.0</td>\n",
       "      <td>1.0</td>\n",
       "      <td>10.0</td>\n",
       "      <td>6.0</td>\n",
       "      <td>6.0</td>\n",
       "    </tr>\n",
       "    <tr>\n",
       "      <th>214818</th>\n",
       "      <td>0.0</td>\n",
       "      <td>1.0</td>\n",
       "      <td>1.0</td>\n",
       "      <td>0.0</td>\n",
       "      <td>26.0</td>\n",
       "      <td>0.0</td>\n",
       "      <td>0.0</td>\n",
       "      <td>0.0</td>\n",
       "      <td>1.0</td>\n",
       "      <td>0.0</td>\n",
       "      <td>...</td>\n",
       "      <td>1.0</td>\n",
       "      <td>0.0</td>\n",
       "      <td>2.0</td>\n",
       "      <td>0.0</td>\n",
       "      <td>0.0</td>\n",
       "      <td>0.0</td>\n",
       "      <td>1.0</td>\n",
       "      <td>10.0</td>\n",
       "      <td>5.0</td>\n",
       "      <td>8.0</td>\n",
       "    </tr>\n",
       "    <tr>\n",
       "      <th>2537</th>\n",
       "      <td>0.0</td>\n",
       "      <td>0.0</td>\n",
       "      <td>0.0</td>\n",
       "      <td>1.0</td>\n",
       "      <td>22.0</td>\n",
       "      <td>1.0</td>\n",
       "      <td>0.0</td>\n",
       "      <td>0.0</td>\n",
       "      <td>0.0</td>\n",
       "      <td>0.0</td>\n",
       "      <td>...</td>\n",
       "      <td>1.0</td>\n",
       "      <td>0.0</td>\n",
       "      <td>2.0</td>\n",
       "      <td>0.0</td>\n",
       "      <td>0.0</td>\n",
       "      <td>0.0</td>\n",
       "      <td>0.0</td>\n",
       "      <td>7.0</td>\n",
       "      <td>6.0</td>\n",
       "      <td>8.0</td>\n",
       "    </tr>\n",
       "    <tr>\n",
       "      <th>5052</th>\n",
       "      <td>0.0</td>\n",
       "      <td>0.0</td>\n",
       "      <td>0.0</td>\n",
       "      <td>1.0</td>\n",
       "      <td>26.0</td>\n",
       "      <td>0.0</td>\n",
       "      <td>0.0</td>\n",
       "      <td>0.0</td>\n",
       "      <td>1.0</td>\n",
       "      <td>1.0</td>\n",
       "      <td>...</td>\n",
       "      <td>1.0</td>\n",
       "      <td>0.0</td>\n",
       "      <td>3.0</td>\n",
       "      <td>0.0</td>\n",
       "      <td>2.0</td>\n",
       "      <td>0.0</td>\n",
       "      <td>0.0</td>\n",
       "      <td>8.0</td>\n",
       "      <td>6.0</td>\n",
       "      <td>8.0</td>\n",
       "    </tr>\n",
       "    <tr>\n",
       "      <th>158235</th>\n",
       "      <td>0.0</td>\n",
       "      <td>0.0</td>\n",
       "      <td>0.0</td>\n",
       "      <td>1.0</td>\n",
       "      <td>18.0</td>\n",
       "      <td>0.0</td>\n",
       "      <td>0.0</td>\n",
       "      <td>0.0</td>\n",
       "      <td>1.0</td>\n",
       "      <td>1.0</td>\n",
       "      <td>...</td>\n",
       "      <td>1.0</td>\n",
       "      <td>0.0</td>\n",
       "      <td>2.0</td>\n",
       "      <td>0.0</td>\n",
       "      <td>1.0</td>\n",
       "      <td>0.0</td>\n",
       "      <td>0.0</td>\n",
       "      <td>7.0</td>\n",
       "      <td>6.0</td>\n",
       "      <td>7.0</td>\n",
       "    </tr>\n",
       "    <tr>\n",
       "      <th>...</th>\n",
       "      <td>...</td>\n",
       "      <td>...</td>\n",
       "      <td>...</td>\n",
       "      <td>...</td>\n",
       "      <td>...</td>\n",
       "      <td>...</td>\n",
       "      <td>...</td>\n",
       "      <td>...</td>\n",
       "      <td>...</td>\n",
       "      <td>...</td>\n",
       "      <td>...</td>\n",
       "      <td>...</td>\n",
       "      <td>...</td>\n",
       "      <td>...</td>\n",
       "      <td>...</td>\n",
       "      <td>...</td>\n",
       "      <td>...</td>\n",
       "      <td>...</td>\n",
       "      <td>...</td>\n",
       "      <td>...</td>\n",
       "      <td>...</td>\n",
       "    </tr>\n",
       "    <tr>\n",
       "      <th>253668</th>\n",
       "      <td>1.0</td>\n",
       "      <td>0.0</td>\n",
       "      <td>1.0</td>\n",
       "      <td>1.0</td>\n",
       "      <td>29.0</td>\n",
       "      <td>1.0</td>\n",
       "      <td>0.0</td>\n",
       "      <td>2.0</td>\n",
       "      <td>0.0</td>\n",
       "      <td>1.0</td>\n",
       "      <td>...</td>\n",
       "      <td>1.0</td>\n",
       "      <td>0.0</td>\n",
       "      <td>2.0</td>\n",
       "      <td>0.0</td>\n",
       "      <td>0.0</td>\n",
       "      <td>1.0</td>\n",
       "      <td>1.0</td>\n",
       "      <td>10.0</td>\n",
       "      <td>3.0</td>\n",
       "      <td>6.0</td>\n",
       "    </tr>\n",
       "    <tr>\n",
       "      <th>253670</th>\n",
       "      <td>1.0</td>\n",
       "      <td>1.0</td>\n",
       "      <td>1.0</td>\n",
       "      <td>1.0</td>\n",
       "      <td>25.0</td>\n",
       "      <td>0.0</td>\n",
       "      <td>0.0</td>\n",
       "      <td>2.0</td>\n",
       "      <td>0.0</td>\n",
       "      <td>1.0</td>\n",
       "      <td>...</td>\n",
       "      <td>1.0</td>\n",
       "      <td>0.0</td>\n",
       "      <td>5.0</td>\n",
       "      <td>15.0</td>\n",
       "      <td>0.0</td>\n",
       "      <td>1.0</td>\n",
       "      <td>0.0</td>\n",
       "      <td>13.0</td>\n",
       "      <td>6.0</td>\n",
       "      <td>4.0</td>\n",
       "    </tr>\n",
       "    <tr>\n",
       "      <th>253671</th>\n",
       "      <td>1.0</td>\n",
       "      <td>1.0</td>\n",
       "      <td>1.0</td>\n",
       "      <td>1.0</td>\n",
       "      <td>23.0</td>\n",
       "      <td>0.0</td>\n",
       "      <td>1.0</td>\n",
       "      <td>0.0</td>\n",
       "      <td>0.0</td>\n",
       "      <td>0.0</td>\n",
       "      <td>...</td>\n",
       "      <td>1.0</td>\n",
       "      <td>1.0</td>\n",
       "      <td>4.0</td>\n",
       "      <td>0.0</td>\n",
       "      <td>5.0</td>\n",
       "      <td>0.0</td>\n",
       "      <td>1.0</td>\n",
       "      <td>8.0</td>\n",
       "      <td>3.0</td>\n",
       "      <td>2.0</td>\n",
       "    </tr>\n",
       "    <tr>\n",
       "      <th>253672</th>\n",
       "      <td>1.0</td>\n",
       "      <td>1.0</td>\n",
       "      <td>0.0</td>\n",
       "      <td>1.0</td>\n",
       "      <td>30.0</td>\n",
       "      <td>1.0</td>\n",
       "      <td>0.0</td>\n",
       "      <td>0.0</td>\n",
       "      <td>1.0</td>\n",
       "      <td>1.0</td>\n",
       "      <td>...</td>\n",
       "      <td>1.0</td>\n",
       "      <td>0.0</td>\n",
       "      <td>3.0</td>\n",
       "      <td>0.0</td>\n",
       "      <td>0.0</td>\n",
       "      <td>0.0</td>\n",
       "      <td>1.0</td>\n",
       "      <td>12.0</td>\n",
       "      <td>2.0</td>\n",
       "      <td>1.0</td>\n",
       "    </tr>\n",
       "    <tr>\n",
       "      <th>253679</th>\n",
       "      <td>1.0</td>\n",
       "      <td>1.0</td>\n",
       "      <td>1.0</td>\n",
       "      <td>1.0</td>\n",
       "      <td>25.0</td>\n",
       "      <td>0.0</td>\n",
       "      <td>0.0</td>\n",
       "      <td>2.0</td>\n",
       "      <td>1.0</td>\n",
       "      <td>1.0</td>\n",
       "      <td>...</td>\n",
       "      <td>1.0</td>\n",
       "      <td>0.0</td>\n",
       "      <td>2.0</td>\n",
       "      <td>0.0</td>\n",
       "      <td>0.0</td>\n",
       "      <td>0.0</td>\n",
       "      <td>0.0</td>\n",
       "      <td>9.0</td>\n",
       "      <td>6.0</td>\n",
       "      <td>2.0</td>\n",
       "    </tr>\n",
       "  </tbody>\n",
       "</table>\n",
       "<p>29866 rows × 22 columns</p>\n",
       "</div>"
      ],
      "text/plain": [
       "        HeartDiseaseorAttack  HighBP  HighChol  CholCheck   BMI  Smoker  \\\n",
       "237728                   0.0     1.0       1.0        1.0  23.0     1.0   \n",
       "214818                   0.0     1.0       1.0        0.0  26.0     0.0   \n",
       "2537                     0.0     0.0       0.0        1.0  22.0     1.0   \n",
       "5052                     0.0     0.0       0.0        1.0  26.0     0.0   \n",
       "158235                   0.0     0.0       0.0        1.0  18.0     0.0   \n",
       "...                      ...     ...       ...        ...   ...     ...   \n",
       "253668                   1.0     0.0       1.0        1.0  29.0     1.0   \n",
       "253670                   1.0     1.0       1.0        1.0  25.0     0.0   \n",
       "253671                   1.0     1.0       1.0        1.0  23.0     0.0   \n",
       "253672                   1.0     1.0       0.0        1.0  30.0     1.0   \n",
       "253679                   1.0     1.0       1.0        1.0  25.0     0.0   \n",
       "\n",
       "        Stroke  Diabetes  PhysActivity  Fruits  ...  AnyHealthcare  \\\n",
       "237728     0.0       0.0           1.0     0.0  ...            1.0   \n",
       "214818     0.0       0.0           1.0     0.0  ...            1.0   \n",
       "2537       0.0       0.0           0.0     0.0  ...            1.0   \n",
       "5052       0.0       0.0           1.0     1.0  ...            1.0   \n",
       "158235     0.0       0.0           1.0     1.0  ...            1.0   \n",
       "...        ...       ...           ...     ...  ...            ...   \n",
       "253668     0.0       2.0           0.0     1.0  ...            1.0   \n",
       "253670     0.0       2.0           0.0     1.0  ...            1.0   \n",
       "253671     1.0       0.0           0.0     0.0  ...            1.0   \n",
       "253672     0.0       0.0           1.0     1.0  ...            1.0   \n",
       "253679     0.0       2.0           1.0     1.0  ...            1.0   \n",
       "\n",
       "        NoDocbcCost  GenHlth  MentHlth  PhysHlth  DiffWalk  Sex   Age  \\\n",
       "237728          0.0      1.0       0.0       3.0       0.0  1.0  10.0   \n",
       "214818          0.0      2.0       0.0       0.0       0.0  1.0  10.0   \n",
       "2537            0.0      2.0       0.0       0.0       0.0  0.0   7.0   \n",
       "5052            0.0      3.0       0.0       2.0       0.0  0.0   8.0   \n",
       "158235          0.0      2.0       0.0       1.0       0.0  0.0   7.0   \n",
       "...             ...      ...       ...       ...       ...  ...   ...   \n",
       "253668          0.0      2.0       0.0       0.0       1.0  1.0  10.0   \n",
       "253670          0.0      5.0      15.0       0.0       1.0  0.0  13.0   \n",
       "253671          1.0      4.0       0.0       5.0       0.0  1.0   8.0   \n",
       "253672          0.0      3.0       0.0       0.0       0.0  1.0  12.0   \n",
       "253679          0.0      2.0       0.0       0.0       0.0  0.0   9.0   \n",
       "\n",
       "        Education  Income  \n",
       "237728        6.0     6.0  \n",
       "214818        5.0     8.0  \n",
       "2537          6.0     8.0  \n",
       "5052          6.0     8.0  \n",
       "158235        6.0     7.0  \n",
       "...           ...     ...  \n",
       "253668        3.0     6.0  \n",
       "253670        6.0     4.0  \n",
       "253671        3.0     2.0  \n",
       "253672        2.0     1.0  \n",
       "253679        6.0     2.0  \n",
       "\n",
       "[29866 rows x 22 columns]"
      ]
     },
     "execution_count": 81,
     "metadata": {},
     "output_type": "execute_result"
    }
   ],
   "source": [
    "df_non_heart = df[df.HeartDiseaseorAttack==0]\n",
    "df_non_heart = df_non_heart.sample(int(df.HeartDiseaseorAttack.value_counts()[1]/4))\n",
    "df_non_heart\n",
    "df_heart = df[df.HeartDiseaseorAttack==1]\n",
    "df_small = pd.concat([df_non_heart, df_heart])\n",
    "df_small"
   ]
  },
  {
   "cell_type": "code",
   "execution_count": 82,
   "id": "f9990f8f-beb3-4070-8bef-7b00dda20dcc",
   "metadata": {
    "tags": []
   },
   "outputs": [],
   "source": [
    "X = df_small.drop(columns='HeartDiseaseorAttack')\n",
    "y = df_small['HeartDiseaseorAttack']\n",
    "\n",
    "X_train, X_test, y_train, y_test = train_test_split(X, y, random_state=1, stratify=y)"
   ]
  },
  {
   "cell_type": "code",
   "execution_count": 96,
   "id": "f3bab28a-17e2-464e-8b3d-99c6d17e18d3",
   "metadata": {},
   "outputs": [
    {
     "data": {
      "text/plain": [
       "HighBP                1.0\n",
       "HighChol              1.0\n",
       "CholCheck             1.0\n",
       "BMI                  23.0\n",
       "Smoker                1.0\n",
       "Stroke                0.0\n",
       "Diabetes              0.0\n",
       "PhysActivity          1.0\n",
       "Fruits                1.0\n",
       "Veggies               0.0\n",
       "HvyAlcoholConsump     0.0\n",
       "AnyHealthcare         1.0\n",
       "NoDocbcCost           0.0\n",
       "GenHlth               4.0\n",
       "MentHlth              0.0\n",
       "PhysHlth              5.0\n",
       "DiffWalk              1.0\n",
       "Sex                   1.0\n",
       "Age                  12.0\n",
       "Education             5.0\n",
       "Income                3.0\n",
       "Name: 122235, dtype: float64"
      ]
     },
     "execution_count": 96,
     "metadata": {},
     "output_type": "execute_result"
    }
   ],
   "source": [
    "X_train.loc[122235]"
   ]
  },
  {
   "cell_type": "code",
   "execution_count": 107,
   "id": "7dc78064-916d-4ca6-a2ab-6e31d483e5ca",
   "metadata": {},
   "outputs": [
    {
     "data": {
      "text/plain": [
       "0.0    0.915823\n",
       "1.0    0.084177\n",
       "Name: NoDocbcCost, dtype: float64"
      ]
     },
     "execution_count": 107,
     "metadata": {},
     "output_type": "execute_result"
    }
   ],
   "source": [
    "df['NoDocbcCost'].value_counts(normalize = True)\n",
    "pd.DataFrame("
   ]
  },
  {
   "cell_type": "code",
   "execution_count": 117,
   "id": "39f4f121-6426-43ae-b51a-22934112be71",
   "metadata": {},
   "outputs": [
    {
     "data": {
      "text/html": [
       "<div>\n",
       "<style scoped>\n",
       "    .dataframe tbody tr th:only-of-type {\n",
       "        vertical-align: middle;\n",
       "    }\n",
       "\n",
       "    .dataframe tbody tr th {\n",
       "        vertical-align: top;\n",
       "    }\n",
       "\n",
       "    .dataframe thead th {\n",
       "        text-align: right;\n",
       "    }\n",
       "</style>\n",
       "<table border=\"1\" class=\"dataframe\">\n",
       "  <thead>\n",
       "    <tr style=\"text-align: right;\">\n",
       "      <th></th>\n",
       "      <th>a</th>\n",
       "      <th>b</th>\n",
       "      <th>c</th>\n",
       "    </tr>\n",
       "  </thead>\n",
       "  <tbody>\n",
       "    <tr>\n",
       "      <th>0</th>\n",
       "      <td>1</td>\n",
       "      <td>2</td>\n",
       "      <td>3</td>\n",
       "    </tr>\n",
       "  </tbody>\n",
       "</table>\n",
       "</div>"
      ],
      "text/plain": [
       "   a  b  c\n",
       "0  1  2  3"
      ]
     },
     "execution_count": 117,
     "metadata": {},
     "output_type": "execute_result"
    }
   ],
   "source": [
    "df2 = pd.DataFrame([[1, 2, 3]],\n",
    "                   columns=['a', 'b', 'c'])\n",
    "df2"
   ]
  },
  {
   "cell_type": "code",
   "execution_count": 114,
   "id": "31e3814e-80b3-4e40-9dd8-bb40e135ac11",
   "metadata": {},
   "outputs": [],
   "source": [
    "x = pd.DataFrame(np.array([[1,2,3,4,5,6,7,8,8,10,11,12,13,14,15,16,17,18,19,20,21]]), \n",
    "                 columns = ['HighBP', 'HighChol', 'CholCheck', 'BMI',\n",
    "        'Smoker', 'Stroke', 'Diabetes', 'PhysActivity', 'Fruits', 'Veggies',\n",
    "        'HvyAlcoholConsump', 'AnyHealthcare', 'NoDocbcCost', 'GenHlth',\n",
    "        'MentHlth', 'PhysHlth', 'DiffWalk', 'Sex', 'Age', 'Education',\n",
    "        'Income'])"
   ]
  },
  {
   "cell_type": "code",
   "execution_count": 83,
   "id": "74a43578-39f5-470e-aaff-0c4c6ceb96d0",
   "metadata": {
    "tags": []
   },
   "outputs": [],
   "source": [
    "pipe_ada = Pipeline([\n",
    "    ('ss', StandardScaler()),\n",
    "    ('abc', AdaBoostClassifier(learning_rate=0.5, n_estimators=50, random_state=1))\n",
    "])\n",
    "\n",
    "pipe_grad = Pipeline([\n",
    "    ('ss', StandardScaler()),\n",
    "    ('gbc', GradientBoostingClassifier(random_state=1))\n",
    "])\n",
    "\n",
    "pipe_km = Pipeline([\n",
    "    ('ss', StandardScaler()),\n",
    "    ('km', KMeans(random_state=1))\n",
    "])\n",
    "\n",
    "pipe_dbs = Pipeline([\n",
    "    ('ss', StandardScaler()),\n",
    "    ('dbs', DBSCAN())\n",
    "])\n",
    "\n",
    "pipe_xgb = Pipeline([\n",
    "    ('ss', StandardScaler()),\n",
    "    ('xgb', xgb.XGBClassifier())\n",
    "])"
   ]
  },
  {
   "cell_type": "code",
   "execution_count": 84,
   "id": "7b7fedcc-fc50-4f65-9306-66343d144839",
   "metadata": {
    "tags": []
   },
   "outputs": [
    {
     "data": {
      "text/plain": [
       "(0.8593240769677217, 0.854693986875586)"
      ]
     },
     "execution_count": 84,
     "metadata": {},
     "output_type": "execute_result"
    }
   ],
   "source": [
    "pipe_ada.fit(X_train, y_train)\n",
    "\n",
    "pipe_ada.score(X_train, y_train), pipe_ada.score(X_test, y_test)"
   ]
  },
  {
   "cell_type": "code",
   "execution_count": 85,
   "id": "91dbdcda-ffe7-4f68-87d9-778efb34d9fe",
   "metadata": {
    "tags": []
   },
   "outputs": [
    {
     "data": {
      "text/plain": [
       "(0.8640564310906736, 0.8579081291013794)"
      ]
     },
     "execution_count": 85,
     "metadata": {},
     "output_type": "execute_result"
    }
   ],
   "source": [
    "pipe_grad.fit(X_train, y_train)\n",
    "\n",
    "pipe_grad.score(X_train, y_train), pipe_grad.score(X_test, y_test)"
   ]
  },
  {
   "cell_type": "code",
   "execution_count": 86,
   "id": "aa60548d-17e0-45f1-b8de-4c470537f91f",
   "metadata": {
    "tags": []
   },
   "outputs": [
    {
     "data": {
      "text/plain": [
       "(0.89945979731238, 0.8528190705772064)"
      ]
     },
     "execution_count": 86,
     "metadata": {},
     "output_type": "execute_result"
    }
   ],
   "source": [
    "pipe_xgb.fit(X_train, y_train)\n",
    "\n",
    "pipe_xgb.score(X_train, y_train), pipe_xgb.score(X_test, y_test)"
   ]
  },
  {
   "cell_type": "markdown",
   "id": "1781badb-62a7-4ede-b418-69d11a0b62fc",
   "metadata": {},
   "source": [
    "## GridSearching for hyperparams - DON'T run these!\n",
    "\n",
    "This excludes the clustering models below."
   ]
  },
  {
   "cell_type": "code",
   "execution_count": 12,
   "id": "474fb9ff-0388-4dda-9f6d-3dbc89bfaa29",
   "metadata": {
    "execution": {
     "iopub.execute_input": "2022-09-21T01:55:11.039378Z",
     "iopub.status.busy": "2022-09-21T01:55:11.038413Z",
     "iopub.status.idle": "2022-09-21T01:55:11.045000Z",
     "shell.execute_reply": "2022-09-21T01:55:11.044158Z",
     "shell.execute_reply.started": "2022-09-21T01:55:11.039330Z"
    },
    "tags": []
   },
   "outputs": [],
   "source": [
    "#ada_params = {\n",
    "#    'n_estimators': [25, 50, 100, 250],\n",
    "#    'learning_rate': [0.5, 1.0, 1.5, 2.0, 2.5],\n",
    "#}\n",
    "\n",
    "#gs_ada = GridSearchCV(AdaBoostClassifier(), param_grid=ada_params, cv=5, verbose=1)\n",
    "\n",
    "# Fit the GridSearchCV object to the data\n",
    "#gs_ada.fit(pipe_ada['ss'].fit_transform(X_train), y_train)\n",
    "\n"
   ]
  },
  {
   "cell_type": "code",
   "execution_count": 60,
   "id": "780a18a7-4993-4701-9e39-e00facbb9aaf",
   "metadata": {
    "execution": {
     "iopub.execute_input": "2022-09-19T20:56:20.309169Z",
     "iopub.status.busy": "2022-09-19T20:56:20.309090Z",
     "iopub.status.idle": "2022-09-19T20:56:20.311373Z",
     "shell.execute_reply": "2022-09-19T20:56:20.311116Z",
     "shell.execute_reply.started": "2022-09-19T20:56:20.309161Z"
    }
   },
   "outputs": [
    {
     "data": {
      "text/plain": [
       "{'learning_rate': 0.5, 'n_estimators': 25}"
      ]
     },
     "execution_count": 60,
     "metadata": {},
     "output_type": "execute_result"
    }
   ],
   "source": [
    "#gs_ada.best_params_"
   ]
  },
  {
   "cell_type": "code",
   "execution_count": 65,
   "id": "f1836a40-ea65-44c3-9b06-78f319a8f3ec",
   "metadata": {
    "execution": {
     "iopub.execute_input": "2022-09-19T20:58:26.643040Z",
     "iopub.status.busy": "2022-09-19T20:58:26.642635Z",
     "iopub.status.idle": "2022-09-19T20:58:26.648284Z",
     "shell.execute_reply": "2022-09-19T20:58:26.647509Z",
     "shell.execute_reply.started": "2022-09-19T20:58:26.643013Z"
    }
   },
   "outputs": [
    {
     "data": {
      "text/plain": [
       "0.9074529591085883"
      ]
     },
     "execution_count": 65,
     "metadata": {},
     "output_type": "execute_result"
    }
   ],
   "source": [
    "#gs_ada.best_score_"
   ]
  },
  {
   "cell_type": "code",
   "execution_count": 13,
   "id": "bf903de5-ed3e-432b-bd14-e8c47240d67a",
   "metadata": {
    "execution": {
     "iopub.execute_input": "2022-09-21T01:55:28.930055Z",
     "iopub.status.busy": "2022-09-21T01:55:28.929389Z",
     "iopub.status.idle": "2022-09-21T01:55:28.935406Z",
     "shell.execute_reply": "2022-09-21T01:55:28.934220Z",
     "shell.execute_reply.started": "2022-09-21T01:55:28.930007Z"
    },
    "tags": []
   },
   "outputs": [],
   "source": [
    "# grad_params = {\n",
    "#     'n_estimators': [50, 100, 250, 500],\n",
    "#     'min_samples_split': [2, 5, 10],\n",
    "# }\n",
    "\n",
    "# gs_grad = GridSearchCV(GradientBoostingClassifier(), param_grid=grad_params, cv=5, verbose=1)\n",
    "\n",
    "# # Fit the GridSearchCV object to the data\n",
    "# gs_grad.fit(pipe_grad['ss'].fit_transform(X_train), y_train)\n"
   ]
  },
  {
   "cell_type": "code",
   "execution_count": 66,
   "id": "129406ef-34fc-4a41-aba6-4a60b4d60831",
   "metadata": {
    "execution": {
     "iopub.execute_input": "2022-09-19T21:00:01.107923Z",
     "iopub.status.busy": "2022-09-19T21:00:01.107498Z",
     "iopub.status.idle": "2022-09-19T21:00:01.114003Z",
     "shell.execute_reply": "2022-09-19T21:00:01.113253Z",
     "shell.execute_reply.started": "2022-09-19T21:00:01.107896Z"
    }
   },
   "outputs": [
    {
     "data": {
      "text/plain": [
       "{'min_samples_split': 2, 'n_estimators': 50}"
      ]
     },
     "execution_count": 66,
     "metadata": {},
     "output_type": "execute_result"
    }
   ],
   "source": [
    "#gs_grad.best_params_"
   ]
  },
  {
   "cell_type": "code",
   "execution_count": 67,
   "id": "f634f646-7786-46e2-8046-9c62d13ead11",
   "metadata": {
    "execution": {
     "iopub.execute_input": "2022-09-19T21:00:19.842430Z",
     "iopub.status.busy": "2022-09-19T21:00:19.841994Z",
     "iopub.status.idle": "2022-09-19T21:00:19.847953Z",
     "shell.execute_reply": "2022-09-19T21:00:19.847276Z",
     "shell.execute_reply.started": "2022-09-19T21:00:19.842395Z"
    }
   },
   "outputs": [
    {
     "data": {
      "text/plain": [
       "0.9081520025228634"
      ]
     },
     "execution_count": 67,
     "metadata": {},
     "output_type": "execute_result"
    }
   ],
   "source": [
    "#gs_grad.best_score_"
   ]
  },
  {
   "cell_type": "code",
   "execution_count": 70,
   "id": "67d746a7-d8ca-497b-803f-91b5113be5f7",
   "metadata": {
    "execution": {
     "iopub.execute_input": "2022-09-19T21:08:46.829555Z",
     "iopub.status.busy": "2022-09-19T21:08:46.829164Z",
     "iopub.status.idle": "2022-09-19T21:10:07.663055Z",
     "shell.execute_reply": "2022-09-19T21:10:07.662727Z",
     "shell.execute_reply.started": "2022-09-19T21:08:46.829530Z"
    },
    "tags": []
   },
   "outputs": [
    {
     "name": "stdout",
     "output_type": "stream",
     "text": [
      "Fitting 2 folds for each of 16 candidates, totalling 32 fits\n"
     ]
    },
    {
     "data": {
      "text/html": [
       "<style>#sk-container-id-3 {color: black;background-color: white;}#sk-container-id-3 pre{padding: 0;}#sk-container-id-3 div.sk-toggleable {background-color: white;}#sk-container-id-3 label.sk-toggleable__label {cursor: pointer;display: block;width: 100%;margin-bottom: 0;padding: 0.3em;box-sizing: border-box;text-align: center;}#sk-container-id-3 label.sk-toggleable__label-arrow:before {content: \"▸\";float: left;margin-right: 0.25em;color: #696969;}#sk-container-id-3 label.sk-toggleable__label-arrow:hover:before {color: black;}#sk-container-id-3 div.sk-estimator:hover label.sk-toggleable__label-arrow:before {color: black;}#sk-container-id-3 div.sk-toggleable__content {max-height: 0;max-width: 0;overflow: hidden;text-align: left;background-color: #f0f8ff;}#sk-container-id-3 div.sk-toggleable__content pre {margin: 0.2em;color: black;border-radius: 0.25em;background-color: #f0f8ff;}#sk-container-id-3 input.sk-toggleable__control:checked~div.sk-toggleable__content {max-height: 200px;max-width: 100%;overflow: auto;}#sk-container-id-3 input.sk-toggleable__control:checked~label.sk-toggleable__label-arrow:before {content: \"▾\";}#sk-container-id-3 div.sk-estimator input.sk-toggleable__control:checked~label.sk-toggleable__label {background-color: #d4ebff;}#sk-container-id-3 div.sk-label input.sk-toggleable__control:checked~label.sk-toggleable__label {background-color: #d4ebff;}#sk-container-id-3 input.sk-hidden--visually {border: 0;clip: rect(1px 1px 1px 1px);clip: rect(1px, 1px, 1px, 1px);height: 1px;margin: -1px;overflow: hidden;padding: 0;position: absolute;width: 1px;}#sk-container-id-3 div.sk-estimator {font-family: monospace;background-color: #f0f8ff;border: 1px dotted black;border-radius: 0.25em;box-sizing: border-box;margin-bottom: 0.5em;}#sk-container-id-3 div.sk-estimator:hover {background-color: #d4ebff;}#sk-container-id-3 div.sk-parallel-item::after {content: \"\";width: 100%;border-bottom: 1px solid gray;flex-grow: 1;}#sk-container-id-3 div.sk-label:hover label.sk-toggleable__label {background-color: #d4ebff;}#sk-container-id-3 div.sk-serial::before {content: \"\";position: absolute;border-left: 1px solid gray;box-sizing: border-box;top: 0;bottom: 0;left: 50%;z-index: 0;}#sk-container-id-3 div.sk-serial {display: flex;flex-direction: column;align-items: center;background-color: white;padding-right: 0.2em;padding-left: 0.2em;position: relative;}#sk-container-id-3 div.sk-item {position: relative;z-index: 1;}#sk-container-id-3 div.sk-parallel {display: flex;align-items: stretch;justify-content: center;background-color: white;position: relative;}#sk-container-id-3 div.sk-item::before, #sk-container-id-3 div.sk-parallel-item::before {content: \"\";position: absolute;border-left: 1px solid gray;box-sizing: border-box;top: 0;bottom: 0;left: 50%;z-index: -1;}#sk-container-id-3 div.sk-parallel-item {display: flex;flex-direction: column;z-index: 1;position: relative;background-color: white;}#sk-container-id-3 div.sk-parallel-item:first-child::after {align-self: flex-end;width: 50%;}#sk-container-id-3 div.sk-parallel-item:last-child::after {align-self: flex-start;width: 50%;}#sk-container-id-3 div.sk-parallel-item:only-child::after {width: 0;}#sk-container-id-3 div.sk-dashed-wrapped {border: 1px dashed gray;margin: 0 0.4em 0.5em 0.4em;box-sizing: border-box;padding-bottom: 0.4em;background-color: white;}#sk-container-id-3 div.sk-label label {font-family: monospace;font-weight: bold;display: inline-block;line-height: 1.2em;}#sk-container-id-3 div.sk-label-container {text-align: center;}#sk-container-id-3 div.sk-container {/* jupyter's `normalize.less` sets `[hidden] { display: none; }` but bootstrap.min.css set `[hidden] { display: none !important; }` so we also need the `!important` here to be able to override the default hidden behavior on the sphinx rendered scikit-learn.org. See: https://github.com/scikit-learn/scikit-learn/issues/21755 */display: inline-block !important;position: relative;}#sk-container-id-3 div.sk-text-repr-fallback {display: none;}</style><div id=\"sk-container-id-3\" class=\"sk-top-container\"><div class=\"sk-text-repr-fallback\"><pre>GridSearchCV(cv=2,\n",
       "             estimator=XGBClassifier(base_score=None, booster=None,\n",
       "                                     callbacks=None, colsample_bylevel=None,\n",
       "                                     colsample_bynode=None,\n",
       "                                     colsample_bytree=None,\n",
       "                                     early_stopping_rounds=None,\n",
       "                                     enable_categorical=False, eval_metric=None,\n",
       "                                     gamma=None, gpu_id=None, grow_policy=None,\n",
       "                                     importance_type=None,\n",
       "                                     interaction_constraints=None,\n",
       "                                     learning_rate=None, max_bin=None,\n",
       "                                     max_cat_to_onehot=None,\n",
       "                                     max_delta_step=None, max_depth=None,\n",
       "                                     max_leaves=None, min_child_weight=None,\n",
       "                                     missing=nan, monotone_constraints=None,\n",
       "                                     n_estimators=100, n_jobs=None,\n",
       "                                     num_parallel_tree=None, predictor=None,\n",
       "                                     random_state=None, reg_alpha=None,\n",
       "                                     reg_lambda=None, ...),\n",
       "             param_grid={&#x27;learning_rate&#x27;: [0.5, 1.0, 1.5, 2.0],\n",
       "                         &#x27;n_estimators&#x27;: [25, 50, 100, 250]},\n",
       "             verbose=1)</pre><b>In a Jupyter environment, please rerun this cell to show the HTML representation or trust the notebook. <br />On GitHub, the HTML representation is unable to render, please try loading this page with nbviewer.org.</b></div><div class=\"sk-container\" hidden><div class=\"sk-item sk-dashed-wrapped\"><div class=\"sk-label-container\"><div class=\"sk-label sk-toggleable\"><input class=\"sk-toggleable__control sk-hidden--visually\" id=\"sk-estimator-id-7\" type=\"checkbox\" ><label for=\"sk-estimator-id-7\" class=\"sk-toggleable__label sk-toggleable__label-arrow\">GridSearchCV</label><div class=\"sk-toggleable__content\"><pre>GridSearchCV(cv=2,\n",
       "             estimator=XGBClassifier(base_score=None, booster=None,\n",
       "                                     callbacks=None, colsample_bylevel=None,\n",
       "                                     colsample_bynode=None,\n",
       "                                     colsample_bytree=None,\n",
       "                                     early_stopping_rounds=None,\n",
       "                                     enable_categorical=False, eval_metric=None,\n",
       "                                     gamma=None, gpu_id=None, grow_policy=None,\n",
       "                                     importance_type=None,\n",
       "                                     interaction_constraints=None,\n",
       "                                     learning_rate=None, max_bin=None,\n",
       "                                     max_cat_to_onehot=None,\n",
       "                                     max_delta_step=None, max_depth=None,\n",
       "                                     max_leaves=None, min_child_weight=None,\n",
       "                                     missing=nan, monotone_constraints=None,\n",
       "                                     n_estimators=100, n_jobs=None,\n",
       "                                     num_parallel_tree=None, predictor=None,\n",
       "                                     random_state=None, reg_alpha=None,\n",
       "                                     reg_lambda=None, ...),\n",
       "             param_grid={&#x27;learning_rate&#x27;: [0.5, 1.0, 1.5, 2.0],\n",
       "                         &#x27;n_estimators&#x27;: [25, 50, 100, 250]},\n",
       "             verbose=1)</pre></div></div></div><div class=\"sk-parallel\"><div class=\"sk-parallel-item\"><div class=\"sk-item\"><div class=\"sk-label-container\"><div class=\"sk-label sk-toggleable\"><input class=\"sk-toggleable__control sk-hidden--visually\" id=\"sk-estimator-id-8\" type=\"checkbox\" ><label for=\"sk-estimator-id-8\" class=\"sk-toggleable__label sk-toggleable__label-arrow\">estimator: XGBClassifier</label><div class=\"sk-toggleable__content\"><pre>XGBClassifier(base_score=None, booster=None, callbacks=None,\n",
       "              colsample_bylevel=None, colsample_bynode=None,\n",
       "              colsample_bytree=None, early_stopping_rounds=None,\n",
       "              enable_categorical=False, eval_metric=None, gamma=None,\n",
       "              gpu_id=None, grow_policy=None, importance_type=None,\n",
       "              interaction_constraints=None, learning_rate=None, max_bin=None,\n",
       "              max_cat_to_onehot=None, max_delta_step=None, max_depth=None,\n",
       "              max_leaves=None, min_child_weight=None, missing=nan,\n",
       "              monotone_constraints=None, n_estimators=100, n_jobs=None,\n",
       "              num_parallel_tree=None, predictor=None, random_state=None,\n",
       "              reg_alpha=None, reg_lambda=None, ...)</pre></div></div></div><div class=\"sk-serial\"><div class=\"sk-item\"><div class=\"sk-estimator sk-toggleable\"><input class=\"sk-toggleable__control sk-hidden--visually\" id=\"sk-estimator-id-9\" type=\"checkbox\" ><label for=\"sk-estimator-id-9\" class=\"sk-toggleable__label sk-toggleable__label-arrow\">XGBClassifier</label><div class=\"sk-toggleable__content\"><pre>XGBClassifier(base_score=None, booster=None, callbacks=None,\n",
       "              colsample_bylevel=None, colsample_bynode=None,\n",
       "              colsample_bytree=None, early_stopping_rounds=None,\n",
       "              enable_categorical=False, eval_metric=None, gamma=None,\n",
       "              gpu_id=None, grow_policy=None, importance_type=None,\n",
       "              interaction_constraints=None, learning_rate=None, max_bin=None,\n",
       "              max_cat_to_onehot=None, max_delta_step=None, max_depth=None,\n",
       "              max_leaves=None, min_child_weight=None, missing=nan,\n",
       "              monotone_constraints=None, n_estimators=100, n_jobs=None,\n",
       "              num_parallel_tree=None, predictor=None, random_state=None,\n",
       "              reg_alpha=None, reg_lambda=None, ...)</pre></div></div></div></div></div></div></div></div></div></div>"
      ],
      "text/plain": [
       "GridSearchCV(cv=2,\n",
       "             estimator=XGBClassifier(base_score=None, booster=None,\n",
       "                                     callbacks=None, colsample_bylevel=None,\n",
       "                                     colsample_bynode=None,\n",
       "                                     colsample_bytree=None,\n",
       "                                     early_stopping_rounds=None,\n",
       "                                     enable_categorical=False, eval_metric=None,\n",
       "                                     gamma=None, gpu_id=None, grow_policy=None,\n",
       "                                     importance_type=None,\n",
       "                                     interaction_constraints=None,\n",
       "                                     learning_rate=None, max_bin=None,\n",
       "                                     max_cat_to_onehot=None,\n",
       "                                     max_delta_step=None, max_depth=None,\n",
       "                                     max_leaves=None, min_child_weight=None,\n",
       "                                     missing=nan, monotone_constraints=None,\n",
       "                                     n_estimators=100, n_jobs=None,\n",
       "                                     num_parallel_tree=None, predictor=None,\n",
       "                                     random_state=None, reg_alpha=None,\n",
       "                                     reg_lambda=None, ...),\n",
       "             param_grid={'learning_rate': [0.5, 1.0, 1.5, 2.0],\n",
       "                         'n_estimators': [25, 50, 100, 250]},\n",
       "             verbose=1)"
      ]
     },
     "execution_count": 70,
     "metadata": {},
     "output_type": "execute_result"
    }
   ],
   "source": [
    "# xgb_params = {\n",
    "#     'n_estimators': [25, 50, 100, 250],\n",
    "#     'learning_rate': [0.5, 1.0, 1.5, 2.0],\n",
    "# }\n",
    "\n",
    "# gs_xgb = GridSearchCV(xgb.XGBClassifier(), param_grid=xgb_params, cv=2, verbose=1)\n",
    "\n",
    "# # Fit the GridSearchCV object to the data\n",
    "# gs_xgb.fit(pipe_xgb['ss'].fit_transform(X_train), y_train)\n"
   ]
  },
  {
   "cell_type": "code",
   "execution_count": 71,
   "id": "b1757c32-41f0-4ac5-bd2d-73967f749b09",
   "metadata": {
    "execution": {
     "iopub.execute_input": "2022-09-19T21:10:39.821857Z",
     "iopub.status.busy": "2022-09-19T21:10:39.821364Z",
     "iopub.status.idle": "2022-09-19T21:10:39.826568Z",
     "shell.execute_reply": "2022-09-19T21:10:39.825833Z",
     "shell.execute_reply.started": "2022-09-19T21:10:39.821829Z"
    }
   },
   "outputs": [
    {
     "data": {
      "text/plain": [
       "{'learning_rate': 0.5, 'n_estimators': 25}"
      ]
     },
     "execution_count": 71,
     "metadata": {},
     "output_type": "execute_result"
    }
   ],
   "source": [
    "#gs_xgb.best_params_"
   ]
  },
  {
   "cell_type": "code",
   "execution_count": 14,
   "id": "80acb03e-1ffe-4c1f-9ccf-b03b4005a988",
   "metadata": {
    "execution": {
     "iopub.execute_input": "2022-09-21T01:55:58.247273Z",
     "iopub.status.busy": "2022-09-21T01:55:58.246582Z",
     "iopub.status.idle": "2022-09-21T01:55:58.252484Z",
     "shell.execute_reply": "2022-09-21T01:55:58.251426Z",
     "shell.execute_reply.started": "2022-09-21T01:55:58.247222Z"
    },
    "tags": []
   },
   "outputs": [],
   "source": [
    "#gs_xgb.best_score_"
   ]
  },
  {
   "cell_type": "markdown",
   "id": "38413036-c66f-42e7-9292-f04ab2380f65",
   "metadata": {},
   "source": [
    "## Don't run these lol"
   ]
  },
  {
   "cell_type": "code",
   "execution_count": 22,
   "id": "6bba66c0-af70-4553-b644-3513b0307771",
   "metadata": {
    "execution": {
     "iopub.execute_input": "2022-09-18T20:58:15.235124Z",
     "iopub.status.busy": "2022-09-18T20:58:15.234441Z",
     "iopub.status.idle": "2022-09-18T21:05:09.992708Z",
     "shell.execute_reply": "2022-09-18T21:05:09.992394Z",
     "shell.execute_reply.started": "2022-09-18T20:58:15.235077Z"
    },
    "tags": []
   },
   "outputs": [
    {
     "data": {
      "text/plain": [
       "(0.08162067175369862, 4688375.300274653)"
      ]
     },
     "execution_count": 22,
     "metadata": {},
     "output_type": "execute_result"
    }
   ],
   "source": [
    "pipe_km.fit(df)\n",
    "\n",
    "silhouette_score(pipe_km['ss'].fit_transform(df), pipe_km['km'].labels_), pipe_km['km'].inertia_"
   ]
  },
  {
   "cell_type": "code",
   "execution_count": 27,
   "id": "456b4bd0-44cb-4f9b-b767-a8a12de8db76",
   "metadata": {
    "execution": {
     "iopub.execute_input": "2022-09-18T21:17:21.467179Z",
     "iopub.status.busy": "2022-09-18T21:17:21.466503Z",
     "iopub.status.idle": "2022-09-18T21:17:48.065502Z",
     "shell.execute_reply": "2022-09-18T21:17:48.065125Z",
     "shell.execute_reply.started": "2022-09-18T21:17:21.467133Z"
    },
    "tags": []
   },
   "outputs": [
    {
     "name": "stdout",
     "output_type": "stream",
     "text": [
      "now evaluating k=2\n",
      "now evaluating k=3\n",
      "now evaluating k=4\n",
      "now evaluating k=5\n",
      "now evaluating k=6\n",
      "now evaluating k=7\n",
      "now evaluating k=8\n",
      "now evaluating k=9\n",
      "now evaluating k=10\n",
      "now evaluating k=11\n",
      "now evaluating k=12\n",
      "now evaluating k=13\n",
      "now evaluating k=14\n",
      "now evaluating k=15\n"
     ]
    },
    {
     "data": {
      "text/plain": [
       "[<matplotlib.lines.Line2D at 0x157d03670>]"
      ]
     },
     "execution_count": 27,
     "metadata": {},
     "output_type": "execute_result"
    },
    {
     "data": {
      "image/png": "[encoded data removed]",
      "text/plain": [
       "<Figure size 640x480 with 1 Axes>"
      ]
     },
     "metadata": {},
     "output_type": "display_data"
    }
   ],
   "source": [
    "scores = []\n",
    "\n",
    "for k in range(2, 16):\n",
    "    print(f'now evaluating k={k}')\n",
    "    kmeans = KMeans(n_clusters=k, random_state=1)\n",
    "    kmeans.fit(pipe_km['ss'].fit_transform(df))\n",
    "    scores.append([k, kmeans.inertia_])\n",
    "\n",
    "inertia_df = pd.DataFrame(scores, columns=['n_clusters', 'inertia'])\n",
    "plt.plot(inertia_df['n_clusters'], inertia_df['inertia'])"
   ]
  },
  {
   "cell_type": "code",
   "execution_count": 23,
   "id": "4d1cb5e1-fbb7-4f32-9862-b5f1f8568328",
   "metadata": {
    "execution": {
     "iopub.execute_input": "2022-09-18T21:05:33.946435Z",
     "iopub.status.busy": "2022-09-18T21:05:33.946039Z",
     "iopub.status.idle": "2022-09-18T21:13:16.547500Z",
     "shell.execute_reply": "2022-09-18T21:13:16.547136Z",
     "shell.execute_reply.started": "2022-09-18T21:05:33.946409Z"
    }
   },
   "outputs": [
    {
     "data": {
      "text/plain": [
       "-0.34113081792698824"
      ]
     },
     "execution_count": 23,
     "metadata": {},
     "output_type": "execute_result"
    }
   ],
   "source": [
    "pipe_dbs.fit(df)\n",
    "\n",
    "silhouette_score(pipe_dbs['ss'].fit_transform(df), pipe_dbs['dbs'].labels_)"
   ]
  },
  {
   "cell_type": "markdown",
   "id": "3e9dbd60-e32e-4764-99d1-9cd9887ab1e8",
   "metadata": {},
   "source": [
    "## Confusion matrices\n",
    "\n",
    "Initial = Ada minimizes false negatives which is probably the best result for which to optimize."
   ]
  },
  {
   "cell_type": "code",
   "execution_count": 87,
   "id": "a5f8fc67-cc5c-45e4-b349-86095088ebc1",
   "metadata": {
    "tags": []
   },
   "outputs": [
    {
     "name": "stdout",
     "output_type": "stream",
     "text": [
      "True positives:  5643\n",
      "False positives:  768\n",
      "True negatives:  725\n",
      "False negatives:  331\n",
      "Accuracy:  0.8528190705772064\n",
      "True pos rate/recall/sensitivity:  0.9445932373619016\n",
      "False pos rate:  0.5144005358338914\n",
      "True neg rate/specificity:  0.4855994641661085\n",
      "Precision:  0.8802058961160505\n",
      "              precision    recall  f1-score   support\n",
      "\n",
      "      No HDA       0.69      0.49      0.57      1493\n",
      "     Yes HDA       0.88      0.94      0.91      5974\n",
      "\n",
      "    accuracy                           0.85      7467\n",
      "   macro avg       0.78      0.72      0.74      7467\n",
      "weighted avg       0.84      0.85      0.84      7467\n",
      "\n"
     ]
    },
    {
     "data": {
      "image/png": "[encoded data removed]",
      "text/plain": [
       "<Figure size 640x480 with 2 Axes>"
      ]
     },
     "metadata": {},
     "output_type": "display_data"
    }
   ],
   "source": [
    "ConfusionMatrixDisplay.from_estimator(pipe_xgb.fit(X_train, y_train), X_test, y_test, display_labels=['No HDA', 'Yes HDA'])\n",
    "plt.title('XGBoost');\n",
    "predict_xgb = pipe_xgb.predict(X_test)\n",
    "tp_xgb = sum((y_test == 1) & (predict_xgb == 1))\n",
    "fp_xgb = sum((y_test == 0) & (predict_xgb == 1))\n",
    "tn_xgb = sum((y_test == 0) & (predict_xgb == 0))\n",
    "fn_xgb = sum((y_test == 1) & (predict_xgb == 0))\n",
    "print('True positives: ', tp_xgb)\n",
    "print('False positives: ', fp_xgb)\n",
    "print('True negatives: ', tn_xgb)\n",
    "print('False negatives: ', fn_xgb)\n",
    "\n",
    "print('Accuracy: ', (tp_xgb + tn_xgb) / (tp_xgb + tn_xgb + fp_xgb + fn_xgb))\n",
    "print('True pos rate/recall/sensitivity: ', tp_xgb / (tp_xgb + fn_xgb))\n",
    "print('False pos rate: ', fp_xgb / (tn_xgb + fp_xgb))\n",
    "print('True neg rate/specificity: ', tn_xgb / (tn_xgb + fp_xgb))\n",
    "print('Precision: ', tp_xgb / (tp_xgb + fp_xgb))\n",
    "\n",
    "from sklearn.metrics import classification_report\n",
    "\n",
    "print(classification_report(y_test, predict_xgb, target_names=['No HDA', 'Yes HDA']))"
   ]
  },
  {
   "cell_type": "code",
   "execution_count": null,
   "id": "f773833a-53cf-4879-91c5-605a01c99bc3",
   "metadata": {},
   "outputs": [],
   "source": []
  },
  {
   "cell_type": "code",
   "execution_count": 90,
   "id": "fe644993-fca1-4167-a666-46382dbcc73f",
   "metadata": {},
   "outputs": [
    {
     "name": "stdout",
     "output_type": "stream",
     "text": [
      "True positives:  23055\n",
      "False positives:  119045\n",
      "True negatives:  110742\n",
      "False negatives:  838\n",
      "Accuracy:  0.5274243140964995\n",
      "True pos rate/recall/sensitivity:  0.9649269660570041\n",
      "False pos rate:  0.5180667313642634\n",
      "True neg rate/specificity:  0.4819332686357366\n",
      "Precision:  0.16224489795918368\n",
      "              precision    recall  f1-score   support\n",
      "\n",
      "      No HDA       0.99      0.48      0.65    229787\n",
      "     Yes HDA       0.16      0.96      0.28     23893\n",
      "\n",
      "    accuracy                           0.53    253680\n",
      "   macro avg       0.58      0.72      0.46    253680\n",
      "weighted avg       0.91      0.53      0.61    253680\n",
      "\n"
     ]
    }
   ],
   "source": [
    "# ConfusionMatrixDisplay.from_estimator(pipe_xgb.fit(X_train, y_train), X_test, y_test, display_labels=['No HDA', 'Yes HDA'])\n",
    "# plt.title('XGBoost');\n",
    "predict_xgb = pipe_xgb.predict(df.drop(columns = ['HeartDiseaseorAttack']))\n",
    "                            \n",
    "y_test = df['HeartDiseaseorAttack']         \n",
    "tp_xgb = sum((y_test == 1) & (predict_xgb == 1))\n",
    "fp_xgb = sum((y_test == 0) & (predict_xgb == 1))\n",
    "tn_xgb = sum((y_test == 0) & (predict_xgb == 0))\n",
    "fn_xgb = sum((y_test == 1) & (predict_xgb == 0))\n",
    "print('True positives: ', tp_xgb)\n",
    "print('False positives: ', fp_xgb)\n",
    "print('True negatives: ', tn_xgb)\n",
    "print('False negatives: ', fn_xgb)\n",
    "\n",
    "print('Accuracy: ', (tp_xgb + tn_xgb) / (tp_xgb + tn_xgb + fp_xgb + fn_xgb))\n",
    "print('True pos rate/recall/sensitivity: ', tp_xgb / (tp_xgb + fn_xgb))\n",
    "print('False pos rate: ', fp_xgb / (tn_xgb + fp_xgb))\n",
    "print('True neg rate/specificity: ', tn_xgb / (tn_xgb + fp_xgb))\n",
    "print('Precision: ', tp_xgb / (tp_xgb + fp_xgb))\n",
    "\n",
    "from sklearn.metrics import classification_report\n",
    "\n",
    "print(classification_report(y_test, predict_xgb, target_names=['No HDA', 'Yes HDA']))"
   ]
  },
  {
   "cell_type": "code",
   "execution_count": 91,
   "id": "75c69a4e-dc70-46f1-9b44-7bf991e6d5b4",
   "metadata": {},
   "outputs": [
    {
     "data": {
      "text/plain": [
       "0.9649269660570041"
      ]
     },
     "execution_count": 91,
     "metadata": {},
     "output_type": "execute_result"
    }
   ],
   "source": [
    "23055/(23055+838)"
   ]
  },
  {
   "cell_type": "code",
   "execution_count": null,
   "id": "793b4384-0ec0-49c7-af56-0b88ae5a8ce6",
   "metadata": {},
   "outputs": [],
   "source": []
  },
  {
   "cell_type": "code",
   "execution_count": null,
   "id": "2afb5669-6db0-4b03-afdf-c085fd578cfd",
   "metadata": {},
   "outputs": [],
   "source": []
  },
  {
   "cell_type": "code",
   "execution_count": null,
   "id": "a0f9b33d-4cff-4322-a891-f2b7b2bf7053",
   "metadata": {},
   "outputs": [],
   "source": []
  },
  {
   "cell_type": "code",
   "execution_count": null,
   "id": "8608abb1-9e65-4487-9b87-c9180d6523eb",
   "metadata": {},
   "outputs": [],
   "source": []
  },
  {
   "cell_type": "code",
   "execution_count": null,
   "id": "e3827a85-a8a8-4a3a-aa76-2e20c5c8d631",
   "metadata": {},
   "outputs": [],
   "source": []
  },
  {
   "cell_type": "code",
   "execution_count": null,
   "id": "c703d824-e728-4cc7-b63c-d02196753022",
   "metadata": {},
   "outputs": [],
   "source": []
  },
  {
   "cell_type": "code",
   "execution_count": null,
   "id": "15bd49a4-e878-40e8-adf4-44820cfa8cc1",
   "metadata": {},
   "outputs": [],
   "source": []
  },
  {
   "cell_type": "code",
   "execution_count": null,
   "id": "59002fda-299a-4907-ac89-c4b9349126aa",
   "metadata": {},
   "outputs": [],
   "source": []
  },
  {
   "cell_type": "code",
   "execution_count": null,
   "id": "06c6f693-d906-461e-afad-ffc3403d91e7",
   "metadata": {},
   "outputs": [],
   "source": []
  },
  {
   "cell_type": "code",
   "execution_count": null,
   "id": "ca753042-762c-46e7-a3e7-3c0483384913",
   "metadata": {},
   "outputs": [],
   "source": []
  },
  {
   "cell_type": "code",
   "execution_count": 88,
   "id": "86bc0533-dda2-4bc2-96eb-2f561f516953",
   "metadata": {
    "tags": []
   },
   "outputs": [
    {
     "name": "stdout",
     "output_type": "stream",
     "text": [
      "True positives:  5719\n",
      "False positives:  830\n",
      "True negatives:  663\n",
      "False negatives:  255\n"
     ]
    },
    {
     "data": {
      "image/png": "[encoded data removed]",
      "text/plain": [
       "<Figure size 640x480 with 2 Axes>"
      ]
     },
     "metadata": {},
     "output_type": "display_data"
    }
   ],
   "source": [
    "ConfusionMatrixDisplay.from_estimator(pipe_ada.fit(X_train, y_train), X_test, y_test, display_labels=['No HDA', 'Yes HDA'])\n",
    "plt.title('AdaBoost');\n",
    "\n",
    "predict_ada = pipe_ada.predict(X_test)\n",
    "print('True positives: ', sum((y_test == 1) & (predict_ada == 1)))\n",
    "print('False positives: ', sum((y_test == 0) & (predict_ada == 1)))\n",
    "print('True negatives: ', sum((y_test == 0) & (predict_ada == 0)))\n",
    "print('False negatives: ', sum((y_test == 1) & (predict_ada == 0)))"
   ]
  },
  {
   "cell_type": "code",
   "execution_count": 36,
   "id": "2dad6410-aeea-4837-ac9a-6aa838d1fde4",
   "metadata": {
    "tags": []
   },
   "outputs": [
    {
     "name": "stdout",
     "output_type": "stream",
     "text": [
      "True positives:  4848\n",
      "False positives:  1599\n",
      "True negatives:  4374\n",
      "False negatives:  1126\n"
     ]
    },
    {
     "data": {
      "image/png": "[encoded data removed]",
      "text/plain": [
       "<Figure size 640x480 with 2 Axes>"
      ]
     },
     "metadata": {},
     "output_type": "display_data"
    }
   ],
   "source": [
    "ConfusionMatrixDisplay.from_estimator(pipe_grad.fit(X_train, y_train), X_test, y_test, display_labels=['No HDA', 'Yes HDA'])\n",
    "plt.title('Gradient Boosting Classifier');\n",
    "\n",
    "predict_grad = pipe_grad.predict(X_test)\n",
    "print('True positives: ', sum((y_test == 1) & (predict_grad == 1)))\n",
    "print('False positives: ', sum((y_test == 0) & (predict_grad == 1)))\n",
    "print('True negatives: ', sum((y_test == 0) & (predict_grad == 0)))\n",
    "print('False negatives: ', sum((y_test == 1) & (predict_grad == 0)))"
   ]
  },
  {
   "cell_type": "markdown",
   "id": "cd0cf3d6-e4b7-49fe-837e-ebd21a673263",
   "metadata": {
    "execution": {
     "iopub.execute_input": "2022-09-20T20:57:57.930388Z",
     "iopub.status.busy": "2022-09-20T20:57:57.929676Z",
     "iopub.status.idle": "2022-09-20T20:57:57.939817Z",
     "shell.execute_reply": "2022-09-20T20:57:57.937926Z",
     "shell.execute_reply.started": "2022-09-20T20:57:57.930340Z"
    }
   },
   "source": [
    "|  | XGBoost | AdaBoost | Gradient Boost |\n",
    "| --- | ---: | ---: | ---: |\n",
    "| True positives | 727 | 877 | 687 |\n",
    "| False positives | 651 | 780 | 549 |\n",
    "| True negatives | 56796 | 56667 | 56898 |\n",
    "| False negatives | 5246 | 5096 | 5286 |"
   ]
  },
  {
   "cell_type": "code",
   "execution_count": 38,
   "id": "c35996cf-6e81-4812-a7b0-ded1a629826c",
   "metadata": {
    "tags": []
   },
   "outputs": [
    {
     "name": "stdout",
     "output_type": "stream",
     "text": [
      "                     XGBoost                      \n",
      "\n",
      "               precision    recall  f1-score   support\n",
      "\n",
      "      No HDA       0.78      0.73      0.76      5973\n",
      "     Yes HDA       0.75      0.80      0.77      5974\n",
      "\n",
      "    accuracy                           0.76     11947\n",
      "   macro avg       0.77      0.76      0.76     11947\n",
      "weighted avg       0.77      0.76      0.76     11947\n",
      "\n",
      "                     AdaBoost                     \n",
      "\n",
      "               precision    recall  f1-score   support\n",
      "\n",
      "      No HDA       0.77      0.75      0.76      5973\n",
      "     Yes HDA       0.76      0.78      0.77      5974\n",
      "\n",
      "    accuracy                           0.77     11947\n",
      "   macro avg       0.77      0.77      0.77     11947\n",
      "weighted avg       0.77      0.77      0.77     11947\n",
      "\n",
      "                  Gradient Boost                  \n",
      "\n",
      "               precision    recall  f1-score   support\n",
      "\n",
      "      No HDA       0.80      0.73      0.76      5973\n",
      "     Yes HDA       0.75      0.81      0.78      5974\n",
      "\n",
      "    accuracy                           0.77     11947\n",
      "   macro avg       0.77      0.77      0.77     11947\n",
      "weighted avg       0.77      0.77      0.77     11947\n",
      "\n"
     ]
    }
   ],
   "source": [
    "print(f'{\"XGBoost\" : ^50}\\n\\n', classification_report(y_test, predict_xgb, target_names=['No HDA', 'Yes HDA']))\n",
    "print(f'{\"AdaBoost\" : ^50}\\n\\n', classification_report(y_test, predict_ada, target_names=['No HDA', 'Yes HDA']))\n",
    "print(f'{\"Gradient Boost\" : ^50}\\n\\n', classification_report(y_test, predict_grad, target_names=['No HDA', 'Yes HDA']))"
   ]
  },
  {
   "cell_type": "markdown",
   "id": "41978ce9-22b7-4ce0-b27b-972088ecd2cd",
   "metadata": {},
   "source": [
    "## Neural Network models"
   ]
  },
  {
   "cell_type": "code",
   "execution_count": 39,
   "id": "caf33a97-e1b5-4eba-b065-5260bf252e28",
   "metadata": {
    "tags": []
   },
   "outputs": [],
   "source": [
    "X = df_small.drop(columns='HeartDiseaseorAttack')\n",
    "y = df_small['HeartDiseaseorAttack'].astype(int)\n",
    "\n",
    "X_train, X_test, y_train, y_test = train_test_split(X, y, random_state=1, stratify=y)"
   ]
  },
  {
   "cell_type": "code",
   "execution_count": 41,
   "id": "27fbc417-e401-498f-a637-147b4c5720ff",
   "metadata": {
    "tags": []
   },
   "outputs": [
    {
     "name": "stdout",
     "output_type": "stream",
     "text": [
      "HeartDiseaseorAttack    float64\n",
      "HighBP                  float64\n",
      "HighChol                float64\n",
      "CholCheck               float64\n",
      "BMI                     float64\n",
      "Smoker                  float64\n",
      "Stroke                  float64\n",
      "Diabetes                float64\n",
      "PhysActivity            float64\n",
      "Fruits                  float64\n",
      "Veggies                 float64\n",
      "HvyAlcoholConsump       float64\n",
      "AnyHealthcare           float64\n",
      "NoDocbcCost             float64\n",
      "GenHlth                 float64\n",
      "MentHlth                float64\n",
      "PhysHlth                float64\n",
      "DiffWalk                float64\n",
      "Sex                     float64\n",
      "Age                     float64\n",
      "Education               float64\n",
      "Income                  float64\n",
      "dtype: object\n"
     ]
    },
    {
     "data": {
      "text/plain": [
       "(47786, 22)"
      ]
     },
     "execution_count": 41,
     "metadata": {},
     "output_type": "execute_result"
    }
   ],
   "source": [
    "print(df_small.dtypes)\n",
    "df_small.shape"
   ]
  },
  {
   "cell_type": "code",
   "execution_count": 42,
   "id": "cd73e97d-c2b9-4117-b33d-07b67d7e7b4f",
   "metadata": {
    "tags": []
   },
   "outputs": [],
   "source": [
    "ss = StandardScaler()\n",
    "\n",
    "X_train = ss.fit_transform(X_train)\n",
    "X_test = ss.transform(X_test)"
   ]
  },
  {
   "cell_type": "code",
   "execution_count": 43,
   "id": "5f781edf-b435-46ee-841f-6e00426f81d2",
   "metadata": {
    "tags": []
   },
   "outputs": [
    {
     "name": "stderr",
     "output_type": "stream",
     "text": [
      "2022-09-22 10:48:57.754890: I tensorflow/core/platform/cpu_feature_guard.cc:145] This TensorFlow binary is optimized with Intel(R) MKL-DNN to use the following CPU instructions in performance critical operations:  SSE4.1 SSE4.2\n",
      "To enable them in non-MKL-DNN operations, rebuild TensorFlow with the appropriate compiler flags.\n",
      "2022-09-22 10:48:57.757083: I tensorflow/core/common_runtime/process_util.cc:115] Creating new thread pool with default inter op setting: 10. Tune using inter_op_parallelism_threads for best performance.\n"
     ]
    }
   ],
   "source": [
    "from tensorflow.keras.regularizers import l2\n",
    "from tensorflow.keras.layers import Dropout\n",
    "\n",
    "model = Sequential()\n",
    "\n",
    "model.add(Dense(21, input_dim=X_train.shape[1], activation='relu', kernel_regularizer=l2(0.001)))\n",
    "\n",
    "model.add(Dense(8, activation='relu', kernel_regularizer=l2(0.001)))\n",
    "model.add(Dropout(.25))\n",
    "\n",
    "model.add(Dense(3, activation='relu', kernel_regularizer=l2(0.001)))\n",
    "model.add(Dropout(.25))\n",
    "\n",
    "model.add(Dense(1, activation='sigmoid'))"
   ]
  },
  {
   "cell_type": "code",
   "execution_count": 48,
   "id": "736a4b2c-0386-47eb-944a-e294570dd156",
   "metadata": {
    "tags": []
   },
   "outputs": [],
   "source": [
    "model.compile(optimizer='adam',\n",
    "              loss='binary_crossentropy',\n",
    "              metrics=['accuracy'])"
   ]
  },
  {
   "cell_type": "code",
   "execution_count": 62,
   "id": "fec9cbb7-ddf1-409c-9692-67d6ab761248",
   "metadata": {},
   "outputs": [
    {
     "data": {
      "text/plain": [
       "(numpy.ndarray, numpy.ndarray)"
      ]
     },
     "execution_count": 62,
     "metadata": {},
     "output_type": "execute_result"
    }
   ],
   "source": [
    "type(np.array(y_test)), type(X_test)"
   ]
  },
  {
   "cell_type": "code",
   "execution_count": 65,
   "id": "7b16312e-89f5-4824-97ec-b6daa75afe60",
   "metadata": {
    "tags": []
   },
   "outputs": [
    {
     "name": "stdout",
     "output_type": "stream",
     "text": [
      "Train on 35839 samples, validate on 11947 samples\n",
      "Epoch 1/20\n",
      "35839/35839 [==============================] - 2s 56us/sample - loss: 0.5287 - accuracy: 0.7557 - val_loss: 0.4915 - val_accuracy: 0.7702\n",
      "Epoch 2/20\n",
      "35839/35839 [==============================] - 2s 59us/sample - loss: 0.5260 - accuracy: 0.7566 - val_loss: 0.4921 - val_accuracy: 0.7708\n",
      "Epoch 3/20\n",
      "35839/35839 [==============================] - 2s 60us/sample - loss: 0.5234 - accuracy: 0.7572 - val_loss: 0.4910 - val_accuracy: 0.7717\n",
      "Epoch 4/20\n",
      "35839/35839 [==============================] - 2s 59us/sample - loss: 0.5238 - accuracy: 0.7579 - val_loss: 0.4913 - val_accuracy: 0.7722\n",
      "Epoch 5/20\n",
      "35839/35839 [==============================] - 2s 61us/sample - loss: 0.5227 - accuracy: 0.7579 - val_loss: 0.4918 - val_accuracy: 0.7712\n",
      "Epoch 6/20\n",
      "35839/35839 [==============================] - 2s 59us/sample - loss: 0.5229 - accuracy: 0.7572 - val_loss: 0.4916 - val_accuracy: 0.7722\n",
      "Epoch 7/20\n",
      "35839/35839 [==============================] - 2s 64us/sample - loss: 0.5245 - accuracy: 0.7578 - val_loss: 0.4897 - val_accuracy: 0.7723\n",
      "Epoch 8/20\n",
      "35839/35839 [==============================] - 2s 60us/sample - loss: 0.5248 - accuracy: 0.7579 - val_loss: 0.4895 - val_accuracy: 0.7713\n",
      "Epoch 9/20\n",
      "35839/35839 [==============================] - 2s 60us/sample - loss: 0.5239 - accuracy: 0.7554 - val_loss: 0.4892 - val_accuracy: 0.7735\n",
      "Epoch 10/20\n",
      "35839/35839 [==============================] - 2s 61us/sample - loss: 0.5232 - accuracy: 0.7571 - val_loss: 0.4914 - val_accuracy: 0.7714\n",
      "Epoch 11/20\n",
      "35839/35839 [==============================] - 2s 68us/sample - loss: 0.5217 - accuracy: 0.7572 - val_loss: 0.4903 - val_accuracy: 0.7723\n",
      "Epoch 12/20\n",
      "35839/35839 [==============================] - 2s 63us/sample - loss: 0.5234 - accuracy: 0.7564 - val_loss: 0.4904 - val_accuracy: 0.7695\n",
      "Epoch 13/20\n",
      "35839/35839 [==============================] - 2s 60us/sample - loss: 0.5216 - accuracy: 0.7573 - val_loss: 0.4907 - val_accuracy: 0.7717\n",
      "Epoch 14/20\n",
      "35839/35839 [==============================] - 2s 65us/sample - loss: 0.5216 - accuracy: 0.7564 - val_loss: 0.4910 - val_accuracy: 0.7702\n",
      "Epoch 15/20\n",
      "35839/35839 [==============================] - 2s 61us/sample - loss: 0.5216 - accuracy: 0.7582 - val_loss: 0.4917 - val_accuracy: 0.7705\n",
      "Epoch 16/20\n",
      "35839/35839 [==============================] - 2s 61us/sample - loss: 0.5213 - accuracy: 0.7565 - val_loss: 0.4895 - val_accuracy: 0.7722\n",
      "Epoch 17/20\n",
      "35839/35839 [==============================] - 2s 61us/sample - loss: 0.5217 - accuracy: 0.7570 - val_loss: 0.4895 - val_accuracy: 0.7719\n",
      "Epoch 18/20\n",
      "35839/35839 [==============================] - 4s 107us/sample - loss: 0.5215 - accuracy: 0.7570 - val_loss: 0.4897 - val_accuracy: 0.7720\n",
      "Epoch 19/20\n",
      "35839/35839 [==============================] - 2s 63us/sample - loss: 0.5215 - accuracy: 0.7572 - val_loss: 0.4892 - val_accuracy: 0.7731\n",
      "Epoch 20/20\n",
      "35839/35839 [==============================] - 2s 62us/sample - loss: 0.5195 - accuracy: 0.7569 - val_loss: 0.4904 - val_accuracy: 0.7698\n"
     ]
    }
   ],
   "source": [
    "history = model.fit(\n",
    "    X_train, np.array(y_train),\n",
    "    validation_data=(X_test, np.array(y_test)),\n",
    "    epochs=20,\n",
    "    verbose=1\n",
    ")"
   ]
  },
  {
   "cell_type": "code",
   "execution_count": 66,
   "id": "4be5e2fe-73f3-4145-a3ff-42d7e5dee6ad",
   "metadata": {
    "tags": []
   },
   "outputs": [
    {
     "data": {
      "image/png": "[encoded data removed]",
      "text/plain": [
       "<Figure size 640x480 with 1 Axes>"
      ]
     },
     "metadata": {},
     "output_type": "display_data"
    }
   ],
   "source": [
    "train_loss = history.history['loss']\n",
    "test_loss = history.history['val_loss']\n",
    "\n",
    "plt.plot(train_loss, label='Training Loss', color='navy')\n",
    "plt.plot(test_loss, label='Testing Loss', color='skyblue')\n",
    "plt.legend();"
   ]
  },
  {
   "cell_type": "code",
   "execution_count": 92,
   "id": "7443aa55-f18a-4075-9f37-7799cb26109a",
   "metadata": {},
   "outputs": [],
   "source": [
    "with open('models/grad_minority_focus.pkl', 'wb') as pickle_out:\n",
    "    pickle.dump(pipe_grad, pickle_out)"
   ]
  },
  {
   "cell_type": "code",
   "execution_count": 93,
   "id": "e543029d-17ca-4eb2-b1ba-adcb72a005ce",
   "metadata": {},
   "outputs": [
    {
     "data": {
      "text/plain": [
       "Index(['HeartDiseaseorAttack', 'HighBP', 'HighChol', 'CholCheck', 'BMI',\n",
       "       'Smoker', 'Stroke', 'Diabetes', 'PhysActivity', 'Fruits', 'Veggies',\n",
       "       'HvyAlcoholConsump', 'AnyHealthcare', 'NoDocbcCost', 'GenHlth',\n",
       "       'MentHlth', 'PhysHlth', 'DiffWalk', 'Sex', 'Age', 'Education',\n",
       "       'Income'],\n",
       "      dtype='object')"
      ]
     },
     "execution_count": 93,
     "metadata": {},
     "output_type": "execute_result"
    }
   ],
   "source": [
    "df.columns"
   ]
  },
  {
   "cell_type": "code",
   "execution_count": null,
   "id": "3e592685-0da9-40d8-bca3-8c4b441a63ae",
   "metadata": {},
   "outputs": [],
   "source": [
    "pipe_grad.predict_proba"
   ]
  }
 ],
 "metadata": {
  "kernelspec": {
   "display_name": "Python [conda env:tf3]",
   "language": "python",
   "name": "conda-env-tf3-py"
  },
  "language_info": {
   "codemirror_mode": {
    "name": "ipython",
    "version": 3
   },
   "file_extension": ".py",
   "mimetype": "text/x-python",
   "name": "python",
   "nbconvert_exporter": "python",
   "pygments_lexer": "ipython3",
   "version": "3.7.13"
  }
 },
 "nbformat": 4,
 "nbformat_minor": 5
}
