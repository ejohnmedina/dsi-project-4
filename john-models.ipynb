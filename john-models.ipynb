{
 "cells": [
  {
   "cell_type": "code",
   "execution_count": 2,
   "id": "32b33b6d-2e78-443d-8e29-dae76c5c70b9",
   "metadata": {
    "execution": {
     "iopub.execute_input": "2022-09-21T02:38:00.013113Z",
     "iopub.status.busy": "2022-09-21T02:38:00.012404Z",
     "iopub.status.idle": "2022-09-21T02:38:03.120266Z",
     "shell.execute_reply": "2022-09-21T02:38:03.119930Z",
     "shell.execute_reply.started": "2022-09-21T02:38:00.013066Z"
    },
    "tags": []
   },
   "outputs": [],
   "source": [
    "# adaboost gradientboost clustering\n",
    "\n",
    "import numpy as np\n",
    "import pandas as pd\n",
    "import matplotlib.pyplot as plt\n",
    "\n",
    "from sklearn.model_selection import train_test_split, cross_val_score, GridSearchCV\n",
    "\n",
    "from sklearn.metrics import ConfusionMatrixDisplay\n",
    "\n",
    "from sklearn.pipeline import Pipeline\n",
    "\n",
    "from sklearn.ensemble import AdaBoostClassifier, GradientBoostingClassifier\n",
    "import xgboost as xgb\n",
    "\n",
    "from sklearn.preprocessing import StandardScaler\n",
    "\n",
    "from sklearn.metrics import silhouette_score\n",
    "from sklearn.cluster import KMeans\n",
    "from sklearn.cluster import DBSCAN\n",
    "\n",
    "from tensorflow.keras.models import Sequential\n",
    "from tensorflow.keras.layers import Dense"
   ]
  },
  {
   "cell_type": "code",
   "execution_count": 4,
   "id": "fc489157-4442-41e5-9f9c-d3e104b49aab",
   "metadata": {
    "execution": {
     "iopub.execute_input": "2022-09-21T01:53:05.555280Z",
     "iopub.status.busy": "2022-09-21T01:53:05.555106Z",
     "iopub.status.idle": "2022-09-21T01:53:05.743210Z",
     "shell.execute_reply": "2022-09-21T01:53:05.742893Z",
     "shell.execute_reply.started": "2022-09-21T01:53:05.555270Z"
    },
    "tags": []
   },
   "outputs": [],
   "source": [
    "url = 'data/heart_disease_ind_2015.csv'\n",
    "\n",
    "df = pd.read_csv(url)"
   ]
  },
  {
   "cell_type": "code",
   "execution_count": 5,
   "id": "66649488-c5cb-428d-a202-534e08168756",
   "metadata": {
    "execution": {
     "iopub.execute_input": "2022-09-21T01:53:06.068710Z",
     "iopub.status.busy": "2022-09-21T01:53:06.068289Z",
     "iopub.status.idle": "2022-09-21T01:53:06.093149Z",
     "shell.execute_reply": "2022-09-21T01:53:06.092652Z",
     "shell.execute_reply.started": "2022-09-21T01:53:06.068685Z"
    },
    "tags": []
   },
   "outputs": [
    {
     "data": {
      "text/plain": [
       "0.0    0.905814\n",
       "1.0    0.094186\n",
       "Name: HeartDiseaseorAttack, dtype: float64"
      ]
     },
     "execution_count": 5,
     "metadata": {},
     "output_type": "execute_result"
    }
   ],
   "source": [
    "# setup baseline\n",
    "df.HeartDiseaseorAttack.value_counts(normalize=True)"
   ]
  },
  {
   "cell_type": "code",
   "execution_count": 40,
   "id": "f9990f8f-beb3-4070-8bef-7b00dda20dcc",
   "metadata": {
    "execution": {
     "iopub.execute_input": "2022-09-21T02:27:57.379589Z",
     "iopub.status.busy": "2022-09-21T02:27:57.378755Z",
     "iopub.status.idle": "2022-09-21T02:27:57.462457Z",
     "shell.execute_reply": "2022-09-21T02:27:57.462096Z",
     "shell.execute_reply.started": "2022-09-21T02:27:57.379536Z"
    },
    "tags": []
   },
   "outputs": [],
   "source": [
    "X = df.drop(columns='HeartDiseaseorAttack')\n",
    "y = df['HeartDiseaseorAttack']\n",
    "\n",
    "X_train, X_test, y_train, y_test = train_test_split(X, y, random_state=1, stratify=y)"
   ]
  },
  {
   "cell_type": "code",
   "execution_count": 7,
   "id": "74a43578-39f5-470e-aaff-0c4c6ceb96d0",
   "metadata": {
    "execution": {
     "iopub.execute_input": "2022-09-21T01:53:11.950682Z",
     "iopub.status.busy": "2022-09-21T01:53:11.950258Z",
     "iopub.status.idle": "2022-09-21T01:53:11.959273Z",
     "shell.execute_reply": "2022-09-21T01:53:11.958474Z",
     "shell.execute_reply.started": "2022-09-21T01:53:11.950657Z"
    },
    "tags": []
   },
   "outputs": [],
   "source": [
    "pipe_ada = Pipeline([\n",
    "    ('ss', StandardScaler()),\n",
    "    ('abc', AdaBoostClassifier(learning_rate=0.5, n_estimators=50, random_state=1))\n",
    "])\n",
    "\n",
    "pipe_grad = Pipeline([\n",
    "    ('ss', StandardScaler()),\n",
    "    ('gbc', GradientBoostingClassifier(random_state=1))\n",
    "])\n",
    "\n",
    "pipe_km = Pipeline([\n",
    "    ('ss', StandardScaler()),\n",
    "    ('km', KMeans(random_state=1))\n",
    "])\n",
    "\n",
    "pipe_dbs = Pipeline([\n",
    "    ('ss', StandardScaler()),\n",
    "    ('dbs', DBSCAN())\n",
    "])\n",
    "\n",
    "pipe_xgb = Pipeline([\n",
    "    ('ss', StandardScaler()),\n",
    "    ('xgb', xgb.XGBClassifier())\n",
    "])"
   ]
  },
  {
   "cell_type": "code",
   "execution_count": 8,
   "id": "7b7fedcc-fc50-4f65-9306-66343d144839",
   "metadata": {
    "execution": {
     "iopub.execute_input": "2022-09-21T01:53:12.432678Z",
     "iopub.status.busy": "2022-09-21T01:53:12.431996Z",
     "iopub.status.idle": "2022-09-21T01:53:16.327485Z",
     "shell.execute_reply": "2022-09-21T01:53:16.327145Z",
     "shell.execute_reply.started": "2022-09-21T01:53:12.432629Z"
    },
    "tags": []
   },
   "outputs": [
    {
     "data": {
      "text/plain": [
       "(0.9073268159360874, 0.9073793755912961)"
      ]
     },
     "execution_count": 8,
     "metadata": {},
     "output_type": "execute_result"
    }
   ],
   "source": [
    "pipe_ada.fit(X_train, y_train)\n",
    "\n",
    "pipe_ada.score(X_train, y_train), pipe_ada.score(X_test, y_test)"
   ]
  },
  {
   "cell_type": "code",
   "execution_count": 9,
   "id": "91dbdcda-ffe7-4f68-87d9-778efb34d9fe",
   "metadata": {
    "execution": {
     "iopub.execute_input": "2022-09-21T01:53:16.328407Z",
     "iopub.status.busy": "2022-09-21T01:53:16.328268Z",
     "iopub.status.idle": "2022-09-21T01:53:27.983100Z",
     "shell.execute_reply": "2022-09-21T01:53:27.982805Z",
     "shell.execute_reply.started": "2022-09-21T01:53:16.328394Z"
    },
    "tags": []
   },
   "outputs": [
    {
     "data": {
      "text/plain": [
       "(0.908525176074845, 0.9079943235572374)"
      ]
     },
     "execution_count": 9,
     "metadata": {},
     "output_type": "execute_result"
    }
   ],
   "source": [
    "pipe_grad.fit(X_train, y_train)\n",
    "\n",
    "pipe_grad.score(X_train, y_train), pipe_grad.score(X_test, y_test)"
   ]
  },
  {
   "cell_type": "code",
   "execution_count": 10,
   "id": "aa60548d-17e0-45f1-b8de-4c470537f91f",
   "metadata": {
    "execution": {
     "iopub.execute_input": "2022-09-21T01:53:27.983640Z",
     "iopub.status.busy": "2022-09-21T01:53:27.983548Z",
     "iopub.status.idle": "2022-09-21T01:53:32.324471Z",
     "shell.execute_reply": "2022-09-21T01:53:32.324097Z",
     "shell.execute_reply.started": "2022-09-21T01:53:27.983630Z"
    },
    "tags": []
   },
   "outputs": [
    {
     "data": {
      "text/plain": [
       "(0.9147902869757174, 0.9070167139703563)"
      ]
     },
     "execution_count": 10,
     "metadata": {},
     "output_type": "execute_result"
    }
   ],
   "source": [
    "pipe_xgb.fit(X_train, y_train)\n",
    "\n",
    "pipe_xgb.score(X_train, y_train), pipe_xgb.score(X_test, y_test)"
   ]
  },
  {
   "cell_type": "markdown",
   "id": "1781badb-62a7-4ede-b418-69d11a0b62fc",
   "metadata": {},
   "source": [
    "## GridSearching for hyperparams - DON'T run these!\n",
    "\n",
    "This excludes the clustering models below."
   ]
  },
  {
   "cell_type": "code",
   "execution_count": 12,
   "id": "474fb9ff-0388-4dda-9f6d-3dbc89bfaa29",
   "metadata": {
    "execution": {
     "iopub.execute_input": "2022-09-21T01:55:11.039378Z",
     "iopub.status.busy": "2022-09-21T01:55:11.038413Z",
     "iopub.status.idle": "2022-09-21T01:55:11.045000Z",
     "shell.execute_reply": "2022-09-21T01:55:11.044158Z",
     "shell.execute_reply.started": "2022-09-21T01:55:11.039330Z"
    },
    "tags": []
   },
   "outputs": [],
   "source": [
    "#ada_params = {\n",
    "#    'n_estimators': [25, 50, 100, 250],\n",
    "#    'learning_rate': [0.5, 1.0, 1.5, 2.0, 2.5],\n",
    "#}\n",
    "\n",
    "#gs_ada = GridSearchCV(AdaBoostClassifier(), param_grid=ada_params, cv=5, verbose=1)\n",
    "\n",
    "# Fit the GridSearchCV object to the data\n",
    "#gs_ada.fit(pipe_ada['ss'].fit_transform(X_train), y_train)\n",
    "\n"
   ]
  },
  {
   "cell_type": "code",
   "execution_count": 60,
   "id": "780a18a7-4993-4701-9e39-e00facbb9aaf",
   "metadata": {
    "execution": {
     "iopub.execute_input": "2022-09-19T20:56:20.309169Z",
     "iopub.status.busy": "2022-09-19T20:56:20.309090Z",
     "iopub.status.idle": "2022-09-19T20:56:20.311373Z",
     "shell.execute_reply": "2022-09-19T20:56:20.311116Z",
     "shell.execute_reply.started": "2022-09-19T20:56:20.309161Z"
    }
   },
   "outputs": [
    {
     "data": {
      "text/plain": [
       "{'learning_rate': 0.5, 'n_estimators': 25}"
      ]
     },
     "execution_count": 60,
     "metadata": {},
     "output_type": "execute_result"
    }
   ],
   "source": [
    "#gs_ada.best_params_"
   ]
  },
  {
   "cell_type": "code",
   "execution_count": 65,
   "id": "f1836a40-ea65-44c3-9b06-78f319a8f3ec",
   "metadata": {
    "execution": {
     "iopub.execute_input": "2022-09-19T20:58:26.643040Z",
     "iopub.status.busy": "2022-09-19T20:58:26.642635Z",
     "iopub.status.idle": "2022-09-19T20:58:26.648284Z",
     "shell.execute_reply": "2022-09-19T20:58:26.647509Z",
     "shell.execute_reply.started": "2022-09-19T20:58:26.643013Z"
    }
   },
   "outputs": [
    {
     "data": {
      "text/plain": [
       "0.9074529591085883"
      ]
     },
     "execution_count": 65,
     "metadata": {},
     "output_type": "execute_result"
    }
   ],
   "source": [
    "#gs_ada.best_score_"
   ]
  },
  {
   "cell_type": "code",
   "execution_count": 13,
   "id": "bf903de5-ed3e-432b-bd14-e8c47240d67a",
   "metadata": {
    "execution": {
     "iopub.execute_input": "2022-09-21T01:55:28.930055Z",
     "iopub.status.busy": "2022-09-21T01:55:28.929389Z",
     "iopub.status.idle": "2022-09-21T01:55:28.935406Z",
     "shell.execute_reply": "2022-09-21T01:55:28.934220Z",
     "shell.execute_reply.started": "2022-09-21T01:55:28.930007Z"
    },
    "tags": []
   },
   "outputs": [],
   "source": [
    "# grad_params = {\n",
    "#     'n_estimators': [50, 100, 250, 500],\n",
    "#     'min_samples_split': [2, 5, 10],\n",
    "# }\n",
    "\n",
    "# gs_grad = GridSearchCV(GradientBoostingClassifier(), param_grid=grad_params, cv=5, verbose=1)\n",
    "\n",
    "# # Fit the GridSearchCV object to the data\n",
    "# gs_grad.fit(pipe_grad['ss'].fit_transform(X_train), y_train)\n"
   ]
  },
  {
   "cell_type": "code",
   "execution_count": 66,
   "id": "129406ef-34fc-4a41-aba6-4a60b4d60831",
   "metadata": {
    "execution": {
     "iopub.execute_input": "2022-09-19T21:00:01.107923Z",
     "iopub.status.busy": "2022-09-19T21:00:01.107498Z",
     "iopub.status.idle": "2022-09-19T21:00:01.114003Z",
     "shell.execute_reply": "2022-09-19T21:00:01.113253Z",
     "shell.execute_reply.started": "2022-09-19T21:00:01.107896Z"
    }
   },
   "outputs": [
    {
     "data": {
      "text/plain": [
       "{'min_samples_split': 2, 'n_estimators': 50}"
      ]
     },
     "execution_count": 66,
     "metadata": {},
     "output_type": "execute_result"
    }
   ],
   "source": [
    "#gs_grad.best_params_"
   ]
  },
  {
   "cell_type": "code",
   "execution_count": 67,
   "id": "f634f646-7786-46e2-8046-9c62d13ead11",
   "metadata": {
    "execution": {
     "iopub.execute_input": "2022-09-19T21:00:19.842430Z",
     "iopub.status.busy": "2022-09-19T21:00:19.841994Z",
     "iopub.status.idle": "2022-09-19T21:00:19.847953Z",
     "shell.execute_reply": "2022-09-19T21:00:19.847276Z",
     "shell.execute_reply.started": "2022-09-19T21:00:19.842395Z"
    }
   },
   "outputs": [
    {
     "data": {
      "text/plain": [
       "0.9081520025228634"
      ]
     },
     "execution_count": 67,
     "metadata": {},
     "output_type": "execute_result"
    }
   ],
   "source": [
    "#gs_grad.best_score_"
   ]
  },
  {
   "cell_type": "code",
   "execution_count": 70,
   "id": "67d746a7-d8ca-497b-803f-91b5113be5f7",
   "metadata": {
    "execution": {
     "iopub.execute_input": "2022-09-19T21:08:46.829555Z",
     "iopub.status.busy": "2022-09-19T21:08:46.829164Z",
     "iopub.status.idle": "2022-09-19T21:10:07.663055Z",
     "shell.execute_reply": "2022-09-19T21:10:07.662727Z",
     "shell.execute_reply.started": "2022-09-19T21:08:46.829530Z"
    },
    "tags": []
   },
   "outputs": [
    {
     "name": "stdout",
     "output_type": "stream",
     "text": [
      "Fitting 2 folds for each of 16 candidates, totalling 32 fits\n"
     ]
    },
    {
     "data": {
      "text/html": [
       "<style>#sk-container-id-3 {color: black;background-color: white;}#sk-container-id-3 pre{padding: 0;}#sk-container-id-3 div.sk-toggleable {background-color: white;}#sk-container-id-3 label.sk-toggleable__label {cursor: pointer;display: block;width: 100%;margin-bottom: 0;padding: 0.3em;box-sizing: border-box;text-align: center;}#sk-container-id-3 label.sk-toggleable__label-arrow:before {content: \"▸\";float: left;margin-right: 0.25em;color: #696969;}#sk-container-id-3 label.sk-toggleable__label-arrow:hover:before {color: black;}#sk-container-id-3 div.sk-estimator:hover label.sk-toggleable__label-arrow:before {color: black;}#sk-container-id-3 div.sk-toggleable__content {max-height: 0;max-width: 0;overflow: hidden;text-align: left;background-color: #f0f8ff;}#sk-container-id-3 div.sk-toggleable__content pre {margin: 0.2em;color: black;border-radius: 0.25em;background-color: #f0f8ff;}#sk-container-id-3 input.sk-toggleable__control:checked~div.sk-toggleable__content {max-height: 200px;max-width: 100%;overflow: auto;}#sk-container-id-3 input.sk-toggleable__control:checked~label.sk-toggleable__label-arrow:before {content: \"▾\";}#sk-container-id-3 div.sk-estimator input.sk-toggleable__control:checked~label.sk-toggleable__label {background-color: #d4ebff;}#sk-container-id-3 div.sk-label input.sk-toggleable__control:checked~label.sk-toggleable__label {background-color: #d4ebff;}#sk-container-id-3 input.sk-hidden--visually {border: 0;clip: rect(1px 1px 1px 1px);clip: rect(1px, 1px, 1px, 1px);height: 1px;margin: -1px;overflow: hidden;padding: 0;position: absolute;width: 1px;}#sk-container-id-3 div.sk-estimator {font-family: monospace;background-color: #f0f8ff;border: 1px dotted black;border-radius: 0.25em;box-sizing: border-box;margin-bottom: 0.5em;}#sk-container-id-3 div.sk-estimator:hover {background-color: #d4ebff;}#sk-container-id-3 div.sk-parallel-item::after {content: \"\";width: 100%;border-bottom: 1px solid gray;flex-grow: 1;}#sk-container-id-3 div.sk-label:hover label.sk-toggleable__label {background-color: #d4ebff;}#sk-container-id-3 div.sk-serial::before {content: \"\";position: absolute;border-left: 1px solid gray;box-sizing: border-box;top: 0;bottom: 0;left: 50%;z-index: 0;}#sk-container-id-3 div.sk-serial {display: flex;flex-direction: column;align-items: center;background-color: white;padding-right: 0.2em;padding-left: 0.2em;position: relative;}#sk-container-id-3 div.sk-item {position: relative;z-index: 1;}#sk-container-id-3 div.sk-parallel {display: flex;align-items: stretch;justify-content: center;background-color: white;position: relative;}#sk-container-id-3 div.sk-item::before, #sk-container-id-3 div.sk-parallel-item::before {content: \"\";position: absolute;border-left: 1px solid gray;box-sizing: border-box;top: 0;bottom: 0;left: 50%;z-index: -1;}#sk-container-id-3 div.sk-parallel-item {display: flex;flex-direction: column;z-index: 1;position: relative;background-color: white;}#sk-container-id-3 div.sk-parallel-item:first-child::after {align-self: flex-end;width: 50%;}#sk-container-id-3 div.sk-parallel-item:last-child::after {align-self: flex-start;width: 50%;}#sk-container-id-3 div.sk-parallel-item:only-child::after {width: 0;}#sk-container-id-3 div.sk-dashed-wrapped {border: 1px dashed gray;margin: 0 0.4em 0.5em 0.4em;box-sizing: border-box;padding-bottom: 0.4em;background-color: white;}#sk-container-id-3 div.sk-label label {font-family: monospace;font-weight: bold;display: inline-block;line-height: 1.2em;}#sk-container-id-3 div.sk-label-container {text-align: center;}#sk-container-id-3 div.sk-container {/* jupyter's `normalize.less` sets `[hidden] { display: none; }` but bootstrap.min.css set `[hidden] { display: none !important; }` so we also need the `!important` here to be able to override the default hidden behavior on the sphinx rendered scikit-learn.org. See: https://github.com/scikit-learn/scikit-learn/issues/21755 */display: inline-block !important;position: relative;}#sk-container-id-3 div.sk-text-repr-fallback {display: none;}</style><div id=\"sk-container-id-3\" class=\"sk-top-container\"><div class=\"sk-text-repr-fallback\"><pre>GridSearchCV(cv=2,\n",
       "             estimator=XGBClassifier(base_score=None, booster=None,\n",
       "                                     callbacks=None, colsample_bylevel=None,\n",
       "                                     colsample_bynode=None,\n",
       "                                     colsample_bytree=None,\n",
       "                                     early_stopping_rounds=None,\n",
       "                                     enable_categorical=False, eval_metric=None,\n",
       "                                     gamma=None, gpu_id=None, grow_policy=None,\n",
       "                                     importance_type=None,\n",
       "                                     interaction_constraints=None,\n",
       "                                     learning_rate=None, max_bin=None,\n",
       "                                     max_cat_to_onehot=None,\n",
       "                                     max_delta_step=None, max_depth=None,\n",
       "                                     max_leaves=None, min_child_weight=None,\n",
       "                                     missing=nan, monotone_constraints=None,\n",
       "                                     n_estimators=100, n_jobs=None,\n",
       "                                     num_parallel_tree=None, predictor=None,\n",
       "                                     random_state=None, reg_alpha=None,\n",
       "                                     reg_lambda=None, ...),\n",
       "             param_grid={&#x27;learning_rate&#x27;: [0.5, 1.0, 1.5, 2.0],\n",
       "                         &#x27;n_estimators&#x27;: [25, 50, 100, 250]},\n",
       "             verbose=1)</pre><b>In a Jupyter environment, please rerun this cell to show the HTML representation or trust the notebook. <br />On GitHub, the HTML representation is unable to render, please try loading this page with nbviewer.org.</b></div><div class=\"sk-container\" hidden><div class=\"sk-item sk-dashed-wrapped\"><div class=\"sk-label-container\"><div class=\"sk-label sk-toggleable\"><input class=\"sk-toggleable__control sk-hidden--visually\" id=\"sk-estimator-id-7\" type=\"checkbox\" ><label for=\"sk-estimator-id-7\" class=\"sk-toggleable__label sk-toggleable__label-arrow\">GridSearchCV</label><div class=\"sk-toggleable__content\"><pre>GridSearchCV(cv=2,\n",
       "             estimator=XGBClassifier(base_score=None, booster=None,\n",
       "                                     callbacks=None, colsample_bylevel=None,\n",
       "                                     colsample_bynode=None,\n",
       "                                     colsample_bytree=None,\n",
       "                                     early_stopping_rounds=None,\n",
       "                                     enable_categorical=False, eval_metric=None,\n",
       "                                     gamma=None, gpu_id=None, grow_policy=None,\n",
       "                                     importance_type=None,\n",
       "                                     interaction_constraints=None,\n",
       "                                     learning_rate=None, max_bin=None,\n",
       "                                     max_cat_to_onehot=None,\n",
       "                                     max_delta_step=None, max_depth=None,\n",
       "                                     max_leaves=None, min_child_weight=None,\n",
       "                                     missing=nan, monotone_constraints=None,\n",
       "                                     n_estimators=100, n_jobs=None,\n",
       "                                     num_parallel_tree=None, predictor=None,\n",
       "                                     random_state=None, reg_alpha=None,\n",
       "                                     reg_lambda=None, ...),\n",
       "             param_grid={&#x27;learning_rate&#x27;: [0.5, 1.0, 1.5, 2.0],\n",
       "                         &#x27;n_estimators&#x27;: [25, 50, 100, 250]},\n",
       "             verbose=1)</pre></div></div></div><div class=\"sk-parallel\"><div class=\"sk-parallel-item\"><div class=\"sk-item\"><div class=\"sk-label-container\"><div class=\"sk-label sk-toggleable\"><input class=\"sk-toggleable__control sk-hidden--visually\" id=\"sk-estimator-id-8\" type=\"checkbox\" ><label for=\"sk-estimator-id-8\" class=\"sk-toggleable__label sk-toggleable__label-arrow\">estimator: XGBClassifier</label><div class=\"sk-toggleable__content\"><pre>XGBClassifier(base_score=None, booster=None, callbacks=None,\n",
       "              colsample_bylevel=None, colsample_bynode=None,\n",
       "              colsample_bytree=None, early_stopping_rounds=None,\n",
       "              enable_categorical=False, eval_metric=None, gamma=None,\n",
       "              gpu_id=None, grow_policy=None, importance_type=None,\n",
       "              interaction_constraints=None, learning_rate=None, max_bin=None,\n",
       "              max_cat_to_onehot=None, max_delta_step=None, max_depth=None,\n",
       "              max_leaves=None, min_child_weight=None, missing=nan,\n",
       "              monotone_constraints=None, n_estimators=100, n_jobs=None,\n",
       "              num_parallel_tree=None, predictor=None, random_state=None,\n",
       "              reg_alpha=None, reg_lambda=None, ...)</pre></div></div></div><div class=\"sk-serial\"><div class=\"sk-item\"><div class=\"sk-estimator sk-toggleable\"><input class=\"sk-toggleable__control sk-hidden--visually\" id=\"sk-estimator-id-9\" type=\"checkbox\" ><label for=\"sk-estimator-id-9\" class=\"sk-toggleable__label sk-toggleable__label-arrow\">XGBClassifier</label><div class=\"sk-toggleable__content\"><pre>XGBClassifier(base_score=None, booster=None, callbacks=None,\n",
       "              colsample_bylevel=None, colsample_bynode=None,\n",
       "              colsample_bytree=None, early_stopping_rounds=None,\n",
       "              enable_categorical=False, eval_metric=None, gamma=None,\n",
       "              gpu_id=None, grow_policy=None, importance_type=None,\n",
       "              interaction_constraints=None, learning_rate=None, max_bin=None,\n",
       "              max_cat_to_onehot=None, max_delta_step=None, max_depth=None,\n",
       "              max_leaves=None, min_child_weight=None, missing=nan,\n",
       "              monotone_constraints=None, n_estimators=100, n_jobs=None,\n",
       "              num_parallel_tree=None, predictor=None, random_state=None,\n",
       "              reg_alpha=None, reg_lambda=None, ...)</pre></div></div></div></div></div></div></div></div></div></div>"
      ],
      "text/plain": [
       "GridSearchCV(cv=2,\n",
       "             estimator=XGBClassifier(base_score=None, booster=None,\n",
       "                                     callbacks=None, colsample_bylevel=None,\n",
       "                                     colsample_bynode=None,\n",
       "                                     colsample_bytree=None,\n",
       "                                     early_stopping_rounds=None,\n",
       "                                     enable_categorical=False, eval_metric=None,\n",
       "                                     gamma=None, gpu_id=None, grow_policy=None,\n",
       "                                     importance_type=None,\n",
       "                                     interaction_constraints=None,\n",
       "                                     learning_rate=None, max_bin=None,\n",
       "                                     max_cat_to_onehot=None,\n",
       "                                     max_delta_step=None, max_depth=None,\n",
       "                                     max_leaves=None, min_child_weight=None,\n",
       "                                     missing=nan, monotone_constraints=None,\n",
       "                                     n_estimators=100, n_jobs=None,\n",
       "                                     num_parallel_tree=None, predictor=None,\n",
       "                                     random_state=None, reg_alpha=None,\n",
       "                                     reg_lambda=None, ...),\n",
       "             param_grid={'learning_rate': [0.5, 1.0, 1.5, 2.0],\n",
       "                         'n_estimators': [25, 50, 100, 250]},\n",
       "             verbose=1)"
      ]
     },
     "execution_count": 70,
     "metadata": {},
     "output_type": "execute_result"
    }
   ],
   "source": [
    "# xgb_params = {\n",
    "#     'n_estimators': [25, 50, 100, 250],\n",
    "#     'learning_rate': [0.5, 1.0, 1.5, 2.0],\n",
    "# }\n",
    "\n",
    "# gs_xgb = GridSearchCV(xgb.XGBClassifier(), param_grid=xgb_params, cv=2, verbose=1)\n",
    "\n",
    "# # Fit the GridSearchCV object to the data\n",
    "# gs_xgb.fit(pipe_xgb['ss'].fit_transform(X_train), y_train)\n"
   ]
  },
  {
   "cell_type": "code",
   "execution_count": 71,
   "id": "b1757c32-41f0-4ac5-bd2d-73967f749b09",
   "metadata": {
    "execution": {
     "iopub.execute_input": "2022-09-19T21:10:39.821857Z",
     "iopub.status.busy": "2022-09-19T21:10:39.821364Z",
     "iopub.status.idle": "2022-09-19T21:10:39.826568Z",
     "shell.execute_reply": "2022-09-19T21:10:39.825833Z",
     "shell.execute_reply.started": "2022-09-19T21:10:39.821829Z"
    }
   },
   "outputs": [
    {
     "data": {
      "text/plain": [
       "{'learning_rate': 0.5, 'n_estimators': 25}"
      ]
     },
     "execution_count": 71,
     "metadata": {},
     "output_type": "execute_result"
    }
   ],
   "source": [
    "#gs_xgb.best_params_"
   ]
  },
  {
   "cell_type": "code",
   "execution_count": 14,
   "id": "80acb03e-1ffe-4c1f-9ccf-b03b4005a988",
   "metadata": {
    "execution": {
     "iopub.execute_input": "2022-09-21T01:55:58.247273Z",
     "iopub.status.busy": "2022-09-21T01:55:58.246582Z",
     "iopub.status.idle": "2022-09-21T01:55:58.252484Z",
     "shell.execute_reply": "2022-09-21T01:55:58.251426Z",
     "shell.execute_reply.started": "2022-09-21T01:55:58.247222Z"
    },
    "tags": []
   },
   "outputs": [],
   "source": [
    "#gs_xgb.best_score_"
   ]
  },
  {
   "cell_type": "markdown",
   "id": "38413036-c66f-42e7-9292-f04ab2380f65",
   "metadata": {},
   "source": [
    "## Don't run these lol"
   ]
  },
  {
   "cell_type": "code",
   "execution_count": 22,
   "id": "6bba66c0-af70-4553-b644-3513b0307771",
   "metadata": {
    "execution": {
     "iopub.execute_input": "2022-09-18T20:58:15.235124Z",
     "iopub.status.busy": "2022-09-18T20:58:15.234441Z",
     "iopub.status.idle": "2022-09-18T21:05:09.992708Z",
     "shell.execute_reply": "2022-09-18T21:05:09.992394Z",
     "shell.execute_reply.started": "2022-09-18T20:58:15.235077Z"
    },
    "tags": []
   },
   "outputs": [
    {
     "data": {
      "text/plain": [
       "(0.08162067175369862, 4688375.300274653)"
      ]
     },
     "execution_count": 22,
     "metadata": {},
     "output_type": "execute_result"
    }
   ],
   "source": [
    "pipe_km.fit(df)\n",
    "\n",
    "silhouette_score(pipe_km['ss'].fit_transform(df), pipe_km['km'].labels_), pipe_km['km'].inertia_"
   ]
  },
  {
   "cell_type": "code",
   "execution_count": 27,
   "id": "456b4bd0-44cb-4f9b-b767-a8a12de8db76",
   "metadata": {
    "execution": {
     "iopub.execute_input": "2022-09-18T21:17:21.467179Z",
     "iopub.status.busy": "2022-09-18T21:17:21.466503Z",
     "iopub.status.idle": "2022-09-18T21:17:48.065502Z",
     "shell.execute_reply": "2022-09-18T21:17:48.065125Z",
     "shell.execute_reply.started": "2022-09-18T21:17:21.467133Z"
    },
    "tags": []
   },
   "outputs": [
    {
     "name": "stdout",
     "output_type": "stream",
     "text": [
      "now evaluating k=2\n",
      "now evaluating k=3\n",
      "now evaluating k=4\n",
      "now evaluating k=5\n",
      "now evaluating k=6\n",
      "now evaluating k=7\n",
      "now evaluating k=8\n",
      "now evaluating k=9\n",
      "now evaluating k=10\n",
      "now evaluating k=11\n",
      "now evaluating k=12\n",
      "now evaluating k=13\n",
      "now evaluating k=14\n",
      "now evaluating k=15\n"
     ]
    },
    {
     "data": {
      "text/plain": [
       "[<matplotlib.lines.Line2D at 0x157d03670>]"
      ]
     },
     "execution_count": 27,
     "metadata": {},
     "output_type": "execute_result"
    },
    {
     "data": {
      "image/png": "[encoded data removed]",
      "text/plain": [
       "<Figure size 640x480 with 1 Axes>"
      ]
     },
     "metadata": {},
     "output_type": "display_data"
    }
   ],
   "source": [
    "scores = []\n",
    "\n",
    "for k in range(2, 16):\n",
    "    print(f'now evaluating k={k}')\n",
    "    kmeans = KMeans(n_clusters=k, random_state=1)\n",
    "    kmeans.fit(pipe_km['ss'].fit_transform(df))\n",
    "    scores.append([k, kmeans.inertia_])\n",
    "\n",
    "inertia_df = pd.DataFrame(scores, columns=['n_clusters', 'inertia'])\n",
    "plt.plot(inertia_df['n_clusters'], inertia_df['inertia'])"
   ]
  },
  {
   "cell_type": "code",
   "execution_count": 23,
   "id": "4d1cb5e1-fbb7-4f32-9862-b5f1f8568328",
   "metadata": {
    "execution": {
     "iopub.execute_input": "2022-09-18T21:05:33.946435Z",
     "iopub.status.busy": "2022-09-18T21:05:33.946039Z",
     "iopub.status.idle": "2022-09-18T21:13:16.547500Z",
     "shell.execute_reply": "2022-09-18T21:13:16.547136Z",
     "shell.execute_reply.started": "2022-09-18T21:05:33.946409Z"
    }
   },
   "outputs": [
    {
     "data": {
      "text/plain": [
       "-0.34113081792698824"
      ]
     },
     "execution_count": 23,
     "metadata": {},
     "output_type": "execute_result"
    }
   ],
   "source": [
    "pipe_dbs.fit(df)\n",
    "\n",
    "silhouette_score(pipe_dbs['ss'].fit_transform(df), pipe_dbs['dbs'].labels_)"
   ]
  },
  {
   "cell_type": "markdown",
   "id": "3e9dbd60-e32e-4764-99d1-9cd9887ab1e8",
   "metadata": {},
   "source": [
    "## Confusion matrices\n",
    "\n",
    "Initial = Ada minimizes false negatives which is probably the best result for which to optimize."
   ]
  },
  {
   "cell_type": "code",
   "execution_count": 15,
   "id": "a5f8fc67-cc5c-45e4-b349-86095088ebc1",
   "metadata": {
    "execution": {
     "iopub.execute_input": "2022-09-21T01:56:06.598914Z",
     "iopub.status.busy": "2022-09-21T01:56:06.598155Z",
     "iopub.status.idle": "2022-09-21T01:56:11.251076Z",
     "shell.execute_reply": "2022-09-21T01:56:11.250715Z",
     "shell.execute_reply.started": "2022-09-21T01:56:06.598862Z"
    },
    "tags": []
   },
   "outputs": [
    {
     "name": "stdout",
     "output_type": "stream",
     "text": [
      "True positives:  727\n",
      "False positives:  651\n",
      "True negatives:  56796\n",
      "False negatives:  5246\n",
      "Accuracy:  0.9070167139703563\n",
      "True pos rate/recall/sensitivity:  0.12171438138288967\n",
      "False pos rate:  0.01133218444827406\n",
      "True neg rate/specificity:  0.9886678155517259\n",
      "Precision:  0.5275761973875182\n",
      "              precision    recall  f1-score   support\n",
      "\n",
      "      No HDA       0.92      0.99      0.95     57447\n",
      "     Yes HDA       0.53      0.12      0.20      5973\n",
      "\n",
      "    accuracy                           0.91     63420\n",
      "   macro avg       0.72      0.56      0.57     63420\n",
      "weighted avg       0.88      0.91      0.88     63420\n",
      "\n"
     ]
    },
    {
     "data": {
      "image/png": "[encoded data removed]",
      "text/plain": [
       "<Figure size 640x480 with 2 Axes>"
      ]
     },
     "metadata": {},
     "output_type": "display_data"
    }
   ],
   "source": [
    "ConfusionMatrixDisplay.from_estimator(pipe_xgb.fit(X_train, y_train), X_test, y_test, display_labels=['No HDA', 'Yes HDA'])\n",
    "plt.title('XGBoost');\n",
    "predict_xgb = pipe_xgb.predict(X_test)\n",
    "tp_xgb = sum((y_test == 1) & (predict_xgb == 1))\n",
    "fp_xgb = sum((y_test == 0) & (predict_xgb == 1))\n",
    "tn_xgb = sum((y_test == 0) & (predict_xgb == 0))\n",
    "fn_xgb = sum((y_test == 1) & (predict_xgb == 0))\n",
    "print('True positives: ', tp_xgb)\n",
    "print('False positives: ', fp_xgb)\n",
    "print('True negatives: ', tn_xgb)\n",
    "print('False negatives: ', fn_xgb)\n",
    "\n",
    "print('Accuracy: ', (tp_xgb + tn_xgb) / (tp_xgb + tn_xgb + fp_xgb + fn_xgb))\n",
    "print('True pos rate/recall/sensitivity: ', tp_xgb / (tp_xgb + fn_xgb))\n",
    "print('False pos rate: ', fp_xgb / (tn_xgb + fp_xgb))\n",
    "print('True neg rate/specificity: ', tn_xgb / (tn_xgb + fp_xgb))\n",
    "print('Precision: ', tp_xgb / (tp_xgb + fp_xgb))\n",
    "\n",
    "from sklearn.metrics import classification_report\n",
    "\n",
    "print(classification_report(y_test, predict_xgb, target_names=['No HDA', 'Yes HDA']))"
   ]
  },
  {
   "cell_type": "code",
   "execution_count": 16,
   "id": "86bc0533-dda2-4bc2-96eb-2f561f516953",
   "metadata": {
    "execution": {
     "iopub.execute_input": "2022-09-21T01:56:11.252123Z",
     "iopub.status.busy": "2022-09-21T01:56:11.252008Z",
     "iopub.status.idle": "2022-09-21T01:56:14.936731Z",
     "shell.execute_reply": "2022-09-21T01:56:14.936469Z",
     "shell.execute_reply.started": "2022-09-21T01:56:11.252114Z"
    },
    "tags": []
   },
   "outputs": [
    {
     "name": "stdout",
     "output_type": "stream",
     "text": [
      "True positives:  830\n",
      "False positives:  731\n",
      "True negatives:  56716\n",
      "False negatives:  5143\n"
     ]
    },
    {
     "data": {
      "image/png": "[encoded data removed]",
      "text/plain": [
       "<Figure size 640x480 with 2 Axes>"
      ]
     },
     "metadata": {},
     "output_type": "display_data"
    }
   ],
   "source": [
    "ConfusionMatrixDisplay.from_estimator(pipe_ada.fit(X_train, y_train), X_test, y_test, display_labels=['No HDA', 'Yes HDA'])\n",
    "plt.title('AdaBoost');\n",
    "\n",
    "predict_ada = pipe_ada.predict(X_test)\n",
    "print('True positives: ', sum((y_test == 1) & (predict_ada == 1)))\n",
    "print('False positives: ', sum((y_test == 0) & (predict_ada == 1)))\n",
    "print('True negatives: ', sum((y_test == 0) & (predict_ada == 0)))\n",
    "print('False negatives: ', sum((y_test == 1) & (predict_ada == 0)))"
   ]
  },
  {
   "cell_type": "code",
   "execution_count": 17,
   "id": "2dad6410-aeea-4837-ac9a-6aa838d1fde4",
   "metadata": {
    "execution": {
     "iopub.execute_input": "2022-09-21T01:56:14.937288Z",
     "iopub.status.busy": "2022-09-21T01:56:14.937195Z",
     "iopub.status.idle": "2022-09-21T01:56:26.341767Z",
     "shell.execute_reply": "2022-09-21T01:56:26.341506Z",
     "shell.execute_reply.started": "2022-09-21T01:56:14.937279Z"
    },
    "tags": []
   },
   "outputs": [
    {
     "name": "stdout",
     "output_type": "stream",
     "text": [
      "True positives:  687\n",
      "False positives:  549\n",
      "True negatives:  56898\n",
      "False negatives:  5286\n"
     ]
    },
    {
     "data": {
      "image/png": "[encoded data removed]",
      "text/plain": [
       "<Figure size 640x480 with 2 Axes>"
      ]
     },
     "metadata": {},
     "output_type": "display_data"
    }
   ],
   "source": [
    "ConfusionMatrixDisplay.from_estimator(pipe_grad.fit(X_train, y_train), X_test, y_test, display_labels=['No HDA', 'Yes HDA'])\n",
    "plt.title('Gradient Boosting Classifier');\n",
    "\n",
    "predict_grad = pipe_grad.predict(X_test)\n",
    "print('True positives: ', sum((y_test == 1) & (predict_grad == 1)))\n",
    "print('False positives: ', sum((y_test == 0) & (predict_grad == 1)))\n",
    "print('True negatives: ', sum((y_test == 0) & (predict_grad == 0)))\n",
    "print('False negatives: ', sum((y_test == 1) & (predict_grad == 0)))"
   ]
  },
  {
   "cell_type": "markdown",
   "id": "cd0cf3d6-e4b7-49fe-837e-ebd21a673263",
   "metadata": {
    "execution": {
     "iopub.execute_input": "2022-09-20T20:57:57.930388Z",
     "iopub.status.busy": "2022-09-20T20:57:57.929676Z",
     "iopub.status.idle": "2022-09-20T20:57:57.939817Z",
     "shell.execute_reply": "2022-09-20T20:57:57.937926Z",
     "shell.execute_reply.started": "2022-09-20T20:57:57.930340Z"
    }
   },
   "source": [
    "|  | XGBoost | AdaBoost | Gradient Boost |\n",
    "| --- | ---: | ---: | ---: |\n",
    "| True positives | 727 | 877 | 687 |\n",
    "| False positives | 651 | 780 | 549 |\n",
    "| True negatives | 56796 | 56667 | 56898 |\n",
    "| False negatives | 5246 | 5096 | 5286 |"
   ]
  },
  {
   "cell_type": "code",
   "execution_count": 24,
   "id": "c35996cf-6e81-4812-a7b0-ded1a629826c",
   "metadata": {
    "execution": {
     "iopub.execute_input": "2022-09-21T01:57:48.512214Z",
     "iopub.status.busy": "2022-09-21T01:57:48.511529Z",
     "iopub.status.idle": "2022-09-21T01:57:48.774230Z",
     "shell.execute_reply": "2022-09-21T01:57:48.773949Z",
     "shell.execute_reply.started": "2022-09-21T01:57:48.512166Z"
    },
    "tags": []
   },
   "outputs": [
    {
     "name": "stdout",
     "output_type": "stream",
     "text": [
      "                     XGBoost                      \n",
      "\n",
      "               precision    recall  f1-score   support\n",
      "\n",
      "      No HDA       0.92      0.99      0.95     57447\n",
      "     Yes HDA       0.53      0.12      0.20      5973\n",
      "\n",
      "    accuracy                           0.91     63420\n",
      "   macro avg       0.72      0.56      0.57     63420\n",
      "weighted avg       0.88      0.91      0.88     63420\n",
      "\n",
      "                     AdaBoost                     \n",
      "\n",
      "               precision    recall  f1-score   support\n",
      "\n",
      "      No HDA       0.92      0.99      0.95     57447\n",
      "     Yes HDA       0.53      0.14      0.22      5973\n",
      "\n",
      "    accuracy                           0.91     63420\n",
      "   macro avg       0.72      0.56      0.59     63420\n",
      "weighted avg       0.88      0.91      0.88     63420\n",
      "\n",
      "                  Gradient Boost                  \n",
      "\n",
      "               precision    recall  f1-score   support\n",
      "\n",
      "      No HDA       0.91      0.99      0.95     57447\n",
      "     Yes HDA       0.56      0.12      0.19      5973\n",
      "\n",
      "    accuracy                           0.91     63420\n",
      "   macro avg       0.74      0.55      0.57     63420\n",
      "weighted avg       0.88      0.91      0.88     63420\n",
      "\n"
     ]
    }
   ],
   "source": [
    "print(f'{\"XGBoost\" : ^50}\\n\\n', classification_report(y_test, predict_xgb, target_names=['No HDA', 'Yes HDA']))\n",
    "print(f'{\"AdaBoost\" : ^50}\\n\\n', classification_report(y_test, predict_ada, target_names=['No HDA', 'Yes HDA']))\n",
    "print(f'{\"Gradient Boost\" : ^50}\\n\\n', classification_report(y_test, predict_grad, target_names=['No HDA', 'Yes HDA']))"
   ]
  },
  {
   "cell_type": "markdown",
   "id": "41978ce9-22b7-4ce0-b27b-972088ecd2cd",
   "metadata": {},
   "source": [
    "## Neural Network models"
   ]
  },
  {
   "cell_type": "code",
   "execution_count": 3,
   "id": "4fe72f7c-0eaa-4ba4-9a63-cfc667ffc52f",
   "metadata": {
    "execution": {
     "iopub.execute_input": "2022-09-21T02:38:12.877166Z",
     "iopub.status.busy": "2022-09-21T02:38:12.876568Z",
     "iopub.status.idle": "2022-09-21T02:38:13.058883Z",
     "shell.execute_reply": "2022-09-21T02:38:13.058542Z",
     "shell.execute_reply.started": "2022-09-21T02:38:12.877136Z"
    },
    "tags": []
   },
   "outputs": [],
   "source": [
    "url = 'data/heart_disease_ind_2015.csv'\n",
    "\n",
    "df = pd.read_csv(url)"
   ]
  },
  {
   "cell_type": "code",
   "execution_count": 15,
   "id": "caf33a97-e1b5-4eba-b065-5260bf252e28",
   "metadata": {
    "execution": {
     "iopub.execute_input": "2022-09-21T02:42:26.455148Z",
     "iopub.status.busy": "2022-09-21T02:42:26.454324Z",
     "iopub.status.idle": "2022-09-21T02:42:26.532877Z",
     "shell.execute_reply": "2022-09-21T02:42:26.532556Z",
     "shell.execute_reply.started": "2022-09-21T02:42:26.455090Z"
    },
    "tags": []
   },
   "outputs": [],
   "source": [
    "X = df.drop(columns='HeartDiseaseorAttack')\n",
    "y = df['HeartDiseaseorAttack'].astype(int)\n",
    "\n",
    "X_train, X_test, y_train, y_test = train_test_split(X, y, random_state=1, stratify=y)"
   ]
  },
  {
   "cell_type": "code",
   "execution_count": 16,
   "id": "27fbc417-e401-498f-a637-147b4c5720ff",
   "metadata": {
    "execution": {
     "iopub.execute_input": "2022-09-21T02:42:27.490297Z",
     "iopub.status.busy": "2022-09-21T02:42:27.489579Z",
     "iopub.status.idle": "2022-09-21T02:42:27.508345Z",
     "shell.execute_reply": "2022-09-21T02:42:27.507750Z",
     "shell.execute_reply.started": "2022-09-21T02:42:27.490248Z"
    },
    "tags": []
   },
   "outputs": [
    {
     "name": "stdout",
     "output_type": "stream",
     "text": [
      "HeartDiseaseorAttack    float64\n",
      "HighBP                  float64\n",
      "HighChol                float64\n",
      "CholCheck               float64\n",
      "BMI                     float64\n",
      "Smoker                  float64\n",
      "Stroke                  float64\n",
      "Diabetes                float64\n",
      "PhysActivity            float64\n",
      "Fruits                  float64\n",
      "Veggies                 float64\n",
      "HvyAlcoholConsump       float64\n",
      "AnyHealthcare           float64\n",
      "NoDocbcCost             float64\n",
      "GenHlth                 float64\n",
      "MentHlth                float64\n",
      "PhysHlth                float64\n",
      "DiffWalk                float64\n",
      "Sex                     float64\n",
      "Age                     float64\n",
      "Education               float64\n",
      "Income                  float64\n",
      "dtype: object\n"
     ]
    },
    {
     "data": {
      "text/plain": [
       "(253680, 22)"
      ]
     },
     "execution_count": 16,
     "metadata": {},
     "output_type": "execute_result"
    }
   ],
   "source": [
    "print(df.dtypes)\n",
    "df.shape"
   ]
  },
  {
   "cell_type": "code",
   "execution_count": 17,
   "id": "cd73e97d-c2b9-4117-b33d-07b67d7e7b4f",
   "metadata": {
    "execution": {
     "iopub.execute_input": "2022-09-21T02:42:28.165768Z",
     "iopub.status.busy": "2022-09-21T02:42:28.165041Z",
     "iopub.status.idle": "2022-09-21T02:42:28.202881Z",
     "shell.execute_reply": "2022-09-21T02:42:28.202530Z",
     "shell.execute_reply.started": "2022-09-21T02:42:28.165719Z"
    },
    "tags": []
   },
   "outputs": [],
   "source": [
    "ss = StandardScaler()\n",
    "\n",
    "X_train = ss.fit_transform(X_train)\n",
    "X_test = ss.transform(X_test)"
   ]
  },
  {
   "cell_type": "code",
   "execution_count": 26,
   "id": "5f781edf-b435-46ee-841f-6e00426f81d2",
   "metadata": {
    "execution": {
     "iopub.execute_input": "2022-09-21T03:35:17.492999Z",
     "iopub.status.busy": "2022-09-21T03:35:17.492332Z",
     "iopub.status.idle": "2022-09-21T03:35:17.542498Z",
     "shell.execute_reply": "2022-09-21T03:35:17.542179Z",
     "shell.execute_reply.started": "2022-09-21T03:35:17.492953Z"
    },
    "tags": []
   },
   "outputs": [],
   "source": [
    "from tensorflow.keras.regularizers import l2\n",
    "from tensorflow.keras.layers import Dropout\n",
    "\n",
    "model = Sequential()\n",
    "\n",
    "model.add(Dense(21, input_dim=X_train.shape[1], activation='relu', kernel_regularizer=l2(0.001)))\n",
    "\n",
    "model.add(Dense(8, activation='relu', kernel_regularizer=l2(0.001)))\n",
    "model.add(Dropout(.25))\n",
    "\n",
    "model.add(Dense(3, activation='relu', kernel_regularizer=l2(0.001)))\n",
    "model.add(Dropout(.25))\n",
    "\n",
    "model.add(Dense(1, activation='sigmoid'))"
   ]
  },
  {
   "cell_type": "code",
   "execution_count": 27,
   "id": "736a4b2c-0386-47eb-944a-e294570dd156",
   "metadata": {
    "execution": {
     "iopub.execute_input": "2022-09-21T03:35:36.194548Z",
     "iopub.status.busy": "2022-09-21T03:35:36.193831Z",
     "iopub.status.idle": "2022-09-21T03:35:36.209217Z",
     "shell.execute_reply": "2022-09-21T03:35:36.208462Z",
     "shell.execute_reply.started": "2022-09-21T03:35:36.194502Z"
    },
    "tags": []
   },
   "outputs": [],
   "source": [
    "model.compile(optimizer='adam',\n",
    "              loss='binary_crossentropy',\n",
    "              metrics='accuracy')"
   ]
  },
  {
   "cell_type": "code",
   "execution_count": 28,
   "id": "7b16312e-89f5-4824-97ec-b6daa75afe60",
   "metadata": {
    "execution": {
     "iopub.execute_input": "2022-09-21T03:35:39.652717Z",
     "iopub.status.busy": "2022-09-21T03:35:39.652000Z",
     "iopub.status.idle": "2022-09-21T04:27:36.653269Z",
     "shell.execute_reply": "2022-09-21T04:27:36.652920Z",
     "shell.execute_reply.started": "2022-09-21T03:35:39.652669Z"
    },
    "tags": []
   },
   "outputs": [
    {
     "name": "stderr",
     "output_type": "stream",
     "text": [
      "2022-09-20 20:35:39.858261: I tensorflow/core/grappler/optimizers/custom_graph_optimizer_registry.cc:114] Plugin optimizer for device_type GPU is enabled.\n",
      "2022-09-20 20:36:29.737020: I tensorflow/core/grappler/optimizers/custom_graph_optimizer_registry.cc:114] Plugin optimizer for device_type GPU is enabled.\n"
     ]
    }
   ],
   "source": [
    "history = model.fit(\n",
    "    X_train, y_train,\n",
    "    validation_data=(X_test, y_test),\n",
    "    epochs=50,\n",
    "    verbose=0\n",
    ")"
   ]
  },
  {
   "cell_type": "code",
   "execution_count": 29,
   "id": "4be5e2fe-73f3-4145-a3ff-42d7e5dee6ad",
   "metadata": {
    "execution": {
     "iopub.execute_input": "2022-09-21T04:29:46.008261Z",
     "iopub.status.busy": "2022-09-21T04:29:46.007514Z",
     "iopub.status.idle": "2022-09-21T04:29:46.092325Z",
     "shell.execute_reply": "2022-09-21T04:29:46.091720Z",
     "shell.execute_reply.started": "2022-09-21T04:29:46.008213Z"
    },
    "tags": []
   },
   "outputs": [
    {
     "data": {
      "image/png": "[encoded data removed]",
      "text/plain": [
       "<Figure size 640x480 with 1 Axes>"
      ]
     },
     "metadata": {},
     "output_type": "display_data"
    }
   ],
   "source": [
    "train_loss = history.history['loss']\n",
    "test_loss = history.history['val_loss']\n",
    "\n",
    "plt.plot(train_loss, label='Training Loss', color='navy')\n",
    "plt.plot(test_loss, label='Testing Loss', color='skyblue')\n",
    "plt.legend();"
   ]
  },
  {
   "cell_type": "code",
   "execution_count": null,
   "id": "7443aa55-f18a-4075-9f37-7799cb26109a",
   "metadata": {},
   "outputs": [],
   "source": []
  }
 ],
 "metadata": {
  "kernelspec": {
   "display_name": "Python 3 (ipykernel)",
   "language": "python",
   "name": "python3"
  },
  "language_info": {
   "codemirror_mode": {
    "name": "ipython",
    "version": 3
   },
   "file_extension": ".py",
   "mimetype": "text/x-python",
   "name": "python",
   "nbconvert_exporter": "python",
   "pygments_lexer": "ipython3",
   "version": "3.9.12"
  }
 },
 "nbformat": 4,
 "nbformat_minor": 5
}
