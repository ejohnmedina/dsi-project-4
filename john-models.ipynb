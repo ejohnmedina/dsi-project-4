{
 "cells": [
  {
   "cell_type": "code",
   "execution_count": 28,
   "id": "32b33b6d-2e78-443d-8e29-dae76c5c70b9",
   "metadata": {
    "execution": {
     "iopub.execute_input": "2022-09-17T05:12:12.175425Z",
     "iopub.status.busy": "2022-09-17T05:12:12.174992Z",
     "iopub.status.idle": "2022-09-17T05:12:12.182065Z",
     "shell.execute_reply": "2022-09-17T05:12:12.181451Z",
     "shell.execute_reply.started": "2022-09-17T05:12:12.175398Z"
    },
    "tags": []
   },
   "outputs": [],
   "source": [
    "# adaboost gradientboost clustering\n",
    "\n",
    "import numpy as np\n",
    "import pandas as pd\n",
    "\n",
    "from sklearn.model_selection import train_test_split, cross_val_score\n",
    "\n",
    "from sklearn.pipeline import Pipeline\n",
    "\n",
    "from sklearn.ensemble import AdaBoostClassifier, GradientBoostingClassifier\n",
    "import xgboost as xgb\n",
    "\n",
    "from sklearn.preprocessing import StandardScaler\n",
    "\n",
    "from sklearn.metrics import silhouette_score\n",
    "from sklearn.cluster import KMeans\n",
    "from sklearn.cluster import DBSCAN"
   ]
  },
  {
   "cell_type": "code",
   "execution_count": 2,
   "id": "fc489157-4442-41e5-9f9c-d3e104b49aab",
   "metadata": {
    "execution": {
     "iopub.execute_input": "2022-09-17T04:42:24.300797Z",
     "iopub.status.busy": "2022-09-17T04:42:24.299765Z",
     "iopub.status.idle": "2022-09-17T04:42:24.494972Z",
     "shell.execute_reply": "2022-09-17T04:42:24.494657Z",
     "shell.execute_reply.started": "2022-09-17T04:42:24.300744Z"
    }
   },
   "outputs": [],
   "source": [
    "url = 'data/heart_disease_ind_2015.csv'\n",
    "\n",
    "df = pd.read_csv(url)"
   ]
  },
  {
   "cell_type": "code",
   "execution_count": 6,
   "id": "66649488-c5cb-428d-a202-534e08168756",
   "metadata": {
    "execution": {
     "iopub.execute_input": "2022-09-17T04:45:10.009645Z",
     "iopub.status.busy": "2022-09-17T04:45:10.008917Z",
     "iopub.status.idle": "2022-09-17T04:45:10.035167Z",
     "shell.execute_reply": "2022-09-17T04:45:10.034481Z",
     "shell.execute_reply.started": "2022-09-17T04:45:10.009592Z"
    },
    "tags": []
   },
   "outputs": [
    {
     "data": {
      "text/plain": [
       "0.0    0.905814\n",
       "1.0    0.094186\n",
       "Name: HeartDiseaseorAttack, dtype: float64"
      ]
     },
     "execution_count": 6,
     "metadata": {},
     "output_type": "execute_result"
    }
   ],
   "source": [
    "# setup baseline\n",
    "df.HeartDiseaseorAttack.value_counts(normalize=True)"
   ]
  },
  {
   "cell_type": "code",
   "execution_count": 7,
   "id": "f9990f8f-beb3-4070-8bef-7b00dda20dcc",
   "metadata": {
    "execution": {
     "iopub.execute_input": "2022-09-17T04:45:29.256046Z",
     "iopub.status.busy": "2022-09-17T04:45:29.255425Z",
     "iopub.status.idle": "2022-09-17T04:45:29.301935Z",
     "shell.execute_reply": "2022-09-17T04:45:29.301562Z",
     "shell.execute_reply.started": "2022-09-17T04:45:29.255999Z"
    },
    "tags": []
   },
   "outputs": [],
   "source": [
    "X = df.drop(columns='HeartDiseaseorAttack')\n",
    "y = df['HeartDiseaseorAttack']\n",
    "\n",
    "X_train, X_test, y_train, y_test = train_test_split(X, y, random_state=1, stratify=y)"
   ]
  },
  {
   "cell_type": "code",
   "execution_count": 39,
   "id": "74a43578-39f5-470e-aaff-0c4c6ceb96d0",
   "metadata": {
    "execution": {
     "iopub.execute_input": "2022-09-17T05:28:50.943991Z",
     "iopub.status.busy": "2022-09-17T05:28:50.943341Z",
     "iopub.status.idle": "2022-09-17T05:28:50.952692Z",
     "shell.execute_reply": "2022-09-17T05:28:50.951913Z",
     "shell.execute_reply.started": "2022-09-17T05:28:50.943946Z"
    },
    "tags": []
   },
   "outputs": [],
   "source": [
    "pipe_ada = Pipeline([\n",
    "    ('ss', StandardScaler()),\n",
    "    ('abc', AdaBoostClassifier())\n",
    "])\n",
    "\n",
    "pipe_grad = Pipeline([\n",
    "    ('ss', StandardScaler()),\n",
    "    ('gbc', GradientBoostingClassifier())\n",
    "])\n",
    "\n",
    "pipe_km = Pipeline([\n",
    "    ('ss', StandardScaler()),\n",
    "    ('km', KMeans(n_clusters=3, random_state=1))\n",
    "])\n",
    "\n",
    "pipe_dbs = Pipeline([\n",
    "    ('ss', StandardScaler()),\n",
    "    ('dbs', DBSCAN())\n",
    "])\n",
    "\n",
    "pipe_xgb = Pipeline([\n",
    "    ('ss', StandardScaler()),\n",
    "    ('xgb', xgb.XGBClassifier())\n",
    "])"
   ]
  },
  {
   "cell_type": "code",
   "execution_count": 17,
   "id": "7b7fedcc-fc50-4f65-9306-66343d144839",
   "metadata": {
    "execution": {
     "iopub.execute_input": "2022-09-17T05:02:40.418960Z",
     "iopub.status.busy": "2022-09-17T05:02:40.418258Z",
     "iopub.status.idle": "2022-09-17T05:02:44.401489Z",
     "shell.execute_reply": "2022-09-17T05:02:44.401126Z",
     "shell.execute_reply.started": "2022-09-17T05:02:40.418915Z"
    }
   },
   "outputs": [
    {
     "data": {
      "text/plain": [
       "(0.9063912540733733, 0.9095868811100599)"
      ]
     },
     "execution_count": 17,
     "metadata": {},
     "output_type": "execute_result"
    }
   ],
   "source": [
    "pipe_ada.fit(X_train, y_train)\n",
    "\n",
    "pipe_ada.score(X_train, y_train), pipe_ada.score(X_test, y_test)"
   ]
  },
  {
   "cell_type": "code",
   "execution_count": 20,
   "id": "91dbdcda-ffe7-4f68-87d9-778efb34d9fe",
   "metadata": {
    "execution": {
     "iopub.execute_input": "2022-09-17T05:03:45.374184Z",
     "iopub.status.busy": "2022-09-17T05:03:45.373488Z",
     "iopub.status.idle": "2022-09-17T05:03:56.891867Z",
     "shell.execute_reply": "2022-09-17T05:03:56.891588Z",
     "shell.execute_reply.started": "2022-09-17T05:03:45.374140Z"
    },
    "tags": []
   },
   "outputs": [
    {
     "data": {
      "text/plain": [
       "(0.9079259960054662, 0.9094922737306843)"
      ]
     },
     "execution_count": 20,
     "metadata": {},
     "output_type": "execute_result"
    }
   ],
   "source": [
    "pipe_grad.fit(X_train, y_train)\n",
    "\n",
    "pipe_grad.score(X_train, y_train), pipe_grad.score(X_test, y_test)"
   ]
  },
  {
   "cell_type": "code",
   "execution_count": 47,
   "id": "a8ebf4e0-11a5-40d8-93c1-956ee06de8b0",
   "metadata": {
    "execution": {
     "iopub.execute_input": "2022-09-17T05:41:52.139887Z",
     "iopub.status.busy": "2022-09-17T05:41:52.139165Z",
     "iopub.status.idle": "2022-09-17T05:41:52.146325Z",
     "shell.execute_reply": "2022-09-17T05:41:52.145225Z",
     "shell.execute_reply.started": "2022-09-17T05:41:52.139833Z"
    },
    "tags": []
   },
   "outputs": [],
   "source": [
    "#ss = StandardScaler()\n",
    "\n",
    "#pipe_km.fit(df)\n",
    "#km_labels = pipe_km['km'].labels_\n",
    "#print(pipe_km['ss'].mean_)\n",
    "#silhouette_score(ss.fit_transform(df), km_labels)\n",
    "#silhouette_score(df, km_labels)"
   ]
  },
  {
   "cell_type": "code",
   "execution_count": 48,
   "id": "111b9248-eef6-49ce-a04a-f69f2226c8a2",
   "metadata": {
    "execution": {
     "iopub.execute_input": "2022-09-17T05:42:08.313128Z",
     "iopub.status.busy": "2022-09-17T05:42:08.312394Z",
     "iopub.status.idle": "2022-09-17T05:42:08.317899Z",
     "shell.execute_reply": "2022-09-17T05:42:08.317168Z",
     "shell.execute_reply.started": "2022-09-17T05:42:08.313079Z"
    },
    "tags": []
   },
   "outputs": [],
   "source": [
    "#pipe_dbs.fit(df)\n",
    "\n",
    "#dbs_labels = pipe_dbs['dbs'].labels_\n",
    "\n",
    "#silhouette_score(pipe_dbs['ss'].fit_transform(df), dbs_labels)"
   ]
  },
  {
   "cell_type": "code",
   "execution_count": 49,
   "id": "aa60548d-17e0-45f1-b8de-4c470537f91f",
   "metadata": {
    "execution": {
     "iopub.execute_input": "2022-09-17T05:42:10.628978Z",
     "iopub.status.busy": "2022-09-17T05:42:10.628614Z",
     "iopub.status.idle": "2022-09-17T05:42:15.288955Z",
     "shell.execute_reply": "2022-09-17T05:42:15.288593Z",
     "shell.execute_reply.started": "2022-09-17T05:42:10.628961Z"
    }
   },
   "outputs": [
    {
     "data": {
      "text/plain": [
       "(0.914254178492589, 0.908561967833491)"
      ]
     },
     "execution_count": 49,
     "metadata": {},
     "output_type": "execute_result"
    }
   ],
   "source": [
    "pipe_xgb.fit(X_train, y_train)\n",
    "\n",
    "pipe_xgb.score(X_train, y_train), pipe_xgb.score(X_test, y_test)"
   ]
  },
  {
   "cell_type": "code",
   "execution_count": null,
   "id": "6b438241-76cd-4d63-a59a-f9eecff03872",
   "metadata": {},
   "outputs": [],
   "source": []
  },
  {
   "cell_type": "code",
   "execution_count": null,
   "id": "6bba66c0-af70-4553-b644-3513b0307771",
   "metadata": {},
   "outputs": [],
   "source": []
  },
  {
   "cell_type": "code",
   "execution_count": null,
   "id": "4d1cb5e1-fbb7-4f32-9862-b5f1f8568328",
   "metadata": {},
   "outputs": [],
   "source": []
  }
 ],
 "metadata": {
  "kernelspec": {
   "display_name": "Python 3 (ipykernel)",
   "language": "python",
   "name": "python3"
  },
  "language_info": {
   "codemirror_mode": {
    "name": "ipython",
    "version": 3
   },
   "file_extension": ".py",
   "mimetype": "text/x-python",
   "name": "python",
   "nbconvert_exporter": "python",
   "pygments_lexer": "ipython3",
   "version": "3.10.6"
  }
 },
 "nbformat": 4,
 "nbformat_minor": 5
}
