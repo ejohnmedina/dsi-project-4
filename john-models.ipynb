{
 "cells": [
  {
   "cell_type": "code",
   "execution_count": 26,
   "id": "32b33b6d-2e78-443d-8e29-dae76c5c70b9",
   "metadata": {
    "execution": {
     "iopub.execute_input": "2022-09-18T21:17:10.129765Z",
     "iopub.status.busy": "2022-09-18T21:17:10.129531Z",
     "iopub.status.idle": "2022-09-18T21:17:10.293041Z",
     "shell.execute_reply": "2022-09-18T21:17:10.292721Z",
     "shell.execute_reply.started": "2022-09-18T21:17:10.129753Z"
    },
    "tags": []
   },
   "outputs": [],
   "source": [
    "# adaboost gradientboost clustering\n",
    "\n",
    "import numpy as np\n",
    "import pandas as pd\n",
    "import matplotlib.pyplot as plt\n",
    "\n",
    "from sklearn.model_selection import train_test_split, cross_val_score\n",
    "\n",
    "from sklearn.pipeline import Pipeline\n",
    "\n",
    "from sklearn.ensemble import AdaBoostClassifier, GradientBoostingClassifier\n",
    "import xgboost as xgb\n",
    "\n",
    "from sklearn.preprocessing import StandardScaler\n",
    "\n",
    "from sklearn.metrics import silhouette_score\n",
    "from sklearn.cluster import KMeans\n",
    "from sklearn.cluster import DBSCAN"
   ]
  },
  {
   "cell_type": "code",
   "execution_count": 2,
   "id": "fc489157-4442-41e5-9f9c-d3e104b49aab",
   "metadata": {
    "execution": {
     "iopub.execute_input": "2022-09-18T20:13:08.455351Z",
     "iopub.status.busy": "2022-09-18T20:13:08.454814Z",
     "iopub.status.idle": "2022-09-18T20:13:08.642474Z",
     "shell.execute_reply": "2022-09-18T20:13:08.642150Z",
     "shell.execute_reply.started": "2022-09-18T20:13:08.455325Z"
    },
    "tags": []
   },
   "outputs": [],
   "source": [
    "url = 'data/heart_disease_ind_2015.csv'\n",
    "\n",
    "df = pd.read_csv(url)"
   ]
  },
  {
   "cell_type": "code",
   "execution_count": 3,
   "id": "66649488-c5cb-428d-a202-534e08168756",
   "metadata": {
    "execution": {
     "iopub.execute_input": "2022-09-18T20:13:14.598113Z",
     "iopub.status.busy": "2022-09-18T20:13:14.597384Z",
     "iopub.status.idle": "2022-09-18T20:13:14.619959Z",
     "shell.execute_reply": "2022-09-18T20:13:14.619559Z",
     "shell.execute_reply.started": "2022-09-18T20:13:14.598064Z"
    },
    "tags": []
   },
   "outputs": [
    {
     "data": {
      "text/plain": [
       "0.0    0.905814\n",
       "1.0    0.094186\n",
       "Name: HeartDiseaseorAttack, dtype: float64"
      ]
     },
     "execution_count": 3,
     "metadata": {},
     "output_type": "execute_result"
    }
   ],
   "source": [
    "# setup baseline\n",
    "df.HeartDiseaseorAttack.value_counts(normalize=True)"
   ]
  },
  {
   "cell_type": "code",
   "execution_count": 4,
   "id": "f9990f8f-beb3-4070-8bef-7b00dda20dcc",
   "metadata": {
    "execution": {
     "iopub.execute_input": "2022-09-18T20:13:17.243178Z",
     "iopub.status.busy": "2022-09-18T20:13:17.242436Z",
     "iopub.status.idle": "2022-09-18T20:13:17.335204Z",
     "shell.execute_reply": "2022-09-18T20:13:17.334848Z",
     "shell.execute_reply.started": "2022-09-18T20:13:17.243124Z"
    },
    "tags": []
   },
   "outputs": [],
   "source": [
    "X = df.drop(columns='HeartDiseaseorAttack')\n",
    "y = df['HeartDiseaseorAttack']\n",
    "\n",
    "X_train, X_test, y_train, y_test = train_test_split(X, y, random_state=1, stratify=y)"
   ]
  },
  {
   "cell_type": "code",
   "execution_count": 5,
   "id": "74a43578-39f5-470e-aaff-0c4c6ceb96d0",
   "metadata": {
    "execution": {
     "iopub.execute_input": "2022-09-18T20:13:19.215692Z",
     "iopub.status.busy": "2022-09-18T20:13:19.214847Z",
     "iopub.status.idle": "2022-09-18T20:13:19.225354Z",
     "shell.execute_reply": "2022-09-18T20:13:19.224353Z",
     "shell.execute_reply.started": "2022-09-18T20:13:19.215641Z"
    },
    "tags": []
   },
   "outputs": [],
   "source": [
    "pipe_ada = Pipeline([\n",
    "    ('ss', StandardScaler()),\n",
    "    ('abc', AdaBoostClassifier(random_state=1))\n",
    "])\n",
    "\n",
    "pipe_grad = Pipeline([\n",
    "    ('ss', StandardScaler()),\n",
    "    ('gbc', GradientBoostingClassifier(random_state=1))\n",
    "])\n",
    "\n",
    "pipe_km = Pipeline([\n",
    "    ('ss', StandardScaler()),\n",
    "    ('km', KMeans(random_state=1))\n",
    "])\n",
    "\n",
    "pipe_dbs = Pipeline([\n",
    "    ('ss', StandardScaler()),\n",
    "    ('dbs', DBSCAN())\n",
    "])\n",
    "\n",
    "pipe_xgb = Pipeline([\n",
    "    ('ss', StandardScaler()),\n",
    "    ('xgb', xgb.XGBClassifier())\n",
    "])"
   ]
  },
  {
   "cell_type": "code",
   "execution_count": 6,
   "id": "7b7fedcc-fc50-4f65-9306-66343d144839",
   "metadata": {
    "execution": {
     "iopub.execute_input": "2022-09-18T20:13:24.881231Z",
     "iopub.status.busy": "2022-09-18T20:13:24.880385Z",
     "iopub.status.idle": "2022-09-18T20:13:28.738916Z",
     "shell.execute_reply": "2022-09-18T20:13:28.738653Z",
     "shell.execute_reply.started": "2022-09-18T20:13:24.881178Z"
    },
    "tags": []
   },
   "outputs": [
    {
     "data": {
      "text/plain": [
       "(0.9071638810049406, 0.9073478397981709)"
      ]
     },
     "execution_count": 6,
     "metadata": {},
     "output_type": "execute_result"
    }
   ],
   "source": [
    "pipe_ada.fit(X_train, y_train)\n",
    "\n",
    "pipe_ada.score(X_train, y_train), pipe_ada.score(X_test, y_test)"
   ]
  },
  {
   "cell_type": "code",
   "execution_count": 7,
   "id": "91dbdcda-ffe7-4f68-87d9-778efb34d9fe",
   "metadata": {
    "execution": {
     "iopub.execute_input": "2022-09-18T20:13:30.574761Z",
     "iopub.status.busy": "2022-09-18T20:13:30.574044Z",
     "iopub.status.idle": "2022-09-18T20:13:42.118308Z",
     "shell.execute_reply": "2022-09-18T20:13:42.118043Z",
     "shell.execute_reply.started": "2022-09-18T20:13:30.574713Z"
    },
    "tags": []
   },
   "outputs": [
    {
     "data": {
      "text/plain": [
       "(0.908525176074845, 0.9079943235572374)"
      ]
     },
     "execution_count": 7,
     "metadata": {},
     "output_type": "execute_result"
    }
   ],
   "source": [
    "pipe_grad.fit(X_train, y_train)\n",
    "\n",
    "pipe_grad.score(X_train, y_train), pipe_grad.score(X_test, y_test)"
   ]
  },
  {
   "cell_type": "code",
   "execution_count": 8,
   "id": "aa60548d-17e0-45f1-b8de-4c470537f91f",
   "metadata": {
    "execution": {
     "iopub.execute_input": "2022-09-18T20:13:51.053892Z",
     "iopub.status.busy": "2022-09-18T20:13:51.053162Z",
     "iopub.status.idle": "2022-09-18T20:13:55.439370Z",
     "shell.execute_reply": "2022-09-18T20:13:55.438975Z",
     "shell.execute_reply.started": "2022-09-18T20:13:51.053842Z"
    },
    "tags": []
   },
   "outputs": [
    {
     "data": {
      "text/plain": [
       "(0.9147902869757174, 0.9070167139703563)"
      ]
     },
     "execution_count": 8,
     "metadata": {},
     "output_type": "execute_result"
    }
   ],
   "source": [
    "pipe_xgb.fit(X_train, y_train)\n",
    "\n",
    "pipe_xgb.score(X_train, y_train), pipe_xgb.score(X_test, y_test)"
   ]
  },
  {
   "cell_type": "code",
   "execution_count": 22,
   "id": "6bba66c0-af70-4553-b644-3513b0307771",
   "metadata": {
    "execution": {
     "iopub.execute_input": "2022-09-18T20:58:15.235124Z",
     "iopub.status.busy": "2022-09-18T20:58:15.234441Z",
     "iopub.status.idle": "2022-09-18T21:05:09.992708Z",
     "shell.execute_reply": "2022-09-18T21:05:09.992394Z",
     "shell.execute_reply.started": "2022-09-18T20:58:15.235077Z"
    },
    "tags": []
   },
   "outputs": [
    {
     "data": {
      "text/plain": [
       "(0.08162067175369862, 4688375.300274653)"
      ]
     },
     "execution_count": 22,
     "metadata": {},
     "output_type": "execute_result"
    }
   ],
   "source": [
    "pipe_km.fit(df)\n",
    "\n",
    "silhouette_score(pipe_km['ss'].fit_transform(df), pipe_km['km'].labels_), pipe_km['km'].inertia_"
   ]
  },
  {
   "cell_type": "code",
   "execution_count": 27,
   "id": "456b4bd0-44cb-4f9b-b767-a8a12de8db76",
   "metadata": {
    "execution": {
     "iopub.execute_input": "2022-09-18T21:17:21.467179Z",
     "iopub.status.busy": "2022-09-18T21:17:21.466503Z",
     "iopub.status.idle": "2022-09-18T21:17:48.065502Z",
     "shell.execute_reply": "2022-09-18T21:17:48.065125Z",
     "shell.execute_reply.started": "2022-09-18T21:17:21.467133Z"
    },
    "tags": []
   },
   "outputs": [
    {
     "name": "stdout",
     "output_type": "stream",
     "text": [
      "now evaluating k=2\n",
      "now evaluating k=3\n",
      "now evaluating k=4\n",
      "now evaluating k=5\n",
      "now evaluating k=6\n",
      "now evaluating k=7\n",
      "now evaluating k=8\n",
      "now evaluating k=9\n",
      "now evaluating k=10\n",
      "now evaluating k=11\n",
      "now evaluating k=12\n",
      "now evaluating k=13\n",
      "now evaluating k=14\n",
      "now evaluating k=15\n"
     ]
    },
    {
     "data": {
      "text/plain": [
       "[<matplotlib.lines.Line2D at 0x157d03670>]"
      ]
     },
     "execution_count": 27,
     "metadata": {},
     "output_type": "execute_result"
    },
    {
     "data": {
      "image/png": "[encoded data removed]",
      "text/plain": [
       "<Figure size 640x480 with 1 Axes>"
      ]
     },
     "metadata": {},
     "output_type": "display_data"
    }
   ],
   "source": [
    "scores = []\n",
    "\n",
    "for k in range(2, 16):\n",
    "    print(f'now evaluating k={k}')\n",
    "    kmeans = KMeans(n_clusters=k, random_state=1)\n",
    "    kmeans.fit(pipe_km['ss'].fit_transform(df))\n",
    "    scores.append([k, kmeans.inertia_])\n",
    "\n",
    "inertia_df = pd.DataFrame(scores, columns=['n_clusters', 'inertia'])\n",
    "plt.plot(inertia_df['n_clusters'], inertia_df['inertia'])"
   ]
  },
  {
   "cell_type": "code",
   "execution_count": 23,
   "id": "4d1cb5e1-fbb7-4f32-9862-b5f1f8568328",
   "metadata": {
    "execution": {
     "iopub.execute_input": "2022-09-18T21:05:33.946435Z",
     "iopub.status.busy": "2022-09-18T21:05:33.946039Z",
     "iopub.status.idle": "2022-09-18T21:13:16.547500Z",
     "shell.execute_reply": "2022-09-18T21:13:16.547136Z",
     "shell.execute_reply.started": "2022-09-18T21:05:33.946409Z"
    }
   },
   "outputs": [
    {
     "data": {
      "text/plain": [
       "-0.34113081792698824"
      ]
     },
     "execution_count": 23,
     "metadata": {},
     "output_type": "execute_result"
    }
   ],
   "source": [
    "pipe_dbs.fit(df)\n",
    "\n",
    "silhouette_score(pipe_dbs['ss'].fit_transform(df), pipe_dbs['dbs'].labels_)"
   ]
  },
  {
   "cell_type": "code",
   "execution_count": null,
   "id": "a5f8fc67-cc5c-45e4-b349-86095088ebc1",
   "metadata": {},
   "outputs": [],
   "source": []
  }
 ],
 "metadata": {
  "kernelspec": {
   "display_name": "Python 3 (ipykernel)",
   "language": "python",
   "name": "python3"
  },
  "language_info": {
   "codemirror_mode": {
    "name": "ipython",
    "version": 3
   },
   "file_extension": ".py",
   "mimetype": "text/x-python",
   "name": "python",
   "nbconvert_exporter": "python",
   "pygments_lexer": "ipython3",
   "version": "3.9.12"
  }
 },
 "nbformat": 4,
 "nbformat_minor": 5
}
