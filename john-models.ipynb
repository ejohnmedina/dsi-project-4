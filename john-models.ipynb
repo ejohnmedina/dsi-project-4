{
 "cells": [
  {
   "cell_type": "code",
   "execution_count": 52,
   "id": "32b33b6d-2e78-443d-8e29-dae76c5c70b9",
   "metadata": {
    "execution": {
     "iopub.execute_input": "2022-09-19T20:11:01.087484Z",
     "iopub.status.busy": "2022-09-19T20:11:01.087305Z",
     "iopub.status.idle": "2022-09-19T20:11:01.090498Z",
     "shell.execute_reply": "2022-09-19T20:11:01.090098Z",
     "shell.execute_reply.started": "2022-09-19T20:11:01.087470Z"
    },
    "tags": []
   },
   "outputs": [],
   "source": [
    "# adaboost gradientboost clustering\n",
    "\n",
    "import numpy as np\n",
    "import pandas as pd\n",
    "import matplotlib.pyplot as plt\n",
    "\n",
    "from sklearn.model_selection import train_test_split, cross_val_score, GridSearchCV\n",
    "\n",
    "from sklearn.metrics import ConfusionMatrixDisplay\n",
    "\n",
    "from sklearn.pipeline import Pipeline\n",
    "\n",
    "from sklearn.ensemble import AdaBoostClassifier, GradientBoostingClassifier\n",
    "import xgboost as xgb\n",
    "\n",
    "from sklearn.preprocessing import StandardScaler\n",
    "\n",
    "from sklearn.metrics import silhouette_score\n",
    "from sklearn.cluster import KMeans\n",
    "from sklearn.cluster import DBSCAN"
   ]
  },
  {
   "cell_type": "code",
   "execution_count": 2,
   "id": "fc489157-4442-41e5-9f9c-d3e104b49aab",
   "metadata": {
    "execution": {
     "iopub.execute_input": "2022-09-19T19:21:06.474658Z",
     "iopub.status.busy": "2022-09-19T19:21:06.474028Z",
     "iopub.status.idle": "2022-09-19T19:21:06.680997Z",
     "shell.execute_reply": "2022-09-19T19:21:06.680655Z",
     "shell.execute_reply.started": "2022-09-19T19:21:06.474629Z"
    },
    "tags": []
   },
   "outputs": [],
   "source": [
    "url = 'data/heart_disease_ind_2015.csv'\n",
    "\n",
    "df = pd.read_csv(url)"
   ]
  },
  {
   "cell_type": "code",
   "execution_count": 3,
   "id": "66649488-c5cb-428d-a202-534e08168756",
   "metadata": {
    "execution": {
     "iopub.execute_input": "2022-09-19T19:21:07.048936Z",
     "iopub.status.busy": "2022-09-19T19:21:07.048298Z",
     "iopub.status.idle": "2022-09-19T19:21:07.074219Z",
     "shell.execute_reply": "2022-09-19T19:21:07.073826Z",
     "shell.execute_reply.started": "2022-09-19T19:21:07.048892Z"
    },
    "tags": []
   },
   "outputs": [
    {
     "data": {
      "text/plain": [
       "0.0    0.905814\n",
       "1.0    0.094186\n",
       "Name: HeartDiseaseorAttack, dtype: float64"
      ]
     },
     "execution_count": 3,
     "metadata": {},
     "output_type": "execute_result"
    }
   ],
   "source": [
    "# setup baseline\n",
    "df.HeartDiseaseorAttack.value_counts(normalize=True)"
   ]
  },
  {
   "cell_type": "code",
   "execution_count": 11,
   "id": "f9990f8f-beb3-4070-8bef-7b00dda20dcc",
   "metadata": {
    "execution": {
     "iopub.execute_input": "2022-09-19T19:23:49.885335Z",
     "iopub.status.busy": "2022-09-19T19:23:49.884603Z",
     "iopub.status.idle": "2022-09-19T19:23:49.968084Z",
     "shell.execute_reply": "2022-09-19T19:23:49.967735Z",
     "shell.execute_reply.started": "2022-09-19T19:23:49.885286Z"
    },
    "tags": []
   },
   "outputs": [],
   "source": [
    "X = df.drop(columns='HeartDiseaseorAttack')\n",
    "y = df['HeartDiseaseorAttack']\n",
    "\n",
    "X_train, X_test, y_train, y_test = train_test_split(X, y, random_state=1, stratify=y)"
   ]
  },
  {
   "cell_type": "code",
   "execution_count": 63,
   "id": "74a43578-39f5-470e-aaff-0c4c6ceb96d0",
   "metadata": {
    "execution": {
     "iopub.execute_input": "2022-09-19T20:57:56.617783Z",
     "iopub.status.busy": "2022-09-19T20:57:56.617513Z",
     "iopub.status.idle": "2022-09-19T20:57:56.623859Z",
     "shell.execute_reply": "2022-09-19T20:57:56.622870Z",
     "shell.execute_reply.started": "2022-09-19T20:57:56.617767Z"
    },
    "tags": []
   },
   "outputs": [],
   "source": [
    "pipe_ada = Pipeline([\n",
    "    ('ss', StandardScaler()),\n",
    "    ('abc', AdaBoostClassifier(learning_rate=0.5, n_estimators=50, random_state=1))\n",
    "])\n",
    "\n",
    "pipe_grad = Pipeline([\n",
    "    ('ss', StandardScaler()),\n",
    "    ('gbc', GradientBoostingClassifier(random_state=1))\n",
    "])\n",
    "\n",
    "pipe_km = Pipeline([\n",
    "    ('ss', StandardScaler()),\n",
    "    ('km', KMeans(random_state=1))\n",
    "])\n",
    "\n",
    "pipe_dbs = Pipeline([\n",
    "    ('ss', StandardScaler()),\n",
    "    ('dbs', DBSCAN())\n",
    "])\n",
    "\n",
    "pipe_xgb = Pipeline([\n",
    "    ('ss', StandardScaler()),\n",
    "    ('xgb', xgb.XGBClassifier())\n",
    "])"
   ]
  },
  {
   "cell_type": "code",
   "execution_count": 64,
   "id": "7b7fedcc-fc50-4f65-9306-66343d144839",
   "metadata": {
    "execution": {
     "iopub.execute_input": "2022-09-19T20:58:00.322168Z",
     "iopub.status.busy": "2022-09-19T20:58:00.321784Z",
     "iopub.status.idle": "2022-09-19T20:58:04.365901Z",
     "shell.execute_reply": "2022-09-19T20:58:04.365620Z",
     "shell.execute_reply.started": "2022-09-19T20:58:00.322145Z"
    },
    "tags": []
   },
   "outputs": [
    {
     "data": {
      "text/plain": [
       "(0.9073268159360874, 0.9073793755912961)"
      ]
     },
     "execution_count": 64,
     "metadata": {},
     "output_type": "execute_result"
    }
   ],
   "source": [
    "pipe_ada.fit(X_train, y_train)\n",
    "\n",
    "pipe_ada.score(X_train, y_train), pipe_ada.score(X_test, y_test)"
   ]
  },
  {
   "cell_type": "code",
   "execution_count": 7,
   "id": "91dbdcda-ffe7-4f68-87d9-778efb34d9fe",
   "metadata": {
    "execution": {
     "iopub.execute_input": "2022-09-19T19:21:14.332445Z",
     "iopub.status.busy": "2022-09-19T19:21:14.332349Z",
     "iopub.status.idle": "2022-09-19T19:21:25.821750Z",
     "shell.execute_reply": "2022-09-19T19:21:25.821455Z",
     "shell.execute_reply.started": "2022-09-19T19:21:14.332437Z"
    },
    "tags": []
   },
   "outputs": [
    {
     "data": {
      "text/plain": [
       "(0.908525176074845, 0.9079943235572374)"
      ]
     },
     "execution_count": 7,
     "metadata": {},
     "output_type": "execute_result"
    }
   ],
   "source": [
    "pipe_grad.fit(X_train, y_train)\n",
    "\n",
    "pipe_grad.score(X_train, y_train), pipe_grad.score(X_test, y_test)"
   ]
  },
  {
   "cell_type": "code",
   "execution_count": 8,
   "id": "aa60548d-17e0-45f1-b8de-4c470537f91f",
   "metadata": {
    "execution": {
     "iopub.execute_input": "2022-09-19T19:21:28.992902Z",
     "iopub.status.busy": "2022-09-19T19:21:28.991789Z",
     "iopub.status.idle": "2022-09-19T19:21:33.423799Z",
     "shell.execute_reply": "2022-09-19T19:21:33.423470Z",
     "shell.execute_reply.started": "2022-09-19T19:21:28.992843Z"
    },
    "tags": []
   },
   "outputs": [
    {
     "data": {
      "text/plain": [
       "(0.9147902869757174, 0.9070167139703563)"
      ]
     },
     "execution_count": 8,
     "metadata": {},
     "output_type": "execute_result"
    }
   ],
   "source": [
    "pipe_xgb.fit(X_train, y_train)\n",
    "\n",
    "pipe_xgb.score(X_train, y_train), pipe_xgb.score(X_test, y_test)"
   ]
  },
  {
   "cell_type": "markdown",
   "id": "1781badb-62a7-4ede-b418-69d11a0b62fc",
   "metadata": {},
   "source": [
    "## GridSearching for hyperparams\n",
    "\n",
    "This excludes the clustering models below."
   ]
  },
  {
   "cell_type": "code",
   "execution_count": 57,
   "id": "474fb9ff-0388-4dda-9f6d-3dbc89bfaa29",
   "metadata": {
    "execution": {
     "iopub.execute_input": "2022-09-19T20:19:23.322908Z",
     "iopub.status.busy": "2022-09-19T20:19:23.321962Z",
     "iopub.status.idle": "2022-09-19T20:28:11.069136Z",
     "shell.execute_reply": "2022-09-19T20:28:11.068791Z",
     "shell.execute_reply.started": "2022-09-19T20:19:23.322847Z"
    },
    "tags": []
   },
   "outputs": [
    {
     "name": "stdout",
     "output_type": "stream",
     "text": [
      "Fitting 5 folds for each of 20 candidates, totalling 100 fits\n"
     ]
    },
    {
     "data": {
      "text/html": [
       "<style>#sk-container-id-1 {color: black;background-color: white;}#sk-container-id-1 pre{padding: 0;}#sk-container-id-1 div.sk-toggleable {background-color: white;}#sk-container-id-1 label.sk-toggleable__label {cursor: pointer;display: block;width: 100%;margin-bottom: 0;padding: 0.3em;box-sizing: border-box;text-align: center;}#sk-container-id-1 label.sk-toggleable__label-arrow:before {content: \"▸\";float: left;margin-right: 0.25em;color: #696969;}#sk-container-id-1 label.sk-toggleable__label-arrow:hover:before {color: black;}#sk-container-id-1 div.sk-estimator:hover label.sk-toggleable__label-arrow:before {color: black;}#sk-container-id-1 div.sk-toggleable__content {max-height: 0;max-width: 0;overflow: hidden;text-align: left;background-color: #f0f8ff;}#sk-container-id-1 div.sk-toggleable__content pre {margin: 0.2em;color: black;border-radius: 0.25em;background-color: #f0f8ff;}#sk-container-id-1 input.sk-toggleable__control:checked~div.sk-toggleable__content {max-height: 200px;max-width: 100%;overflow: auto;}#sk-container-id-1 input.sk-toggleable__control:checked~label.sk-toggleable__label-arrow:before {content: \"▾\";}#sk-container-id-1 div.sk-estimator input.sk-toggleable__control:checked~label.sk-toggleable__label {background-color: #d4ebff;}#sk-container-id-1 div.sk-label input.sk-toggleable__control:checked~label.sk-toggleable__label {background-color: #d4ebff;}#sk-container-id-1 input.sk-hidden--visually {border: 0;clip: rect(1px 1px 1px 1px);clip: rect(1px, 1px, 1px, 1px);height: 1px;margin: -1px;overflow: hidden;padding: 0;position: absolute;width: 1px;}#sk-container-id-1 div.sk-estimator {font-family: monospace;background-color: #f0f8ff;border: 1px dotted black;border-radius: 0.25em;box-sizing: border-box;margin-bottom: 0.5em;}#sk-container-id-1 div.sk-estimator:hover {background-color: #d4ebff;}#sk-container-id-1 div.sk-parallel-item::after {content: \"\";width: 100%;border-bottom: 1px solid gray;flex-grow: 1;}#sk-container-id-1 div.sk-label:hover label.sk-toggleable__label {background-color: #d4ebff;}#sk-container-id-1 div.sk-serial::before {content: \"\";position: absolute;border-left: 1px solid gray;box-sizing: border-box;top: 0;bottom: 0;left: 50%;z-index: 0;}#sk-container-id-1 div.sk-serial {display: flex;flex-direction: column;align-items: center;background-color: white;padding-right: 0.2em;padding-left: 0.2em;position: relative;}#sk-container-id-1 div.sk-item {position: relative;z-index: 1;}#sk-container-id-1 div.sk-parallel {display: flex;align-items: stretch;justify-content: center;background-color: white;position: relative;}#sk-container-id-1 div.sk-item::before, #sk-container-id-1 div.sk-parallel-item::before {content: \"\";position: absolute;border-left: 1px solid gray;box-sizing: border-box;top: 0;bottom: 0;left: 50%;z-index: -1;}#sk-container-id-1 div.sk-parallel-item {display: flex;flex-direction: column;z-index: 1;position: relative;background-color: white;}#sk-container-id-1 div.sk-parallel-item:first-child::after {align-self: flex-end;width: 50%;}#sk-container-id-1 div.sk-parallel-item:last-child::after {align-self: flex-start;width: 50%;}#sk-container-id-1 div.sk-parallel-item:only-child::after {width: 0;}#sk-container-id-1 div.sk-dashed-wrapped {border: 1px dashed gray;margin: 0 0.4em 0.5em 0.4em;box-sizing: border-box;padding-bottom: 0.4em;background-color: white;}#sk-container-id-1 div.sk-label label {font-family: monospace;font-weight: bold;display: inline-block;line-height: 1.2em;}#sk-container-id-1 div.sk-label-container {text-align: center;}#sk-container-id-1 div.sk-container {/* jupyter's `normalize.less` sets `[hidden] { display: none; }` but bootstrap.min.css set `[hidden] { display: none !important; }` so we also need the `!important` here to be able to override the default hidden behavior on the sphinx rendered scikit-learn.org. See: https://github.com/scikit-learn/scikit-learn/issues/21755 */display: inline-block !important;position: relative;}#sk-container-id-1 div.sk-text-repr-fallback {display: none;}</style><div id=\"sk-container-id-1\" class=\"sk-top-container\"><div class=\"sk-text-repr-fallback\"><pre>GridSearchCV(cv=5, estimator=AdaBoostClassifier(),\n",
       "             param_grid={&#x27;learning_rate&#x27;: [0.5, 1.0, 1.5, 2.0, 2.5],\n",
       "                         &#x27;n_estimators&#x27;: [25, 50, 100, 250]},\n",
       "             verbose=1)</pre><b>In a Jupyter environment, please rerun this cell to show the HTML representation or trust the notebook. <br />On GitHub, the HTML representation is unable to render, please try loading this page with nbviewer.org.</b></div><div class=\"sk-container\" hidden><div class=\"sk-item sk-dashed-wrapped\"><div class=\"sk-label-container\"><div class=\"sk-label sk-toggleable\"><input class=\"sk-toggleable__control sk-hidden--visually\" id=\"sk-estimator-id-1\" type=\"checkbox\" ><label for=\"sk-estimator-id-1\" class=\"sk-toggleable__label sk-toggleable__label-arrow\">GridSearchCV</label><div class=\"sk-toggleable__content\"><pre>GridSearchCV(cv=5, estimator=AdaBoostClassifier(),\n",
       "             param_grid={&#x27;learning_rate&#x27;: [0.5, 1.0, 1.5, 2.0, 2.5],\n",
       "                         &#x27;n_estimators&#x27;: [25, 50, 100, 250]},\n",
       "             verbose=1)</pre></div></div></div><div class=\"sk-parallel\"><div class=\"sk-parallel-item\"><div class=\"sk-item\"><div class=\"sk-label-container\"><div class=\"sk-label sk-toggleable\"><input class=\"sk-toggleable__control sk-hidden--visually\" id=\"sk-estimator-id-2\" type=\"checkbox\" ><label for=\"sk-estimator-id-2\" class=\"sk-toggleable__label sk-toggleable__label-arrow\">estimator: AdaBoostClassifier</label><div class=\"sk-toggleable__content\"><pre>AdaBoostClassifier()</pre></div></div></div><div class=\"sk-serial\"><div class=\"sk-item\"><div class=\"sk-estimator sk-toggleable\"><input class=\"sk-toggleable__control sk-hidden--visually\" id=\"sk-estimator-id-3\" type=\"checkbox\" ><label for=\"sk-estimator-id-3\" class=\"sk-toggleable__label sk-toggleable__label-arrow\">AdaBoostClassifier</label><div class=\"sk-toggleable__content\"><pre>AdaBoostClassifier()</pre></div></div></div></div></div></div></div></div></div></div>"
      ],
      "text/plain": [
       "GridSearchCV(cv=5, estimator=AdaBoostClassifier(),\n",
       "             param_grid={'learning_rate': [0.5, 1.0, 1.5, 2.0, 2.5],\n",
       "                         'n_estimators': [25, 50, 100, 250]},\n",
       "             verbose=1)"
      ]
     },
     "execution_count": 57,
     "metadata": {},
     "output_type": "execute_result"
    }
   ],
   "source": [
    "ada_params = {\n",
    "    'n_estimators': [25, 50, 100, 250],\n",
    "    'learning_rate': [0.5, 1.0, 1.5, 2.0, 2.5],\n",
    "}\n",
    "\n",
    "gs_ada = GridSearchCV(AdaBoostClassifier(), param_grid=ada_params, cv=5, verbose=1)\n",
    "\n",
    "# Fit the GridSearchCV object to the data\n",
    "gs_ada.fit(pipe_ada['ss'].fit_transform(X_train), y_train)\n",
    "\n"
   ]
  },
  {
   "cell_type": "code",
   "execution_count": 60,
   "id": "780a18a7-4993-4701-9e39-e00facbb9aaf",
   "metadata": {
    "execution": {
     "iopub.execute_input": "2022-09-19T20:56:20.309169Z",
     "iopub.status.busy": "2022-09-19T20:56:20.309090Z",
     "iopub.status.idle": "2022-09-19T20:56:20.311373Z",
     "shell.execute_reply": "2022-09-19T20:56:20.311116Z",
     "shell.execute_reply.started": "2022-09-19T20:56:20.309161Z"
    }
   },
   "outputs": [
    {
     "data": {
      "text/plain": [
       "{'learning_rate': 0.5, 'n_estimators': 25}"
      ]
     },
     "execution_count": 60,
     "metadata": {},
     "output_type": "execute_result"
    }
   ],
   "source": [
    "gs_ada.best_params_"
   ]
  },
  {
   "cell_type": "code",
   "execution_count": 65,
   "id": "f1836a40-ea65-44c3-9b06-78f319a8f3ec",
   "metadata": {
    "execution": {
     "iopub.execute_input": "2022-09-19T20:58:26.643040Z",
     "iopub.status.busy": "2022-09-19T20:58:26.642635Z",
     "iopub.status.idle": "2022-09-19T20:58:26.648284Z",
     "shell.execute_reply": "2022-09-19T20:58:26.647509Z",
     "shell.execute_reply.started": "2022-09-19T20:58:26.643013Z"
    }
   },
   "outputs": [
    {
     "data": {
      "text/plain": [
       "0.9074529591085883"
      ]
     },
     "execution_count": 65,
     "metadata": {},
     "output_type": "execute_result"
    }
   ],
   "source": [
    "gs_ada.best_score_"
   ]
  },
  {
   "cell_type": "code",
   "execution_count": 59,
   "id": "bf903de5-ed3e-432b-bd14-e8c47240d67a",
   "metadata": {
    "execution": {
     "iopub.execute_input": "2022-09-19T20:30:38.250791Z",
     "iopub.status.busy": "2022-09-19T20:30:38.250223Z",
     "iopub.status.idle": "2022-09-19T20:56:20.306663Z",
     "shell.execute_reply": "2022-09-19T20:56:20.306312Z",
     "shell.execute_reply.started": "2022-09-19T20:30:38.250762Z"
    },
    "tags": []
   },
   "outputs": [
    {
     "name": "stdout",
     "output_type": "stream",
     "text": [
      "Fitting 5 folds for each of 12 candidates, totalling 60 fits\n"
     ]
    },
    {
     "data": {
      "text/html": [
       "<style>#sk-container-id-2 {color: black;background-color: white;}#sk-container-id-2 pre{padding: 0;}#sk-container-id-2 div.sk-toggleable {background-color: white;}#sk-container-id-2 label.sk-toggleable__label {cursor: pointer;display: block;width: 100%;margin-bottom: 0;padding: 0.3em;box-sizing: border-box;text-align: center;}#sk-container-id-2 label.sk-toggleable__label-arrow:before {content: \"▸\";float: left;margin-right: 0.25em;color: #696969;}#sk-container-id-2 label.sk-toggleable__label-arrow:hover:before {color: black;}#sk-container-id-2 div.sk-estimator:hover label.sk-toggleable__label-arrow:before {color: black;}#sk-container-id-2 div.sk-toggleable__content {max-height: 0;max-width: 0;overflow: hidden;text-align: left;background-color: #f0f8ff;}#sk-container-id-2 div.sk-toggleable__content pre {margin: 0.2em;color: black;border-radius: 0.25em;background-color: #f0f8ff;}#sk-container-id-2 input.sk-toggleable__control:checked~div.sk-toggleable__content {max-height: 200px;max-width: 100%;overflow: auto;}#sk-container-id-2 input.sk-toggleable__control:checked~label.sk-toggleable__label-arrow:before {content: \"▾\";}#sk-container-id-2 div.sk-estimator input.sk-toggleable__control:checked~label.sk-toggleable__label {background-color: #d4ebff;}#sk-container-id-2 div.sk-label input.sk-toggleable__control:checked~label.sk-toggleable__label {background-color: #d4ebff;}#sk-container-id-2 input.sk-hidden--visually {border: 0;clip: rect(1px 1px 1px 1px);clip: rect(1px, 1px, 1px, 1px);height: 1px;margin: -1px;overflow: hidden;padding: 0;position: absolute;width: 1px;}#sk-container-id-2 div.sk-estimator {font-family: monospace;background-color: #f0f8ff;border: 1px dotted black;border-radius: 0.25em;box-sizing: border-box;margin-bottom: 0.5em;}#sk-container-id-2 div.sk-estimator:hover {background-color: #d4ebff;}#sk-container-id-2 div.sk-parallel-item::after {content: \"\";width: 100%;border-bottom: 1px solid gray;flex-grow: 1;}#sk-container-id-2 div.sk-label:hover label.sk-toggleable__label {background-color: #d4ebff;}#sk-container-id-2 div.sk-serial::before {content: \"\";position: absolute;border-left: 1px solid gray;box-sizing: border-box;top: 0;bottom: 0;left: 50%;z-index: 0;}#sk-container-id-2 div.sk-serial {display: flex;flex-direction: column;align-items: center;background-color: white;padding-right: 0.2em;padding-left: 0.2em;position: relative;}#sk-container-id-2 div.sk-item {position: relative;z-index: 1;}#sk-container-id-2 div.sk-parallel {display: flex;align-items: stretch;justify-content: center;background-color: white;position: relative;}#sk-container-id-2 div.sk-item::before, #sk-container-id-2 div.sk-parallel-item::before {content: \"\";position: absolute;border-left: 1px solid gray;box-sizing: border-box;top: 0;bottom: 0;left: 50%;z-index: -1;}#sk-container-id-2 div.sk-parallel-item {display: flex;flex-direction: column;z-index: 1;position: relative;background-color: white;}#sk-container-id-2 div.sk-parallel-item:first-child::after {align-self: flex-end;width: 50%;}#sk-container-id-2 div.sk-parallel-item:last-child::after {align-self: flex-start;width: 50%;}#sk-container-id-2 div.sk-parallel-item:only-child::after {width: 0;}#sk-container-id-2 div.sk-dashed-wrapped {border: 1px dashed gray;margin: 0 0.4em 0.5em 0.4em;box-sizing: border-box;padding-bottom: 0.4em;background-color: white;}#sk-container-id-2 div.sk-label label {font-family: monospace;font-weight: bold;display: inline-block;line-height: 1.2em;}#sk-container-id-2 div.sk-label-container {text-align: center;}#sk-container-id-2 div.sk-container {/* jupyter's `normalize.less` sets `[hidden] { display: none; }` but bootstrap.min.css set `[hidden] { display: none !important; }` so we also need the `!important` here to be able to override the default hidden behavior on the sphinx rendered scikit-learn.org. See: https://github.com/scikit-learn/scikit-learn/issues/21755 */display: inline-block !important;position: relative;}#sk-container-id-2 div.sk-text-repr-fallback {display: none;}</style><div id=\"sk-container-id-2\" class=\"sk-top-container\"><div class=\"sk-text-repr-fallback\"><pre>GridSearchCV(cv=5, estimator=GradientBoostingClassifier(),\n",
       "             param_grid={&#x27;min_samples_split&#x27;: [2, 5, 10],\n",
       "                         &#x27;n_estimators&#x27;: [50, 100, 250, 500]},\n",
       "             verbose=1)</pre><b>In a Jupyter environment, please rerun this cell to show the HTML representation or trust the notebook. <br />On GitHub, the HTML representation is unable to render, please try loading this page with nbviewer.org.</b></div><div class=\"sk-container\" hidden><div class=\"sk-item sk-dashed-wrapped\"><div class=\"sk-label-container\"><div class=\"sk-label sk-toggleable\"><input class=\"sk-toggleable__control sk-hidden--visually\" id=\"sk-estimator-id-4\" type=\"checkbox\" ><label for=\"sk-estimator-id-4\" class=\"sk-toggleable__label sk-toggleable__label-arrow\">GridSearchCV</label><div class=\"sk-toggleable__content\"><pre>GridSearchCV(cv=5, estimator=GradientBoostingClassifier(),\n",
       "             param_grid={&#x27;min_samples_split&#x27;: [2, 5, 10],\n",
       "                         &#x27;n_estimators&#x27;: [50, 100, 250, 500]},\n",
       "             verbose=1)</pre></div></div></div><div class=\"sk-parallel\"><div class=\"sk-parallel-item\"><div class=\"sk-item\"><div class=\"sk-label-container\"><div class=\"sk-label sk-toggleable\"><input class=\"sk-toggleable__control sk-hidden--visually\" id=\"sk-estimator-id-5\" type=\"checkbox\" ><label for=\"sk-estimator-id-5\" class=\"sk-toggleable__label sk-toggleable__label-arrow\">estimator: GradientBoostingClassifier</label><div class=\"sk-toggleable__content\"><pre>GradientBoostingClassifier()</pre></div></div></div><div class=\"sk-serial\"><div class=\"sk-item\"><div class=\"sk-estimator sk-toggleable\"><input class=\"sk-toggleable__control sk-hidden--visually\" id=\"sk-estimator-id-6\" type=\"checkbox\" ><label for=\"sk-estimator-id-6\" class=\"sk-toggleable__label sk-toggleable__label-arrow\">GradientBoostingClassifier</label><div class=\"sk-toggleable__content\"><pre>GradientBoostingClassifier()</pre></div></div></div></div></div></div></div></div></div></div>"
      ],
      "text/plain": [
       "GridSearchCV(cv=5, estimator=GradientBoostingClassifier(),\n",
       "             param_grid={'min_samples_split': [2, 5, 10],\n",
       "                         'n_estimators': [50, 100, 250, 500]},\n",
       "             verbose=1)"
      ]
     },
     "execution_count": 59,
     "metadata": {},
     "output_type": "execute_result"
    }
   ],
   "source": [
    "grad_params = {\n",
    "    'n_estimators': [50, 100, 250, 500],\n",
    "    'min_samples_split': [2, 5, 10],\n",
    "}\n",
    "\n",
    "gs_grad = GridSearchCV(GradientBoostingClassifier(), param_grid=grad_params, cv=5, verbose=1)\n",
    "\n",
    "# Fit the GridSearchCV object to the data\n",
    "gs_grad.fit(pipe_grad['ss'].fit_transform(X_train), y_train)\n"
   ]
  },
  {
   "cell_type": "code",
   "execution_count": 66,
   "id": "129406ef-34fc-4a41-aba6-4a60b4d60831",
   "metadata": {
    "execution": {
     "iopub.execute_input": "2022-09-19T21:00:01.107923Z",
     "iopub.status.busy": "2022-09-19T21:00:01.107498Z",
     "iopub.status.idle": "2022-09-19T21:00:01.114003Z",
     "shell.execute_reply": "2022-09-19T21:00:01.113253Z",
     "shell.execute_reply.started": "2022-09-19T21:00:01.107896Z"
    }
   },
   "outputs": [
    {
     "data": {
      "text/plain": [
       "{'min_samples_split': 2, 'n_estimators': 50}"
      ]
     },
     "execution_count": 66,
     "metadata": {},
     "output_type": "execute_result"
    }
   ],
   "source": [
    "gs_grad.best_params_"
   ]
  },
  {
   "cell_type": "code",
   "execution_count": 67,
   "id": "f634f646-7786-46e2-8046-9c62d13ead11",
   "metadata": {
    "execution": {
     "iopub.execute_input": "2022-09-19T21:00:19.842430Z",
     "iopub.status.busy": "2022-09-19T21:00:19.841994Z",
     "iopub.status.idle": "2022-09-19T21:00:19.847953Z",
     "shell.execute_reply": "2022-09-19T21:00:19.847276Z",
     "shell.execute_reply.started": "2022-09-19T21:00:19.842395Z"
    }
   },
   "outputs": [
    {
     "data": {
      "text/plain": [
       "0.9081520025228634"
      ]
     },
     "execution_count": 67,
     "metadata": {},
     "output_type": "execute_result"
    }
   ],
   "source": [
    "gs_grad.best_score_"
   ]
  },
  {
   "cell_type": "code",
   "execution_count": 70,
   "id": "67d746a7-d8ca-497b-803f-91b5113be5f7",
   "metadata": {
    "execution": {
     "iopub.execute_input": "2022-09-19T21:08:46.829555Z",
     "iopub.status.busy": "2022-09-19T21:08:46.829164Z",
     "iopub.status.idle": "2022-09-19T21:10:07.663055Z",
     "shell.execute_reply": "2022-09-19T21:10:07.662727Z",
     "shell.execute_reply.started": "2022-09-19T21:08:46.829530Z"
    },
    "tags": []
   },
   "outputs": [
    {
     "name": "stdout",
     "output_type": "stream",
     "text": [
      "Fitting 2 folds for each of 16 candidates, totalling 32 fits\n"
     ]
    },
    {
     "data": {
      "text/html": [
       "<style>#sk-container-id-3 {color: black;background-color: white;}#sk-container-id-3 pre{padding: 0;}#sk-container-id-3 div.sk-toggleable {background-color: white;}#sk-container-id-3 label.sk-toggleable__label {cursor: pointer;display: block;width: 100%;margin-bottom: 0;padding: 0.3em;box-sizing: border-box;text-align: center;}#sk-container-id-3 label.sk-toggleable__label-arrow:before {content: \"▸\";float: left;margin-right: 0.25em;color: #696969;}#sk-container-id-3 label.sk-toggleable__label-arrow:hover:before {color: black;}#sk-container-id-3 div.sk-estimator:hover label.sk-toggleable__label-arrow:before {color: black;}#sk-container-id-3 div.sk-toggleable__content {max-height: 0;max-width: 0;overflow: hidden;text-align: left;background-color: #f0f8ff;}#sk-container-id-3 div.sk-toggleable__content pre {margin: 0.2em;color: black;border-radius: 0.25em;background-color: #f0f8ff;}#sk-container-id-3 input.sk-toggleable__control:checked~div.sk-toggleable__content {max-height: 200px;max-width: 100%;overflow: auto;}#sk-container-id-3 input.sk-toggleable__control:checked~label.sk-toggleable__label-arrow:before {content: \"▾\";}#sk-container-id-3 div.sk-estimator input.sk-toggleable__control:checked~label.sk-toggleable__label {background-color: #d4ebff;}#sk-container-id-3 div.sk-label input.sk-toggleable__control:checked~label.sk-toggleable__label {background-color: #d4ebff;}#sk-container-id-3 input.sk-hidden--visually {border: 0;clip: rect(1px 1px 1px 1px);clip: rect(1px, 1px, 1px, 1px);height: 1px;margin: -1px;overflow: hidden;padding: 0;position: absolute;width: 1px;}#sk-container-id-3 div.sk-estimator {font-family: monospace;background-color: #f0f8ff;border: 1px dotted black;border-radius: 0.25em;box-sizing: border-box;margin-bottom: 0.5em;}#sk-container-id-3 div.sk-estimator:hover {background-color: #d4ebff;}#sk-container-id-3 div.sk-parallel-item::after {content: \"\";width: 100%;border-bottom: 1px solid gray;flex-grow: 1;}#sk-container-id-3 div.sk-label:hover label.sk-toggleable__label {background-color: #d4ebff;}#sk-container-id-3 div.sk-serial::before {content: \"\";position: absolute;border-left: 1px solid gray;box-sizing: border-box;top: 0;bottom: 0;left: 50%;z-index: 0;}#sk-container-id-3 div.sk-serial {display: flex;flex-direction: column;align-items: center;background-color: white;padding-right: 0.2em;padding-left: 0.2em;position: relative;}#sk-container-id-3 div.sk-item {position: relative;z-index: 1;}#sk-container-id-3 div.sk-parallel {display: flex;align-items: stretch;justify-content: center;background-color: white;position: relative;}#sk-container-id-3 div.sk-item::before, #sk-container-id-3 div.sk-parallel-item::before {content: \"\";position: absolute;border-left: 1px solid gray;box-sizing: border-box;top: 0;bottom: 0;left: 50%;z-index: -1;}#sk-container-id-3 div.sk-parallel-item {display: flex;flex-direction: column;z-index: 1;position: relative;background-color: white;}#sk-container-id-3 div.sk-parallel-item:first-child::after {align-self: flex-end;width: 50%;}#sk-container-id-3 div.sk-parallel-item:last-child::after {align-self: flex-start;width: 50%;}#sk-container-id-3 div.sk-parallel-item:only-child::after {width: 0;}#sk-container-id-3 div.sk-dashed-wrapped {border: 1px dashed gray;margin: 0 0.4em 0.5em 0.4em;box-sizing: border-box;padding-bottom: 0.4em;background-color: white;}#sk-container-id-3 div.sk-label label {font-family: monospace;font-weight: bold;display: inline-block;line-height: 1.2em;}#sk-container-id-3 div.sk-label-container {text-align: center;}#sk-container-id-3 div.sk-container {/* jupyter's `normalize.less` sets `[hidden] { display: none; }` but bootstrap.min.css set `[hidden] { display: none !important; }` so we also need the `!important` here to be able to override the default hidden behavior on the sphinx rendered scikit-learn.org. See: https://github.com/scikit-learn/scikit-learn/issues/21755 */display: inline-block !important;position: relative;}#sk-container-id-3 div.sk-text-repr-fallback {display: none;}</style><div id=\"sk-container-id-3\" class=\"sk-top-container\"><div class=\"sk-text-repr-fallback\"><pre>GridSearchCV(cv=2,\n",
       "             estimator=XGBClassifier(base_score=None, booster=None,\n",
       "                                     callbacks=None, colsample_bylevel=None,\n",
       "                                     colsample_bynode=None,\n",
       "                                     colsample_bytree=None,\n",
       "                                     early_stopping_rounds=None,\n",
       "                                     enable_categorical=False, eval_metric=None,\n",
       "                                     gamma=None, gpu_id=None, grow_policy=None,\n",
       "                                     importance_type=None,\n",
       "                                     interaction_constraints=None,\n",
       "                                     learning_rate=None, max_bin=None,\n",
       "                                     max_cat_to_onehot=None,\n",
       "                                     max_delta_step=None, max_depth=None,\n",
       "                                     max_leaves=None, min_child_weight=None,\n",
       "                                     missing=nan, monotone_constraints=None,\n",
       "                                     n_estimators=100, n_jobs=None,\n",
       "                                     num_parallel_tree=None, predictor=None,\n",
       "                                     random_state=None, reg_alpha=None,\n",
       "                                     reg_lambda=None, ...),\n",
       "             param_grid={&#x27;learning_rate&#x27;: [0.5, 1.0, 1.5, 2.0],\n",
       "                         &#x27;n_estimators&#x27;: [25, 50, 100, 250]},\n",
       "             verbose=1)</pre><b>In a Jupyter environment, please rerun this cell to show the HTML representation or trust the notebook. <br />On GitHub, the HTML representation is unable to render, please try loading this page with nbviewer.org.</b></div><div class=\"sk-container\" hidden><div class=\"sk-item sk-dashed-wrapped\"><div class=\"sk-label-container\"><div class=\"sk-label sk-toggleable\"><input class=\"sk-toggleable__control sk-hidden--visually\" id=\"sk-estimator-id-7\" type=\"checkbox\" ><label for=\"sk-estimator-id-7\" class=\"sk-toggleable__label sk-toggleable__label-arrow\">GridSearchCV</label><div class=\"sk-toggleable__content\"><pre>GridSearchCV(cv=2,\n",
       "             estimator=XGBClassifier(base_score=None, booster=None,\n",
       "                                     callbacks=None, colsample_bylevel=None,\n",
       "                                     colsample_bynode=None,\n",
       "                                     colsample_bytree=None,\n",
       "                                     early_stopping_rounds=None,\n",
       "                                     enable_categorical=False, eval_metric=None,\n",
       "                                     gamma=None, gpu_id=None, grow_policy=None,\n",
       "                                     importance_type=None,\n",
       "                                     interaction_constraints=None,\n",
       "                                     learning_rate=None, max_bin=None,\n",
       "                                     max_cat_to_onehot=None,\n",
       "                                     max_delta_step=None, max_depth=None,\n",
       "                                     max_leaves=None, min_child_weight=None,\n",
       "                                     missing=nan, monotone_constraints=None,\n",
       "                                     n_estimators=100, n_jobs=None,\n",
       "                                     num_parallel_tree=None, predictor=None,\n",
       "                                     random_state=None, reg_alpha=None,\n",
       "                                     reg_lambda=None, ...),\n",
       "             param_grid={&#x27;learning_rate&#x27;: [0.5, 1.0, 1.5, 2.0],\n",
       "                         &#x27;n_estimators&#x27;: [25, 50, 100, 250]},\n",
       "             verbose=1)</pre></div></div></div><div class=\"sk-parallel\"><div class=\"sk-parallel-item\"><div class=\"sk-item\"><div class=\"sk-label-container\"><div class=\"sk-label sk-toggleable\"><input class=\"sk-toggleable__control sk-hidden--visually\" id=\"sk-estimator-id-8\" type=\"checkbox\" ><label for=\"sk-estimator-id-8\" class=\"sk-toggleable__label sk-toggleable__label-arrow\">estimator: XGBClassifier</label><div class=\"sk-toggleable__content\"><pre>XGBClassifier(base_score=None, booster=None, callbacks=None,\n",
       "              colsample_bylevel=None, colsample_bynode=None,\n",
       "              colsample_bytree=None, early_stopping_rounds=None,\n",
       "              enable_categorical=False, eval_metric=None, gamma=None,\n",
       "              gpu_id=None, grow_policy=None, importance_type=None,\n",
       "              interaction_constraints=None, learning_rate=None, max_bin=None,\n",
       "              max_cat_to_onehot=None, max_delta_step=None, max_depth=None,\n",
       "              max_leaves=None, min_child_weight=None, missing=nan,\n",
       "              monotone_constraints=None, n_estimators=100, n_jobs=None,\n",
       "              num_parallel_tree=None, predictor=None, random_state=None,\n",
       "              reg_alpha=None, reg_lambda=None, ...)</pre></div></div></div><div class=\"sk-serial\"><div class=\"sk-item\"><div class=\"sk-estimator sk-toggleable\"><input class=\"sk-toggleable__control sk-hidden--visually\" id=\"sk-estimator-id-9\" type=\"checkbox\" ><label for=\"sk-estimator-id-9\" class=\"sk-toggleable__label sk-toggleable__label-arrow\">XGBClassifier</label><div class=\"sk-toggleable__content\"><pre>XGBClassifier(base_score=None, booster=None, callbacks=None,\n",
       "              colsample_bylevel=None, colsample_bynode=None,\n",
       "              colsample_bytree=None, early_stopping_rounds=None,\n",
       "              enable_categorical=False, eval_metric=None, gamma=None,\n",
       "              gpu_id=None, grow_policy=None, importance_type=None,\n",
       "              interaction_constraints=None, learning_rate=None, max_bin=None,\n",
       "              max_cat_to_onehot=None, max_delta_step=None, max_depth=None,\n",
       "              max_leaves=None, min_child_weight=None, missing=nan,\n",
       "              monotone_constraints=None, n_estimators=100, n_jobs=None,\n",
       "              num_parallel_tree=None, predictor=None, random_state=None,\n",
       "              reg_alpha=None, reg_lambda=None, ...)</pre></div></div></div></div></div></div></div></div></div></div>"
      ],
      "text/plain": [
       "GridSearchCV(cv=2,\n",
       "             estimator=XGBClassifier(base_score=None, booster=None,\n",
       "                                     callbacks=None, colsample_bylevel=None,\n",
       "                                     colsample_bynode=None,\n",
       "                                     colsample_bytree=None,\n",
       "                                     early_stopping_rounds=None,\n",
       "                                     enable_categorical=False, eval_metric=None,\n",
       "                                     gamma=None, gpu_id=None, grow_policy=None,\n",
       "                                     importance_type=None,\n",
       "                                     interaction_constraints=None,\n",
       "                                     learning_rate=None, max_bin=None,\n",
       "                                     max_cat_to_onehot=None,\n",
       "                                     max_delta_step=None, max_depth=None,\n",
       "                                     max_leaves=None, min_child_weight=None,\n",
       "                                     missing=nan, monotone_constraints=None,\n",
       "                                     n_estimators=100, n_jobs=None,\n",
       "                                     num_parallel_tree=None, predictor=None,\n",
       "                                     random_state=None, reg_alpha=None,\n",
       "                                     reg_lambda=None, ...),\n",
       "             param_grid={'learning_rate': [0.5, 1.0, 1.5, 2.0],\n",
       "                         'n_estimators': [25, 50, 100, 250]},\n",
       "             verbose=1)"
      ]
     },
     "execution_count": 70,
     "metadata": {},
     "output_type": "execute_result"
    }
   ],
   "source": [
    "xgb_params = {\n",
    "    'n_estimators': [25, 50, 100, 250],\n",
    "    'learning_rate': [0.5, 1.0, 1.5, 2.0],\n",
    "}\n",
    "\n",
    "gs_xgb = GridSearchCV(xgb.XGBClassifier(), param_grid=xgb_params, cv=2, verbose=1)\n",
    "\n",
    "# Fit the GridSearchCV object to the data\n",
    "gs_xgb.fit(pipe_xgb['ss'].fit_transform(X_train), y_train)\n"
   ]
  },
  {
   "cell_type": "code",
   "execution_count": 71,
   "id": "b1757c32-41f0-4ac5-bd2d-73967f749b09",
   "metadata": {
    "execution": {
     "iopub.execute_input": "2022-09-19T21:10:39.821857Z",
     "iopub.status.busy": "2022-09-19T21:10:39.821364Z",
     "iopub.status.idle": "2022-09-19T21:10:39.826568Z",
     "shell.execute_reply": "2022-09-19T21:10:39.825833Z",
     "shell.execute_reply.started": "2022-09-19T21:10:39.821829Z"
    }
   },
   "outputs": [
    {
     "data": {
      "text/plain": [
       "{'learning_rate': 0.5, 'n_estimators': 25}"
      ]
     },
     "execution_count": 71,
     "metadata": {},
     "output_type": "execute_result"
    }
   ],
   "source": [
    "gs_xgb.best_params_"
   ]
  },
  {
   "cell_type": "code",
   "execution_count": 72,
   "id": "80acb03e-1ffe-4c1f-9ccf-b03b4005a988",
   "metadata": {
    "execution": {
     "iopub.execute_input": "2022-09-19T21:10:49.069971Z",
     "iopub.status.busy": "2022-09-19T21:10:49.069662Z",
     "iopub.status.idle": "2022-09-19T21:10:49.075312Z",
     "shell.execute_reply": "2022-09-19T21:10:49.074366Z",
     "shell.execute_reply.started": "2022-09-19T21:10:49.069946Z"
    }
   },
   "outputs": [
    {
     "data": {
      "text/plain": [
       "0.9069641543151477"
      ]
     },
     "execution_count": 72,
     "metadata": {},
     "output_type": "execute_result"
    }
   ],
   "source": [
    "gs_xgb.best_score_"
   ]
  },
  {
   "cell_type": "markdown",
   "id": "38413036-c66f-42e7-9292-f04ab2380f65",
   "metadata": {},
   "source": [
    "## Don't run these lol"
   ]
  },
  {
   "cell_type": "code",
   "execution_count": 22,
   "id": "6bba66c0-af70-4553-b644-3513b0307771",
   "metadata": {
    "execution": {
     "iopub.execute_input": "2022-09-18T20:58:15.235124Z",
     "iopub.status.busy": "2022-09-18T20:58:15.234441Z",
     "iopub.status.idle": "2022-09-18T21:05:09.992708Z",
     "shell.execute_reply": "2022-09-18T21:05:09.992394Z",
     "shell.execute_reply.started": "2022-09-18T20:58:15.235077Z"
    },
    "tags": []
   },
   "outputs": [
    {
     "data": {
      "text/plain": [
       "(0.08162067175369862, 4688375.300274653)"
      ]
     },
     "execution_count": 22,
     "metadata": {},
     "output_type": "execute_result"
    }
   ],
   "source": [
    "pipe_km.fit(df)\n",
    "\n",
    "silhouette_score(pipe_km['ss'].fit_transform(df), pipe_km['km'].labels_), pipe_km['km'].inertia_"
   ]
  },
  {
   "cell_type": "code",
   "execution_count": 27,
   "id": "456b4bd0-44cb-4f9b-b767-a8a12de8db76",
   "metadata": {
    "execution": {
     "iopub.execute_input": "2022-09-18T21:17:21.467179Z",
     "iopub.status.busy": "2022-09-18T21:17:21.466503Z",
     "iopub.status.idle": "2022-09-18T21:17:48.065502Z",
     "shell.execute_reply": "2022-09-18T21:17:48.065125Z",
     "shell.execute_reply.started": "2022-09-18T21:17:21.467133Z"
    },
    "tags": []
   },
   "outputs": [
    {
     "name": "stdout",
     "output_type": "stream",
     "text": [
      "now evaluating k=2\n",
      "now evaluating k=3\n",
      "now evaluating k=4\n",
      "now evaluating k=5\n",
      "now evaluating k=6\n",
      "now evaluating k=7\n",
      "now evaluating k=8\n",
      "now evaluating k=9\n",
      "now evaluating k=10\n",
      "now evaluating k=11\n",
      "now evaluating k=12\n",
      "now evaluating k=13\n",
      "now evaluating k=14\n",
      "now evaluating k=15\n"
     ]
    },
    {
     "data": {
      "text/plain": [
       "[<matplotlib.lines.Line2D at 0x157d03670>]"
      ]
     },
     "execution_count": 27,
     "metadata": {},
     "output_type": "execute_result"
    },
    {
     "data": {
      "image/png": "[encoded data removed]",
      "text/plain": [
       "<Figure size 640x480 with 1 Axes>"
      ]
     },
     "metadata": {},
     "output_type": "display_data"
    }
   ],
   "source": [
    "scores = []\n",
    "\n",
    "for k in range(2, 16):\n",
    "    print(f'now evaluating k={k}')\n",
    "    kmeans = KMeans(n_clusters=k, random_state=1)\n",
    "    kmeans.fit(pipe_km['ss'].fit_transform(df))\n",
    "    scores.append([k, kmeans.inertia_])\n",
    "\n",
    "inertia_df = pd.DataFrame(scores, columns=['n_clusters', 'inertia'])\n",
    "plt.plot(inertia_df['n_clusters'], inertia_df['inertia'])"
   ]
  },
  {
   "cell_type": "code",
   "execution_count": 23,
   "id": "4d1cb5e1-fbb7-4f32-9862-b5f1f8568328",
   "metadata": {
    "execution": {
     "iopub.execute_input": "2022-09-18T21:05:33.946435Z",
     "iopub.status.busy": "2022-09-18T21:05:33.946039Z",
     "iopub.status.idle": "2022-09-18T21:13:16.547500Z",
     "shell.execute_reply": "2022-09-18T21:13:16.547136Z",
     "shell.execute_reply.started": "2022-09-18T21:05:33.946409Z"
    }
   },
   "outputs": [
    {
     "data": {
      "text/plain": [
       "-0.34113081792698824"
      ]
     },
     "execution_count": 23,
     "metadata": {},
     "output_type": "execute_result"
    }
   ],
   "source": [
    "pipe_dbs.fit(df)\n",
    "\n",
    "silhouette_score(pipe_dbs['ss'].fit_transform(df), pipe_dbs['dbs'].labels_)"
   ]
  },
  {
   "cell_type": "markdown",
   "id": "3e9dbd60-e32e-4764-99d1-9cd9887ab1e8",
   "metadata": {},
   "source": [
    "## Confusion matrices\n",
    "\n",
    "Initial = Ada minimizes false negatives which is probably the best result for which to optimize."
   ]
  },
  {
   "cell_type": "code",
   "execution_count": 48,
   "id": "a5f8fc67-cc5c-45e4-b349-86095088ebc1",
   "metadata": {
    "execution": {
     "iopub.execute_input": "2022-09-19T20:01:24.345650Z",
     "iopub.status.busy": "2022-09-19T20:01:24.344939Z",
     "iopub.status.idle": "2022-09-19T20:01:28.973930Z",
     "shell.execute_reply": "2022-09-19T20:01:28.973627Z",
     "shell.execute_reply.started": "2022-09-19T20:01:24.345603Z"
    },
    "tags": []
   },
   "outputs": [
    {
     "name": "stdout",
     "output_type": "stream",
     "text": [
      "True positives:  727\n",
      "False positives:  651\n",
      "True negatives:  56796\n",
      "False negatives:  5246\n"
     ]
    },
    {
     "data": {
      "image/png": "[encoded data removed]",
      "text/plain": [
       "<Figure size 640x480 with 2 Axes>"
      ]
     },
     "metadata": {},
     "output_type": "display_data"
    }
   ],
   "source": [
    "ConfusionMatrixDisplay.from_estimator(pipe_xgb.fit(X_train, y_train), X_test, y_test, display_labels=['No HDA', 'Yes HDA'])\n",
    "plt.title('XGBoost');\n",
    "predict_xgb = pipe_xgb.predict(X_test)\n",
    "print('True positives: ', sum((y_test == 1) & (predict_xgb == 1)))\n",
    "print('False positives: ', sum((y_test == 0) & (predict_xgb == 1)))\n",
    "print('True negatives: ', sum((y_test == 0) & (predict_xgb == 0)))\n",
    "print('False negatives: ', sum((y_test == 1) & (predict_xgb == 0)))"
   ]
  },
  {
   "cell_type": "code",
   "execution_count": 49,
   "id": "86bc0533-dda2-4bc2-96eb-2f561f516953",
   "metadata": {
    "execution": {
     "iopub.execute_input": "2022-09-19T20:02:07.155732Z",
     "iopub.status.busy": "2022-09-19T20:02:07.155488Z",
     "iopub.status.idle": "2022-09-19T20:02:10.891103Z",
     "shell.execute_reply": "2022-09-19T20:02:10.890771Z",
     "shell.execute_reply.started": "2022-09-19T20:02:07.155716Z"
    },
    "tags": []
   },
   "outputs": [
    {
     "name": "stdout",
     "output_type": "stream",
     "text": [
      "True positives:  877\n",
      "False positives:  780\n",
      "True negatives:  56667\n",
      "False negatives:  5096\n"
     ]
    },
    {
     "data": {
      "image/png": "[encoded data removed]",
      "text/plain": [
       "<Figure size 640x480 with 2 Axes>"
      ]
     },
     "metadata": {},
     "output_type": "display_data"
    }
   ],
   "source": [
    "ConfusionMatrixDisplay.from_estimator(pipe_ada.fit(X_train, y_train), X_test, y_test, display_labels=['No HDA', 'Yes HDA'])\n",
    "plt.title('AdaBoost');\n",
    "\n",
    "predict_ada = pipe_ada.predict(X_test)\n",
    "print('True positives: ', sum((y_test == 1) & (predict_ada == 1)))\n",
    "print('False positives: ', sum((y_test == 0) & (predict_ada == 1)))\n",
    "print('True negatives: ', sum((y_test == 0) & (predict_ada == 0)))\n",
    "print('False negatives: ', sum((y_test == 1) & (predict_ada == 0)))"
   ]
  },
  {
   "cell_type": "code",
   "execution_count": 50,
   "id": "2dad6410-aeea-4837-ac9a-6aa838d1fde4",
   "metadata": {
    "execution": {
     "iopub.execute_input": "2022-09-19T20:02:25.285899Z",
     "iopub.status.busy": "2022-09-19T20:02:25.285154Z",
     "iopub.status.idle": "2022-09-19T20:02:37.213092Z",
     "shell.execute_reply": "2022-09-19T20:02:37.212686Z",
     "shell.execute_reply.started": "2022-09-19T20:02:25.285844Z"
    },
    "tags": []
   },
   "outputs": [
    {
     "name": "stdout",
     "output_type": "stream",
     "text": [
      "True positives:  687\n",
      "False positives:  549\n",
      "True negatives:  56898\n",
      "False negatives:  5286\n"
     ]
    },
    {
     "data": {
      "image/png": "[encoded data removed]",
      "text/plain": [
       "<Figure size 640x480 with 2 Axes>"
      ]
     },
     "metadata": {},
     "output_type": "display_data"
    }
   ],
   "source": [
    "ConfusionMatrixDisplay.from_estimator(pipe_grad.fit(X_train, y_train), X_test, y_test, display_labels=['No HDA', 'Yes HDA'])\n",
    "plt.title('Gradient Boosting Classifier');\n",
    "\n",
    "predict_grad = pipe_grad.predict(X_test)\n",
    "print('True positives: ', sum((y_test == 1) & (predict_grad == 1)))\n",
    "print('False positives: ', sum((y_test == 0) & (predict_grad == 1)))\n",
    "print('True negatives: ', sum((y_test == 0) & (predict_grad == 0)))\n",
    "print('False negatives: ', sum((y_test == 1) & (predict_grad == 0)))"
   ]
  },
  {
   "cell_type": "code",
   "execution_count": null,
   "id": "5ee42a86-8476-401a-92b0-15ce3cbcce74",
   "metadata": {
    "execution": {
     "iopub.status.busy": "2022-09-19T21:02:37.990793Z",
     "iopub.status.idle": "2022-09-19T21:02:37.990974Z",
     "shell.execute_reply": "2022-09-19T21:02:37.990884Z",
     "shell.execute_reply.started": "2022-09-19T21:02:37.990878Z"
    }
   },
   "outputs": [],
   "source": [
    "from sklearn.linear_model import LogisticRegression"
   ]
  },
  {
   "cell_type": "code",
   "execution_count": null,
   "id": "1f3266ac-5ec7-4b79-ac4b-145db8ef4c14",
   "metadata": {},
   "outputs": [],
   "source": [
    "ii"
   ]
  }
 ],
 "metadata": {
  "kernelspec": {
   "display_name": "Python 3 (ipykernel)",
   "language": "python",
   "name": "python3"
  },
  "language_info": {
   "codemirror_mode": {
    "name": "ipython",
    "version": 3
   },
   "file_extension": ".py",
   "mimetype": "text/x-python",
   "name": "python",
   "nbconvert_exporter": "python",
   "pygments_lexer": "ipython3",
   "version": "3.10.6"
  }
 },
 "nbformat": 4,
 "nbformat_minor": 5
}
