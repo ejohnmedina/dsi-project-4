{
 "cells": [
  {
   "cell_type": "code",
   "execution_count": 1,
   "id": "11d26d68-1450-4a25-a5a4-c058234b20df",
   "metadata": {
    "execution": {
     "iopub.execute_input": "2022-09-12T19:53:41.288182Z",
     "iopub.status.busy": "2022-09-12T19:53:41.287716Z",
     "iopub.status.idle": "2022-09-12T19:53:41.460602Z",
     "shell.execute_reply": "2022-09-12T19:53:41.460191Z",
     "shell.execute_reply.started": "2022-09-12T19:53:41.288104Z"
    },
    "tags": []
   },
   "outputs": [],
   "source": [
    "import pandas as pd"
   ]
  },
  {
   "cell_type": "code",
   "execution_count": 3,
   "id": "fca2fc4e-54ed-4c29-8dc6-a6bda2fe0b7f",
   "metadata": {
    "execution": {
     "iopub.execute_input": "2022-09-12T19:54:00.711179Z",
     "iopub.status.busy": "2022-09-12T19:54:00.710788Z",
     "iopub.status.idle": "2022-09-12T19:54:00.943952Z",
     "shell.execute_reply": "2022-09-12T19:54:00.943616Z",
     "shell.execute_reply.started": "2022-09-12T19:54:00.711155Z"
    },
    "tags": []
   },
   "outputs": [],
   "source": [
    "url = 'data/heart_disease_ind_2015.csv'\n",
    "\n",
    "df = pd.read_csv(url, index_col=None)"
   ]
  },
  {
   "cell_type": "code",
   "execution_count": null,
   "id": "67400390-ea28-4e6f-be52-9eba7daa0300",
   "metadata": {},
   "outputs": [],
   "source": []
  }
 ],
 "metadata": {
  "kernelspec": {
   "display_name": "Python 3 (ipykernel)",
   "language": "python",
   "name": "python3"
  },
  "language_info": {
   "codemirror_mode": {
    "name": "ipython",
    "version": 3
   },
   "file_extension": ".py",
   "mimetype": "text/x-python",
   "name": "python",
   "nbconvert_exporter": "python",
   "pygments_lexer": "ipython3",
   "version": "3.10.6"
  }
 },
 "nbformat": 4,
 "nbformat_minor": 5
}
