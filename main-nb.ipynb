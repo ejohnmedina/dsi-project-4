{
 "cells": [
  {
   "cell_type": "code",
   "execution_count": 1,
   "id": "11d26d68-1450-4a25-a5a4-c058234b20df",
   "metadata": {
    "execution": {
     "iopub.execute_input": "2022-09-12T19:06:35.288859Z",
     "iopub.status.busy": "2022-09-12T19:06:35.288403Z",
     "iopub.status.idle": "2022-09-12T19:06:35.488075Z",
     "shell.execute_reply": "2022-09-12T19:06:35.487718Z",
     "shell.execute_reply.started": "2022-09-12T19:06:35.288767Z"
    }
   },
   "outputs": [],
   "source": [
    "import pandas as pd"
   ]
  },
  {
   "cell_type": "code",
   "execution_count": null,
   "id": "fca2fc4e-54ed-4c29-8dc6-a6bda2fe0b7f",
   "metadata": {},
   "outputs": [],
   "source": [
    "url = 'data/heart_disease_ind_2015.csv'\n",
    "\n",
    "pd.read_csv(url, index=None)"
   ]
  }
 ],
 "metadata": {
  "kernelspec": {
   "display_name": "Python 3 (ipykernel)",
   "language": "python",
   "name": "python3"
  },
  "language_info": {
   "codemirror_mode": {
    "name": "ipython",
    "version": 3
   },
   "file_extension": ".py",
   "mimetype": "text/x-python",
   "name": "python",
   "nbconvert_exporter": "python",
   "pygments_lexer": "ipython3",
   "version": "3.10.6"
  }
 },
 "nbformat": 4,
 "nbformat_minor": 5
}
