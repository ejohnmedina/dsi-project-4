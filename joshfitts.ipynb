{
 "cells": [
  {
   "cell_type": "markdown",
   "id": "ba189adc",
   "metadata": {},
   "source": [
    "hello"
   ]
  },
  {
   "cell_type": "code",
   "execution_count": 66,
   "id": "9176e37e",
   "metadata": {},
   "outputs": [],
   "source": [
    "import numpy as np\n",
    "import pandas as pd\n",
    "import matplotlib.pyplot as plt\n",
    "from math import sqrt\n",
    "from sklearn.linear_model import LogisticRegression\n",
    "from sklearn.neighbors import KNeighborsClassifier\n",
    "from sklearn.ensemble import AdaBoostClassifier, GradientBoostingClassifier\n",
    "from sklearn.preprocessing import StandardScaler\n",
    "from sklearn.model_selection import train_test_split, cross_val_score\n",
    "from sklearn.linear_model import LogisticRegression\n",
    "from sklearn.tree import DecisionTreeClassifier\n",
    "from sklearn.preprocessing import StandardScaler\n",
    "from sklearn.ensemble import BaggingClassifier, RandomForestClassifier, AdaBoostClassifier, ExtraTreesClassifier, GradientBoostingClassifier\n",
    "from sklearn.metrics import mean_squared_error, f1_score"
   ]
  },
  {
   "cell_type": "code",
   "execution_count": 2,
   "id": "f274cb7d",
   "metadata": {},
   "outputs": [],
   "source": [
    "url = 'data/heart_disease_ind_2015.csv'\n",
    "df = pd.read_csv(url)"
   ]
  },
  {
   "cell_type": "code",
   "execution_count": 3,
   "id": "07001f92",
   "metadata": {},
   "outputs": [
    {
     "data": {
      "text/plain": [
       "HeartDiseaseorAttack    0\n",
       "HighBP                  0\n",
       "HighChol                0\n",
       "CholCheck               0\n",
       "BMI                     0\n",
       "Smoker                  0\n",
       "Stroke                  0\n",
       "Diabetes                0\n",
       "PhysActivity            0\n",
       "Fruits                  0\n",
       "Veggies                 0\n",
       "HvyAlcoholConsump       0\n",
       "AnyHealthcare           0\n",
       "NoDocbcCost             0\n",
       "GenHlth                 0\n",
       "MentHlth                0\n",
       "PhysHlth                0\n",
       "DiffWalk                0\n",
       "Sex                     0\n",
       "Age                     0\n",
       "Education               0\n",
       "Income                  0\n",
       "dtype: int64"
      ]
     },
     "execution_count": 3,
     "metadata": {},
     "output_type": "execute_result"
    }
   ],
   "source": [
    "df.isnull().sum()"
   ]
  },
  {
   "cell_type": "code",
   "execution_count": 33,
   "id": "90e424d2",
   "metadata": {},
   "outputs": [
    {
     "data": {
      "text/plain": [
       "HeartDiseaseorAttack    1.000000\n",
       "GenHlth                 0.258383\n",
       "Age                     0.221618\n",
       "DiffWalk                0.212709\n",
       "HighBP                  0.209361\n",
       "Stroke                  0.203002\n",
       "PhysHlth                0.181698\n",
       "HighChol                0.180765\n",
       "Diabetes                0.180272\n",
       "Smoker                  0.114441\n",
       "Sex                     0.086096\n",
       "MentHlth                0.064621\n",
       "BMI                     0.052904\n",
       "CholCheck               0.044206\n",
       "NoDocbcCost             0.031000\n",
       "AnyHealthcare           0.018734\n",
       "Fruits                 -0.019790\n",
       "HvyAlcoholConsump      -0.028991\n",
       "Veggies                -0.039167\n",
       "PhysActivity           -0.087299\n",
       "Education              -0.099600\n",
       "Income                 -0.141011\n",
       "Name: HeartDiseaseorAttack, dtype: float64"
      ]
     },
     "execution_count": 33,
     "metadata": {},
     "output_type": "execute_result"
    }
   ],
   "source": [
    "df.corr()['HeartDiseaseorAttack'].sort_values(ascending=False)"
   ]
  },
  {
   "cell_type": "code",
   "execution_count": 24,
   "id": "9094641d",
   "metadata": {},
   "outputs": [
    {
     "name": "stdout",
     "output_type": "stream",
     "text": [
      "[0. 1.]\n",
      "[1. 0.]\n",
      "[1. 0.]\n",
      "[1. 0.]\n",
      "[40. 25. 28. 27. 24. 30. 34. 26. 33. 21. 23. 22. 38. 32. 37. 31. 29. 20.\n",
      " 35. 45. 39. 19. 47. 18. 36. 43. 55. 49. 42. 17. 16. 41. 44. 50. 59. 48.\n",
      " 52. 46. 54. 57. 53. 14. 15. 51. 58. 63. 61. 56. 74. 62. 64. 66. 73. 85.\n",
      " 60. 67. 65. 70. 82. 79. 92. 68. 72. 88. 96. 13. 81. 71. 75. 12. 77. 69.\n",
      " 76. 87. 89. 84. 95. 98. 91. 86. 83. 80. 90. 78.]\n",
      "[1. 0.]\n",
      "[0. 1.]\n",
      "[0. 2. 1.]\n",
      "[0. 1.]\n",
      "[0. 1.]\n",
      "[1. 0.]\n",
      "[0. 1.]\n",
      "[1. 0.]\n",
      "[0. 1.]\n",
      "[5. 3. 2. 4. 1.]\n",
      "[18.  0. 30.  3.  5. 15. 10.  6. 20.  2. 25.  1.  4.  7.  8. 21. 14. 26.\n",
      " 29. 16. 28. 11. 12. 24. 17. 13. 27. 19. 22.  9. 23.]\n",
      "[15.  0. 30.  2. 14. 28.  7. 20.  3. 10.  1.  5. 17.  4. 19.  6. 12. 25.\n",
      " 27. 21. 22.  8. 29. 24.  9. 16. 18. 23. 13. 26. 11.]\n",
      "[1. 0.]\n",
      "[0. 1.]\n",
      "[ 9.  7. 11. 10.  8. 13.  4.  6.  2. 12.  5.  1.  3.]\n",
      "[4. 6. 3. 5. 2. 1.]\n",
      "[3. 1. 8. 6. 4. 7. 2. 5.]\n"
     ]
    }
   ],
   "source": [
    "for x in df.columns:\n",
    "    print(df[x].unique())"
   ]
  },
  {
   "cell_type": "code",
   "execution_count": 4,
   "id": "4f9852f4",
   "metadata": {},
   "outputs": [
    {
     "data": {
      "text/plain": [
       "0.0    0.905814\n",
       "1.0    0.094186\n",
       "Name: HeartDiseaseorAttack, dtype: float64"
      ]
     },
     "execution_count": 4,
     "metadata": {},
     "output_type": "execute_result"
    }
   ],
   "source": [
    "df['HeartDiseaseorAttack'].value_counts(normalize=True)"
   ]
  },
  {
   "cell_type": "markdown",
   "id": "83b625e8",
   "metadata": {},
   "source": [
    "Baseline = 0.9058 not having heart disease or attack."
   ]
  },
  {
   "cell_type": "code",
   "execution_count": 25,
   "id": "b0c73431",
   "metadata": {},
   "outputs": [
    {
     "data": {
      "text/plain": [
       "array([0., 1.])"
      ]
     },
     "execution_count": 25,
     "metadata": {},
     "output_type": "execute_result"
    }
   ],
   "source": [
    "df['HeartDiseaseorAttack'].unique()"
   ]
  },
  {
   "cell_type": "code",
   "execution_count": null,
   "id": "4e9a3c8d",
   "metadata": {},
   "outputs": [],
   "source": [
    "# features = ['HighBP', 'HighChol', 'CholCheck', 'BMI', 'Smoker', 'Stroke', \n",
    "#             'Diabetes', 'PhysActivity', 'Fruits', 'Veggies', 'HvyAlcoholConsump'\n",
    "#             'AnyHealthcare', 'NoDocbcCost', 'GenHlth', 'MentHlth', 'PhysHlth', 'DiffWalk', \n",
    "#             'Sex', 'Age', 'Education', 'Income'   ]"
   ]
  },
  {
   "cell_type": "code",
   "execution_count": 61,
   "id": "137c71fe",
   "metadata": {},
   "outputs": [],
   "source": [
    "# models with all x features\n",
    "features = ['HighBP', 'HighChol', 'CholCheck', 'BMI', 'Smoker', 'Stroke', \n",
    "            'Diabetes', 'PhysActivity', 'Fruits', 'Veggies', 'HvyAlcoholConsump',\n",
    "            'AnyHealthcare', 'NoDocbcCost', 'GenHlth', 'MentHlth', 'PhysHlth', 'DiffWalk', \n",
    "            'Sex', 'Age', 'Education', 'Income'   ]\n",
    "\n",
    "X = df[features]\n",
    "y = df['HeartDiseaseorAttack']\n",
    "\n",
    "X_train, X_test, y_train, y_test = train_test_split(X, y, random_state=42, stratify=y)"
   ]
  },
  {
   "cell_type": "code",
   "execution_count": 62,
   "id": "2362aea3",
   "metadata": {},
   "outputs": [],
   "source": [
    "ss = StandardScaler()\n",
    "X_train_ss = ss.fit_transform(X_train)\n",
    "X_test_ss = ss.transform(X_test)"
   ]
  },
  {
   "cell_type": "code",
   "execution_count": 63,
   "id": "7900a409",
   "metadata": {},
   "outputs": [],
   "source": [
    "lr = LogisticRegression()\n",
    "dtc = DecisionTreeClassifier()\n",
    "bag = BaggingClassifier()\n",
    "rfc = RandomForestClassifier()\n",
    "abc = AdaBoostClassifier()\n",
    "\n",
    "gbc = GradientBoostingClassifier()\n",
    "# I think best model ^\n",
    "\n",
    "\n",
    "\n",
    "list_of_classifiers = [lr, dtc, bag, rfc, abc, gbc]"
   ]
  },
  {
   "cell_type": "code",
   "execution_count": 64,
   "id": "960c7e8d",
   "metadata": {},
   "outputs": [
    {
     "name": "stdout",
     "output_type": "stream",
     "text": [
      "LogisticRegression\n",
      "Training score:\n",
      "0.9079154840744245\n",
      "Testing score:\n",
      "0.9069063386944182\n",
      "\n",
      "DecisionTreeClassifier\n",
      "Training score:\n",
      "0.9963576158940397\n",
      "Testing score:\n",
      "0.8498580889309366\n",
      "\n",
      "BaggingClassifier\n",
      "Training score:\n",
      "0.9853411121623042\n",
      "Testing score:\n",
      "0.8939293598233996\n",
      "\n",
      "RandomForestClassifier\n",
      "Training score:\n",
      "0.9963208241353937\n",
      "Testing score:\n",
      "0.9015137180700095\n",
      "\n",
      "AdaBoostClassifier\n",
      "Training score:\n",
      "0.9073898875223378\n",
      "Testing score:\n",
      "0.9059602649006623\n",
      "\n",
      "GradientBoostingClassifier\n",
      "Training score:\n",
      "0.9089088615578682\n",
      "Testing score:\n",
      "0.9075212866603595\n",
      "\n"
     ]
    }
   ],
   "source": [
    "for each in list_of_classifiers:\n",
    "    print(str(each).split('(')[0])\n",
    "    each.fit(X_train_ss, y_train)\n",
    "    print('Training score:')\n",
    "    print(each.score(X_train_ss, y_train))\n",
    "    print('Testing score:')\n",
    "    print(each.score(X_test_ss, y_test))\n",
    "    print()"
   ]
  },
  {
   "cell_type": "code",
   "execution_count": 67,
   "id": "6c8fb8a8",
   "metadata": {},
   "outputs": [
    {
     "name": "stdout",
     "output_type": "stream",
     "text": [
      "LogisticRegression\n",
      "Train RMSE: \n",
      "0.30345430615757546\n",
      "Testing RMSE: \n",
      "0.3051125387550991\n",
      "\n",
      "DecisionTreeClassifier\n",
      "Train RMSE: \n",
      "0.06035216736754584\n",
      "Testing RMSE: \n",
      "0.38748149771190804\n",
      "\n",
      "BaggingClassifier\n",
      "Train RMSE: \n",
      "0.1210738941213001\n",
      "Testing RMSE: \n",
      "0.3256848786428385\n",
      "\n",
      "RandomForestClassifier\n",
      "Train RMSE: \n",
      "0.06065621043723658\n",
      "Testing RMSE: \n",
      "0.313825241065773\n",
      "\n",
      "AdaBoostClassifier\n",
      "Train RMSE: \n",
      "0.3043190964722098\n",
      "Testing RMSE: \n",
      "0.3066589882904751\n",
      "\n",
      "GradientBoostingClassifier\n",
      "Train RMSE: \n",
      "0.3018130852732065\n",
      "Testing RMSE: \n",
      "0.30410312944729867\n",
      "\n"
     ]
    }
   ],
   "source": [
    "for each in list_of_classifiers:\n",
    "    print(str(each).split('(')[0])\n",
    "    pred = each.predict(X_train_ss)\n",
    "    print('Train RMSE: ')\n",
    "    print(sqrt(mean_squared_error(y_train, pred)))\n",
    "    print('Testing RMSE: ')\n",
    "    pred = each.predict(X_test_ss)\n",
    "    print(sqrt(mean_squared_error(y_test, pred)))\n",
    "    print()"
   ]
  },
  {
   "cell_type": "code",
   "execution_count": 56,
   "id": "d4f3aa0f",
   "metadata": {},
   "outputs": [],
   "source": [
    "# models with highest corr\n",
    "features_high_corr = ['HighBP', 'HighChol', 'Smoker', 'Stroke', \n",
    "            'Diabetes', 'GenHlth', 'PhysHlth', 'DiffWalk', 'Age', 'Income']\n",
    "\n",
    "X = df[features_high_corr]\n",
    "y = df['HeartDiseaseorAttack']\n",
    "\n",
    "X_train, X_test, y_train, y_test = train_test_split(X, y, random_state=42, stratify=y)"
   ]
  },
  {
   "cell_type": "code",
   "execution_count": 57,
   "id": "494fbeea",
   "metadata": {},
   "outputs": [],
   "source": [
    "ss = StandardScaler()\n",
    "X_train_ss = ss.fit_transform(X_train)\n",
    "X_test_ss = ss.transform(X_test)"
   ]
  },
  {
   "cell_type": "code",
   "execution_count": 58,
   "id": "a95d8a9e",
   "metadata": {},
   "outputs": [],
   "source": [
    "lr = LogisticRegression()\n",
    "dtc = DecisionTreeClassifier()\n",
    "bag = BaggingClassifier()\n",
    "rfc = RandomForestClassifier()\n",
    "abc = AdaBoostClassifier()\n",
    "gbc = GradientBoostingClassifier()\n",
    "\n",
    "\n",
    "list_of_classifiers = [lr, dtc, bag, rfc, abc, gbc]"
   ]
  },
  {
   "cell_type": "code",
   "execution_count": 59,
   "id": "eee1bb9a",
   "metadata": {},
   "outputs": [
    {
     "name": "stdout",
     "output_type": "stream",
     "text": [
      "LogisticRegression\n",
      "Training score:\n",
      "0.9076106380742143\n",
      "Testing score:\n",
      "0.9064963733837906\n",
      "\n",
      "DecisionTreeClassifier\n",
      "Training score:\n",
      "0.942736255650163\n",
      "Testing score:\n",
      "0.8859192683695994\n",
      "\n",
      "BaggingClassifier\n",
      "Training score:\n",
      "0.9391832229580573\n",
      "Testing score:\n",
      "0.8894670450961841\n",
      "\n",
      "RandomForestClassifier\n",
      "Training score:\n",
      "0.9427204877536003\n",
      "Testing score:\n",
      "0.8934878587196468\n",
      "\n",
      "AdaBoostClassifier\n",
      "Training score:\n",
      "0.9067434037632713\n",
      "Testing score:\n",
      "0.9057079785556607\n",
      "\n",
      "GradientBoostingClassifier\n",
      "Training score:\n",
      "0.9082781456953642\n",
      "Testing score:\n",
      "0.9070009460737938\n",
      "\n"
     ]
    }
   ],
   "source": [
    "for each in list_of_classifiers:\n",
    "    print(str(each).split('(')[0])\n",
    "    each.fit(X_train_ss, y_train)\n",
    "    print('Training score:')\n",
    "    print(each.score(X_train_ss, y_train))\n",
    "    print('Testing score:')\n",
    "    print(each.score(X_test_ss, y_test))\n",
    "    print()"
   ]
  }
 ],
 "metadata": {
  "kernelspec": {
   "display_name": "Python 3 (ipykernel)",
   "language": "python",
   "name": "python3"
  },
  "language_info": {
   "codemirror_mode": {
    "name": "ipython",
    "version": 3
   },
   "file_extension": ".py",
   "mimetype": "text/x-python",
   "name": "python",
   "nbconvert_exporter": "python",
   "pygments_lexer": "ipython3",
   "version": "3.9.12"
  }
 },
 "nbformat": 4,
 "nbformat_minor": 5
}
