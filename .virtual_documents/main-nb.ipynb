import pandas as pd


url = 'data/heart_disease_ind_2015.csv'

pd.read_csv(url, index=None)
