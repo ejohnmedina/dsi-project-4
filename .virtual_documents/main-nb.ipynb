import pandas as pd


url = 'data/heart_disease_ind_2015.csv'



